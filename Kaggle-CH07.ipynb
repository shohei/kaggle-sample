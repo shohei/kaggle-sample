{
 "cells": [
  {
   "cell_type": "markdown",
   "id": "3ed75e3d",
   "metadata": {
    "papermill": {
     "duration": 0.090478,
     "end_time": "2022-05-01T11:23:34.606800",
     "exception": false,
     "start_time": "2022-05-01T11:23:34.516322",
     "status": "completed"
    },
    "tags": []
   },
   "source": [
    "# Kaggleで磨く 機械学習の実践力\n",
    "# 第7章 2値分類のコンペ (Home Credit Default Risk)"
   ]
  },
  {
   "cell_type": "markdown",
   "id": "cfe45d12",
   "metadata": {
    "papermill": {
     "duration": 0.087568,
     "end_time": "2022-05-01T11:23:34.783123",
     "exception": false,
     "start_time": "2022-05-01T11:23:34.695555",
     "status": "completed"
    },
    "tags": []
   },
   "source": [
    "# 7.3: ベースライン作成"
   ]
  },
  {
   "cell_type": "markdown",
   "id": "a392bcc0",
   "metadata": {
    "papermill": {
     "duration": 0.087862,
     "end_time": "2022-05-01T11:23:34.959602",
     "exception": false,
     "start_time": "2022-05-01T11:23:34.871740",
     "status": "completed"
    },
    "tags": []
   },
   "source": [
    "## 7.3.2 データ前処理\n",
    "#### スクリプト7-1: ライブラリの読み込み"
   ]
  },
  {
   "cell_type": "code",
   "execution_count": 1,
   "id": "b143627a",
   "metadata": {
    "_cell_guid": "b1076dfc-b9ad-4769-8c92-a6c4dae69d19",
    "_uuid": "8f2839f25d086af736a60e9eeb907d3b93b6e0e5",
    "execution": {
     "iopub.execute_input": "2022-05-01T11:23:35.138728Z",
     "iopub.status.busy": "2022-05-01T11:23:35.138248Z",
     "iopub.status.idle": "2022-05-01T11:23:37.184425Z",
     "shell.execute_reply": "2022-05-01T11:23:37.183511Z"
    },
    "papermill": {
     "duration": 2.138727,
     "end_time": "2022-05-01T11:23:37.187199",
     "exception": false,
     "start_time": "2022-05-01T11:23:35.048472",
     "status": "completed"
    },
    "tags": []
   },
   "outputs": [
    {
     "data": {
      "text/html": [
       "<style type='text/css'>\n",
       ".datatable table.frame { margin-bottom: 0; }\n",
       ".datatable table.frame thead { border-bottom: none; }\n",
       ".datatable table.frame tr.coltypes td {  color: #FFFFFF;  line-height: 6px;  padding: 0 0.5em;}\n",
       ".datatable .bool    { background: #DDDD99; }\n",
       ".datatable .object  { background: #565656; }\n",
       ".datatable .int     { background: #5D9E5D; }\n",
       ".datatable .float   { background: #4040CC; }\n",
       ".datatable .str     { background: #CC4040; }\n",
       ".datatable .time    { background: #40CC40; }\n",
       ".datatable .row_index {  background: var(--jp-border-color3);  border-right: 1px solid var(--jp-border-color0);  color: var(--jp-ui-font-color3);  font-size: 9px;}\n",
       ".datatable .frame tbody td { text-align: left; }\n",
       ".datatable .frame tr.coltypes .row_index {  background: var(--jp-border-color0);}\n",
       ".datatable th:nth-child(2) { padding-left: 12px; }\n",
       ".datatable .hellipsis {  color: var(--jp-cell-editor-border-color);}\n",
       ".datatable .vellipsis {  background: var(--jp-layout-color0);  color: var(--jp-cell-editor-border-color);}\n",
       ".datatable .na {  color: var(--jp-cell-editor-border-color);  font-size: 80%;}\n",
       ".datatable .sp {  opacity: 0.25;}\n",
       ".datatable .footer { font-size: 9px; }\n",
       ".datatable .frame_dimensions {  background: var(--jp-border-color3);  border-top: 1px solid var(--jp-border-color0);  color: var(--jp-ui-font-color3);  display: inline-block;  opacity: 0.6;  padding: 1px 10px 1px 5px;}\n",
       "</style>\n"
      ],
      "text/plain": [
       "<IPython.core.display.HTML object>"
      ]
     },
     "metadata": {},
     "output_type": "display_data"
    }
   ],
   "source": [
    "import numpy as np\n",
    "import pandas as pd\n",
    "import re\n",
    "import pickle\n",
    "import gc\n",
    "\n",
    "# scikit-learn\n",
    "from sklearn.preprocessing import OneHotEncoder, LabelEncoder\n",
    "from sklearn.model_selection import StratifiedKFold\n",
    "from sklearn.metrics import roc_auc_score\n",
    "\n",
    "# LightGBM\n",
    "import lightgbm as lgb\n",
    "\n",
    "import warnings\n",
    "warnings.filterwarnings(\"ignore\")"
   ]
  },
  {
   "cell_type": "markdown",
   "id": "f73c9512",
   "metadata": {
    "papermill": {
     "duration": 0.087613,
     "end_time": "2022-05-01T11:23:37.363398",
     "exception": false,
     "start_time": "2022-05-01T11:23:37.275785",
     "status": "completed"
    },
    "tags": []
   },
   "source": [
    "#### スクリプト7-2: ファイルの読み込み・データ確認"
   ]
  },
  {
   "cell_type": "code",
   "execution_count": 2,
   "id": "bbab860c",
   "metadata": {
    "execution": {
     "iopub.execute_input": "2022-05-01T11:23:37.540951Z",
     "iopub.status.busy": "2022-05-01T11:23:37.540459Z",
     "iopub.status.idle": "2022-05-01T11:23:44.822164Z",
     "shell.execute_reply": "2022-05-01T11:23:44.821110Z"
    },
    "papermill": {
     "duration": 7.373119,
     "end_time": "2022-05-01T11:23:44.824501",
     "exception": false,
     "start_time": "2022-05-01T11:23:37.451382",
     "status": "completed"
    },
    "tags": []
   },
   "outputs": [
    {
     "name": "stdout",
     "output_type": "stream",
     "text": [
      "(307511, 122)\n"
     ]
    },
    {
     "data": {
      "text/html": [
       "<div>\n",
       "<style scoped>\n",
       "    .dataframe tbody tr th:only-of-type {\n",
       "        vertical-align: middle;\n",
       "    }\n",
       "\n",
       "    .dataframe tbody tr th {\n",
       "        vertical-align: top;\n",
       "    }\n",
       "\n",
       "    .dataframe thead th {\n",
       "        text-align: right;\n",
       "    }\n",
       "</style>\n",
       "<table border=\"1\" class=\"dataframe\">\n",
       "  <thead>\n",
       "    <tr style=\"text-align: right;\">\n",
       "      <th></th>\n",
       "      <th>SK_ID_CURR</th>\n",
       "      <th>TARGET</th>\n",
       "      <th>NAME_CONTRACT_TYPE</th>\n",
       "      <th>CODE_GENDER</th>\n",
       "      <th>FLAG_OWN_CAR</th>\n",
       "      <th>FLAG_OWN_REALTY</th>\n",
       "      <th>CNT_CHILDREN</th>\n",
       "      <th>AMT_INCOME_TOTAL</th>\n",
       "      <th>AMT_CREDIT</th>\n",
       "      <th>AMT_ANNUITY</th>\n",
       "      <th>...</th>\n",
       "      <th>FLAG_DOCUMENT_18</th>\n",
       "      <th>FLAG_DOCUMENT_19</th>\n",
       "      <th>FLAG_DOCUMENT_20</th>\n",
       "      <th>FLAG_DOCUMENT_21</th>\n",
       "      <th>AMT_REQ_CREDIT_BUREAU_HOUR</th>\n",
       "      <th>AMT_REQ_CREDIT_BUREAU_DAY</th>\n",
       "      <th>AMT_REQ_CREDIT_BUREAU_WEEK</th>\n",
       "      <th>AMT_REQ_CREDIT_BUREAU_MON</th>\n",
       "      <th>AMT_REQ_CREDIT_BUREAU_QRT</th>\n",
       "      <th>AMT_REQ_CREDIT_BUREAU_YEAR</th>\n",
       "    </tr>\n",
       "  </thead>\n",
       "  <tbody>\n",
       "    <tr>\n",
       "      <th>0</th>\n",
       "      <td>100002</td>\n",
       "      <td>1</td>\n",
       "      <td>Cash loans</td>\n",
       "      <td>M</td>\n",
       "      <td>N</td>\n",
       "      <td>Y</td>\n",
       "      <td>0</td>\n",
       "      <td>202500.0</td>\n",
       "      <td>406597.5</td>\n",
       "      <td>24700.5</td>\n",
       "      <td>...</td>\n",
       "      <td>0</td>\n",
       "      <td>0</td>\n",
       "      <td>0</td>\n",
       "      <td>0</td>\n",
       "      <td>0.0</td>\n",
       "      <td>0.0</td>\n",
       "      <td>0.0</td>\n",
       "      <td>0.0</td>\n",
       "      <td>0.0</td>\n",
       "      <td>1.0</td>\n",
       "    </tr>\n",
       "    <tr>\n",
       "      <th>1</th>\n",
       "      <td>100003</td>\n",
       "      <td>0</td>\n",
       "      <td>Cash loans</td>\n",
       "      <td>F</td>\n",
       "      <td>N</td>\n",
       "      <td>N</td>\n",
       "      <td>0</td>\n",
       "      <td>270000.0</td>\n",
       "      <td>1293502.5</td>\n",
       "      <td>35698.5</td>\n",
       "      <td>...</td>\n",
       "      <td>0</td>\n",
       "      <td>0</td>\n",
       "      <td>0</td>\n",
       "      <td>0</td>\n",
       "      <td>0.0</td>\n",
       "      <td>0.0</td>\n",
       "      <td>0.0</td>\n",
       "      <td>0.0</td>\n",
       "      <td>0.0</td>\n",
       "      <td>0.0</td>\n",
       "    </tr>\n",
       "    <tr>\n",
       "      <th>2</th>\n",
       "      <td>100004</td>\n",
       "      <td>0</td>\n",
       "      <td>Revolving loans</td>\n",
       "      <td>M</td>\n",
       "      <td>Y</td>\n",
       "      <td>Y</td>\n",
       "      <td>0</td>\n",
       "      <td>67500.0</td>\n",
       "      <td>135000.0</td>\n",
       "      <td>6750.0</td>\n",
       "      <td>...</td>\n",
       "      <td>0</td>\n",
       "      <td>0</td>\n",
       "      <td>0</td>\n",
       "      <td>0</td>\n",
       "      <td>0.0</td>\n",
       "      <td>0.0</td>\n",
       "      <td>0.0</td>\n",
       "      <td>0.0</td>\n",
       "      <td>0.0</td>\n",
       "      <td>0.0</td>\n",
       "    </tr>\n",
       "    <tr>\n",
       "      <th>3</th>\n",
       "      <td>100006</td>\n",
       "      <td>0</td>\n",
       "      <td>Cash loans</td>\n",
       "      <td>F</td>\n",
       "      <td>N</td>\n",
       "      <td>Y</td>\n",
       "      <td>0</td>\n",
       "      <td>135000.0</td>\n",
       "      <td>312682.5</td>\n",
       "      <td>29686.5</td>\n",
       "      <td>...</td>\n",
       "      <td>0</td>\n",
       "      <td>0</td>\n",
       "      <td>0</td>\n",
       "      <td>0</td>\n",
       "      <td>NaN</td>\n",
       "      <td>NaN</td>\n",
       "      <td>NaN</td>\n",
       "      <td>NaN</td>\n",
       "      <td>NaN</td>\n",
       "      <td>NaN</td>\n",
       "    </tr>\n",
       "    <tr>\n",
       "      <th>4</th>\n",
       "      <td>100007</td>\n",
       "      <td>0</td>\n",
       "      <td>Cash loans</td>\n",
       "      <td>M</td>\n",
       "      <td>N</td>\n",
       "      <td>Y</td>\n",
       "      <td>0</td>\n",
       "      <td>121500.0</td>\n",
       "      <td>513000.0</td>\n",
       "      <td>21865.5</td>\n",
       "      <td>...</td>\n",
       "      <td>0</td>\n",
       "      <td>0</td>\n",
       "      <td>0</td>\n",
       "      <td>0</td>\n",
       "      <td>0.0</td>\n",
       "      <td>0.0</td>\n",
       "      <td>0.0</td>\n",
       "      <td>0.0</td>\n",
       "      <td>0.0</td>\n",
       "      <td>0.0</td>\n",
       "    </tr>\n",
       "  </tbody>\n",
       "</table>\n",
       "<p>5 rows × 122 columns</p>\n",
       "</div>"
      ],
      "text/plain": [
       "   SK_ID_CURR  TARGET NAME_CONTRACT_TYPE CODE_GENDER FLAG_OWN_CAR  \\\n",
       "0      100002       1         Cash loans           M            N   \n",
       "1      100003       0         Cash loans           F            N   \n",
       "2      100004       0    Revolving loans           M            Y   \n",
       "3      100006       0         Cash loans           F            N   \n",
       "4      100007       0         Cash loans           M            N   \n",
       "\n",
       "  FLAG_OWN_REALTY  CNT_CHILDREN  AMT_INCOME_TOTAL  AMT_CREDIT  AMT_ANNUITY  \\\n",
       "0               Y             0          202500.0    406597.5      24700.5   \n",
       "1               N             0          270000.0   1293502.5      35698.5   \n",
       "2               Y             0           67500.0    135000.0       6750.0   \n",
       "3               Y             0          135000.0    312682.5      29686.5   \n",
       "4               Y             0          121500.0    513000.0      21865.5   \n",
       "\n",
       "   ...  FLAG_DOCUMENT_18 FLAG_DOCUMENT_19 FLAG_DOCUMENT_20 FLAG_DOCUMENT_21  \\\n",
       "0  ...                 0                0                0                0   \n",
       "1  ...                 0                0                0                0   \n",
       "2  ...                 0                0                0                0   \n",
       "3  ...                 0                0                0                0   \n",
       "4  ...                 0                0                0                0   \n",
       "\n",
       "  AMT_REQ_CREDIT_BUREAU_HOUR AMT_REQ_CREDIT_BUREAU_DAY  \\\n",
       "0                        0.0                       0.0   \n",
       "1                        0.0                       0.0   \n",
       "2                        0.0                       0.0   \n",
       "3                        NaN                       NaN   \n",
       "4                        0.0                       0.0   \n",
       "\n",
       "   AMT_REQ_CREDIT_BUREAU_WEEK  AMT_REQ_CREDIT_BUREAU_MON  \\\n",
       "0                         0.0                        0.0   \n",
       "1                         0.0                        0.0   \n",
       "2                         0.0                        0.0   \n",
       "3                         NaN                        NaN   \n",
       "4                         0.0                        0.0   \n",
       "\n",
       "   AMT_REQ_CREDIT_BUREAU_QRT  AMT_REQ_CREDIT_BUREAU_YEAR  \n",
       "0                        0.0                         1.0  \n",
       "1                        0.0                         0.0  \n",
       "2                        0.0                         0.0  \n",
       "3                        NaN                         NaN  \n",
       "4                        0.0                         0.0  \n",
       "\n",
       "[5 rows x 122 columns]"
      ]
     },
     "execution_count": 2,
     "metadata": {},
     "output_type": "execute_result"
    }
   ],
   "source": [
    "application_train = pd.read_csv(\"../input/home-credit-default-risk/application_train.csv\")\n",
    "print(application_train.shape)\n",
    "application_train.head()"
   ]
  },
  {
   "cell_type": "markdown",
   "id": "ca34cbaa",
   "metadata": {
    "papermill": {
     "duration": 0.089756,
     "end_time": "2022-05-01T11:23:45.005121",
     "exception": false,
     "start_time": "2022-05-01T11:23:44.915365",
     "status": "completed"
    },
    "tags": []
   },
   "source": [
    "#### スクリプト7-3: メモリ削減のための関数"
   ]
  },
  {
   "cell_type": "code",
   "execution_count": 3,
   "id": "b579d690",
   "metadata": {
    "execution": {
     "iopub.execute_input": "2022-05-01T11:23:45.188074Z",
     "iopub.status.busy": "2022-05-01T11:23:45.187784Z",
     "iopub.status.idle": "2022-05-01T11:23:45.202900Z",
     "shell.execute_reply": "2022-05-01T11:23:45.201850Z"
    },
    "papermill": {
     "duration": 0.108021,
     "end_time": "2022-05-01T11:23:45.205006",
     "exception": false,
     "start_time": "2022-05-01T11:23:45.096985",
     "status": "completed"
    },
    "tags": []
   },
   "outputs": [],
   "source": [
    "def reduce_mem_usage(df):\n",
    "    start_mem = df.memory_usage().sum() / 1024**2\n",
    "    print('Memory usage of dataframe is {:.2f} MB'.format(start_mem))\n",
    "    \n",
    "    for col in df.columns:\n",
    "        col_type = df[col].dtype\n",
    "        \n",
    "        if col_type != object:\n",
    "            c_min = df[col].min()\n",
    "            c_max = df[col].max()\n",
    "            if str(col_type)[:3] == 'int':\n",
    "                if c_min > np.iinfo(np.int8).min and c_max < np.iinfo(np.int8).max:\n",
    "                    df[col] = df[col].astype(np.int8)\n",
    "                elif c_min > np.iinfo(np.int16).min and c_max < np.iinfo(np.int16).max:\n",
    "                    df[col] = df[col].astype(np.int16)\n",
    "                elif c_min > np.iinfo(np.int32).min and c_max < np.iinfo(np.int32).max:\n",
    "                    df[col] = df[col].astype(np.int32)\n",
    "                elif c_min > np.iinfo(np.int64).min and c_max < np.iinfo(np.int64).max:\n",
    "                    df[col] = df[col].astype(np.int64)  \n",
    "            else:\n",
    "                if c_min > np.finfo(np.float16).min and c_max < np.finfo(np.float16).max:\n",
    "                    df[col] = df[col].astype(np.float16)\n",
    "                elif c_min > np.finfo(np.float32).min and c_max < np.finfo(np.float32).max:\n",
    "                    df[col] = df[col].astype(np.float32)\n",
    "                else:\n",
    "                    df[col] = df[col].astype(np.float64)\n",
    "        else:\n",
    "            pass\n",
    "\n",
    "    end_mem = df.memory_usage().sum() / 1024**2\n",
    "    print('Memory usage after optimization is: {:.2f} MB'.format(end_mem))\n",
    "    print('Decreased by {:.1f}%'.format(100 * (start_mem - end_mem) / start_mem))\n",
    "    \n",
    "    return df"
   ]
  },
  {
   "cell_type": "markdown",
   "id": "2b5301d8",
   "metadata": {
    "papermill": {
     "duration": 0.089729,
     "end_time": "2022-05-01T11:23:45.384648",
     "exception": false,
     "start_time": "2022-05-01T11:23:45.294919",
     "status": "completed"
    },
    "tags": []
   },
   "source": [
    "#### スクリプト7-4: メモリ削減の実行"
   ]
  },
  {
   "cell_type": "code",
   "execution_count": 4,
   "id": "08a221ed",
   "metadata": {
    "execution": {
     "iopub.execute_input": "2022-05-01T11:23:45.566933Z",
     "iopub.status.busy": "2022-05-01T11:23:45.566117Z",
     "iopub.status.idle": "2022-05-01T11:23:48.778169Z",
     "shell.execute_reply": "2022-05-01T11:23:48.776991Z"
    },
    "papermill": {
     "duration": 3.305745,
     "end_time": "2022-05-01T11:23:48.780410",
     "exception": false,
     "start_time": "2022-05-01T11:23:45.474665",
     "status": "completed"
    },
    "tags": []
   },
   "outputs": [
    {
     "name": "stdout",
     "output_type": "stream",
     "text": [
      "Memory usage of dataframe is 286.23 MB\n",
      "Memory usage after optimization is: 92.38 MB\n",
      "Decreased by 67.7%\n"
     ]
    }
   ],
   "source": [
    "application_train = reduce_mem_usage(application_train)"
   ]
  },
  {
   "cell_type": "markdown",
   "id": "deeee3a1",
   "metadata": {
    "papermill": {
     "duration": 0.090576,
     "end_time": "2022-05-01T11:23:48.960918",
     "exception": false,
     "start_time": "2022-05-01T11:23:48.870342",
     "status": "completed"
    },
    "tags": []
   },
   "source": [
    "## 7.3.3 データセット作成\n",
    "#### スクリプト7-5: データセットの作成"
   ]
  },
  {
   "cell_type": "code",
   "execution_count": 5,
   "id": "a7a4e62a",
   "metadata": {
    "execution": {
     "iopub.execute_input": "2022-05-01T11:23:49.146150Z",
     "iopub.status.busy": "2022-05-01T11:23:49.145829Z",
     "iopub.status.idle": "2022-05-01T11:23:49.300335Z",
     "shell.execute_reply": "2022-05-01T11:23:49.299466Z"
    },
    "papermill": {
     "duration": 0.248249,
     "end_time": "2022-05-01T11:23:49.302666",
     "exception": false,
     "start_time": "2022-05-01T11:23:49.054417",
     "status": "completed"
    },
    "tags": []
   },
   "outputs": [],
   "source": [
    "x_train = application_train.drop(columns=[\"TARGET\", \"SK_ID_CURR\"])\n",
    "y_train = application_train[\"TARGET\"]\n",
    "id_train = application_train[[\"SK_ID_CURR\"]]"
   ]
  },
  {
   "cell_type": "markdown",
   "id": "f1825d77",
   "metadata": {
    "papermill": {
     "duration": 0.08938,
     "end_time": "2022-05-01T11:23:49.482167",
     "exception": false,
     "start_time": "2022-05-01T11:23:49.392787",
     "status": "completed"
    },
    "tags": []
   },
   "source": [
    "#### スクリプト7-6: カテゴリ変数をcategory型に変換 "
   ]
  },
  {
   "cell_type": "code",
   "execution_count": 6,
   "id": "aa714e9a",
   "metadata": {
    "execution": {
     "iopub.execute_input": "2022-05-01T11:23:49.663340Z",
     "iopub.status.busy": "2022-05-01T11:23:49.662484Z",
     "iopub.status.idle": "2022-05-01T11:23:50.453008Z",
     "shell.execute_reply": "2022-05-01T11:23:50.452018Z"
    },
    "papermill": {
     "duration": 0.883679,
     "end_time": "2022-05-01T11:23:50.455402",
     "exception": false,
     "start_time": "2022-05-01T11:23:49.571723",
     "status": "completed"
    },
    "tags": []
   },
   "outputs": [],
   "source": [
    "for col in x_train.columns:\n",
    "    if x_train[col].dtype==\"O\":\n",
    "        x_train[col] = x_train[col].astype(\"category\")"
   ]
  },
  {
   "cell_type": "markdown",
   "id": "7cdd9554",
   "metadata": {
    "papermill": {
     "duration": 0.089464,
     "end_time": "2022-05-01T11:23:50.636935",
     "exception": false,
     "start_time": "2022-05-01T11:23:50.547471",
     "status": "completed"
    },
    "tags": []
   },
   "source": [
    "## 7.3.4 バリデーション設計\n",
    "#### スクリプト7-7: 1の割合とそれぞれの件数を確認"
   ]
  },
  {
   "cell_type": "code",
   "execution_count": 7,
   "id": "d52395ff",
   "metadata": {
    "execution": {
     "iopub.execute_input": "2022-05-01T11:23:50.820860Z",
     "iopub.status.busy": "2022-05-01T11:23:50.820298Z",
     "iopub.status.idle": "2022-05-01T11:23:50.831722Z",
     "shell.execute_reply": "2022-05-01T11:23:50.830504Z"
    },
    "papermill": {
     "duration": 0.107319,
     "end_time": "2022-05-01T11:23:50.834193",
     "exception": false,
     "start_time": "2022-05-01T11:23:50.726874",
     "status": "completed"
    },
    "tags": []
   },
   "outputs": [
    {
     "name": "stdout",
     "output_type": "stream",
     "text": [
      "mean: 0.0807\n"
     ]
    },
    {
     "data": {
      "text/plain": [
       "0    282686\n",
       "1     24825\n",
       "Name: TARGET, dtype: int64"
      ]
     },
     "execution_count": 7,
     "metadata": {},
     "output_type": "execute_result"
    }
   ],
   "source": [
    "print(\"mean: {:.4f}\".format(y_train.mean()))\n",
    "y_train.value_counts()"
   ]
  },
  {
   "cell_type": "markdown",
   "id": "f1e9506a",
   "metadata": {
    "papermill": {
     "duration": 0.092291,
     "end_time": "2022-05-01T11:23:51.017748",
     "exception": false,
     "start_time": "2022-05-01T11:23:50.925457",
     "status": "completed"
    },
    "tags": []
   },
   "source": [
    "#### スクリプト7-8: バリデーションのindexリスト作成"
   ]
  },
  {
   "cell_type": "code",
   "execution_count": 8,
   "id": "61e2fa8a",
   "metadata": {
    "execution": {
     "iopub.execute_input": "2022-05-01T11:23:51.205259Z",
     "iopub.status.busy": "2022-05-01T11:23:51.204920Z",
     "iopub.status.idle": "2022-05-01T11:23:51.264017Z",
     "shell.execute_reply": "2022-05-01T11:23:51.262944Z"
    },
    "papermill": {
     "duration": 0.156622,
     "end_time": "2022-05-01T11:23:51.266391",
     "exception": false,
     "start_time": "2022-05-01T11:23:51.109769",
     "status": "completed"
    },
    "tags": []
   },
   "outputs": [
    {
     "name": "stdout",
     "output_type": "stream",
     "text": [
      "index(train): [     0      1      3 ... 307508 307509 307510]\n",
      "index(valid): [     2     11     22 ... 307488 307495 307497]\n"
     ]
    }
   ],
   "source": [
    "# 層化分割したバリデーションのindexのリスト作成\n",
    "cv = list(StratifiedKFold(n_splits=5, shuffle=True, random_state=123).split(x_train, y_train))\n",
    "\n",
    "# indexの確認：fold=0のtrainデータ\n",
    "print(\"index(train):\", cv[0][0])\n",
    "\n",
    "# indexの確認：fold=0のvalidデータ\n",
    "print(\"index(valid):\", cv[0][1])"
   ]
  },
  {
   "cell_type": "markdown",
   "id": "3bf54413",
   "metadata": {
    "papermill": {
     "duration": 0.09102,
     "end_time": "2022-05-01T11:23:51.449829",
     "exception": false,
     "start_time": "2022-05-01T11:23:51.358809",
     "status": "completed"
    },
    "tags": []
   },
   "source": [
    "## 7.3.5 モデル学習\n",
    "#### スクリプト7-9: 学習データと検証データに分離"
   ]
  },
  {
   "cell_type": "code",
   "execution_count": 9,
   "id": "6a491d83",
   "metadata": {
    "execution": {
     "iopub.execute_input": "2022-05-01T11:23:51.634083Z",
     "iopub.status.busy": "2022-05-01T11:23:51.633777Z",
     "iopub.status.idle": "2022-05-01T11:23:51.902074Z",
     "shell.execute_reply": "2022-05-01T11:23:51.901028Z"
    },
    "papermill": {
     "duration": 0.363225,
     "end_time": "2022-05-01T11:23:51.904470",
     "exception": false,
     "start_time": "2022-05-01T11:23:51.541245",
     "status": "completed"
    },
    "tags": []
   },
   "outputs": [
    {
     "name": "stdout",
     "output_type": "stream",
     "text": [
      "(246008, 120) (246008,) (246008, 1)\n",
      "(61503, 120) (61503,) (61503, 1)\n"
     ]
    }
   ],
   "source": [
    "# foldごとのindexのリスト作成\n",
    "cv = list(StratifiedKFold(n_splits=5, shuffle=True, random_state=123).split(x_train, y_train))\n",
    "\n",
    "# 0fold目のindexのリスト取得\n",
    "nfold = 0\n",
    "idx_tr, idx_va = cv[nfold][0], cv[nfold][1]\n",
    "\n",
    "# 学習データと検証データに分離\n",
    "x_tr, y_tr, id_tr = x_train.loc[idx_tr, :], y_train[idx_tr], id_train.loc[idx_tr, :]\n",
    "x_va, y_va, id_va = x_train.loc[idx_va, :], y_train[idx_va], id_train.loc[idx_va, :]\n",
    "print(x_tr.shape, y_tr.shape, id_tr.shape)\n",
    "print(x_va.shape, y_va.shape, id_va.shape)"
   ]
  },
  {
   "cell_type": "markdown",
   "id": "ccf5fec5",
   "metadata": {
    "papermill": {
     "duration": 0.093026,
     "end_time": "2022-05-01T11:23:52.092265",
     "exception": false,
     "start_time": "2022-05-01T11:23:51.999239",
     "status": "completed"
    },
    "tags": []
   },
   "source": [
    "#### スクリプト7-10: モデル学習"
   ]
  },
  {
   "cell_type": "code",
   "execution_count": 10,
   "id": "4ed1777e",
   "metadata": {
    "execution": {
     "iopub.execute_input": "2022-05-01T11:23:52.277483Z",
     "iopub.status.busy": "2022-05-01T11:23:52.276895Z",
     "iopub.status.idle": "2022-05-01T11:24:15.898043Z",
     "shell.execute_reply": "2022-05-01T11:24:15.897298Z"
    },
    "papermill": {
     "duration": 23.716601,
     "end_time": "2022-05-01T11:24:15.900518",
     "exception": false,
     "start_time": "2022-05-01T11:23:52.183917",
     "status": "completed"
    },
    "tags": []
   },
   "outputs": [
    {
     "name": "stdout",
     "output_type": "stream",
     "text": [
      "[100]\ttraining's auc: 0.782506\tvalid_1's auc: 0.755903\n",
      "[200]\ttraining's auc: 0.808961\tvalid_1's auc: 0.758356\n",
      "[300]\ttraining's auc: 0.829245\tvalid_1's auc: 0.757774\n"
     ]
    }
   ],
   "source": [
    "params = {\n",
    "    'boosting_type': 'gbdt',\n",
    "    'objective': 'binary', \n",
    "    'metric': 'auc',\n",
    "    'learning_rate': 0.05,\n",
    "    'num_leaves': 32,\n",
    "    'n_estimators': 100000,\n",
    "    \"random_state\": 123,\n",
    "    \"importance_type\": \"gain\",\n",
    "}\n",
    "\n",
    "# モデルの学習\n",
    "model = lgb.LGBMClassifier(**params)\n",
    "model.fit(x_tr,\n",
    "          y_tr,\n",
    "          eval_set=[(x_tr, y_tr), (x_va, y_va)],\n",
    "          early_stopping_rounds=100,\n",
    "          verbose=100\n",
    "         )\n",
    "\n",
    "# モデルの保存\n",
    "with open(\"model_lgb_fold0.pickle\", \"wb\") as f:\n",
    "    pickle.dump(model, f, protocol=4)"
   ]
  },
  {
   "cell_type": "markdown",
   "id": "e040f917",
   "metadata": {
    "papermill": {
     "duration": 0.093258,
     "end_time": "2022-05-01T11:24:16.089028",
     "exception": false,
     "start_time": "2022-05-01T11:24:15.995770",
     "status": "completed"
    },
    "tags": []
   },
   "source": [
    "#### スクリプト7-11: モデル評価"
   ]
  },
  {
   "cell_type": "code",
   "execution_count": 11,
   "id": "c0eb3ec6",
   "metadata": {
    "execution": {
     "iopub.execute_input": "2022-05-01T11:24:16.279459Z",
     "iopub.status.busy": "2022-05-01T11:24:16.279181Z",
     "iopub.status.idle": "2022-05-01T11:24:19.284107Z",
     "shell.execute_reply": "2022-05-01T11:24:19.282975Z"
    },
    "papermill": {
     "duration": 3.102892,
     "end_time": "2022-05-01T11:24:19.286495",
     "exception": false,
     "start_time": "2022-05-01T11:24:16.183603",
     "status": "completed"
    },
    "tags": []
   },
   "outputs": [
    {
     "name": "stdout",
     "output_type": "stream",
     "text": [
      "[auc] tr:0.8126, va:0.7586\n"
     ]
    }
   ],
   "source": [
    "# 学習データの推論値取得とROC計算\n",
    "y_tr_pred = model.predict_proba(x_tr)[:,1]\n",
    "metric_tr = roc_auc_score(y_tr, y_tr_pred)\n",
    "\n",
    "# 検証データの推論値取得とROC計算\n",
    "y_va_pred = model.predict_proba(x_va)[:,1]\n",
    "metric_va = roc_auc_score(y_va, y_va_pred)\n",
    "\n",
    "# 評価値を入れる変数の作成（最初のfoldのときのみ）\n",
    "metrics = []\n",
    "\n",
    "# 評価値を格納\n",
    "metrics.append([nfold, metric_tr, metric_va])\n",
    "\n",
    "# 結果の表示\n",
    "print(\"[auc] tr:{:.4f}, va:{:.4f}\".format(metric_tr, metric_va))"
   ]
  },
  {
   "cell_type": "markdown",
   "id": "f62c20a2",
   "metadata": {
    "papermill": {
     "duration": 0.092859,
     "end_time": "2022-05-01T11:24:19.472531",
     "exception": false,
     "start_time": "2022-05-01T11:24:19.379672",
     "status": "completed"
    },
    "tags": []
   },
   "source": [
    "#### スクリプト7-12: OOFデータの推論値取得"
   ]
  },
  {
   "cell_type": "code",
   "execution_count": 12,
   "id": "9de62e5e",
   "metadata": {
    "execution": {
     "iopub.execute_input": "2022-05-01T11:24:19.663264Z",
     "iopub.status.busy": "2022-05-01T11:24:19.662571Z",
     "iopub.status.idle": "2022-05-01T11:24:19.667851Z",
     "shell.execute_reply": "2022-05-01T11:24:19.666912Z"
    },
    "papermill": {
     "duration": 0.101332,
     "end_time": "2022-05-01T11:24:19.669896",
     "exception": false,
     "start_time": "2022-05-01T11:24:19.568564",
     "status": "completed"
    },
    "tags": []
   },
   "outputs": [],
   "source": [
    "# oofの予測値を入れる変数の作成\n",
    "train_oof = np.zeros(len(x_train))\n",
    "\n",
    "# validデータのindexに予測値を格納\n",
    "train_oof[idx_va] = y_va_pred"
   ]
  },
  {
   "cell_type": "markdown",
   "id": "44873c26",
   "metadata": {
    "papermill": {
     "duration": 0.093341,
     "end_time": "2022-05-01T11:24:19.858753",
     "exception": false,
     "start_time": "2022-05-01T11:24:19.765412",
     "status": "completed"
    },
    "tags": []
   },
   "source": [
    "#### スクリプト7-13: 説明変数の重要度取得"
   ]
  },
  {
   "cell_type": "code",
   "execution_count": 13,
   "id": "da674201",
   "metadata": {
    "execution": {
     "iopub.execute_input": "2022-05-01T11:24:20.049538Z",
     "iopub.status.busy": "2022-05-01T11:24:20.049250Z",
     "iopub.status.idle": "2022-05-01T11:24:20.064599Z",
     "shell.execute_reply": "2022-05-01T11:24:20.063940Z"
    },
    "papermill": {
     "duration": 0.113788,
     "end_time": "2022-05-01T11:24:20.066514",
     "exception": false,
     "start_time": "2022-05-01T11:24:19.952726",
     "status": "completed"
    },
    "tags": []
   },
   "outputs": [
    {
     "data": {
      "text/html": [
       "<div>\n",
       "<style scoped>\n",
       "    .dataframe tbody tr th:only-of-type {\n",
       "        vertical-align: middle;\n",
       "    }\n",
       "\n",
       "    .dataframe tbody tr th {\n",
       "        vertical-align: top;\n",
       "    }\n",
       "\n",
       "    .dataframe thead th {\n",
       "        text-align: right;\n",
       "    }\n",
       "</style>\n",
       "<table border=\"1\" class=\"dataframe\">\n",
       "  <thead>\n",
       "    <tr style=\"text-align: right;\">\n",
       "      <th></th>\n",
       "      <th>col</th>\n",
       "      <th>imp</th>\n",
       "      <th>nfold</th>\n",
       "    </tr>\n",
       "  </thead>\n",
       "  <tbody>\n",
       "    <tr>\n",
       "      <th>41</th>\n",
       "      <td>EXT_SOURCE_3</td>\n",
       "      <td>66225.020483</td>\n",
       "      <td>0</td>\n",
       "    </tr>\n",
       "    <tr>\n",
       "      <th>40</th>\n",
       "      <td>EXT_SOURCE_2</td>\n",
       "      <td>52568.833805</td>\n",
       "      <td>0</td>\n",
       "    </tr>\n",
       "    <tr>\n",
       "      <th>38</th>\n",
       "      <td>ORGANIZATION_TYPE</td>\n",
       "      <td>20218.523523</td>\n",
       "      <td>0</td>\n",
       "    </tr>\n",
       "    <tr>\n",
       "      <th>39</th>\n",
       "      <td>EXT_SOURCE_1</td>\n",
       "      <td>19776.252288</td>\n",
       "      <td>0</td>\n",
       "    </tr>\n",
       "    <tr>\n",
       "      <th>6</th>\n",
       "      <td>AMT_CREDIT</td>\n",
       "      <td>8111.321247</td>\n",
       "      <td>0</td>\n",
       "    </tr>\n",
       "    <tr>\n",
       "      <th>8</th>\n",
       "      <td>AMT_GOODS_PRICE</td>\n",
       "      <td>7120.960365</td>\n",
       "      <td>0</td>\n",
       "    </tr>\n",
       "    <tr>\n",
       "      <th>15</th>\n",
       "      <td>DAYS_BIRTH</td>\n",
       "      <td>7042.223005</td>\n",
       "      <td>0</td>\n",
       "    </tr>\n",
       "    <tr>\n",
       "      <th>7</th>\n",
       "      <td>AMT_ANNUITY</td>\n",
       "      <td>6992.551795</td>\n",
       "      <td>0</td>\n",
       "    </tr>\n",
       "    <tr>\n",
       "      <th>16</th>\n",
       "      <td>DAYS_EMPLOYED</td>\n",
       "      <td>5236.514120</td>\n",
       "      <td>0</td>\n",
       "    </tr>\n",
       "    <tr>\n",
       "      <th>26</th>\n",
       "      <td>OCCUPATION_TYPE</td>\n",
       "      <td>4376.651746</td>\n",
       "      <td>0</td>\n",
       "    </tr>\n",
       "  </tbody>\n",
       "</table>\n",
       "</div>"
      ],
      "text/plain": [
       "                  col           imp  nfold\n",
       "41       EXT_SOURCE_3  66225.020483      0\n",
       "40       EXT_SOURCE_2  52568.833805      0\n",
       "38  ORGANIZATION_TYPE  20218.523523      0\n",
       "39       EXT_SOURCE_1  19776.252288      0\n",
       "6          AMT_CREDIT   8111.321247      0\n",
       "8     AMT_GOODS_PRICE   7120.960365      0\n",
       "15         DAYS_BIRTH   7042.223005      0\n",
       "7         AMT_ANNUITY   6992.551795      0\n",
       "16      DAYS_EMPLOYED   5236.514120      0\n",
       "26    OCCUPATION_TYPE   4376.651746      0"
      ]
     },
     "metadata": {},
     "output_type": "display_data"
    }
   ],
   "source": [
    "# 重要度の取得\n",
    "imp_fold = pd.DataFrame({\"col\":x_train.columns, \"imp\":model.feature_importances_, \"nfold\":nfold})\n",
    "# 確認（重要度の上位10個）\n",
    "display(imp_fold.sort_values(\"imp\", ascending=False)[:10])\n",
    "\n",
    "# 重要度を格納する5fold用データフレームの作成\n",
    "imp = pd.DataFrame()\n",
    "# imp_foldを5fold用データフレームに結合\n",
    "imp = pd.concat([imp, imp_fold])"
   ]
  },
  {
   "cell_type": "markdown",
   "id": "9e05ab9e",
   "metadata": {
    "papermill": {
     "duration": 0.093362,
     "end_time": "2022-05-01T11:24:20.253799",
     "exception": false,
     "start_time": "2022-05-01T11:24:20.160437",
     "status": "completed"
    },
    "tags": []
   },
   "source": [
    "#### スクリプト7-14: モデル評価（全foldのサマリ）"
   ]
  },
  {
   "cell_type": "code",
   "execution_count": 14,
   "id": "f63a48df",
   "metadata": {
    "execution": {
     "iopub.execute_input": "2022-05-01T11:24:20.444051Z",
     "iopub.status.busy": "2022-05-01T11:24:20.443468Z",
     "iopub.status.idle": "2022-05-01T11:24:20.522243Z",
     "shell.execute_reply": "2022-05-01T11:24:20.521214Z"
    },
    "papermill": {
     "duration": 0.176615,
     "end_time": "2022-05-01T11:24:20.524732",
     "exception": false,
     "start_time": "2022-05-01T11:24:20.348117",
     "status": "completed"
    },
    "tags": []
   },
   "outputs": [
    {
     "name": "stdout",
     "output_type": "stream",
     "text": [
      "[[0.         0.81257796 0.75859528]]\n",
      "[cv] tr:0.8126+-0.0000, va:0.7586+-0.0000\n",
      "[oof] 0.5103\n"
     ]
    }
   ],
   "source": [
    "# リスト型をarray型に変換\n",
    "metrics = np.array(metrics)\n",
    "print(metrics)\n",
    "\n",
    "# 学習/検証データの評価値の平均値と標準偏差を算出\n",
    "print(\"[cv] tr:{:.4f}+-{:.4f}, va:{:.4f}+-{:.4f}\".format(\n",
    "    metrics[:,1].mean(), metrics[:,1].std(),\n",
    "    metrics[:,2].mean(), metrics[:,2].std(),\n",
    "))\n",
    "\n",
    "# oofの評価値を算出\n",
    "print(\"[oof] {:.4f}\".format(\n",
    "    roc_auc_score(y_train, train_oof)\n",
    "))"
   ]
  },
  {
   "cell_type": "markdown",
   "id": "78e4cb52",
   "metadata": {
    "papermill": {
     "duration": 0.095232,
     "end_time": "2022-05-01T11:24:20.714823",
     "exception": false,
     "start_time": "2022-05-01T11:24:20.619591",
     "status": "completed"
    },
    "tags": []
   },
   "source": [
    "#### スクリプト7-15: OOFデータの推論値取得（全foldのサマリ）"
   ]
  },
  {
   "cell_type": "code",
   "execution_count": 15,
   "id": "2781646c",
   "metadata": {
    "execution": {
     "iopub.execute_input": "2022-05-01T11:24:20.906225Z",
     "iopub.status.busy": "2022-05-01T11:24:20.905733Z",
     "iopub.status.idle": "2022-05-01T11:24:20.919662Z",
     "shell.execute_reply": "2022-05-01T11:24:20.918842Z"
    },
    "papermill": {
     "duration": 0.112005,
     "end_time": "2022-05-01T11:24:20.921746",
     "exception": false,
     "start_time": "2022-05-01T11:24:20.809741",
     "status": "completed"
    },
    "tags": []
   },
   "outputs": [
    {
     "data": {
      "text/html": [
       "<div>\n",
       "<style scoped>\n",
       "    .dataframe tbody tr th:only-of-type {\n",
       "        vertical-align: middle;\n",
       "    }\n",
       "\n",
       "    .dataframe tbody tr th {\n",
       "        vertical-align: top;\n",
       "    }\n",
       "\n",
       "    .dataframe thead th {\n",
       "        text-align: right;\n",
       "    }\n",
       "</style>\n",
       "<table border=\"1\" class=\"dataframe\">\n",
       "  <thead>\n",
       "    <tr style=\"text-align: right;\">\n",
       "      <th></th>\n",
       "      <th>SK_ID_CURR</th>\n",
       "      <th>true</th>\n",
       "      <th>pred</th>\n",
       "    </tr>\n",
       "  </thead>\n",
       "  <tbody>\n",
       "    <tr>\n",
       "      <th>0</th>\n",
       "      <td>100002</td>\n",
       "      <td>1</td>\n",
       "      <td>0.000000</td>\n",
       "    </tr>\n",
       "    <tr>\n",
       "      <th>1</th>\n",
       "      <td>100003</td>\n",
       "      <td>0</td>\n",
       "      <td>0.000000</td>\n",
       "    </tr>\n",
       "    <tr>\n",
       "      <th>2</th>\n",
       "      <td>100004</td>\n",
       "      <td>0</td>\n",
       "      <td>0.031866</td>\n",
       "    </tr>\n",
       "    <tr>\n",
       "      <th>3</th>\n",
       "      <td>100006</td>\n",
       "      <td>0</td>\n",
       "      <td>0.000000</td>\n",
       "    </tr>\n",
       "    <tr>\n",
       "      <th>4</th>\n",
       "      <td>100007</td>\n",
       "      <td>0</td>\n",
       "      <td>0.000000</td>\n",
       "    </tr>\n",
       "  </tbody>\n",
       "</table>\n",
       "</div>"
      ],
      "text/plain": [
       "   SK_ID_CURR  true      pred\n",
       "0      100002     1  0.000000\n",
       "1      100003     0  0.000000\n",
       "2      100004     0  0.031866\n",
       "3      100006     0  0.000000\n",
       "4      100007     0  0.000000"
      ]
     },
     "execution_count": 15,
     "metadata": {},
     "output_type": "execute_result"
    }
   ],
   "source": [
    "train_oof = pd.concat([\n",
    "    id_train,\n",
    "    pd.DataFrame({\"true\": y_train, \"pred\": train_oof}),\n",
    "], axis=1)\n",
    "train_oof.head()"
   ]
  },
  {
   "cell_type": "markdown",
   "id": "cfdb17bc",
   "metadata": {
    "papermill": {
     "duration": 0.094601,
     "end_time": "2022-05-01T11:24:21.111949",
     "exception": false,
     "start_time": "2022-05-01T11:24:21.017348",
     "status": "completed"
    },
    "tags": []
   },
   "source": [
    "#### スクリプト7-16: 説明変数の重要度取得（全foldのサマリ）"
   ]
  },
  {
   "cell_type": "code",
   "execution_count": 16,
   "id": "6186e8fb",
   "metadata": {
    "execution": {
     "iopub.execute_input": "2022-05-01T11:24:21.309618Z",
     "iopub.status.busy": "2022-05-01T11:24:21.309075Z",
     "iopub.status.idle": "2022-05-01T11:24:21.327056Z",
     "shell.execute_reply": "2022-05-01T11:24:21.326216Z"
    },
    "papermill": {
     "duration": 0.116117,
     "end_time": "2022-05-01T11:24:21.329183",
     "exception": false,
     "start_time": "2022-05-01T11:24:21.213066",
     "status": "completed"
    },
    "tags": []
   },
   "outputs": [
    {
     "data": {
      "text/html": [
       "<div>\n",
       "<style scoped>\n",
       "    .dataframe tbody tr th:only-of-type {\n",
       "        vertical-align: middle;\n",
       "    }\n",
       "\n",
       "    .dataframe tbody tr th {\n",
       "        vertical-align: top;\n",
       "    }\n",
       "\n",
       "    .dataframe thead th {\n",
       "        text-align: right;\n",
       "    }\n",
       "</style>\n",
       "<table border=\"1\" class=\"dataframe\">\n",
       "  <thead>\n",
       "    <tr style=\"text-align: right;\">\n",
       "      <th></th>\n",
       "      <th>col</th>\n",
       "      <th>imp</th>\n",
       "      <th>imp_std</th>\n",
       "    </tr>\n",
       "  </thead>\n",
       "  <tbody>\n",
       "    <tr>\n",
       "      <th>0</th>\n",
       "      <td>AMT_ANNUITY</td>\n",
       "      <td>6992.551795</td>\n",
       "      <td>NaN</td>\n",
       "    </tr>\n",
       "    <tr>\n",
       "      <th>1</th>\n",
       "      <td>AMT_CREDIT</td>\n",
       "      <td>8111.321247</td>\n",
       "      <td>NaN</td>\n",
       "    </tr>\n",
       "    <tr>\n",
       "      <th>2</th>\n",
       "      <td>AMT_GOODS_PRICE</td>\n",
       "      <td>7120.960365</td>\n",
       "      <td>NaN</td>\n",
       "    </tr>\n",
       "    <tr>\n",
       "      <th>3</th>\n",
       "      <td>AMT_INCOME_TOTAL</td>\n",
       "      <td>1595.740609</td>\n",
       "      <td>NaN</td>\n",
       "    </tr>\n",
       "    <tr>\n",
       "      <th>4</th>\n",
       "      <td>AMT_REQ_CREDIT_BUREAU_DAY</td>\n",
       "      <td>128.842901</td>\n",
       "      <td>NaN</td>\n",
       "    </tr>\n",
       "  </tbody>\n",
       "</table>\n",
       "</div>"
      ],
      "text/plain": [
       "                         col          imp  imp_std\n",
       "0                AMT_ANNUITY  6992.551795      NaN\n",
       "1                 AMT_CREDIT  8111.321247      NaN\n",
       "2            AMT_GOODS_PRICE  7120.960365      NaN\n",
       "3           AMT_INCOME_TOTAL  1595.740609      NaN\n",
       "4  AMT_REQ_CREDIT_BUREAU_DAY   128.842901      NaN"
      ]
     },
     "execution_count": 16,
     "metadata": {},
     "output_type": "execute_result"
    }
   ],
   "source": [
    "imp = imp.groupby(\"col\")[\"imp\"].agg([\"mean\", \"std\"]).reset_index(drop=False)\n",
    "imp.columns = [\"col\", \"imp\", \"imp_std\"]\n",
    "imp.head()"
   ]
  },
  {
   "cell_type": "markdown",
   "id": "06d9794f",
   "metadata": {
    "papermill": {
     "duration": 0.094757,
     "end_time": "2022-05-01T11:24:21.519248",
     "exception": false,
     "start_time": "2022-05-01T11:24:21.424491",
     "status": "completed"
    },
    "tags": []
   },
   "source": [
    "#### スクリプト7-17: 学習関数の定義"
   ]
  },
  {
   "cell_type": "code",
   "execution_count": 17,
   "id": "d6a353aa",
   "metadata": {
    "execution": {
     "iopub.execute_input": "2022-05-01T11:24:21.715355Z",
     "iopub.status.busy": "2022-05-01T11:24:21.714755Z",
     "iopub.status.idle": "2022-05-01T11:24:21.733500Z",
     "shell.execute_reply": "2022-05-01T11:24:21.732509Z"
    },
    "papermill": {
     "duration": 0.11853,
     "end_time": "2022-05-01T11:24:21.736005",
     "exception": false,
     "start_time": "2022-05-01T11:24:21.617475",
     "status": "completed"
    },
    "tags": []
   },
   "outputs": [],
   "source": [
    "def train_lgb(input_x,\n",
    "              input_y,\n",
    "              input_id,\n",
    "              params,\n",
    "              list_nfold=[0,1,2,3,4],\n",
    "              n_splits=5,\n",
    "             ):\n",
    "    train_oof = np.zeros(len(input_x))\n",
    "    metrics = []\n",
    "    imp = pd.DataFrame()\n",
    "\n",
    "    # cross-validation\n",
    "    cv = list(StratifiedKFold(n_splits=n_splits, shuffle=True, random_state=123).split(input_x, input_y))\n",
    "    for nfold in list_nfold:\n",
    "        print(\"-\"*20, nfold, \"-\"*20)\n",
    "        \n",
    "        # make dataset\n",
    "        idx_tr, idx_va = cv[nfold][0], cv[nfold][1]\n",
    "        x_tr, y_tr, id_tr = input_x.loc[idx_tr, :], input_y[idx_tr], input_id.loc[idx_tr, :]\n",
    "        x_va, y_va, id_va = input_x.loc[idx_va, :], input_y[idx_va], input_id.loc[idx_va, :]\n",
    "        print(x_tr.shape, x_va.shape)\n",
    "        \n",
    "        # train\n",
    "        model = lgb.LGBMClassifier(**params)\n",
    "        model.fit(x_tr,\n",
    "                  y_tr,\n",
    "                  eval_set=[(x_tr, y_tr), (x_va, y_va)],\n",
    "                  early_stopping_rounds=100,\n",
    "                  verbose=100\n",
    "                 )\n",
    "        fname_lgb = \"model_lgb_fold{}.pickle\".format(nfold)\n",
    "        with open(fname_lgb, \"wb\") as f:\n",
    "            pickle.dump(model, f, protocol=4)\n",
    "        \n",
    "        # evaluate\n",
    "        y_tr_pred = model.predict_proba(x_tr)[:,1]\n",
    "        y_va_pred = model.predict_proba(x_va)[:,1]\n",
    "        metric_tr = roc_auc_score(y_tr, y_tr_pred)\n",
    "        metric_va = roc_auc_score(y_va, y_va_pred)\n",
    "        metrics.append([nfold, metric_tr, metric_va])\n",
    "        print(\"[auc] tr:{:.4f}, va:{:.4f}\".format(metric_tr, metric_va))\n",
    "        \n",
    "        # oof\n",
    "        train_oof[idx_va] = y_va_pred\n",
    "        \n",
    "        # imp\n",
    "        _imp = pd.DataFrame({\"col\":input_x.columns, \"imp\":model.feature_importances_, \"nfold\":nfold})\n",
    "        imp = pd.concat([imp, _imp])\n",
    "      \n",
    "    print(\"-\"*20, \"result\", \"-\"*20)\n",
    "    # metric\n",
    "    metrics = np.array(metrics)\n",
    "    print(metrics)\n",
    "    print(\"[cv] tr:{:.4f}+-{:.4f}, va:{:.4f}+-{:.4f}\".format(\n",
    "        metrics[:,1].mean(), metrics[:,1].std(),\n",
    "        metrics[:,2].mean(), metrics[:,2].std(),\n",
    "    ))\n",
    "    print(\"[oof] {:.4f}\".format(\n",
    "        roc_auc_score(input_y, train_oof)\n",
    "    ))\n",
    "    \n",
    "    # oof\n",
    "    train_oof = pd.concat([\n",
    "        input_id,\n",
    "        pd.DataFrame({\"pred\":train_oof})\n",
    "    ], axis=1)\n",
    "    \n",
    "    # importance\n",
    "    imp = imp.groupby(\"col\")[\"imp\"].agg([\"mean\", \"std\"]).reset_index(drop=False)\n",
    "    imp.columns = [\"col\", \"imp\", \"imp_std\"]\n",
    "    \n",
    "    return train_oof, imp, metrics"
   ]
  },
  {
   "cell_type": "markdown",
   "id": "c0bcf86b",
   "metadata": {
    "papermill": {
     "duration": 0.095142,
     "end_time": "2022-05-01T11:24:21.927471",
     "exception": false,
     "start_time": "2022-05-01T11:24:21.832329",
     "status": "completed"
    },
    "tags": []
   },
   "source": [
    "#### スクリプト7-18: 学習処理の実行"
   ]
  },
  {
   "cell_type": "code",
   "execution_count": 18,
   "id": "906ff9a6",
   "metadata": {
    "execution": {
     "iopub.execute_input": "2022-05-01T11:24:22.121947Z",
     "iopub.status.busy": "2022-05-01T11:24:22.121361Z",
     "iopub.status.idle": "2022-05-01T11:26:52.942145Z",
     "shell.execute_reply": "2022-05-01T11:26:52.940358Z"
    },
    "papermill": {
     "duration": 150.919954,
     "end_time": "2022-05-01T11:26:52.944245",
     "exception": false,
     "start_time": "2022-05-01T11:24:22.024291",
     "status": "completed"
    },
    "tags": []
   },
   "outputs": [
    {
     "name": "stdout",
     "output_type": "stream",
     "text": [
      "-------------------- 0 --------------------\n",
      "(246008, 120) (61503, 120)\n",
      "[100]\ttraining's auc: 0.782506\tvalid_1's auc: 0.755903\n",
      "[200]\ttraining's auc: 0.808961\tvalid_1's auc: 0.758356\n",
      "[300]\ttraining's auc: 0.829245\tvalid_1's auc: 0.757774\n",
      "[auc] tr:0.8126, va:0.7586\n",
      "-------------------- 1 --------------------\n",
      "(246009, 120) (61502, 120)\n",
      "[100]\ttraining's auc: 0.782531\tvalid_1's auc: 0.756239\n",
      "[200]\ttraining's auc: 0.808862\tvalid_1's auc: 0.758924\n",
      "[300]\ttraining's auc: 0.829564\tvalid_1's auc: 0.758779\n",
      "[auc] tr:0.8170, va:0.7590\n",
      "-------------------- 2 --------------------\n",
      "(246009, 120) (61502, 120)\n",
      "[100]\ttraining's auc: 0.782101\tvalid_1's auc: 0.758221\n",
      "[200]\ttraining's auc: 0.809587\tvalid_1's auc: 0.760104\n",
      "[300]\ttraining's auc: 0.830474\tvalid_1's auc: 0.760275\n",
      "[400]\ttraining's auc: 0.847388\tvalid_1's auc: 0.759875\n",
      "[auc] tr:0.8362, va:0.7604\n",
      "-------------------- 3 --------------------\n",
      "(246009, 120) (61502, 120)\n",
      "[100]\ttraining's auc: 0.783853\tvalid_1's auc: 0.754567\n",
      "[200]\ttraining's auc: 0.811501\tvalid_1's auc: 0.75659\n",
      "[300]\ttraining's auc: 0.83224\tvalid_1's auc: 0.756854\n",
      "[auc] tr:0.8244, va:0.7571\n",
      "-------------------- 4 --------------------\n",
      "(246009, 120) (61502, 120)\n",
      "[100]\ttraining's auc: 0.783715\tvalid_1's auc: 0.748435\n",
      "[200]\ttraining's auc: 0.81071\tvalid_1's auc: 0.751348\n",
      "[300]\ttraining's auc: 0.830488\tvalid_1's auc: 0.751241\n",
      "[auc] tr:0.8113, va:0.7514\n",
      "-------------------- result --------------------\n",
      "[[0.         0.81257796 0.75859528]\n",
      " [1.         0.8169515  0.7590332 ]\n",
      " [2.         0.83620918 0.7603778 ]\n",
      " [3.         0.82436296 0.7571206 ]\n",
      " [4.         0.81133335 0.75141465]]\n",
      "[cv] tr:0.8203+-0.0092, va:0.7573+-0.0031\n",
      "[oof] 0.7573\n"
     ]
    }
   ],
   "source": [
    "# ハイパーパラメータの設定\n",
    "params = {\n",
    "    'boosting_type': 'gbdt',\n",
    "    'objective': 'binary', \n",
    "    'metric': 'auc',\n",
    "    'learning_rate': 0.05,\n",
    "    'num_leaves': 32,\n",
    "    'n_estimators': 100000,\n",
    "    \"random_state\": 123,\n",
    "    \"importance_type\": \"gain\",\n",
    "}\n",
    "\n",
    "# 学習の実行\n",
    "train_oof, imp, metrics = train_lgb(x_train,\n",
    "                                    y_train,\n",
    "                                    id_train,\n",
    "                                    params,\n",
    "                                    list_nfold=[0,1,2,3,4],\n",
    "                                    n_splits=5,\n",
    "                                   )"
   ]
  },
  {
   "cell_type": "markdown",
   "id": "b61dcc75",
   "metadata": {
    "papermill": {
     "duration": 0.105003,
     "end_time": "2022-05-01T11:26:53.157164",
     "exception": false,
     "start_time": "2022-05-01T11:26:53.052161",
     "status": "completed"
    },
    "tags": []
   },
   "source": [
    "#### スクリプト7-19: 説明変数の重要度の確認"
   ]
  },
  {
   "cell_type": "code",
   "execution_count": 19,
   "id": "e9537530",
   "metadata": {
    "execution": {
     "iopub.execute_input": "2022-05-01T11:26:53.368312Z",
     "iopub.status.busy": "2022-05-01T11:26:53.367755Z",
     "iopub.status.idle": "2022-05-01T11:26:53.379286Z",
     "shell.execute_reply": "2022-05-01T11:26:53.378660Z"
    },
    "papermill": {
     "duration": 0.119132,
     "end_time": "2022-05-01T11:26:53.381119",
     "exception": false,
     "start_time": "2022-05-01T11:26:53.261987",
     "status": "completed"
    },
    "tags": []
   },
   "outputs": [
    {
     "data": {
      "text/html": [
       "<div>\n",
       "<style scoped>\n",
       "    .dataframe tbody tr th:only-of-type {\n",
       "        vertical-align: middle;\n",
       "    }\n",
       "\n",
       "    .dataframe tbody tr th {\n",
       "        vertical-align: top;\n",
       "    }\n",
       "\n",
       "    .dataframe thead th {\n",
       "        text-align: right;\n",
       "    }\n",
       "</style>\n",
       "<table border=\"1\" class=\"dataframe\">\n",
       "  <thead>\n",
       "    <tr style=\"text-align: right;\">\n",
       "      <th></th>\n",
       "      <th>col</th>\n",
       "      <th>imp</th>\n",
       "      <th>imp_std</th>\n",
       "    </tr>\n",
       "  </thead>\n",
       "  <tbody>\n",
       "    <tr>\n",
       "      <th>38</th>\n",
       "      <td>EXT_SOURCE_3</td>\n",
       "      <td>65353.907478</td>\n",
       "      <td>1558.201212</td>\n",
       "    </tr>\n",
       "    <tr>\n",
       "      <th>37</th>\n",
       "      <td>EXT_SOURCE_2</td>\n",
       "      <td>54545.388309</td>\n",
       "      <td>1251.798934</td>\n",
       "    </tr>\n",
       "    <tr>\n",
       "      <th>102</th>\n",
       "      <td>ORGANIZATION_TYPE</td>\n",
       "      <td>21441.917474</td>\n",
       "      <td>1450.246190</td>\n",
       "    </tr>\n",
       "    <tr>\n",
       "      <th>36</th>\n",
       "      <td>EXT_SOURCE_1</td>\n",
       "      <td>20051.934248</td>\n",
       "      <td>685.852224</td>\n",
       "    </tr>\n",
       "    <tr>\n",
       "      <th>1</th>\n",
       "      <td>AMT_CREDIT</td>\n",
       "      <td>8263.228728</td>\n",
       "      <td>410.384434</td>\n",
       "    </tr>\n",
       "    <tr>\n",
       "      <th>22</th>\n",
       "      <td>DAYS_BIRTH</td>\n",
       "      <td>7645.589110</td>\n",
       "      <td>689.458833</td>\n",
       "    </tr>\n",
       "    <tr>\n",
       "      <th>2</th>\n",
       "      <td>AMT_GOODS_PRICE</td>\n",
       "      <td>7263.054566</td>\n",
       "      <td>405.837031</td>\n",
       "    </tr>\n",
       "    <tr>\n",
       "      <th>0</th>\n",
       "      <td>AMT_ANNUITY</td>\n",
       "      <td>6762.953640</td>\n",
       "      <td>479.302045</td>\n",
       "    </tr>\n",
       "    <tr>\n",
       "      <th>23</th>\n",
       "      <td>DAYS_EMPLOYED</td>\n",
       "      <td>5810.288375</td>\n",
       "      <td>552.937730</td>\n",
       "    </tr>\n",
       "    <tr>\n",
       "      <th>101</th>\n",
       "      <td>OCCUPATION_TYPE</td>\n",
       "      <td>5502.675859</td>\n",
       "      <td>831.872392</td>\n",
       "    </tr>\n",
       "  </tbody>\n",
       "</table>\n",
       "</div>"
      ],
      "text/plain": [
       "                   col           imp      imp_std\n",
       "38        EXT_SOURCE_3  65353.907478  1558.201212\n",
       "37        EXT_SOURCE_2  54545.388309  1251.798934\n",
       "102  ORGANIZATION_TYPE  21441.917474  1450.246190\n",
       "36        EXT_SOURCE_1  20051.934248   685.852224\n",
       "1           AMT_CREDIT   8263.228728   410.384434\n",
       "22          DAYS_BIRTH   7645.589110   689.458833\n",
       "2      AMT_GOODS_PRICE   7263.054566   405.837031\n",
       "0          AMT_ANNUITY   6762.953640   479.302045\n",
       "23       DAYS_EMPLOYED   5810.288375   552.937730\n",
       "101    OCCUPATION_TYPE   5502.675859   831.872392"
      ]
     },
     "execution_count": 19,
     "metadata": {},
     "output_type": "execute_result"
    }
   ],
   "source": [
    "imp.sort_values(\"imp\", ascending=False)[:10]"
   ]
  },
  {
   "cell_type": "markdown",
   "id": "6362492d",
   "metadata": {
    "papermill": {
     "duration": 0.105484,
     "end_time": "2022-05-01T11:26:53.593515",
     "exception": false,
     "start_time": "2022-05-01T11:26:53.488031",
     "status": "completed"
    },
    "tags": []
   },
   "source": [
    "# 7.3.6 モデル推論\n",
    "#### スクリプト7-20: 推論用データセットの作成"
   ]
  },
  {
   "cell_type": "code",
   "execution_count": 20,
   "id": "82abb372",
   "metadata": {
    "execution": {
     "iopub.execute_input": "2022-05-01T11:26:53.826145Z",
     "iopub.status.busy": "2022-05-01T11:26:53.825612Z",
     "iopub.status.idle": "2022-05-01T11:26:55.317816Z",
     "shell.execute_reply": "2022-05-01T11:26:55.316839Z"
    },
    "papermill": {
     "duration": 1.620419,
     "end_time": "2022-05-01T11:26:55.320048",
     "exception": false,
     "start_time": "2022-05-01T11:26:53.699629",
     "status": "completed"
    },
    "tags": []
   },
   "outputs": [
    {
     "name": "stdout",
     "output_type": "stream",
     "text": [
      "Memory usage of dataframe is 45.00 MB\n",
      "Memory usage after optimization is: 14.60 MB\n",
      "Decreased by 67.6%\n"
     ]
    }
   ],
   "source": [
    "# ファイルの読み込み\n",
    "application_test = pd.read_csv(\"../input/home-credit-default-risk/application_test.csv\")\n",
    "application_test = reduce_mem_usage(application_test)\n",
    "\n",
    "# データセットの作成\n",
    "x_test = application_test.drop(columns=[\"SK_ID_CURR\" ])\n",
    "id_test = application_test[[\"SK_ID_CURR\"]]\n",
    "\n",
    "# カテゴリ変数をcategory型に変換\n",
    "for col in x_test.columns:\n",
    "    if x_test[col].dtype==\"O\":\n",
    "        x_test[col] = x_test[col].astype(\"category\")"
   ]
  },
  {
   "cell_type": "markdown",
   "id": "bc55e401",
   "metadata": {
    "papermill": {
     "duration": 0.109449,
     "end_time": "2022-05-01T11:26:55.537495",
     "exception": false,
     "start_time": "2022-05-01T11:26:55.428046",
     "status": "completed"
    },
    "tags": []
   },
   "source": [
    "#### スクリプト7-21: 学習済モデルの読み込み"
   ]
  },
  {
   "cell_type": "code",
   "execution_count": 21,
   "id": "2a0d4daa",
   "metadata": {
    "execution": {
     "iopub.execute_input": "2022-05-01T11:26:55.754412Z",
     "iopub.status.busy": "2022-05-01T11:26:55.754050Z",
     "iopub.status.idle": "2022-05-01T11:26:55.773753Z",
     "shell.execute_reply": "2022-05-01T11:26:55.773010Z"
    },
    "papermill": {
     "duration": 0.129157,
     "end_time": "2022-05-01T11:26:55.775801",
     "exception": false,
     "start_time": "2022-05-01T11:26:55.646644",
     "status": "completed"
    },
    "tags": []
   },
   "outputs": [],
   "source": [
    "with open(\"model_lgb_fold0.pickle\", \"rb\") as f:\n",
    "    model = pickle.load(f)"
   ]
  },
  {
   "cell_type": "markdown",
   "id": "e23b88cc",
   "metadata": {
    "papermill": {
     "duration": 0.107506,
     "end_time": "2022-05-01T11:26:55.992791",
     "exception": false,
     "start_time": "2022-05-01T11:26:55.885285",
     "status": "completed"
    },
    "tags": []
   },
   "source": [
    "#### スクリプト7-22: モデルを用いた推論"
   ]
  },
  {
   "cell_type": "code",
   "execution_count": 22,
   "id": "b5365e30",
   "metadata": {
    "execution": {
     "iopub.execute_input": "2022-05-01T11:26:56.211503Z",
     "iopub.status.busy": "2022-05-01T11:26:56.211216Z",
     "iopub.status.idle": "2022-05-01T11:26:56.674680Z",
     "shell.execute_reply": "2022-05-01T11:26:56.673958Z"
    },
    "papermill": {
     "duration": 0.574096,
     "end_time": "2022-05-01T11:26:56.677118",
     "exception": false,
     "start_time": "2022-05-01T11:26:56.103022",
     "status": "completed"
    },
    "tags": []
   },
   "outputs": [],
   "source": [
    "# 推論\n",
    "test_pred_fold = model.predict_proba(x_test)[:,1]\n",
    "\n",
    "# 推論値を格納する変数を作成\n",
    "test_pred = np.zeros((len(x_test), 5))\n",
    "\n",
    "# 1fold目の予測値を格納\n",
    "test_pred[:, 0] = test_pred_fold"
   ]
  },
  {
   "cell_type": "markdown",
   "id": "2586479e",
   "metadata": {
    "papermill": {
     "duration": 0.106599,
     "end_time": "2022-05-01T11:26:56.891415",
     "exception": false,
     "start_time": "2022-05-01T11:26:56.784816",
     "status": "completed"
    },
    "tags": []
   },
   "source": [
    "#### スクリプト7-23: 推論用データセットの推論値算出"
   ]
  },
  {
   "cell_type": "code",
   "execution_count": 23,
   "id": "4ca5b8ad",
   "metadata": {
    "execution": {
     "iopub.execute_input": "2022-05-01T11:26:57.107602Z",
     "iopub.status.busy": "2022-05-01T11:26:57.107285Z",
     "iopub.status.idle": "2022-05-01T11:26:57.121509Z",
     "shell.execute_reply": "2022-05-01T11:26:57.120429Z"
    },
    "papermill": {
     "duration": 0.125423,
     "end_time": "2022-05-01T11:26:57.123612",
     "exception": false,
     "start_time": "2022-05-01T11:26:56.998189",
     "status": "completed"
    },
    "tags": []
   },
   "outputs": [
    {
     "data": {
      "text/html": [
       "<div>\n",
       "<style scoped>\n",
       "    .dataframe tbody tr th:only-of-type {\n",
       "        vertical-align: middle;\n",
       "    }\n",
       "\n",
       "    .dataframe tbody tr th {\n",
       "        vertical-align: top;\n",
       "    }\n",
       "\n",
       "    .dataframe thead th {\n",
       "        text-align: right;\n",
       "    }\n",
       "</style>\n",
       "<table border=\"1\" class=\"dataframe\">\n",
       "  <thead>\n",
       "    <tr style=\"text-align: right;\">\n",
       "      <th></th>\n",
       "      <th>SK_ID_CURR</th>\n",
       "      <th>pred</th>\n",
       "    </tr>\n",
       "  </thead>\n",
       "  <tbody>\n",
       "    <tr>\n",
       "      <th>0</th>\n",
       "      <td>100001</td>\n",
       "      <td>0.006572</td>\n",
       "    </tr>\n",
       "    <tr>\n",
       "      <th>1</th>\n",
       "      <td>100005</td>\n",
       "      <td>0.023874</td>\n",
       "    </tr>\n",
       "    <tr>\n",
       "      <th>2</th>\n",
       "      <td>100013</td>\n",
       "      <td>0.004233</td>\n",
       "    </tr>\n",
       "    <tr>\n",
       "      <th>3</th>\n",
       "      <td>100028</td>\n",
       "      <td>0.008966</td>\n",
       "    </tr>\n",
       "    <tr>\n",
       "      <th>4</th>\n",
       "      <td>100038</td>\n",
       "      <td>0.030794</td>\n",
       "    </tr>\n",
       "  </tbody>\n",
       "</table>\n",
       "</div>"
      ],
      "text/plain": [
       "   SK_ID_CURR      pred\n",
       "0      100001  0.006572\n",
       "1      100005  0.023874\n",
       "2      100013  0.004233\n",
       "3      100028  0.008966\n",
       "4      100038  0.030794"
      ]
     },
     "execution_count": 23,
     "metadata": {},
     "output_type": "execute_result"
    }
   ],
   "source": [
    "# 各foldの推論値の平均値を算出\n",
    "test_pred_mean = test_pred.mean(axis=1)\n",
    "\n",
    "# 推論値のデータフレームを作成\n",
    "df_test_pred = pd.concat([\n",
    "        id_test,\n",
    "        pd.DataFrame({\"pred\": test_pred_mean}),\n",
    "    ], axis=1)\n",
    "df_test_pred.head()"
   ]
  },
  {
   "cell_type": "markdown",
   "id": "0042964b",
   "metadata": {
    "papermill": {
     "duration": 0.106328,
     "end_time": "2022-05-01T11:26:57.336268",
     "exception": false,
     "start_time": "2022-05-01T11:26:57.229940",
     "status": "completed"
    },
    "tags": []
   },
   "source": [
    "#### スクリプト7-24: 推論関数の定義"
   ]
  },
  {
   "cell_type": "code",
   "execution_count": 24,
   "id": "8a8cd46e",
   "metadata": {
    "execution": {
     "iopub.execute_input": "2022-05-01T11:26:57.552791Z",
     "iopub.status.busy": "2022-05-01T11:26:57.552013Z",
     "iopub.status.idle": "2022-05-01T11:26:57.560108Z",
     "shell.execute_reply": "2022-05-01T11:26:57.559228Z"
    },
    "papermill": {
     "duration": 0.118831,
     "end_time": "2022-05-01T11:26:57.562308",
     "exception": false,
     "start_time": "2022-05-01T11:26:57.443477",
     "status": "completed"
    },
    "tags": []
   },
   "outputs": [],
   "source": [
    "def predict_lgb(input_x,\n",
    "                input_id,\n",
    "                list_nfold=[0,1,2,3,4],\n",
    "               ):\n",
    "    pred = np.zeros((len(input_x), len(list_nfold)))\n",
    "    for nfold in list_nfold:\n",
    "        print(\"-\"*20, nfold, \"-\"*20)\n",
    "        fname_lgb = \"model_lgb_fold{}.pickle\".format(nfold)\n",
    "        with open(fname_lgb, \"rb\") as f:\n",
    "            model = pickle.load(f)\n",
    "        pred[:, nfold] = model.predict_proba(input_x)[:,1]\n",
    "    \n",
    "    pred = pd.concat([\n",
    "        input_id,\n",
    "        pd.DataFrame({\"pred\": pred.mean(axis=1)}),\n",
    "    ], axis=1)\n",
    "    \n",
    "    print(\"Done.\")\n",
    "    \n",
    "    return pred"
   ]
  },
  {
   "cell_type": "markdown",
   "id": "ecdf93fa",
   "metadata": {
    "papermill": {
     "duration": 0.107067,
     "end_time": "2022-05-01T11:26:57.776862",
     "exception": false,
     "start_time": "2022-05-01T11:26:57.669795",
     "status": "completed"
    },
    "tags": []
   },
   "source": [
    "#### スクリプト7-25: 推論処理の実行"
   ]
  },
  {
   "cell_type": "code",
   "execution_count": 25,
   "id": "32d355ba",
   "metadata": {
    "execution": {
     "iopub.execute_input": "2022-05-01T11:26:58.006293Z",
     "iopub.status.busy": "2022-05-01T11:26:58.005385Z",
     "iopub.status.idle": "2022-05-01T11:27:00.495280Z",
     "shell.execute_reply": "2022-05-01T11:27:00.494465Z"
    },
    "papermill": {
     "duration": 2.605278,
     "end_time": "2022-05-01T11:27:00.497844",
     "exception": false,
     "start_time": "2022-05-01T11:26:57.892566",
     "status": "completed"
    },
    "tags": []
   },
   "outputs": [
    {
     "name": "stdout",
     "output_type": "stream",
     "text": [
      "-------------------- 0 --------------------\n",
      "-------------------- 1 --------------------\n",
      "-------------------- 2 --------------------\n",
      "-------------------- 3 --------------------\n",
      "-------------------- 4 --------------------\n",
      "Done.\n"
     ]
    }
   ],
   "source": [
    "test_pred = predict_lgb(x_test,\n",
    "                        id_test,\n",
    "                        list_nfold=[0,1,2,3,4],\n",
    "                       )"
   ]
  },
  {
   "cell_type": "markdown",
   "id": "20bd4751",
   "metadata": {
    "papermill": {
     "duration": 0.114706,
     "end_time": "2022-05-01T11:27:00.725305",
     "exception": false,
     "start_time": "2022-05-01T11:27:00.610599",
     "status": "completed"
    },
    "tags": []
   },
   "source": [
    "#### スクリプト7-26: 提出ファイルの作成"
   ]
  },
  {
   "cell_type": "code",
   "execution_count": 26,
   "id": "be5c9660",
   "metadata": {
    "execution": {
     "iopub.execute_input": "2022-05-01T11:27:00.950870Z",
     "iopub.status.busy": "2022-05-01T11:27:00.950319Z",
     "iopub.status.idle": "2022-05-01T11:27:01.143874Z",
     "shell.execute_reply": "2022-05-01T11:27:01.142874Z"
    },
    "papermill": {
     "duration": 0.312005,
     "end_time": "2022-05-01T11:27:01.146631",
     "exception": false,
     "start_time": "2022-05-01T11:27:00.834626",
     "status": "completed"
    },
    "tags": []
   },
   "outputs": [
    {
     "name": "stdout",
     "output_type": "stream",
     "text": [
      "(48744, 2)\n"
     ]
    },
    {
     "data": {
      "text/html": [
       "<div>\n",
       "<style scoped>\n",
       "    .dataframe tbody tr th:only-of-type {\n",
       "        vertical-align: middle;\n",
       "    }\n",
       "\n",
       "    .dataframe tbody tr th {\n",
       "        vertical-align: top;\n",
       "    }\n",
       "\n",
       "    .dataframe thead th {\n",
       "        text-align: right;\n",
       "    }\n",
       "</style>\n",
       "<table border=\"1\" class=\"dataframe\">\n",
       "  <thead>\n",
       "    <tr style=\"text-align: right;\">\n",
       "      <th></th>\n",
       "      <th>SK_ID_CURR</th>\n",
       "      <th>TARGET</th>\n",
       "    </tr>\n",
       "  </thead>\n",
       "  <tbody>\n",
       "    <tr>\n",
       "      <th>0</th>\n",
       "      <td>100001</td>\n",
       "      <td>0.041810</td>\n",
       "    </tr>\n",
       "    <tr>\n",
       "      <th>1</th>\n",
       "      <td>100005</td>\n",
       "      <td>0.126400</td>\n",
       "    </tr>\n",
       "    <tr>\n",
       "      <th>2</th>\n",
       "      <td>100013</td>\n",
       "      <td>0.022495</td>\n",
       "    </tr>\n",
       "    <tr>\n",
       "      <th>3</th>\n",
       "      <td>100028</td>\n",
       "      <td>0.039680</td>\n",
       "    </tr>\n",
       "    <tr>\n",
       "      <th>4</th>\n",
       "      <td>100038</td>\n",
       "      <td>0.156628</td>\n",
       "    </tr>\n",
       "  </tbody>\n",
       "</table>\n",
       "</div>"
      ],
      "text/plain": [
       "   SK_ID_CURR    TARGET\n",
       "0      100001  0.041810\n",
       "1      100005  0.126400\n",
       "2      100013  0.022495\n",
       "3      100028  0.039680\n",
       "4      100038  0.156628"
      ]
     },
     "metadata": {},
     "output_type": "display_data"
    }
   ],
   "source": [
    "df_submit = test_pred.rename(columns={\"pred\":\"TARGET\"})\n",
    "print(df_submit.shape)\n",
    "display(df_submit.head())\n",
    "\n",
    "# ファイル出力\n",
    "df_submit.to_csv(\"submission_baseline.csv\", index=None)"
   ]
  },
  {
   "cell_type": "markdown",
   "id": "67f297a5",
   "metadata": {
    "papermill": {
     "duration": 0.110437,
     "end_time": "2022-05-01T11:27:01.386007",
     "exception": false,
     "start_time": "2022-05-01T11:27:01.275570",
     "status": "completed"
    },
    "tags": []
   },
   "source": [
    "# 7.4 特徴量エンジニアリング\n",
    "## 7.4.1 特徴量エンジニアリング: application_train.csv"
   ]
  },
  {
   "cell_type": "markdown",
   "id": "8e15e09f",
   "metadata": {
    "papermill": {
     "duration": 0.11214,
     "end_time": "2022-05-01T11:27:01.608941",
     "exception": false,
     "start_time": "2022-05-01T11:27:01.496801",
     "status": "completed"
    },
    "tags": []
   },
   "source": [
    "#### スクリプト7-27: データの確認"
   ]
  },
  {
   "cell_type": "code",
   "execution_count": 27,
   "id": "ae167847",
   "metadata": {
    "execution": {
     "iopub.execute_input": "2022-05-01T11:27:01.831095Z",
     "iopub.status.busy": "2022-05-01T11:27:01.830555Z",
     "iopub.status.idle": "2022-05-01T11:27:01.845079Z",
     "shell.execute_reply": "2022-05-01T11:27:01.844203Z"
    },
    "papermill": {
     "duration": 0.12863,
     "end_time": "2022-05-01T11:27:01.846983",
     "exception": false,
     "start_time": "2022-05-01T11:27:01.718353",
     "status": "completed"
    },
    "tags": []
   },
   "outputs": [
    {
     "data": {
      "text/plain": [
       " 365243    55374\n",
       "-200         156\n",
       "-224         152\n",
       "-230         151\n",
       "-199         151\n",
       "           ...  \n",
       "-13961         1\n",
       "-11827         1\n",
       "-10176         1\n",
       "-9459          1\n",
       "-8694          1\n",
       "Name: DAYS_EMPLOYED, Length: 12574, dtype: int64"
      ]
     },
     "metadata": {},
     "output_type": "display_data"
    },
    {
     "name": "stdout",
     "output_type": "stream",
     "text": [
      "正の値の割合: 0.1801\n",
      "正の値の個数: 55374\n"
     ]
    }
   ],
   "source": [
    "display(application_train[\"DAYS_EMPLOYED\"].value_counts())\n",
    "print(\"正の値の割合: {:.4f}\".format((application_train[\"DAYS_EMPLOYED\"]>0).mean()))\n",
    "print(\"正の値の個数: {}\".format((application_train[\"DAYS_EMPLOYED\"]>0).sum()))\n",
    "# -> 正の値が18%。しかもすべて8割が365243と同一値。働き始めてからの日数をマイナス表記しているためこれは欠損と判断。"
   ]
  },
  {
   "cell_type": "markdown",
   "id": "ff104639",
   "metadata": {
    "papermill": {
     "duration": 0.111319,
     "end_time": "2022-05-01T11:27:02.072922",
     "exception": false,
     "start_time": "2022-05-01T11:27:01.961603",
     "status": "completed"
    },
    "tags": []
   },
   "source": [
    "#### スクリプト7-28: 欠損値の対処（nullに変換）"
   ]
  },
  {
   "cell_type": "code",
   "execution_count": 28,
   "id": "cd74165a",
   "metadata": {
    "execution": {
     "iopub.execute_input": "2022-05-01T11:27:02.318512Z",
     "iopub.status.busy": "2022-05-01T11:27:02.318212Z",
     "iopub.status.idle": "2022-05-01T11:27:02.326796Z",
     "shell.execute_reply": "2022-05-01T11:27:02.325940Z"
    },
    "papermill": {
     "duration": 0.141363,
     "end_time": "2022-05-01T11:27:02.329070",
     "exception": false,
     "start_time": "2022-05-01T11:27:02.187707",
     "status": "completed"
    },
    "tags": []
   },
   "outputs": [],
   "source": [
    "application_train[\"DAYS_EMPLOYED\"] = application_train[\"DAYS_EMPLOYED\"].replace(365243, np.nan)"
   ]
  },
  {
   "cell_type": "markdown",
   "id": "73fcde5b",
   "metadata": {
    "papermill": {
     "duration": 0.118062,
     "end_time": "2022-05-01T11:27:02.563285",
     "exception": false,
     "start_time": "2022-05-01T11:27:02.445223",
     "status": "completed"
    },
    "tags": []
   },
   "source": [
    "#### スクリプト7-29: 仮説に基づく特徴量生成"
   ]
  },
  {
   "cell_type": "code",
   "execution_count": 29,
   "id": "7c9c5d0c",
   "metadata": {
    "execution": {
     "iopub.execute_input": "2022-05-01T11:27:02.790802Z",
     "iopub.status.busy": "2022-05-01T11:27:02.790532Z",
     "iopub.status.idle": "2022-05-01T11:27:03.084152Z",
     "shell.execute_reply": "2022-05-01T11:27:03.083461Z"
    },
    "papermill": {
     "duration": 0.40869,
     "end_time": "2022-05-01T11:27:03.086406",
     "exception": false,
     "start_time": "2022-05-01T11:27:02.677716",
     "status": "completed"
    },
    "tags": []
   },
   "outputs": [],
   "source": [
    "# 特徴量1: 総所得金額を世帯人数で割った値\n",
    "application_train['INCOME_div_PERSON'] = application_train['AMT_INCOME_TOTAL'] / application_train['CNT_FAM_MEMBERS']\n",
    "\n",
    "# 特徴量2: 総所得金額を就労期間で割った値\n",
    "application_train['INCOME_div_EMPLOYED'] = application_train['AMT_INCOME_TOTAL'] / application_train['DAYS_EMPLOYED']\n",
    "\n",
    "# 特徴量3: 外部スコアの平均値など\n",
    "application_train[\"EXT_SOURCE_mean\"] = application_train[[\"EXT_SOURCE_1\", \"EXT_SOURCE_2\", \"EXT_SOURCE_3\"]].mean(axis=1)\n",
    "application_train[\"EXT_SOURCE_max\"] = application_train[[\"EXT_SOURCE_1\", \"EXT_SOURCE_2\", \"EXT_SOURCE_3\"]].max(axis=1)\n",
    "application_train[\"EXT_SOURCE_min\"] = application_train[[\"EXT_SOURCE_1\", \"EXT_SOURCE_2\", \"EXT_SOURCE_3\"]].min(axis=1)\n",
    "application_train[\"EXT_SOURCE_std\"] = application_train[[\"EXT_SOURCE_1\", \"EXT_SOURCE_2\", \"EXT_SOURCE_3\"]].std(axis=1)\n",
    "application_train[\"EXT_SOURCE_count\"] = application_train[[\"EXT_SOURCE_1\", \"EXT_SOURCE_2\", \"EXT_SOURCE_3\"]].notnull().sum(axis=1)\n",
    "\n",
    "# 特徴量4: 就労期間を年齢で割った値 (年齢に占める就労期間の割合)\n",
    "application_train['DAYS_EMPLOYED_div_BIRTH'] = application_train['DAYS_EMPLOYED'] / application_train['DAYS_BIRTH']\n",
    "\n",
    "# 特徴量5: 年金支払額を所得金額で割った値\n",
    "application_train['ANNUITY_div_INCOME'] = application_train['AMT_ANNUITY'] / application_train['AMT_INCOME_TOTAL']\n",
    "\n",
    "# 特徴量6: 年金支払額を借入金で割った値\n",
    "application_train['ANNUITY_div_CREDIT'] = application_train['AMT_ANNUITY'] / application_train['AMT_CREDIT']"
   ]
  },
  {
   "cell_type": "markdown",
   "id": "7d579406",
   "metadata": {
    "papermill": {
     "duration": 0.113109,
     "end_time": "2022-05-01T11:27:03.312463",
     "exception": false,
     "start_time": "2022-05-01T11:27:03.199354",
     "status": "completed"
    },
    "tags": []
   },
   "source": [
    "#### スクリプト7-30: データセットの作成"
   ]
  },
  {
   "cell_type": "code",
   "execution_count": 30,
   "id": "e5b54809",
   "metadata": {
    "execution": {
     "iopub.execute_input": "2022-05-01T11:27:03.567180Z",
     "iopub.status.busy": "2022-05-01T11:27:03.566525Z",
     "iopub.status.idle": "2022-05-01T11:27:04.398322Z",
     "shell.execute_reply": "2022-05-01T11:27:04.397422Z"
    },
    "papermill": {
     "duration": 0.974711,
     "end_time": "2022-05-01T11:27:04.400895",
     "exception": false,
     "start_time": "2022-05-01T11:27:03.426184",
     "status": "completed"
    },
    "tags": []
   },
   "outputs": [],
   "source": [
    "x_train = application_train.drop(columns=[\"TARGET\", \"SK_ID_CURR\"])\n",
    "y_train = application_train[\"TARGET\"]\n",
    "id_train = application_train[[\"SK_ID_CURR\"]]\n",
    "\n",
    "for col in x_train.columns:\n",
    "    if x_train[col].dtype==\"O\":\n",
    "        x_train[col] = x_train[col].astype(\"category\")"
   ]
  },
  {
   "cell_type": "markdown",
   "id": "fde9b08f",
   "metadata": {
    "papermill": {
     "duration": 0.112528,
     "end_time": "2022-05-01T11:27:04.625194",
     "exception": false,
     "start_time": "2022-05-01T11:27:04.512666",
     "status": "completed"
    },
    "tags": []
   },
   "source": [
    "#### スクリプト7-31: モデル学習"
   ]
  },
  {
   "cell_type": "code",
   "execution_count": 31,
   "id": "df10780b",
   "metadata": {
    "execution": {
     "iopub.execute_input": "2022-05-01T11:27:04.852576Z",
     "iopub.status.busy": "2022-05-01T11:27:04.851974Z",
     "iopub.status.idle": "2022-05-01T11:30:38.836750Z",
     "shell.execute_reply": "2022-05-01T11:30:38.835665Z"
    },
    "papermill": {
     "duration": 214.102345,
     "end_time": "2022-05-01T11:30:38.839021",
     "exception": false,
     "start_time": "2022-05-01T11:27:04.736676",
     "status": "completed"
    },
    "tags": []
   },
   "outputs": [
    {
     "name": "stdout",
     "output_type": "stream",
     "text": [
      "-------------------- 0 --------------------\n",
      "(246008, 130) (61503, 130)\n",
      "[100]\ttraining's auc: 0.787817\tvalid_1's auc: 0.760032\n",
      "[200]\ttraining's auc: 0.816788\tvalid_1's auc: 0.763696\n",
      "[300]\ttraining's auc: 0.838351\tvalid_1's auc: 0.764008\n",
      "[400]\ttraining's auc: 0.856611\tvalid_1's auc: 0.764045\n",
      "[500]\ttraining's auc: 0.871304\tvalid_1's auc: 0.764075\n",
      "[auc] tr:0.8585, va:0.7641\n",
      "-------------------- 1 --------------------\n",
      "(246009, 130) (61502, 130)\n",
      "[100]\ttraining's auc: 0.788378\tvalid_1's auc: 0.763077\n",
      "[200]\ttraining's auc: 0.816816\tvalid_1's auc: 0.766784\n",
      "[300]\ttraining's auc: 0.838169\tvalid_1's auc: 0.767287\n",
      "[400]\ttraining's auc: 0.856163\tvalid_1's auc: 0.767434\n",
      "[auc] tr:0.8471, va:0.7675\n",
      "-------------------- 2 --------------------\n",
      "(246009, 130) (61502, 130)\n",
      "[100]\ttraining's auc: 0.787655\tvalid_1's auc: 0.764182\n",
      "[200]\ttraining's auc: 0.817121\tvalid_1's auc: 0.767566\n",
      "[300]\ttraining's auc: 0.837872\tvalid_1's auc: 0.767677\n",
      "[400]\ttraining's auc: 0.855451\tvalid_1's auc: 0.76783\n",
      "[auc] tr:0.8519, va:0.7679\n",
      "-------------------- 3 --------------------\n",
      "(246009, 130) (61502, 130)\n",
      "[100]\ttraining's auc: 0.787953\tvalid_1's auc: 0.760392\n",
      "[200]\ttraining's auc: 0.817633\tvalid_1's auc: 0.764592\n",
      "[300]\ttraining's auc: 0.839297\tvalid_1's auc: 0.765105\n",
      "[400]\ttraining's auc: 0.857683\tvalid_1's auc: 0.765196\n",
      "[500]\ttraining's auc: 0.87268\tvalid_1's auc: 0.765068\n",
      "[auc] tr:0.8691, va:0.7653\n",
      "-------------------- 4 --------------------\n",
      "(246009, 130) (61502, 130)\n",
      "[100]\ttraining's auc: 0.789624\tvalid_1's auc: 0.755497\n",
      "[200]\ttraining's auc: 0.818583\tvalid_1's auc: 0.759797\n",
      "[300]\ttraining's auc: 0.839186\tvalid_1's auc: 0.76041\n",
      "[400]\ttraining's auc: 0.856939\tvalid_1's auc: 0.760596\n",
      "[500]\ttraining's auc: 0.87149\tvalid_1's auc: 0.760603\n",
      "[auc] tr:0.8619, va:0.7608\n",
      "-------------------- result --------------------\n",
      "[[0.         0.85845312 0.76414814]\n",
      " [1.         0.8471186  0.76754005]\n",
      " [2.         0.85191008 0.76791531]\n",
      " [3.         0.86911764 0.76531788]\n",
      " [4.         0.86192285 0.76084707]]\n",
      "[cv] tr:0.8577+-0.0077, va:0.7652+-0.0026\n",
      "[oof] 0.7651\n"
     ]
    }
   ],
   "source": [
    "train_oof, imp, metrics = train_lgb(x_train,\n",
    "                                    y_train,\n",
    "                                    id_train,\n",
    "                                    params,\n",
    "                                    list_nfold=[0,1,2,3,4],\n",
    "                                    n_splits=5,\n",
    "                                   )"
   ]
  },
  {
   "cell_type": "markdown",
   "id": "d8cfef08",
   "metadata": {
    "papermill": {
     "duration": 0.128405,
     "end_time": "2022-05-01T11:30:39.094426",
     "exception": false,
     "start_time": "2022-05-01T11:30:38.966021",
     "status": "completed"
    },
    "tags": []
   },
   "source": [
    "#### スクリプト7-32: 説明変数の重要度の確認"
   ]
  },
  {
   "cell_type": "code",
   "execution_count": 32,
   "id": "49ca05d2",
   "metadata": {
    "execution": {
     "iopub.execute_input": "2022-05-01T11:30:39.344047Z",
     "iopub.status.busy": "2022-05-01T11:30:39.343740Z",
     "iopub.status.idle": "2022-05-01T11:30:39.357450Z",
     "shell.execute_reply": "2022-05-01T11:30:39.356643Z"
    },
    "papermill": {
     "duration": 0.141231,
     "end_time": "2022-05-01T11:30:39.359513",
     "exception": false,
     "start_time": "2022-05-01T11:30:39.218282",
     "status": "completed"
    },
    "tags": []
   },
   "outputs": [
    {
     "data": {
      "text/html": [
       "<div>\n",
       "<style scoped>\n",
       "    .dataframe tbody tr th:only-of-type {\n",
       "        vertical-align: middle;\n",
       "    }\n",
       "\n",
       "    .dataframe tbody tr th {\n",
       "        vertical-align: top;\n",
       "    }\n",
       "\n",
       "    .dataframe thead th {\n",
       "        text-align: right;\n",
       "    }\n",
       "</style>\n",
       "<table border=\"1\" class=\"dataframe\">\n",
       "  <thead>\n",
       "    <tr style=\"text-align: right;\">\n",
       "      <th></th>\n",
       "      <th>col</th>\n",
       "      <th>imp</th>\n",
       "      <th>imp_std</th>\n",
       "    </tr>\n",
       "  </thead>\n",
       "  <tbody>\n",
       "    <tr>\n",
       "      <th>44</th>\n",
       "      <td>EXT_SOURCE_mean</td>\n",
       "      <td>114005.214702</td>\n",
       "      <td>1381.645644</td>\n",
       "    </tr>\n",
       "    <tr>\n",
       "      <th>10</th>\n",
       "      <td>ANNUITY_div_CREDIT</td>\n",
       "      <td>23720.301550</td>\n",
       "      <td>805.397477</td>\n",
       "    </tr>\n",
       "    <tr>\n",
       "      <th>112</th>\n",
       "      <td>ORGANIZATION_TYPE</td>\n",
       "      <td>22660.210567</td>\n",
       "      <td>1372.230448</td>\n",
       "    </tr>\n",
       "    <tr>\n",
       "      <th>41</th>\n",
       "      <td>EXT_SOURCE_3</td>\n",
       "      <td>12046.854638</td>\n",
       "      <td>886.653726</td>\n",
       "    </tr>\n",
       "    <tr>\n",
       "      <th>24</th>\n",
       "      <td>DAYS_BIRTH</td>\n",
       "      <td>8108.684084</td>\n",
       "      <td>578.972393</td>\n",
       "    </tr>\n",
       "    <tr>\n",
       "      <th>45</th>\n",
       "      <td>EXT_SOURCE_min</td>\n",
       "      <td>7727.391587</td>\n",
       "      <td>314.203161</td>\n",
       "    </tr>\n",
       "    <tr>\n",
       "      <th>39</th>\n",
       "      <td>EXT_SOURCE_1</td>\n",
       "      <td>7155.619219</td>\n",
       "      <td>472.422492</td>\n",
       "    </tr>\n",
       "    <tr>\n",
       "      <th>2</th>\n",
       "      <td>AMT_GOODS_PRICE</td>\n",
       "      <td>6148.167858</td>\n",
       "      <td>364.159044</td>\n",
       "    </tr>\n",
       "    <tr>\n",
       "      <th>0</th>\n",
       "      <td>AMT_ANNUITY</td>\n",
       "      <td>6091.805210</td>\n",
       "      <td>581.987900</td>\n",
       "    </tr>\n",
       "    <tr>\n",
       "      <th>46</th>\n",
       "      <td>EXT_SOURCE_std</td>\n",
       "      <td>5830.390690</td>\n",
       "      <td>679.963947</td>\n",
       "    </tr>\n",
       "  </tbody>\n",
       "</table>\n",
       "</div>"
      ],
      "text/plain": [
       "                    col            imp      imp_std\n",
       "44      EXT_SOURCE_mean  114005.214702  1381.645644\n",
       "10   ANNUITY_div_CREDIT   23720.301550   805.397477\n",
       "112   ORGANIZATION_TYPE   22660.210567  1372.230448\n",
       "41         EXT_SOURCE_3   12046.854638   886.653726\n",
       "24           DAYS_BIRTH    8108.684084   578.972393\n",
       "45       EXT_SOURCE_min    7727.391587   314.203161\n",
       "39         EXT_SOURCE_1    7155.619219   472.422492\n",
       "2       AMT_GOODS_PRICE    6148.167858   364.159044\n",
       "0           AMT_ANNUITY    6091.805210   581.987900\n",
       "46       EXT_SOURCE_std    5830.390690   679.963947"
      ]
     },
     "execution_count": 32,
     "metadata": {},
     "output_type": "execute_result"
    }
   ],
   "source": [
    "imp.sort_values(\"imp\", ascending=False)[:10]"
   ]
  },
  {
   "cell_type": "markdown",
   "id": "261482c1",
   "metadata": {
    "papermill": {
     "duration": 0.123778,
     "end_time": "2022-05-01T11:30:39.606842",
     "exception": false,
     "start_time": "2022-05-01T11:30:39.483064",
     "status": "completed"
    },
    "tags": []
   },
   "source": [
    "#### スクリプト7-33: 推論用データのデータセット作成"
   ]
  },
  {
   "cell_type": "code",
   "execution_count": 33,
   "id": "817e8c75",
   "metadata": {
    "execution": {
     "iopub.execute_input": "2022-05-01T11:30:39.859599Z",
     "iopub.status.busy": "2022-05-01T11:30:39.858712Z",
     "iopub.status.idle": "2022-05-01T11:30:40.077800Z",
     "shell.execute_reply": "2022-05-01T11:30:40.076679Z"
    },
    "papermill": {
     "duration": 0.349718,
     "end_time": "2022-05-01T11:30:40.080266",
     "exception": false,
     "start_time": "2022-05-01T11:30:39.730548",
     "status": "completed"
    },
    "tags": []
   },
   "outputs": [],
   "source": [
    "# nullに置き換え\n",
    "application_test[\"DAYS_EMPLOYED\"] = application_test[\"DAYS_EMPLOYED\"].replace(365243, np.nan)\n",
    "\n",
    "# 特徴量の生成\n",
    "application_test['INCOME_div_PERSON'] = application_test['AMT_INCOME_TOTAL'] / application_test['CNT_FAM_MEMBERS']\n",
    "application_test['INCOME_div_EMPLOYED'] = application_test['AMT_INCOME_TOTAL'] / application_test['DAYS_EMPLOYED']\n",
    "application_test[\"EXT_SOURCE_mean\"] = application_test[[\"EXT_SOURCE_1\", \"EXT_SOURCE_2\", \"EXT_SOURCE_3\"]].mean(axis=1)\n",
    "application_test[\"EXT_SOURCE_max\"] = application_test[[\"EXT_SOURCE_1\", \"EXT_SOURCE_2\", \"EXT_SOURCE_3\"]].max(axis=1)\n",
    "application_test[\"EXT_SOURCE_min\"] = application_test[[\"EXT_SOURCE_1\", \"EXT_SOURCE_2\", \"EXT_SOURCE_3\"]].min(axis=1)\n",
    "application_test[\"EXT_SOURCE_std\"] = application_test[[\"EXT_SOURCE_1\", \"EXT_SOURCE_2\", \"EXT_SOURCE_3\"]].std(axis=1)\n",
    "application_test[\"EXT_SOURCE_count\"] = application_test[[\"EXT_SOURCE_1\", \"EXT_SOURCE_2\", \"EXT_SOURCE_3\"]].notnull().sum(axis=1)\n",
    "application_test['DAYS_EMPLOYED_div_BIRTH'] = application_test['DAYS_EMPLOYED'] / application_test['DAYS_BIRTH']\n",
    "application_test['ANNUITY_div_INCOME'] = application_test['AMT_ANNUITY'] / application_test['AMT_INCOME_TOTAL']\n",
    "application_test['ANNUITY_div_CREDIT'] = application_test['AMT_ANNUITY'] / application_test['AMT_CREDIT']\n",
    "\n",
    "# データセット作成\n",
    "x_test = application_test.drop(columns=[\"SK_ID_CURR\"])\n",
    "id_test = application_test[[\"SK_ID_CURR\"]]\n",
    "\n",
    "# カテゴリ変数をcategory型へ変換\n",
    "for col in x_test.columns:\n",
    "    if x_test[col].dtype==\"O\":\n",
    "        x_test[col] = x_test[col].astype(\"category\")\n"
   ]
  },
  {
   "cell_type": "markdown",
   "id": "853a4f05",
   "metadata": {
    "papermill": {
     "duration": 0.124269,
     "end_time": "2022-05-01T11:30:40.328528",
     "exception": false,
     "start_time": "2022-05-01T11:30:40.204259",
     "status": "completed"
    },
    "tags": []
   },
   "source": [
    "#### スクリプト7-34: 推論処理"
   ]
  },
  {
   "cell_type": "code",
   "execution_count": 34,
   "id": "102332ab",
   "metadata": {
    "execution": {
     "iopub.execute_input": "2022-05-01T11:30:40.580028Z",
     "iopub.status.busy": "2022-05-01T11:30:40.579147Z",
     "iopub.status.idle": "2022-05-01T11:30:44.046619Z",
     "shell.execute_reply": "2022-05-01T11:30:44.045960Z"
    },
    "papermill": {
     "duration": 3.595883,
     "end_time": "2022-05-01T11:30:44.049446",
     "exception": false,
     "start_time": "2022-05-01T11:30:40.453563",
     "status": "completed"
    },
    "tags": []
   },
   "outputs": [
    {
     "name": "stdout",
     "output_type": "stream",
     "text": [
      "-------------------- 0 --------------------\n",
      "-------------------- 1 --------------------\n",
      "-------------------- 2 --------------------\n",
      "-------------------- 3 --------------------\n",
      "-------------------- 4 --------------------\n",
      "Done.\n"
     ]
    }
   ],
   "source": [
    "test_pred = predict_lgb(x_test,\n",
    "                        id_test,\n",
    "                        list_nfold=[0,1,2,3,4],\n",
    "                       )"
   ]
  },
  {
   "cell_type": "markdown",
   "id": "623da284",
   "metadata": {
    "papermill": {
     "duration": 0.130423,
     "end_time": "2022-05-01T11:30:44.310421",
     "exception": false,
     "start_time": "2022-05-01T11:30:44.179998",
     "status": "completed"
    },
    "tags": []
   },
   "source": [
    "#### スクリプト7-35: 提出ファイルの作成"
   ]
  },
  {
   "cell_type": "code",
   "execution_count": 35,
   "id": "25156647",
   "metadata": {
    "execution": {
     "iopub.execute_input": "2022-05-01T11:30:44.567050Z",
     "iopub.status.busy": "2022-05-01T11:30:44.566671Z",
     "iopub.status.idle": "2022-05-01T11:30:44.748300Z",
     "shell.execute_reply": "2022-05-01T11:30:44.747415Z"
    },
    "papermill": {
     "duration": 0.312808,
     "end_time": "2022-05-01T11:30:44.750753",
     "exception": false,
     "start_time": "2022-05-01T11:30:44.437945",
     "status": "completed"
    },
    "tags": []
   },
   "outputs": [
    {
     "name": "stdout",
     "output_type": "stream",
     "text": [
      "(48744, 2)\n"
     ]
    },
    {
     "data": {
      "text/html": [
       "<div>\n",
       "<style scoped>\n",
       "    .dataframe tbody tr th:only-of-type {\n",
       "        vertical-align: middle;\n",
       "    }\n",
       "\n",
       "    .dataframe tbody tr th {\n",
       "        vertical-align: top;\n",
       "    }\n",
       "\n",
       "    .dataframe thead th {\n",
       "        text-align: right;\n",
       "    }\n",
       "</style>\n",
       "<table border=\"1\" class=\"dataframe\">\n",
       "  <thead>\n",
       "    <tr style=\"text-align: right;\">\n",
       "      <th></th>\n",
       "      <th>SK_ID_CURR</th>\n",
       "      <th>TARGET</th>\n",
       "    </tr>\n",
       "  </thead>\n",
       "  <tbody>\n",
       "    <tr>\n",
       "      <th>0</th>\n",
       "      <td>100001</td>\n",
       "      <td>0.029002</td>\n",
       "    </tr>\n",
       "    <tr>\n",
       "      <th>1</th>\n",
       "      <td>100005</td>\n",
       "      <td>0.121782</td>\n",
       "    </tr>\n",
       "    <tr>\n",
       "      <th>2</th>\n",
       "      <td>100013</td>\n",
       "      <td>0.022668</td>\n",
       "    </tr>\n",
       "    <tr>\n",
       "      <th>3</th>\n",
       "      <td>100028</td>\n",
       "      <td>0.044435</td>\n",
       "    </tr>\n",
       "    <tr>\n",
       "      <th>4</th>\n",
       "      <td>100038</td>\n",
       "      <td>0.181940</td>\n",
       "    </tr>\n",
       "  </tbody>\n",
       "</table>\n",
       "</div>"
      ],
      "text/plain": [
       "   SK_ID_CURR    TARGET\n",
       "0      100001  0.029002\n",
       "1      100005  0.121782\n",
       "2      100013  0.022668\n",
       "3      100028  0.044435\n",
       "4      100038  0.181940"
      ]
     },
     "metadata": {},
     "output_type": "display_data"
    }
   ],
   "source": [
    "df_submit = test_pred.rename(columns={\"pred\":\"TARGET\"})\n",
    "print(df_submit.shape)\n",
    "display(df_submit.head())\n",
    "df_submit.to_csv(\"submission_FeatureEngineering1.csv\", index=None)"
   ]
  },
  {
   "cell_type": "markdown",
   "id": "7d8e08e4",
   "metadata": {
    "papermill": {
     "duration": 0.126555,
     "end_time": "2022-05-01T11:30:45.007990",
     "exception": false,
     "start_time": "2022-05-01T11:30:44.881435",
     "status": "completed"
    },
    "tags": []
   },
   "source": [
    "## 7.4.2 特徴量エンジニアリング: POS_CASH_balance.csv"
   ]
  },
  {
   "cell_type": "markdown",
   "id": "acde56b1",
   "metadata": {
    "papermill": {
     "duration": 0.126491,
     "end_time": "2022-05-01T11:30:45.264294",
     "exception": false,
     "start_time": "2022-05-01T11:30:45.137803",
     "status": "completed"
    },
    "tags": []
   },
   "source": [
    "#### スクリプト7-36: ファイル読み込み"
   ]
  },
  {
   "cell_type": "code",
   "execution_count": 36,
   "id": "a40fec6e",
   "metadata": {
    "execution": {
     "iopub.execute_input": "2022-05-01T11:30:45.521101Z",
     "iopub.status.busy": "2022-05-01T11:30:45.520566Z",
     "iopub.status.idle": "2022-05-01T11:30:58.754600Z",
     "shell.execute_reply": "2022-05-01T11:30:58.752353Z"
    },
    "papermill": {
     "duration": 13.364502,
     "end_time": "2022-05-01T11:30:58.756605",
     "exception": false,
     "start_time": "2022-05-01T11:30:45.392103",
     "status": "completed"
    },
    "tags": []
   },
   "outputs": [
    {
     "name": "stdout",
     "output_type": "stream",
     "text": [
      "Memory usage of dataframe is 610.43 MB\n",
      "Memory usage after optimization is: 238.45 MB\n",
      "Decreased by 60.9%\n",
      "(10001358, 8)\n"
     ]
    },
    {
     "data": {
      "text/html": [
       "<div>\n",
       "<style scoped>\n",
       "    .dataframe tbody tr th:only-of-type {\n",
       "        vertical-align: middle;\n",
       "    }\n",
       "\n",
       "    .dataframe tbody tr th {\n",
       "        vertical-align: top;\n",
       "    }\n",
       "\n",
       "    .dataframe thead th {\n",
       "        text-align: right;\n",
       "    }\n",
       "</style>\n",
       "<table border=\"1\" class=\"dataframe\">\n",
       "  <thead>\n",
       "    <tr style=\"text-align: right;\">\n",
       "      <th></th>\n",
       "      <th>SK_ID_PREV</th>\n",
       "      <th>SK_ID_CURR</th>\n",
       "      <th>MONTHS_BALANCE</th>\n",
       "      <th>CNT_INSTALMENT</th>\n",
       "      <th>CNT_INSTALMENT_FUTURE</th>\n",
       "      <th>NAME_CONTRACT_STATUS</th>\n",
       "      <th>SK_DPD</th>\n",
       "      <th>SK_DPD_DEF</th>\n",
       "    </tr>\n",
       "  </thead>\n",
       "  <tbody>\n",
       "    <tr>\n",
       "      <th>0</th>\n",
       "      <td>1803195</td>\n",
       "      <td>182943</td>\n",
       "      <td>-31</td>\n",
       "      <td>48.0</td>\n",
       "      <td>45.0</td>\n",
       "      <td>Active</td>\n",
       "      <td>0</td>\n",
       "      <td>0</td>\n",
       "    </tr>\n",
       "    <tr>\n",
       "      <th>1</th>\n",
       "      <td>1715348</td>\n",
       "      <td>367990</td>\n",
       "      <td>-33</td>\n",
       "      <td>36.0</td>\n",
       "      <td>35.0</td>\n",
       "      <td>Active</td>\n",
       "      <td>0</td>\n",
       "      <td>0</td>\n",
       "    </tr>\n",
       "    <tr>\n",
       "      <th>2</th>\n",
       "      <td>1784872</td>\n",
       "      <td>397406</td>\n",
       "      <td>-32</td>\n",
       "      <td>12.0</td>\n",
       "      <td>9.0</td>\n",
       "      <td>Active</td>\n",
       "      <td>0</td>\n",
       "      <td>0</td>\n",
       "    </tr>\n",
       "    <tr>\n",
       "      <th>3</th>\n",
       "      <td>1903291</td>\n",
       "      <td>269225</td>\n",
       "      <td>-35</td>\n",
       "      <td>48.0</td>\n",
       "      <td>42.0</td>\n",
       "      <td>Active</td>\n",
       "      <td>0</td>\n",
       "      <td>0</td>\n",
       "    </tr>\n",
       "    <tr>\n",
       "      <th>4</th>\n",
       "      <td>2341044</td>\n",
       "      <td>334279</td>\n",
       "      <td>-35</td>\n",
       "      <td>36.0</td>\n",
       "      <td>35.0</td>\n",
       "      <td>Active</td>\n",
       "      <td>0</td>\n",
       "      <td>0</td>\n",
       "    </tr>\n",
       "  </tbody>\n",
       "</table>\n",
       "</div>"
      ],
      "text/plain": [
       "   SK_ID_PREV  SK_ID_CURR  MONTHS_BALANCE  CNT_INSTALMENT  \\\n",
       "0     1803195      182943             -31            48.0   \n",
       "1     1715348      367990             -33            36.0   \n",
       "2     1784872      397406             -32            12.0   \n",
       "3     1903291      269225             -35            48.0   \n",
       "4     2341044      334279             -35            36.0   \n",
       "\n",
       "   CNT_INSTALMENT_FUTURE NAME_CONTRACT_STATUS  SK_DPD  SK_DPD_DEF  \n",
       "0                   45.0               Active       0           0  \n",
       "1                   35.0               Active       0           0  \n",
       "2                    9.0               Active       0           0  \n",
       "3                   42.0               Active       0           0  \n",
       "4                   35.0               Active       0           0  "
      ]
     },
     "execution_count": 36,
     "metadata": {},
     "output_type": "execute_result"
    }
   ],
   "source": [
    "pos = pd.read_csv(\"../input/home-credit-default-risk/POS_CASH_balance.csv\")\n",
    "pos = reduce_mem_usage(pos)\n",
    "print(pos.shape)\n",
    "pos.head()"
   ]
  },
  {
   "cell_type": "markdown",
   "id": "767c4b36",
   "metadata": {
    "papermill": {
     "duration": 0.128707,
     "end_time": "2022-05-01T11:30:59.015356",
     "exception": false,
     "start_time": "2022-05-01T11:30:58.886649",
     "status": "completed"
    },
    "tags": []
   },
   "source": [
    "#### スクリプト7-37: ①カテゴリ変数をone-hot-encodingで数値に変換"
   ]
  },
  {
   "cell_type": "code",
   "execution_count": 37,
   "id": "d0d165c5",
   "metadata": {
    "execution": {
     "iopub.execute_input": "2022-05-01T11:30:59.273793Z",
     "iopub.status.busy": "2022-05-01T11:30:59.273179Z",
     "iopub.status.idle": "2022-05-01T11:31:01.261033Z",
     "shell.execute_reply": "2022-05-01T11:31:01.260190Z"
    },
    "papermill": {
     "duration": 2.119406,
     "end_time": "2022-05-01T11:31:01.263171",
     "exception": false,
     "start_time": "2022-05-01T11:30:59.143765",
     "status": "completed"
    },
    "tags": []
   },
   "outputs": [
    {
     "name": "stdout",
     "output_type": "stream",
     "text": [
      "10\n"
     ]
    },
    {
     "data": {
      "text/plain": [
       "['NAME_CONTRACT_STATUS_Active',\n",
       " 'NAME_CONTRACT_STATUS_Amortized debt',\n",
       " 'NAME_CONTRACT_STATUS_Approved',\n",
       " 'NAME_CONTRACT_STATUS_Canceled',\n",
       " 'NAME_CONTRACT_STATUS_Completed',\n",
       " 'NAME_CONTRACT_STATUS_Demand',\n",
       " 'NAME_CONTRACT_STATUS_Returned to the store',\n",
       " 'NAME_CONTRACT_STATUS_Signed',\n",
       " 'NAME_CONTRACT_STATUS_XNA',\n",
       " 'NAME_CONTRACT_STATUS_nan']"
      ]
     },
     "execution_count": 37,
     "metadata": {},
     "output_type": "execute_result"
    }
   ],
   "source": [
    "pos_ohe = pd.get_dummies(pos, columns=[\"NAME_CONTRACT_STATUS\"], dummy_na=True)\n",
    "col_ohe = sorted(list(set(pos_ohe.columns) - set(pos.columns)))\n",
    "print(len(col_ohe))\n",
    "col_ohe"
   ]
  },
  {
   "cell_type": "markdown",
   "id": "be76fd46",
   "metadata": {
    "papermill": {
     "duration": 0.128657,
     "end_time": "2022-05-01T11:31:01.523431",
     "exception": false,
     "start_time": "2022-05-01T11:31:01.394774",
     "status": "completed"
    },
    "tags": []
   },
   "source": [
    "#### スクリプト7-38: ②SK_ID_CURRをキーに集約処理"
   ]
  },
  {
   "cell_type": "code",
   "execution_count": 38,
   "id": "0aa4008f",
   "metadata": {
    "execution": {
     "iopub.execute_input": "2022-05-01T11:31:01.781242Z",
     "iopub.status.busy": "2022-05-01T11:31:01.780940Z",
     "iopub.status.idle": "2022-05-01T11:31:15.305533Z",
     "shell.execute_reply": "2022-05-01T11:31:15.304654Z"
    },
    "papermill": {
     "duration": 13.6563,
     "end_time": "2022-05-01T11:31:15.307656",
     "exception": false,
     "start_time": "2022-05-01T11:31:01.651356",
     "status": "completed"
    },
    "tags": []
   },
   "outputs": [
    {
     "name": "stdout",
     "output_type": "stream",
     "text": [
      "(337252, 33)\n"
     ]
    },
    {
     "data": {
      "text/html": [
       "<div>\n",
       "<style scoped>\n",
       "    .dataframe tbody tr th:only-of-type {\n",
       "        vertical-align: middle;\n",
       "    }\n",
       "\n",
       "    .dataframe tbody tr th {\n",
       "        vertical-align: top;\n",
       "    }\n",
       "\n",
       "    .dataframe thead th {\n",
       "        text-align: right;\n",
       "    }\n",
       "</style>\n",
       "<table border=\"1\" class=\"dataframe\">\n",
       "  <thead>\n",
       "    <tr style=\"text-align: right;\">\n",
       "      <th></th>\n",
       "      <th>SK_ID_CURR</th>\n",
       "      <th>MONTHS_BALANCE_mean</th>\n",
       "      <th>MONTHS_BALANCE_std</th>\n",
       "      <th>MONTHS_BALANCE_min</th>\n",
       "      <th>MONTHS_BALANCE_max</th>\n",
       "      <th>CNT_INSTALMENT_mean</th>\n",
       "      <th>CNT_INSTALMENT_std</th>\n",
       "      <th>CNT_INSTALMENT_min</th>\n",
       "      <th>CNT_INSTALMENT_max</th>\n",
       "      <th>CNT_INSTALMENT_FUTURE_mean</th>\n",
       "      <th>...</th>\n",
       "      <th>NAME_CONTRACT_STATUS_Approved_mean</th>\n",
       "      <th>NAME_CONTRACT_STATUS_Canceled_mean</th>\n",
       "      <th>NAME_CONTRACT_STATUS_Completed_mean</th>\n",
       "      <th>NAME_CONTRACT_STATUS_Demand_mean</th>\n",
       "      <th>NAME_CONTRACT_STATUS_Returned to the store_mean</th>\n",
       "      <th>NAME_CONTRACT_STATUS_Signed_mean</th>\n",
       "      <th>NAME_CONTRACT_STATUS_XNA_mean</th>\n",
       "      <th>NAME_CONTRACT_STATUS_nan_mean</th>\n",
       "      <th>SK_ID_PREV_count</th>\n",
       "      <th>SK_ID_PREV_nunique</th>\n",
       "    </tr>\n",
       "  </thead>\n",
       "  <tbody>\n",
       "    <tr>\n",
       "      <th>0</th>\n",
       "      <td>100001</td>\n",
       "      <td>-72.555556</td>\n",
       "      <td>20.863312</td>\n",
       "      <td>-96</td>\n",
       "      <td>-53</td>\n",
       "      <td>4.000000</td>\n",
       "      <td>0.000000</td>\n",
       "      <td>4.0</td>\n",
       "      <td>4.0</td>\n",
       "      <td>1.444336</td>\n",
       "      <td>...</td>\n",
       "      <td>0.0</td>\n",
       "      <td>0.0</td>\n",
       "      <td>0.222222</td>\n",
       "      <td>0.0</td>\n",
       "      <td>0.0</td>\n",
       "      <td>0.000000</td>\n",
       "      <td>0.0</td>\n",
       "      <td>0.0</td>\n",
       "      <td>9</td>\n",
       "      <td>2</td>\n",
       "    </tr>\n",
       "    <tr>\n",
       "      <th>1</th>\n",
       "      <td>100002</td>\n",
       "      <td>-10.000000</td>\n",
       "      <td>5.627314</td>\n",
       "      <td>-19</td>\n",
       "      <td>-1</td>\n",
       "      <td>24.000000</td>\n",
       "      <td>0.000000</td>\n",
       "      <td>24.0</td>\n",
       "      <td>24.0</td>\n",
       "      <td>15.000000</td>\n",
       "      <td>...</td>\n",
       "      <td>0.0</td>\n",
       "      <td>0.0</td>\n",
       "      <td>0.000000</td>\n",
       "      <td>0.0</td>\n",
       "      <td>0.0</td>\n",
       "      <td>0.000000</td>\n",
       "      <td>0.0</td>\n",
       "      <td>0.0</td>\n",
       "      <td>19</td>\n",
       "      <td>1</td>\n",
       "    </tr>\n",
       "    <tr>\n",
       "      <th>2</th>\n",
       "      <td>100003</td>\n",
       "      <td>-43.785714</td>\n",
       "      <td>24.640162</td>\n",
       "      <td>-77</td>\n",
       "      <td>-18</td>\n",
       "      <td>10.109375</td>\n",
       "      <td>2.806597</td>\n",
       "      <td>6.0</td>\n",
       "      <td>12.0</td>\n",
       "      <td>5.785156</td>\n",
       "      <td>...</td>\n",
       "      <td>0.0</td>\n",
       "      <td>0.0</td>\n",
       "      <td>0.071429</td>\n",
       "      <td>0.0</td>\n",
       "      <td>0.0</td>\n",
       "      <td>0.000000</td>\n",
       "      <td>0.0</td>\n",
       "      <td>0.0</td>\n",
       "      <td>28</td>\n",
       "      <td>3</td>\n",
       "    </tr>\n",
       "    <tr>\n",
       "      <th>3</th>\n",
       "      <td>100004</td>\n",
       "      <td>-25.500000</td>\n",
       "      <td>1.290994</td>\n",
       "      <td>-27</td>\n",
       "      <td>-24</td>\n",
       "      <td>3.750000</td>\n",
       "      <td>0.500000</td>\n",
       "      <td>3.0</td>\n",
       "      <td>4.0</td>\n",
       "      <td>2.250000</td>\n",
       "      <td>...</td>\n",
       "      <td>0.0</td>\n",
       "      <td>0.0</td>\n",
       "      <td>0.250000</td>\n",
       "      <td>0.0</td>\n",
       "      <td>0.0</td>\n",
       "      <td>0.000000</td>\n",
       "      <td>0.0</td>\n",
       "      <td>0.0</td>\n",
       "      <td>4</td>\n",
       "      <td>1</td>\n",
       "    </tr>\n",
       "    <tr>\n",
       "      <th>4</th>\n",
       "      <td>100005</td>\n",
       "      <td>-20.000000</td>\n",
       "      <td>3.316625</td>\n",
       "      <td>-25</td>\n",
       "      <td>-15</td>\n",
       "      <td>11.703125</td>\n",
       "      <td>0.948683</td>\n",
       "      <td>9.0</td>\n",
       "      <td>12.0</td>\n",
       "      <td>7.199219</td>\n",
       "      <td>...</td>\n",
       "      <td>0.0</td>\n",
       "      <td>0.0</td>\n",
       "      <td>0.090909</td>\n",
       "      <td>0.0</td>\n",
       "      <td>0.0</td>\n",
       "      <td>0.090909</td>\n",
       "      <td>0.0</td>\n",
       "      <td>0.0</td>\n",
       "      <td>11</td>\n",
       "      <td>1</td>\n",
       "    </tr>\n",
       "  </tbody>\n",
       "</table>\n",
       "<p>5 rows × 33 columns</p>\n",
       "</div>"
      ],
      "text/plain": [
       "   SK_ID_CURR  MONTHS_BALANCE_mean  MONTHS_BALANCE_std  MONTHS_BALANCE_min  \\\n",
       "0      100001           -72.555556           20.863312                 -96   \n",
       "1      100002           -10.000000            5.627314                 -19   \n",
       "2      100003           -43.785714           24.640162                 -77   \n",
       "3      100004           -25.500000            1.290994                 -27   \n",
       "4      100005           -20.000000            3.316625                 -25   \n",
       "\n",
       "   MONTHS_BALANCE_max  CNT_INSTALMENT_mean  CNT_INSTALMENT_std  \\\n",
       "0                 -53             4.000000            0.000000   \n",
       "1                  -1            24.000000            0.000000   \n",
       "2                 -18            10.109375            2.806597   \n",
       "3                 -24             3.750000            0.500000   \n",
       "4                 -15            11.703125            0.948683   \n",
       "\n",
       "   CNT_INSTALMENT_min  CNT_INSTALMENT_max  CNT_INSTALMENT_FUTURE_mean  ...  \\\n",
       "0                 4.0                 4.0                    1.444336  ...   \n",
       "1                24.0                24.0                   15.000000  ...   \n",
       "2                 6.0                12.0                    5.785156  ...   \n",
       "3                 3.0                 4.0                    2.250000  ...   \n",
       "4                 9.0                12.0                    7.199219  ...   \n",
       "\n",
       "   NAME_CONTRACT_STATUS_Approved_mean  NAME_CONTRACT_STATUS_Canceled_mean  \\\n",
       "0                                 0.0                                 0.0   \n",
       "1                                 0.0                                 0.0   \n",
       "2                                 0.0                                 0.0   \n",
       "3                                 0.0                                 0.0   \n",
       "4                                 0.0                                 0.0   \n",
       "\n",
       "   NAME_CONTRACT_STATUS_Completed_mean  NAME_CONTRACT_STATUS_Demand_mean  \\\n",
       "0                             0.222222                               0.0   \n",
       "1                             0.000000                               0.0   \n",
       "2                             0.071429                               0.0   \n",
       "3                             0.250000                               0.0   \n",
       "4                             0.090909                               0.0   \n",
       "\n",
       "   NAME_CONTRACT_STATUS_Returned to the store_mean  \\\n",
       "0                                              0.0   \n",
       "1                                              0.0   \n",
       "2                                              0.0   \n",
       "3                                              0.0   \n",
       "4                                              0.0   \n",
       "\n",
       "   NAME_CONTRACT_STATUS_Signed_mean  NAME_CONTRACT_STATUS_XNA_mean  \\\n",
       "0                          0.000000                            0.0   \n",
       "1                          0.000000                            0.0   \n",
       "2                          0.000000                            0.0   \n",
       "3                          0.000000                            0.0   \n",
       "4                          0.090909                            0.0   \n",
       "\n",
       "   NAME_CONTRACT_STATUS_nan_mean  SK_ID_PREV_count  SK_ID_PREV_nunique  \n",
       "0                            0.0                 9                   2  \n",
       "1                            0.0                19                   1  \n",
       "2                            0.0                28                   3  \n",
       "3                            0.0                 4                   1  \n",
       "4                            0.0                11                   1  \n",
       "\n",
       "[5 rows x 33 columns]"
      ]
     },
     "execution_count": 38,
     "metadata": {},
     "output_type": "execute_result"
    }
   ],
   "source": [
    "pos_ohe_agg = pos_ohe.groupby(\"SK_ID_CURR\").agg(\n",
    "    {\n",
    "        # 数値の集約\n",
    "        \"MONTHS_BALANCE\": [\"mean\", \"std\", \"min\", \"max\"],\n",
    "        \"CNT_INSTALMENT\": [\"mean\", \"std\", \"min\", \"max\"],\n",
    "        \"CNT_INSTALMENT_FUTURE\": [\"mean\", \"std\", \"min\", \"max\"],\n",
    "        \"SK_DPD\": [\"mean\", \"std\", \"min\", \"max\"],\n",
    "        \"SK_DPD_DEF\": [\"mean\", \"std\", \"min\", \"max\"],\n",
    "        # カテゴリ変数をone-hot-encodingした値の集約\n",
    "        \"NAME_CONTRACT_STATUS_Active\": [\"mean\"],\n",
    "        \"NAME_CONTRACT_STATUS_Amortized debt\": [\"mean\"],\n",
    "        \"NAME_CONTRACT_STATUS_Approved\": [\"mean\"],\n",
    "        \"NAME_CONTRACT_STATUS_Canceled\": [\"mean\"],\n",
    "        \"NAME_CONTRACT_STATUS_Completed\": [\"mean\"],\n",
    "        \"NAME_CONTRACT_STATUS_Demand\": [\"mean\"],\n",
    "        \"NAME_CONTRACT_STATUS_Returned to the store\": [\"mean\"],\n",
    "        \"NAME_CONTRACT_STATUS_Signed\": [\"mean\"],\n",
    "        \"NAME_CONTRACT_STATUS_XNA\": [\"mean\"],\n",
    "        \"NAME_CONTRACT_STATUS_nan\": [\"mean\"],\n",
    "        # IDのユニーク数をカウント (ついでにレコード数もカウント)\n",
    "        \"SK_ID_PREV\":[\"count\", \"nunique\"],\n",
    "    }\n",
    ")\n",
    "\n",
    "# カラム名の付与\n",
    "pos_ohe_agg.columns = [i + \"_\" + j for i,j in pos_ohe_agg.columns]\n",
    "pos_ohe_agg = pos_ohe_agg.reset_index(drop=False)\n",
    "\n",
    "print(pos_ohe_agg.shape)\n",
    "pos_ohe_agg.head()"
   ]
  },
  {
   "cell_type": "markdown",
   "id": "271833dd",
   "metadata": {
    "papermill": {
     "duration": 0.130064,
     "end_time": "2022-05-01T11:31:15.568260",
     "exception": false,
     "start_time": "2022-05-01T11:31:15.438196",
     "status": "completed"
    },
    "tags": []
   },
   "source": [
    "#### スクリプト7-39: ③SK_ID_CURRをキーにして結合"
   ]
  },
  {
   "cell_type": "code",
   "execution_count": 39,
   "id": "33581bef",
   "metadata": {
    "execution": {
     "iopub.execute_input": "2022-05-01T11:31:15.831479Z",
     "iopub.status.busy": "2022-05-01T11:31:15.831171Z",
     "iopub.status.idle": "2022-05-01T11:31:18.240166Z",
     "shell.execute_reply": "2022-05-01T11:31:18.239462Z"
    },
    "papermill": {
     "duration": 2.544773,
     "end_time": "2022-05-01T11:31:18.242604",
     "exception": false,
     "start_time": "2022-05-01T11:31:15.697831",
     "status": "completed"
    },
    "tags": []
   },
   "outputs": [
    {
     "name": "stdout",
     "output_type": "stream",
     "text": [
      "(307511, 164)\n"
     ]
    },
    {
     "data": {
      "text/html": [
       "<div>\n",
       "<style scoped>\n",
       "    .dataframe tbody tr th:only-of-type {\n",
       "        vertical-align: middle;\n",
       "    }\n",
       "\n",
       "    .dataframe tbody tr th {\n",
       "        vertical-align: top;\n",
       "    }\n",
       "\n",
       "    .dataframe thead th {\n",
       "        text-align: right;\n",
       "    }\n",
       "</style>\n",
       "<table border=\"1\" class=\"dataframe\">\n",
       "  <thead>\n",
       "    <tr style=\"text-align: right;\">\n",
       "      <th></th>\n",
       "      <th>SK_ID_CURR</th>\n",
       "      <th>TARGET</th>\n",
       "      <th>NAME_CONTRACT_TYPE</th>\n",
       "      <th>CODE_GENDER</th>\n",
       "      <th>FLAG_OWN_CAR</th>\n",
       "      <th>FLAG_OWN_REALTY</th>\n",
       "      <th>CNT_CHILDREN</th>\n",
       "      <th>AMT_INCOME_TOTAL</th>\n",
       "      <th>AMT_CREDIT</th>\n",
       "      <th>AMT_ANNUITY</th>\n",
       "      <th>...</th>\n",
       "      <th>NAME_CONTRACT_STATUS_Approved_mean</th>\n",
       "      <th>NAME_CONTRACT_STATUS_Canceled_mean</th>\n",
       "      <th>NAME_CONTRACT_STATUS_Completed_mean</th>\n",
       "      <th>NAME_CONTRACT_STATUS_Demand_mean</th>\n",
       "      <th>NAME_CONTRACT_STATUS_Returned to the store_mean</th>\n",
       "      <th>NAME_CONTRACT_STATUS_Signed_mean</th>\n",
       "      <th>NAME_CONTRACT_STATUS_XNA_mean</th>\n",
       "      <th>NAME_CONTRACT_STATUS_nan_mean</th>\n",
       "      <th>SK_ID_PREV_count</th>\n",
       "      <th>SK_ID_PREV_nunique</th>\n",
       "    </tr>\n",
       "  </thead>\n",
       "  <tbody>\n",
       "    <tr>\n",
       "      <th>0</th>\n",
       "      <td>100002</td>\n",
       "      <td>1</td>\n",
       "      <td>Cash loans</td>\n",
       "      <td>M</td>\n",
       "      <td>N</td>\n",
       "      <td>Y</td>\n",
       "      <td>0</td>\n",
       "      <td>202500.0</td>\n",
       "      <td>406597.5</td>\n",
       "      <td>24700.5</td>\n",
       "      <td>...</td>\n",
       "      <td>0.0</td>\n",
       "      <td>0.0</td>\n",
       "      <td>0.000000</td>\n",
       "      <td>0.0</td>\n",
       "      <td>0.000000</td>\n",
       "      <td>0.000000</td>\n",
       "      <td>0.0</td>\n",
       "      <td>0.0</td>\n",
       "      <td>19.0</td>\n",
       "      <td>1.0</td>\n",
       "    </tr>\n",
       "    <tr>\n",
       "      <th>1</th>\n",
       "      <td>100003</td>\n",
       "      <td>0</td>\n",
       "      <td>Cash loans</td>\n",
       "      <td>F</td>\n",
       "      <td>N</td>\n",
       "      <td>N</td>\n",
       "      <td>0</td>\n",
       "      <td>270000.0</td>\n",
       "      <td>1293502.5</td>\n",
       "      <td>35698.5</td>\n",
       "      <td>...</td>\n",
       "      <td>0.0</td>\n",
       "      <td>0.0</td>\n",
       "      <td>0.071429</td>\n",
       "      <td>0.0</td>\n",
       "      <td>0.000000</td>\n",
       "      <td>0.000000</td>\n",
       "      <td>0.0</td>\n",
       "      <td>0.0</td>\n",
       "      <td>28.0</td>\n",
       "      <td>3.0</td>\n",
       "    </tr>\n",
       "    <tr>\n",
       "      <th>2</th>\n",
       "      <td>100004</td>\n",
       "      <td>0</td>\n",
       "      <td>Revolving loans</td>\n",
       "      <td>M</td>\n",
       "      <td>Y</td>\n",
       "      <td>Y</td>\n",
       "      <td>0</td>\n",
       "      <td>67500.0</td>\n",
       "      <td>135000.0</td>\n",
       "      <td>6750.0</td>\n",
       "      <td>...</td>\n",
       "      <td>0.0</td>\n",
       "      <td>0.0</td>\n",
       "      <td>0.250000</td>\n",
       "      <td>0.0</td>\n",
       "      <td>0.000000</td>\n",
       "      <td>0.000000</td>\n",
       "      <td>0.0</td>\n",
       "      <td>0.0</td>\n",
       "      <td>4.0</td>\n",
       "      <td>1.0</td>\n",
       "    </tr>\n",
       "    <tr>\n",
       "      <th>3</th>\n",
       "      <td>100006</td>\n",
       "      <td>0</td>\n",
       "      <td>Cash loans</td>\n",
       "      <td>F</td>\n",
       "      <td>N</td>\n",
       "      <td>Y</td>\n",
       "      <td>0</td>\n",
       "      <td>135000.0</td>\n",
       "      <td>312682.5</td>\n",
       "      <td>29686.5</td>\n",
       "      <td>...</td>\n",
       "      <td>0.0</td>\n",
       "      <td>0.0</td>\n",
       "      <td>0.095238</td>\n",
       "      <td>0.0</td>\n",
       "      <td>0.047619</td>\n",
       "      <td>0.000000</td>\n",
       "      <td>0.0</td>\n",
       "      <td>0.0</td>\n",
       "      <td>21.0</td>\n",
       "      <td>3.0</td>\n",
       "    </tr>\n",
       "    <tr>\n",
       "      <th>4</th>\n",
       "      <td>100007</td>\n",
       "      <td>0</td>\n",
       "      <td>Cash loans</td>\n",
       "      <td>M</td>\n",
       "      <td>N</td>\n",
       "      <td>Y</td>\n",
       "      <td>0</td>\n",
       "      <td>121500.0</td>\n",
       "      <td>513000.0</td>\n",
       "      <td>21865.5</td>\n",
       "      <td>...</td>\n",
       "      <td>0.0</td>\n",
       "      <td>0.0</td>\n",
       "      <td>0.045455</td>\n",
       "      <td>0.0</td>\n",
       "      <td>0.000000</td>\n",
       "      <td>0.015152</td>\n",
       "      <td>0.0</td>\n",
       "      <td>0.0</td>\n",
       "      <td>66.0</td>\n",
       "      <td>5.0</td>\n",
       "    </tr>\n",
       "  </tbody>\n",
       "</table>\n",
       "<p>5 rows × 164 columns</p>\n",
       "</div>"
      ],
      "text/plain": [
       "   SK_ID_CURR  TARGET NAME_CONTRACT_TYPE CODE_GENDER FLAG_OWN_CAR  \\\n",
       "0      100002       1         Cash loans           M            N   \n",
       "1      100003       0         Cash loans           F            N   \n",
       "2      100004       0    Revolving loans           M            Y   \n",
       "3      100006       0         Cash loans           F            N   \n",
       "4      100007       0         Cash loans           M            N   \n",
       "\n",
       "  FLAG_OWN_REALTY  CNT_CHILDREN  AMT_INCOME_TOTAL  AMT_CREDIT  AMT_ANNUITY  \\\n",
       "0               Y             0          202500.0    406597.5      24700.5   \n",
       "1               N             0          270000.0   1293502.5      35698.5   \n",
       "2               Y             0           67500.0    135000.0       6750.0   \n",
       "3               Y             0          135000.0    312682.5      29686.5   \n",
       "4               Y             0          121500.0    513000.0      21865.5   \n",
       "\n",
       "   ...  NAME_CONTRACT_STATUS_Approved_mean NAME_CONTRACT_STATUS_Canceled_mean  \\\n",
       "0  ...                                 0.0                                0.0   \n",
       "1  ...                                 0.0                                0.0   \n",
       "2  ...                                 0.0                                0.0   \n",
       "3  ...                                 0.0                                0.0   \n",
       "4  ...                                 0.0                                0.0   \n",
       "\n",
       "  NAME_CONTRACT_STATUS_Completed_mean NAME_CONTRACT_STATUS_Demand_mean  \\\n",
       "0                            0.000000                              0.0   \n",
       "1                            0.071429                              0.0   \n",
       "2                            0.250000                              0.0   \n",
       "3                            0.095238                              0.0   \n",
       "4                            0.045455                              0.0   \n",
       "\n",
       "  NAME_CONTRACT_STATUS_Returned to the store_mean  \\\n",
       "0                                        0.000000   \n",
       "1                                        0.000000   \n",
       "2                                        0.000000   \n",
       "3                                        0.047619   \n",
       "4                                        0.000000   \n",
       "\n",
       "  NAME_CONTRACT_STATUS_Signed_mean  NAME_CONTRACT_STATUS_XNA_mean  \\\n",
       "0                         0.000000                            0.0   \n",
       "1                         0.000000                            0.0   \n",
       "2                         0.000000                            0.0   \n",
       "3                         0.000000                            0.0   \n",
       "4                         0.015152                            0.0   \n",
       "\n",
       "   NAME_CONTRACT_STATUS_nan_mean  SK_ID_PREV_count  SK_ID_PREV_nunique  \n",
       "0                            0.0              19.0                 1.0  \n",
       "1                            0.0              28.0                 3.0  \n",
       "2                            0.0               4.0                 1.0  \n",
       "3                            0.0              21.0                 3.0  \n",
       "4                            0.0              66.0                 5.0  \n",
       "\n",
       "[5 rows x 164 columns]"
      ]
     },
     "execution_count": 39,
     "metadata": {},
     "output_type": "execute_result"
    }
   ],
   "source": [
    "df_train = pd.merge(application_train, pos_ohe_agg, on=\"SK_ID_CURR\", how=\"left\")\n",
    "print(df_train.shape)\n",
    "df_train.head()"
   ]
  },
  {
   "cell_type": "markdown",
   "id": "84c51d99",
   "metadata": {
    "papermill": {
     "duration": 0.131253,
     "end_time": "2022-05-01T11:31:18.506874",
     "exception": false,
     "start_time": "2022-05-01T11:31:18.375621",
     "status": "completed"
    },
    "tags": []
   },
   "source": [
    "#### スクリプト7-40: データセット作成"
   ]
  },
  {
   "cell_type": "code",
   "execution_count": 40,
   "id": "7d96a711",
   "metadata": {
    "execution": {
     "iopub.execute_input": "2022-05-01T11:31:18.771678Z",
     "iopub.status.busy": "2022-05-01T11:31:18.770853Z",
     "iopub.status.idle": "2022-05-01T11:31:19.936006Z",
     "shell.execute_reply": "2022-05-01T11:31:19.935195Z"
    },
    "papermill": {
     "duration": 1.300659,
     "end_time": "2022-05-01T11:31:19.938531",
     "exception": false,
     "start_time": "2022-05-01T11:31:18.637872",
     "status": "completed"
    },
    "tags": []
   },
   "outputs": [],
   "source": [
    "x_train = df_train.drop(columns=[\"TARGET\", \"SK_ID_CURR\"])\n",
    "y_train = df_train[\"TARGET\"]\n",
    "id_train = df_train[[\"SK_ID_CURR\"]]\n",
    "\n",
    "for col in x_train.columns:\n",
    "    if x_train[col].dtype==\"O\":\n",
    "        x_train[col] = x_train[col].astype(\"category\")"
   ]
  },
  {
   "cell_type": "markdown",
   "id": "25e44649",
   "metadata": {
    "papermill": {
     "duration": 0.131185,
     "end_time": "2022-05-01T11:31:20.202247",
     "exception": false,
     "start_time": "2022-05-01T11:31:20.071062",
     "status": "completed"
    },
    "tags": []
   },
   "source": [
    "#### スクリプト7-41: モデル学習"
   ]
  },
  {
   "cell_type": "code",
   "execution_count": 41,
   "id": "eddd96a5",
   "metadata": {
    "execution": {
     "iopub.execute_input": "2022-05-01T11:31:20.468525Z",
     "iopub.status.busy": "2022-05-01T11:31:20.467933Z",
     "iopub.status.idle": "2022-05-01T11:35:06.319460Z",
     "shell.execute_reply": "2022-05-01T11:35:06.318483Z"
    },
    "papermill": {
     "duration": 226.129661,
     "end_time": "2022-05-01T11:35:06.464703",
     "exception": false,
     "start_time": "2022-05-01T11:31:20.335042",
     "status": "completed"
    },
    "tags": []
   },
   "outputs": [
    {
     "name": "stdout",
     "output_type": "stream",
     "text": [
      "-------------------- 0 --------------------\n",
      "(246008, 162) (61503, 162)\n",
      "[100]\ttraining's auc: 0.794548\tvalid_1's auc: 0.76534\n",
      "[200]\ttraining's auc: 0.825571\tvalid_1's auc: 0.77062\n",
      "[300]\ttraining's auc: 0.848468\tvalid_1's auc: 0.771422\n",
      "[400]\ttraining's auc: 0.866087\tvalid_1's auc: 0.771575\n",
      "[auc] tr:0.8578, va:0.7719\n",
      "-------------------- 1 --------------------\n",
      "(246009, 162) (61502, 162)\n",
      "[100]\ttraining's auc: 0.794349\tvalid_1's auc: 0.769227\n",
      "[200]\ttraining's auc: 0.824921\tvalid_1's auc: 0.774694\n",
      "[300]\ttraining's auc: 0.847296\tvalid_1's auc: 0.775643\n",
      "[400]\ttraining's auc: 0.864781\tvalid_1's auc: 0.775882\n",
      "[500]\ttraining's auc: 0.880069\tvalid_1's auc: 0.775861\n",
      "[auc] tr:0.8744, va:0.7761\n",
      "-------------------- 2 --------------------\n",
      "(246009, 162) (61502, 162)\n",
      "[100]\ttraining's auc: 0.794977\tvalid_1's auc: 0.768857\n",
      "[200]\ttraining's auc: 0.82562\tvalid_1's auc: 0.773055\n",
      "[300]\ttraining's auc: 0.847297\tvalid_1's auc: 0.773516\n",
      "[400]\ttraining's auc: 0.865995\tvalid_1's auc: 0.774559\n",
      "[500]\ttraining's auc: 0.881411\tvalid_1's auc: 0.773967\n",
      "[auc] tr:0.8662, va:0.7746\n",
      "-------------------- 3 --------------------\n",
      "(246009, 162) (61502, 162)\n",
      "[100]\ttraining's auc: 0.79487\tvalid_1's auc: 0.766658\n",
      "[200]\ttraining's auc: 0.825555\tvalid_1's auc: 0.771612\n",
      "[300]\ttraining's auc: 0.847639\tvalid_1's auc: 0.772074\n",
      "[auc] tr:0.8474, va:0.7721\n",
      "-------------------- 4 --------------------\n",
      "(246009, 162) (61502, 162)\n",
      "[100]\ttraining's auc: 0.795217\tvalid_1's auc: 0.760459\n",
      "[200]\ttraining's auc: 0.825714\tvalid_1's auc: 0.76484\n",
      "[300]\ttraining's auc: 0.847102\tvalid_1's auc: 0.765433\n",
      "[auc] tr:0.8467, va:0.7655\n",
      "-------------------- result --------------------\n",
      "[[0.         0.85779976 0.77186119]\n",
      " [1.         0.87444951 0.77606599]\n",
      " [2.         0.86623291 0.77456898]\n",
      " [3.         0.84744891 0.7721198 ]\n",
      " [4.         0.84670208 0.76551935]]\n",
      "[cv] tr:0.8585+-0.0107, va:0.7720+-0.0036\n",
      "[oof] 0.7720\n"
     ]
    }
   ],
   "source": [
    "train_oof, imp, metrics = train_lgb(x_train,\n",
    "                                    y_train,\n",
    "                                    id_train,\n",
    "                                    params,\n",
    "                                    list_nfold=[0,1,2,3,4],\n",
    "                                    n_splits=5,\n",
    "                                   )"
   ]
  },
  {
   "cell_type": "markdown",
   "id": "85d9e7e9",
   "metadata": {
    "papermill": {
     "duration": 0.142576,
     "end_time": "2022-05-01T11:35:06.749634",
     "exception": false,
     "start_time": "2022-05-01T11:35:06.607058",
     "status": "completed"
    },
    "tags": []
   },
   "source": [
    "#### スクリプト7-42: 説明変数の重要度の確認"
   ]
  },
  {
   "cell_type": "code",
   "execution_count": 42,
   "id": "819289bc",
   "metadata": {
    "execution": {
     "iopub.execute_input": "2022-05-01T11:35:07.038364Z",
     "iopub.status.busy": "2022-05-01T11:35:07.037740Z",
     "iopub.status.idle": "2022-05-01T11:35:07.050618Z",
     "shell.execute_reply": "2022-05-01T11:35:07.049564Z"
    },
    "papermill": {
     "duration": 0.161161,
     "end_time": "2022-05-01T11:35:07.052868",
     "exception": false,
     "start_time": "2022-05-01T11:35:06.891707",
     "status": "completed"
    },
    "tags": []
   },
   "outputs": [
    {
     "data": {
      "text/html": [
       "<div>\n",
       "<style scoped>\n",
       "    .dataframe tbody tr th:only-of-type {\n",
       "        vertical-align: middle;\n",
       "    }\n",
       "\n",
       "    .dataframe tbody tr th {\n",
       "        vertical-align: top;\n",
       "    }\n",
       "\n",
       "    .dataframe thead th {\n",
       "        text-align: right;\n",
       "    }\n",
       "</style>\n",
       "<table border=\"1\" class=\"dataframe\">\n",
       "  <thead>\n",
       "    <tr style=\"text-align: right;\">\n",
       "      <th></th>\n",
       "      <th>col</th>\n",
       "      <th>imp</th>\n",
       "      <th>imp_std</th>\n",
       "    </tr>\n",
       "  </thead>\n",
       "  <tbody>\n",
       "    <tr>\n",
       "      <th>52</th>\n",
       "      <td>EXT_SOURCE_mean</td>\n",
       "      <td>112438.907936</td>\n",
       "      <td>1217.139287</td>\n",
       "    </tr>\n",
       "    <tr>\n",
       "      <th>134</th>\n",
       "      <td>ORGANIZATION_TYPE</td>\n",
       "      <td>21573.968751</td>\n",
       "      <td>1044.080966</td>\n",
       "    </tr>\n",
       "    <tr>\n",
       "      <th>10</th>\n",
       "      <td>ANNUITY_div_CREDIT</td>\n",
       "      <td>18349.279658</td>\n",
       "      <td>1039.471604</td>\n",
       "    </tr>\n",
       "    <tr>\n",
       "      <th>49</th>\n",
       "      <td>EXT_SOURCE_3</td>\n",
       "      <td>10710.855987</td>\n",
       "      <td>490.719084</td>\n",
       "    </tr>\n",
       "    <tr>\n",
       "      <th>53</th>\n",
       "      <td>EXT_SOURCE_min</td>\n",
       "      <td>7021.835349</td>\n",
       "      <td>444.955386</td>\n",
       "    </tr>\n",
       "    <tr>\n",
       "      <th>32</th>\n",
       "      <td>DAYS_BIRTH</td>\n",
       "      <td>6666.389282</td>\n",
       "      <td>814.801948</td>\n",
       "    </tr>\n",
       "    <tr>\n",
       "      <th>47</th>\n",
       "      <td>EXT_SOURCE_1</td>\n",
       "      <td>6605.474412</td>\n",
       "      <td>601.782028</td>\n",
       "    </tr>\n",
       "    <tr>\n",
       "      <th>21</th>\n",
       "      <td>CNT_INSTALMENT_FUTURE_mean</td>\n",
       "      <td>6289.278576</td>\n",
       "      <td>365.694448</td>\n",
       "    </tr>\n",
       "    <tr>\n",
       "      <th>0</th>\n",
       "      <td>AMT_ANNUITY</td>\n",
       "      <td>5563.190447</td>\n",
       "      <td>368.625974</td>\n",
       "    </tr>\n",
       "    <tr>\n",
       "      <th>108</th>\n",
       "      <td>MONTHS_BALANCE_std</td>\n",
       "      <td>5340.370365</td>\n",
       "      <td>466.201881</td>\n",
       "    </tr>\n",
       "  </tbody>\n",
       "</table>\n",
       "</div>"
      ],
      "text/plain": [
       "                            col            imp      imp_std\n",
       "52              EXT_SOURCE_mean  112438.907936  1217.139287\n",
       "134           ORGANIZATION_TYPE   21573.968751  1044.080966\n",
       "10           ANNUITY_div_CREDIT   18349.279658  1039.471604\n",
       "49                 EXT_SOURCE_3   10710.855987   490.719084\n",
       "53               EXT_SOURCE_min    7021.835349   444.955386\n",
       "32                   DAYS_BIRTH    6666.389282   814.801948\n",
       "47                 EXT_SOURCE_1    6605.474412   601.782028\n",
       "21   CNT_INSTALMENT_FUTURE_mean    6289.278576   365.694448\n",
       "0                   AMT_ANNUITY    5563.190447   368.625974\n",
       "108          MONTHS_BALANCE_std    5340.370365   466.201881"
      ]
     },
     "execution_count": 42,
     "metadata": {},
     "output_type": "execute_result"
    }
   ],
   "source": [
    "imp.sort_values(\"imp\", ascending=False)[:10]"
   ]
  },
  {
   "cell_type": "markdown",
   "id": "eed26057",
   "metadata": {
    "papermill": {
     "duration": 0.143372,
     "end_time": "2022-05-01T11:35:07.340008",
     "exception": false,
     "start_time": "2022-05-01T11:35:07.196636",
     "status": "completed"
    },
    "tags": []
   },
   "source": [
    "#### スクリプト7-43: 推論用のデータセット作成"
   ]
  },
  {
   "cell_type": "code",
   "execution_count": 43,
   "id": "a0a96c14",
   "metadata": {
    "execution": {
     "iopub.execute_input": "2022-05-01T11:35:07.632659Z",
     "iopub.status.busy": "2022-05-01T11:35:07.632133Z",
     "iopub.status.idle": "2022-05-01T11:35:08.198806Z",
     "shell.execute_reply": "2022-05-01T11:35:08.197999Z"
    },
    "papermill": {
     "duration": 0.713921,
     "end_time": "2022-05-01T11:35:08.201008",
     "exception": false,
     "start_time": "2022-05-01T11:35:07.487087",
     "status": "completed"
    },
    "tags": []
   },
   "outputs": [],
   "source": [
    "# テーブル結合\n",
    "df_test = pd.merge(application_test, pos_ohe_agg, on=\"SK_ID_CURR\", how=\"left\")\n",
    "\n",
    "# データセット作成\n",
    "x_test = df_test.drop(columns=[\"SK_ID_CURR\"])\n",
    "id_test = df_test[[\"SK_ID_CURR\"]]\n",
    "\n",
    "# カテゴリ変数をcategory型へ変換\n",
    "for col in x_test.columns:\n",
    "    if x_test[col].dtype==\"O\":\n",
    "        x_test[col] = x_test[col].astype(\"category\")"
   ]
  },
  {
   "cell_type": "markdown",
   "id": "a757bc55",
   "metadata": {
    "papermill": {
     "duration": 0.222787,
     "end_time": "2022-05-01T11:35:08.566253",
     "exception": false,
     "start_time": "2022-05-01T11:35:08.343466",
     "status": "completed"
    },
    "tags": []
   },
   "source": [
    "#### スクリプト7-44: 推論用データセットを用いた推論処理"
   ]
  },
  {
   "cell_type": "code",
   "execution_count": 44,
   "id": "4b4192a8",
   "metadata": {
    "execution": {
     "iopub.execute_input": "2022-05-01T11:35:08.853686Z",
     "iopub.status.busy": "2022-05-01T11:35:08.853392Z",
     "iopub.status.idle": "2022-05-01T11:35:12.140460Z",
     "shell.execute_reply": "2022-05-01T11:35:12.139665Z"
    },
    "papermill": {
     "duration": 3.433811,
     "end_time": "2022-05-01T11:35:12.142741",
     "exception": false,
     "start_time": "2022-05-01T11:35:08.708930",
     "status": "completed"
    },
    "tags": []
   },
   "outputs": [
    {
     "name": "stdout",
     "output_type": "stream",
     "text": [
      "-------------------- 0 --------------------\n",
      "-------------------- 1 --------------------\n",
      "-------------------- 2 --------------------\n",
      "-------------------- 3 --------------------\n",
      "-------------------- 4 --------------------\n",
      "Done.\n"
     ]
    }
   ],
   "source": [
    "test_pred = predict_lgb(x_test,\n",
    "                        id_test,\n",
    "                        list_nfold=[0,1,2,3,4],\n",
    "                       )"
   ]
  },
  {
   "cell_type": "markdown",
   "id": "686b267d",
   "metadata": {
    "papermill": {
     "duration": 0.147468,
     "end_time": "2022-05-01T11:35:12.437547",
     "exception": false,
     "start_time": "2022-05-01T11:35:12.290079",
     "status": "completed"
    },
    "tags": []
   },
   "source": [
    "#### スクリプト7-45: 提出ファイルの作成"
   ]
  },
  {
   "cell_type": "code",
   "execution_count": 45,
   "id": "db52fd46",
   "metadata": {
    "execution": {
     "iopub.execute_input": "2022-05-01T11:35:12.738731Z",
     "iopub.status.busy": "2022-05-01T11:35:12.738403Z",
     "iopub.status.idle": "2022-05-01T11:35:12.919120Z",
     "shell.execute_reply": "2022-05-01T11:35:12.918344Z"
    },
    "papermill": {
     "duration": 0.335519,
     "end_time": "2022-05-01T11:35:12.921376",
     "exception": false,
     "start_time": "2022-05-01T11:35:12.585857",
     "status": "completed"
    },
    "tags": []
   },
   "outputs": [
    {
     "name": "stdout",
     "output_type": "stream",
     "text": [
      "(48744, 2)\n"
     ]
    },
    {
     "data": {
      "text/html": [
       "<div>\n",
       "<style scoped>\n",
       "    .dataframe tbody tr th:only-of-type {\n",
       "        vertical-align: middle;\n",
       "    }\n",
       "\n",
       "    .dataframe tbody tr th {\n",
       "        vertical-align: top;\n",
       "    }\n",
       "\n",
       "    .dataframe thead th {\n",
       "        text-align: right;\n",
       "    }\n",
       "</style>\n",
       "<table border=\"1\" class=\"dataframe\">\n",
       "  <thead>\n",
       "    <tr style=\"text-align: right;\">\n",
       "      <th></th>\n",
       "      <th>SK_ID_CURR</th>\n",
       "      <th>TARGET</th>\n",
       "    </tr>\n",
       "  </thead>\n",
       "  <tbody>\n",
       "    <tr>\n",
       "      <th>0</th>\n",
       "      <td>100001</td>\n",
       "      <td>0.032163</td>\n",
       "    </tr>\n",
       "    <tr>\n",
       "      <th>1</th>\n",
       "      <td>100005</td>\n",
       "      <td>0.104400</td>\n",
       "    </tr>\n",
       "    <tr>\n",
       "      <th>2</th>\n",
       "      <td>100013</td>\n",
       "      <td>0.025425</td>\n",
       "    </tr>\n",
       "    <tr>\n",
       "      <th>3</th>\n",
       "      <td>100028</td>\n",
       "      <td>0.047522</td>\n",
       "    </tr>\n",
       "    <tr>\n",
       "      <th>4</th>\n",
       "      <td>100038</td>\n",
       "      <td>0.210907</td>\n",
       "    </tr>\n",
       "  </tbody>\n",
       "</table>\n",
       "</div>"
      ],
      "text/plain": [
       "   SK_ID_CURR    TARGET\n",
       "0      100001  0.032163\n",
       "1      100005  0.104400\n",
       "2      100013  0.025425\n",
       "3      100028  0.047522\n",
       "4      100038  0.210907"
      ]
     },
     "metadata": {},
     "output_type": "display_data"
    }
   ],
   "source": [
    "df_submit = test_pred.rename(columns={\"pred\":\"TARGET\"})\n",
    "print(df_submit.shape)\n",
    "display(df_submit.head())\n",
    "df_submit.to_csv(\"submission_FeatureEngineering2.csv\", index=None)"
   ]
  },
  {
   "cell_type": "markdown",
   "id": "0a097fd9",
   "metadata": {
    "papermill": {
     "duration": 0.146216,
     "end_time": "2022-05-01T11:35:13.215746",
     "exception": false,
     "start_time": "2022-05-01T11:35:13.069530",
     "status": "completed"
    },
    "tags": []
   },
   "source": [
    "# 7.5 モデルチューニング\n",
    "- LightGBMのハイパーパラメータのチューニング"
   ]
  },
  {
   "cell_type": "markdown",
   "id": "6c43e2fd",
   "metadata": {
    "papermill": {
     "duration": 0.148631,
     "end_time": "2022-05-01T11:35:13.509592",
     "exception": false,
     "start_time": "2022-05-01T11:35:13.360961",
     "status": "completed"
    },
    "tags": []
   },
   "source": [
    "#### スクリプト7-46: 重要度を用いて絞り込んだ特徴量リストの作成（以降では利用しない）"
   ]
  },
  {
   "cell_type": "code",
   "execution_count": 46,
   "id": "51439a89",
   "metadata": {
    "execution": {
     "iopub.execute_input": "2022-05-01T11:35:13.802911Z",
     "iopub.status.busy": "2022-05-01T11:35:13.802439Z",
     "iopub.status.idle": "2022-05-01T11:35:13.806936Z",
     "shell.execute_reply": "2022-05-01T11:35:13.806387Z"
    },
    "papermill": {
     "duration": 0.153624,
     "end_time": "2022-05-01T11:35:13.808877",
     "exception": false,
     "start_time": "2022-05-01T11:35:13.655253",
     "status": "completed"
    },
    "tags": []
   },
   "outputs": [],
   "source": [
    "col_filter = sorted(list(imp.sort_values(\"imp\", ascending=False)[:100][\"col\"]))\n",
    "# col_filter"
   ]
  },
  {
   "cell_type": "markdown",
   "id": "c00fdb59",
   "metadata": {
    "papermill": {
     "duration": 0.146137,
     "end_time": "2022-05-01T11:35:14.102011",
     "exception": false,
     "start_time": "2022-05-01T11:35:13.955874",
     "status": "completed"
    },
    "tags": []
   },
   "source": [
    "## 7.5.1 optunaによる自動チューニングの実行"
   ]
  },
  {
   "cell_type": "markdown",
   "id": "51ddb5e4",
   "metadata": {
    "papermill": {
     "duration": 0.145865,
     "end_time": "2022-05-01T11:35:14.394379",
     "exception": false,
     "start_time": "2022-05-01T11:35:14.248514",
     "status": "completed"
    },
    "tags": []
   },
   "source": [
    "#### スクリプト7-47: optunaライブラリのインポート"
   ]
  },
  {
   "cell_type": "code",
   "execution_count": 47,
   "id": "8778ba93",
   "metadata": {
    "execution": {
     "iopub.execute_input": "2022-05-01T11:35:14.694725Z",
     "iopub.status.busy": "2022-05-01T11:35:14.694296Z",
     "iopub.status.idle": "2022-05-01T11:35:15.627402Z",
     "shell.execute_reply": "2022-05-01T11:35:15.626661Z"
    },
    "papermill": {
     "duration": 1.084849,
     "end_time": "2022-05-01T11:35:15.629683",
     "exception": false,
     "start_time": "2022-05-01T11:35:14.544834",
     "status": "completed"
    },
    "tags": []
   },
   "outputs": [],
   "source": [
    "import optuna"
   ]
  },
  {
   "cell_type": "markdown",
   "id": "235b872e",
   "metadata": {
    "papermill": {
     "duration": 0.148374,
     "end_time": "2022-05-01T11:35:15.924368",
     "exception": false,
     "start_time": "2022-05-01T11:35:15.775994",
     "status": "completed"
    },
    "tags": []
   },
   "source": [
    "#### スクリプト7-48: 学習用のデータセット作成"
   ]
  },
  {
   "cell_type": "code",
   "execution_count": 48,
   "id": "92fc6c3b",
   "metadata": {
    "execution": {
     "iopub.execute_input": "2022-05-01T11:35:16.222635Z",
     "iopub.status.busy": "2022-05-01T11:35:16.221951Z",
     "iopub.status.idle": "2022-05-01T11:35:17.139348Z",
     "shell.execute_reply": "2022-05-01T11:35:17.138574Z"
    },
    "papermill": {
     "duration": 1.068789,
     "end_time": "2022-05-01T11:35:17.141790",
     "exception": false,
     "start_time": "2022-05-01T11:35:16.073001",
     "status": "completed"
    },
    "tags": []
   },
   "outputs": [],
   "source": [
    "x_train = df_train.drop(columns=[\"TARGET\", \"SK_ID_CURR\"])\n",
    "y_train = df_train[\"TARGET\"]\n",
    "id_train = df_train[[\"SK_ID_CURR\"]]\n",
    "\n",
    "for col in x_train.columns:\n",
    "    if x_train[col].dtype==\"O\":\n",
    "        x_train[col] = x_train[col].astype(\"category\")"
   ]
  },
  {
   "cell_type": "markdown",
   "id": "dbe997da",
   "metadata": {
    "papermill": {
     "duration": 0.148323,
     "end_time": "2022-05-01T11:35:17.463652",
     "exception": false,
     "start_time": "2022-05-01T11:35:17.315329",
     "status": "completed"
    },
    "tags": []
   },
   "source": [
    "#### スクリプト7-49: 目的関数の定義"
   ]
  },
  {
   "cell_type": "code",
   "execution_count": 49,
   "id": "196f92af",
   "metadata": {
    "execution": {
     "iopub.execute_input": "2022-05-01T11:35:17.762448Z",
     "iopub.status.busy": "2022-05-01T11:35:17.762177Z",
     "iopub.status.idle": "2022-05-01T11:35:17.775488Z",
     "shell.execute_reply": "2022-05-01T11:35:17.774575Z"
    },
    "papermill": {
     "duration": 0.166098,
     "end_time": "2022-05-01T11:35:17.777348",
     "exception": false,
     "start_time": "2022-05-01T11:35:17.611250",
     "status": "completed"
    },
    "tags": []
   },
   "outputs": [],
   "source": [
    "# 探索しないハイパーパラメータ\n",
    "params_base = {\n",
    "    \"boosting_type\": \"gbdt\",\n",
    "    \"objective\": \"binary\",\n",
    "    \"metric\": \"auc\",\n",
    "    \"verbosity\": -1,\n",
    "    \"learning_rate\": 0.05,\n",
    "    \"n_estimators\": 100000,\n",
    "    \"bagging_freq\": 1,\n",
    "    \"random_state\": 123,\n",
    "}\n",
    "\n",
    "# 目的関数の定義\n",
    "def objective(trial):\n",
    "    # 探索するハイパーパラメータ\n",
    "    params_tuning = {\n",
    "        \"num_leaves\": trial.suggest_int(\"num_leaves\", 8, 256),\n",
    "        \"min_child_samples\": trial.suggest_int(\"min_child_samples\", 5, 200),\n",
    "        \"min_sum_hessian_in_leaf\": trial.suggest_float(\"min_sum_hessian_in_leaf\", 1e-5, 1e-2, log=True),\n",
    "        \"feature_fraction\": trial.suggest_float(\"feature_fraction\", 0.5, 1.0),\n",
    "        \"bagging_fraction\": trial.suggest_float(\"bagging_fraction\", 0.5, 1.0),\n",
    "        \"lambda_l1\": trial.suggest_float(\"lambda_l1\", 1e-2, 1e+2, log=True),\n",
    "        \"lambda_l2\": trial.suggest_float(\"lambda_l2\", 1e-2, 1e+2, log=True),\n",
    "    }\n",
    "    params_tuning.update(params_base)\n",
    "    \n",
    "    # モデル学習・評価\n",
    "    list_metrics = []\n",
    "    cv = list(StratifiedKFold(n_splits=5, shuffle=True, random_state=123).split(x_train, y_train))\n",
    "    list_fold = [0]  # 処理高速化のために1つめのfoldのみとする。\n",
    "    for nfold in list_fold:\n",
    "        idx_tr, idx_va = cv[nfold][0], cv[nfold][1]\n",
    "        x_tr, y_tr = x_train.loc[idx_tr, :], y_train[idx_tr]\n",
    "        x_va, y_va = x_train.loc[idx_va, :], y_train[idx_va]\n",
    "        model = lgb.LGBMClassifier(**params_tuning)\n",
    "        model.fit(x_tr,\n",
    "                  y_tr,\n",
    "                  eval_set=[(x_tr,y_tr), (x_va,y_va)],\n",
    "                  early_stopping_rounds=100,\n",
    "                  verbose=0,\n",
    "                 )\n",
    "        y_va_pred = model.predict_proba(x_va)[:,1]\n",
    "        metric_va = roc_auc_score(y_va, y_va_pred) # 評価指標をAUCにする\n",
    "        list_metrics.append(metric_va)\n",
    "    \n",
    "    # 評価指標の算出\n",
    "    metrics = np.mean(list_metrics)\n",
    "    \n",
    "    return metrics"
   ]
  },
  {
   "cell_type": "markdown",
   "id": "8547ffca",
   "metadata": {
    "papermill": {
     "duration": 0.14578,
     "end_time": "2022-05-01T11:35:18.070904",
     "exception": false,
     "start_time": "2022-05-01T11:35:17.925124",
     "status": "completed"
    },
    "tags": []
   },
   "source": [
    "#### スクリプト7-50: 最適化処理（探索の実行）\n",
    "- 注意点\n",
    "    - optunaではシード固定しても探索結果の再現性がありません。このため，これ以降は書籍と結果が異なります。\n",
    "    - 再現性を求める場合は，並列化なし（n_jobs=1）としてください。"
   ]
  },
  {
   "cell_type": "code",
   "execution_count": 50,
   "id": "972bdf0d",
   "metadata": {
    "execution": {
     "iopub.execute_input": "2022-05-01T11:35:18.363309Z",
     "iopub.status.busy": "2022-05-01T11:35:18.363019Z",
     "iopub.status.idle": "2022-05-01T12:16:37.168175Z",
     "shell.execute_reply": "2022-05-01T12:16:37.167221Z"
    },
    "papermill": {
     "duration": 2479.134634,
     "end_time": "2022-05-01T12:16:37.350918",
     "exception": false,
     "start_time": "2022-05-01T11:35:18.216284",
     "status": "completed"
    },
    "tags": []
   },
   "outputs": [
    {
     "name": "stderr",
     "output_type": "stream",
     "text": [
      "\u001b[32m[I 2022-05-01 11:35:18,366]\u001b[0m A new study created in memory with name: no-name-cfd9a5ae-7a01-4419-9f35-49a328f319f5\u001b[0m\n"
     ]
    },
    {
     "name": "stdout",
     "output_type": "stream",
     "text": [
      "[LightGBM] [Warning] feature_fraction is set=0.8732478098491906, colsample_bytree=1.0 will be ignored. Current value: feature_fraction=0.8732478098491906\n",
      "[LightGBM] [Warning] lambda_l1 is set=0.08444478709976956, reg_alpha=0.0 will be ignored. Current value: lambda_l1=0.08444478709976956\n",
      "[LightGBM] [Warning] bagging_fraction is set=0.9480596402659909, subsample=1.0 will be ignored. Current value: bagging_fraction=0.9480596402659909\n",
      "[LightGBM] [Warning] min_sum_hessian_in_leaf is set=6.643565959251743e-05, min_child_weight=0.001 will be ignored. Current value: min_sum_hessian_in_leaf=6.643565959251743e-05\n",
      "[LightGBM] [Warning] bagging_freq is set=1, subsample_freq=0 will be ignored. Current value: bagging_freq=1\n",
      "[LightGBM] [Warning] lambda_l2 is set=0.027348269010253605, reg_lambda=0.0 will be ignored. Current value: lambda_l2=0.027348269010253605\n",
      "[LightGBM] [Warning] feature_fraction is set=0.7817759970376179, colsample_bytree=1.0 will be ignored. Current value: feature_fraction=0.7817759970376179\n",
      "[LightGBM] [Warning] lambda_l1 is set=1.3606218340577327, reg_alpha=0.0 will be ignored. Current value: lambda_l1=1.3606218340577327\n",
      "[LightGBM] [Warning] bagging_fraction is set=0.6566551679807331, subsample=1.0 will be ignored. Current value: bagging_fraction=0.6566551679807331\n",
      "[LightGBM] [Warning] min_sum_hessian_in_leaf is set=0.0024978957455850945, min_child_weight=0.001 will be ignored. Current value: min_sum_hessian_in_leaf=0.0024978957455850945\n",
      "[LightGBM] [Warning] bagging_freq is set=1, subsample_freq=0 will be ignored. Current value: bagging_freq=1\n",
      "[LightGBM] [Warning] lambda_l2 is set=0.5395629428659839, reg_lambda=0.0 will be ignored. Current value: lambda_l2=0.5395629428659839\n",
      "[LightGBM] [Warning] feature_fraction is set=0.9074145102964661, colsample_bytree=1.0 will be ignored. Current value: feature_fraction=0.9074145102964661\n",
      "[LightGBM] [Warning] lambda_l1 is set=57.55033459202042, reg_alpha=0.0 will be ignored. Current value: lambda_l1=57.55033459202042\n",
      "[LightGBM] [Warning] bagging_fraction is set=0.7984389964609526, subsample=1.0 will be ignored. Current value: bagging_fraction=0.7984389964609526\n",
      "[LightGBM] [Warning] min_sum_hessian_in_leaf is set=0.000305495240860746, min_child_weight=0.001 will be ignored. Current value: min_sum_hessian_in_leaf=0.000305495240860746\n",
      "[LightGBM] [Warning] bagging_freq is set=1, subsample_freq=0 will be ignored. Current value: bagging_freq=1\n",
      "[LightGBM] [Warning] lambda_l2 is set=0.013197845007375216, reg_lambda=0.0 will be ignored. Current value: lambda_l2=0.013197845007375216\n",
      "[LightGBM] [Warning] feature_fraction is set=0.5608343915309344, colsample_bytree=1.0 will be ignored. Current value: feature_fraction=0.5608343915309344\n",
      "[LightGBM] [Warning] lambda_l1 is set=53.157306712049554, reg_alpha=0.0 will be ignored. Current value: lambda_l1=53.157306712049554\n",
      "[LightGBM] [Warning] bagging_fraction is set=0.7693391574060586, subsample=1.0 will be ignored. Current value: bagging_fraction=0.7693391574060586\n",
      "[LightGBM] [Warning] min_sum_hessian_in_leaf is set=1.4893993455624866e-05, min_child_weight=0.001 will be ignored. Current value: min_sum_hessian_in_leaf=1.4893993455624866e-05\n",
      "[LightGBM] [Warning] bagging_freq is set=1, subsample_freq=0 will be ignored. Current value: bagging_freq=1\n",
      "[LightGBM] [Warning] lambda_l2 is set=0.011461518173978315, reg_lambda=0.0 will be ignored. Current value: lambda_l2=0.011461518173978315\n",
      "[LightGBM] [Warning] feature_fraction is set=0.5583668235175054, colsample_bytree=1.0 will be ignored. Current value: feature_fraction=0.5583668235175054\n",
      "[LightGBM] [Warning] lambda_l1 is set=0.04293976246058936, reg_alpha=0.0 will be ignored. Current value: lambda_l1=0.04293976246058936\n",
      "[LightGBM] [Warning] bagging_fraction is set=0.9193457471700364, subsample=1.0 will be ignored. Current value: bagging_fraction=0.9193457471700364\n",
      "[LightGBM] [Warning] min_sum_hessian_in_leaf is set=1.884544735324778e-05, min_child_weight=0.001 will be ignored. Current value: min_sum_hessian_in_leaf=1.884544735324778e-05\n",
      "[LightGBM] [Warning] bagging_freq is set=1, subsample_freq=0 will be ignored. Current value: bagging_freq=1\n",
      "[LightGBM] [Warning] lambda_l2 is set=0.4771555111756843, reg_lambda=0.0 will be ignored. Current value: lambda_l2=0.4771555111756843\n"
     ]
    },
    {
     "name": "stderr",
     "output_type": "stream",
     "text": [
      "\u001b[32m[I 2022-05-01 11:38:26,740]\u001b[0m Trial 4 finished with value: 0.7714917756924314 and parameters: {'num_leaves': 64, 'min_child_samples': 130, 'min_sum_hessian_in_leaf': 0.0024978957455850945, 'feature_fraction': 0.7817759970376179, 'bagging_fraction': 0.6566551679807331, 'lambda_l1': 1.3606218340577327, 'lambda_l2': 0.5395629428659839}. Best is trial 4 with value: 0.7714917756924314.\u001b[0m\n"
     ]
    },
    {
     "name": "stdout",
     "output_type": "stream",
     "text": [
      "[LightGBM] [Warning] feature_fraction is set=0.6254847716390584, colsample_bytree=1.0 will be ignored. Current value: feature_fraction=0.6254847716390584\n",
      "[LightGBM] [Warning] lambda_l1 is set=22.4678211062519, reg_alpha=0.0 will be ignored. Current value: lambda_l1=22.4678211062519\n",
      "[LightGBM] [Warning] bagging_fraction is set=0.9352527002338837, subsample=1.0 will be ignored. Current value: bagging_fraction=0.9352527002338837\n",
      "[LightGBM] [Warning] min_sum_hessian_in_leaf is set=2.4986512403836488e-05, min_child_weight=0.001 will be ignored. Current value: min_sum_hessian_in_leaf=2.4986512403836488e-05\n",
      "[LightGBM] [Warning] bagging_freq is set=1, subsample_freq=0 will be ignored. Current value: bagging_freq=1\n",
      "[LightGBM] [Warning] lambda_l2 is set=3.436390729654449, reg_lambda=0.0 will be ignored. Current value: lambda_l2=3.436390729654449\n"
     ]
    },
    {
     "name": "stderr",
     "output_type": "stream",
     "text": [
      "\u001b[32m[I 2022-05-01 11:38:48,511]\u001b[0m Trial 3 finished with value: 0.7701907337709434 and parameters: {'num_leaves': 131, 'min_child_samples': 136, 'min_sum_hessian_in_leaf': 1.884544735324778e-05, 'feature_fraction': 0.5583668235175054, 'bagging_fraction': 0.9193457471700364, 'lambda_l1': 0.04293976246058936, 'lambda_l2': 0.4771555111756843}. Best is trial 4 with value: 0.7714917756924314.\u001b[0m\n"
     ]
    },
    {
     "name": "stdout",
     "output_type": "stream",
     "text": [
      "[LightGBM] [Warning] feature_fraction is set=0.8810665415372644, colsample_bytree=1.0 will be ignored. Current value: feature_fraction=0.8810665415372644\n",
      "[LightGBM] [Warning] lambda_l1 is set=1.8766809822422164, reg_alpha=0.0 will be ignored. Current value: lambda_l1=1.8766809822422164\n",
      "[LightGBM] [Warning] bagging_fraction is set=0.7553580838947347, subsample=1.0 will be ignored. Current value: bagging_fraction=0.7553580838947347\n",
      "[LightGBM] [Warning] min_sum_hessian_in_leaf is set=0.0014872264297663706, min_child_weight=0.001 will be ignored. Current value: min_sum_hessian_in_leaf=0.0014872264297663706\n",
      "[LightGBM] [Warning] bagging_freq is set=1, subsample_freq=0 will be ignored. Current value: bagging_freq=1\n",
      "[LightGBM] [Warning] lambda_l2 is set=0.05190585268212917, reg_lambda=0.0 will be ignored. Current value: lambda_l2=0.05190585268212917\n"
     ]
    },
    {
     "name": "stderr",
     "output_type": "stream",
     "text": [
      "\u001b[32m[I 2022-05-01 11:40:08,390]\u001b[0m Trial 2 finished with value: 0.7676205510454036 and parameters: {'num_leaves': 248, 'min_child_samples': 37, 'min_sum_hessian_in_leaf': 6.643565959251743e-05, 'feature_fraction': 0.8732478098491906, 'bagging_fraction': 0.9480596402659909, 'lambda_l1': 0.08444478709976956, 'lambda_l2': 0.027348269010253605}. Best is trial 4 with value: 0.7714917756924314.\u001b[0m\n"
     ]
    },
    {
     "name": "stdout",
     "output_type": "stream",
     "text": [
      "[LightGBM] [Warning] feature_fraction is set=0.8036398835865824, colsample_bytree=1.0 will be ignored. Current value: feature_fraction=0.8036398835865824\n",
      "[LightGBM] [Warning] lambda_l1 is set=8.015797731747192, reg_alpha=0.0 will be ignored. Current value: lambda_l1=8.015797731747192\n",
      "[LightGBM] [Warning] bagging_fraction is set=0.5620129755217046, subsample=1.0 will be ignored. Current value: bagging_fraction=0.5620129755217046\n",
      "[LightGBM] [Warning] min_sum_hessian_in_leaf is set=0.0012352012463534097, min_child_weight=0.001 will be ignored. Current value: min_sum_hessian_in_leaf=0.0012352012463534097\n",
      "[LightGBM] [Warning] bagging_freq is set=1, subsample_freq=0 will be ignored. Current value: bagging_freq=1\n",
      "[LightGBM] [Warning] lambda_l2 is set=0.4816836755166696, reg_lambda=0.0 will be ignored. Current value: lambda_l2=0.4816836755166696\n"
     ]
    },
    {
     "name": "stderr",
     "output_type": "stream",
     "text": [
      "\u001b[32m[I 2022-05-01 11:42:18,147]\u001b[0m Trial 0 finished with value: 0.7711608519176489 and parameters: {'num_leaves': 189, 'min_child_samples': 191, 'min_sum_hessian_in_leaf': 1.4893993455624866e-05, 'feature_fraction': 0.5608343915309344, 'bagging_fraction': 0.7693391574060586, 'lambda_l1': 53.157306712049554, 'lambda_l2': 0.011461518173978315}. Best is trial 4 with value: 0.7714917756924314.\u001b[0m\n",
      "\u001b[32m[I 2022-05-01 11:42:21,300]\u001b[0m Trial 1 finished with value: 0.7685363464517638 and parameters: {'num_leaves': 177, 'min_child_samples': 17, 'min_sum_hessian_in_leaf': 0.000305495240860746, 'feature_fraction': 0.9074145102964661, 'bagging_fraction': 0.7984389964609526, 'lambda_l1': 57.55033459202042, 'lambda_l2': 0.013197845007375216}. Best is trial 4 with value: 0.7714917756924314.\u001b[0m\n"
     ]
    },
    {
     "name": "stdout",
     "output_type": "stream",
     "text": [
      "[LightGBM] [Warning] feature_fraction is set=0.982578543804355, colsample_bytree=1.0 will be ignored. Current value: feature_fraction=0.982578543804355\n",
      "[LightGBM] [Warning] lambda_l1 is set=18.601419059826505, reg_alpha=0.0 will be ignored. Current value: lambda_l1=18.601419059826505\n",
      "[LightGBM] [Warning] bagging_fraction is set=0.6364447321861115, subsample=1.0 will be ignored. Current value: bagging_fraction=0.6364447321861115\n",
      "[LightGBM] [Warning] min_sum_hessian_in_leaf is set=0.00012128928247209661, min_child_weight=0.001 will be ignored. Current value: min_sum_hessian_in_leaf=0.00012128928247209661\n",
      "[LightGBM] [Warning] bagging_freq is set=1, subsample_freq=0 will be ignored. Current value: bagging_freq=1\n",
      "[LightGBM] [Warning] lambda_l2 is set=0.3630333486716112, reg_lambda=0.0 will be ignored. Current value: lambda_l2=0.3630333486716112\n",
      "[LightGBM] [Warning] feature_fraction is set=0.650959297991036, colsample_bytree=1.0 will be ignored. Current value: feature_fraction=0.650959297991036\n",
      "[LightGBM] [Warning] lambda_l1 is set=10.282173253460472, reg_alpha=0.0 will be ignored. Current value: lambda_l1=10.282173253460472\n",
      "[LightGBM] [Warning] bagging_fraction is set=0.6742040549965194, subsample=1.0 will be ignored. Current value: bagging_fraction=0.6742040549965194\n",
      "[LightGBM] [Warning] min_sum_hessian_in_leaf is set=0.0003429694515197618, min_child_weight=0.001 will be ignored. Current value: min_sum_hessian_in_leaf=0.0003429694515197618\n",
      "[LightGBM] [Warning] bagging_freq is set=1, subsample_freq=0 will be ignored. Current value: bagging_freq=1\n",
      "[LightGBM] [Warning] lambda_l2 is set=0.2785365194399337, reg_lambda=0.0 will be ignored. Current value: lambda_l2=0.2785365194399337\n"
     ]
    },
    {
     "name": "stderr",
     "output_type": "stream",
     "text": [
      "\u001b[32m[I 2022-05-01 11:43:05,114]\u001b[0m Trial 5 finished with value: 0.7705684957246268 and parameters: {'num_leaves': 170, 'min_child_samples': 95, 'min_sum_hessian_in_leaf': 2.4986512403836488e-05, 'feature_fraction': 0.6254847716390584, 'bagging_fraction': 0.9352527002338837, 'lambda_l1': 22.4678211062519, 'lambda_l2': 3.436390729654449}. Best is trial 4 with value: 0.7714917756924314.\u001b[0m\n"
     ]
    },
    {
     "name": "stdout",
     "output_type": "stream",
     "text": [
      "[LightGBM] [Warning] feature_fraction is set=0.7223054722484546, colsample_bytree=1.0 will be ignored. Current value: feature_fraction=0.7223054722484546\n",
      "[LightGBM] [Warning] lambda_l1 is set=0.21748802015758123, reg_alpha=0.0 will be ignored. Current value: lambda_l1=0.21748802015758123\n",
      "[LightGBM] [Warning] bagging_fraction is set=0.8555659156023624, subsample=1.0 will be ignored. Current value: bagging_fraction=0.8555659156023624\n",
      "[LightGBM] [Warning] min_sum_hessian_in_leaf is set=7.880210279614931e-05, min_child_weight=0.001 will be ignored. Current value: min_sum_hessian_in_leaf=7.880210279614931e-05\n",
      "[LightGBM] [Warning] bagging_freq is set=1, subsample_freq=0 will be ignored. Current value: bagging_freq=1\n",
      "[LightGBM] [Warning] lambda_l2 is set=0.018854374353022223, reg_lambda=0.0 will be ignored. Current value: lambda_l2=0.018854374353022223\n"
     ]
    },
    {
     "name": "stderr",
     "output_type": "stream",
     "text": [
      "\u001b[32m[I 2022-05-01 11:43:40,144]\u001b[0m Trial 6 finished with value: 0.771672730372646 and parameters: {'num_leaves': 61, 'min_child_samples': 76, 'min_sum_hessian_in_leaf': 0.0014872264297663706, 'feature_fraction': 0.8810665415372644, 'bagging_fraction': 0.7553580838947347, 'lambda_l1': 1.8766809822422164, 'lambda_l2': 0.05190585268212917}. Best is trial 6 with value: 0.771672730372646.\u001b[0m\n"
     ]
    },
    {
     "name": "stdout",
     "output_type": "stream",
     "text": [
      "[LightGBM] [Warning] feature_fraction is set=0.6508058130840766, colsample_bytree=1.0 will be ignored. Current value: feature_fraction=0.6508058130840766\n",
      "[LightGBM] [Warning] lambda_l1 is set=19.621218910713292, reg_alpha=0.0 will be ignored. Current value: lambda_l1=19.621218910713292\n",
      "[LightGBM] [Warning] bagging_fraction is set=0.9783887014658836, subsample=1.0 will be ignored. Current value: bagging_fraction=0.9783887014658836\n",
      "[LightGBM] [Warning] min_sum_hessian_in_leaf is set=6.003404604846925e-05, min_child_weight=0.001 will be ignored. Current value: min_sum_hessian_in_leaf=6.003404604846925e-05\n",
      "[LightGBM] [Warning] bagging_freq is set=1, subsample_freq=0 will be ignored. Current value: bagging_freq=1\n",
      "[LightGBM] [Warning] lambda_l2 is set=0.16837391395308382, reg_lambda=0.0 will be ignored. Current value: lambda_l2=0.16837391395308382\n"
     ]
    },
    {
     "name": "stderr",
     "output_type": "stream",
     "text": [
      "\u001b[32m[I 2022-05-01 11:43:51,580]\u001b[0m Trial 7 finished with value: 0.7723731371288146 and parameters: {'num_leaves': 22, 'min_child_samples': 168, 'min_sum_hessian_in_leaf': 0.0012352012463534097, 'feature_fraction': 0.8036398835865824, 'bagging_fraction': 0.5620129755217046, 'lambda_l1': 8.015797731747192, 'lambda_l2': 0.4816836755166696}. Best is trial 7 with value: 0.7723731371288146.\u001b[0m\n"
     ]
    },
    {
     "name": "stdout",
     "output_type": "stream",
     "text": [
      "[LightGBM] [Warning] feature_fraction is set=0.8727436453909863, colsample_bytree=1.0 will be ignored. Current value: feature_fraction=0.8727436453909863\n",
      "[LightGBM] [Warning] lambda_l1 is set=0.015860523075659168, reg_alpha=0.0 will be ignored. Current value: lambda_l1=0.015860523075659168\n",
      "[LightGBM] [Warning] bagging_fraction is set=0.9790729986645993, subsample=1.0 will be ignored. Current value: bagging_fraction=0.9790729986645993\n",
      "[LightGBM] [Warning] min_sum_hessian_in_leaf is set=1.7012333146629243e-05, min_child_weight=0.001 will be ignored. Current value: min_sum_hessian_in_leaf=1.7012333146629243e-05\n",
      "[LightGBM] [Warning] bagging_freq is set=1, subsample_freq=0 will be ignored. Current value: bagging_freq=1\n",
      "[LightGBM] [Warning] lambda_l2 is set=2.0525610433062016, reg_lambda=0.0 will be ignored. Current value: lambda_l2=2.0525610433062016\n"
     ]
    },
    {
     "name": "stderr",
     "output_type": "stream",
     "text": [
      "\u001b[32m[I 2022-05-01 11:45:51,691]\u001b[0m Trial 10 finished with value: 0.7723517806576774 and parameters: {'num_leaves': 57, 'min_child_samples': 195, 'min_sum_hessian_in_leaf': 7.880210279614931e-05, 'feature_fraction': 0.7223054722484546, 'bagging_fraction': 0.8555659156023624, 'lambda_l1': 0.21748802015758123, 'lambda_l2': 0.018854374353022223}. Best is trial 7 with value: 0.7723731371288146.\u001b[0m\n"
     ]
    },
    {
     "name": "stdout",
     "output_type": "stream",
     "text": [
      "[LightGBM] [Warning] feature_fraction is set=0.8906916850136228, colsample_bytree=1.0 will be ignored. Current value: feature_fraction=0.8906916850136228\n",
      "[LightGBM] [Warning] lambda_l1 is set=0.022482002960242487, reg_alpha=0.0 will be ignored. Current value: lambda_l1=0.022482002960242487\n",
      "[LightGBM] [Warning] bagging_fraction is set=0.7412083060096379, subsample=1.0 will be ignored. Current value: bagging_fraction=0.7412083060096379\n",
      "[LightGBM] [Warning] min_sum_hessian_in_leaf is set=1.3787511983449289e-05, min_child_weight=0.001 will be ignored. Current value: min_sum_hessian_in_leaf=1.3787511983449289e-05\n",
      "[LightGBM] [Warning] bagging_freq is set=1, subsample_freq=0 will be ignored. Current value: bagging_freq=1\n",
      "[LightGBM] [Warning] lambda_l2 is set=1.3292467530819916, reg_lambda=0.0 will be ignored. Current value: lambda_l2=1.3292467530819916\n"
     ]
    },
    {
     "name": "stderr",
     "output_type": "stream",
     "text": [
      "\u001b[32m[I 2022-05-01 11:46:18,985]\u001b[0m Trial 9 finished with value: 0.77122372080883 and parameters: {'num_leaves': 168, 'min_child_samples': 143, 'min_sum_hessian_in_leaf': 0.0003429694515197618, 'feature_fraction': 0.650959297991036, 'bagging_fraction': 0.6742040549965194, 'lambda_l1': 10.282173253460472, 'lambda_l2': 0.2785365194399337}. Best is trial 7 with value: 0.7723731371288146.\u001b[0m\n"
     ]
    },
    {
     "name": "stdout",
     "output_type": "stream",
     "text": [
      "[LightGBM] [Warning] feature_fraction is set=0.7780819739431071, colsample_bytree=1.0 will be ignored. Current value: feature_fraction=0.7780819739431071\n",
      "[LightGBM] [Warning] lambda_l1 is set=0.010374599370054695, reg_alpha=0.0 will be ignored. Current value: lambda_l1=0.010374599370054695\n",
      "[LightGBM] [Warning] bagging_fraction is set=0.5095784491849814, subsample=1.0 will be ignored. Current value: bagging_fraction=0.5095784491849814\n",
      "[LightGBM] [Warning] min_sum_hessian_in_leaf is set=0.009359835012461381, min_child_weight=0.001 will be ignored. Current value: min_sum_hessian_in_leaf=0.009359835012461381\n",
      "[LightGBM] [Warning] bagging_freq is set=1, subsample_freq=0 will be ignored. Current value: bagging_freq=1\n",
      "[LightGBM] [Warning] lambda_l2 is set=40.67599612066364, reg_lambda=0.0 will be ignored. Current value: lambda_l2=40.67599612066364\n"
     ]
    },
    {
     "name": "stderr",
     "output_type": "stream",
     "text": [
      "\u001b[32m[I 2022-05-01 11:46:56,474]\u001b[0m Trial 8 finished with value: 0.7685805662809928 and parameters: {'num_leaves': 236, 'min_child_samples': 144, 'min_sum_hessian_in_leaf': 0.00012128928247209661, 'feature_fraction': 0.982578543804355, 'bagging_fraction': 0.6364447321861115, 'lambda_l1': 18.601419059826505, 'lambda_l2': 0.3630333486716112}. Best is trial 7 with value: 0.7723731371288146.\u001b[0m\n"
     ]
    },
    {
     "name": "stdout",
     "output_type": "stream",
     "text": [
      "[LightGBM] [Warning] feature_fraction is set=0.7529917860005172, colsample_bytree=1.0 will be ignored. Current value: feature_fraction=0.7529917860005172\n",
      "[LightGBM] [Warning] lambda_l1 is set=0.2177333111314291, reg_alpha=0.0 will be ignored. Current value: lambda_l1=0.2177333111314291\n",
      "[LightGBM] [Warning] bagging_fraction is set=0.5292724536235864, subsample=1.0 will be ignored. Current value: bagging_fraction=0.5292724536235864\n",
      "[LightGBM] [Warning] min_sum_hessian_in_leaf is set=0.009709598106486705, min_child_weight=0.001 will be ignored. Current value: min_sum_hessian_in_leaf=0.009709598106486705\n",
      "[LightGBM] [Warning] bagging_freq is set=1, subsample_freq=0 will be ignored. Current value: bagging_freq=1\n",
      "[LightGBM] [Warning] lambda_l2 is set=94.51987086551506, reg_lambda=0.0 will be ignored. Current value: lambda_l2=94.51987086551506\n"
     ]
    },
    {
     "name": "stderr",
     "output_type": "stream",
     "text": [
      "\u001b[32m[I 2022-05-01 11:47:26,133]\u001b[0m Trial 12 finished with value: 0.7723097053815136 and parameters: {'num_leaves': 84, 'min_child_samples': 105, 'min_sum_hessian_in_leaf': 1.7012333146629243e-05, 'feature_fraction': 0.8727436453909863, 'bagging_fraction': 0.9790729986645993, 'lambda_l1': 0.015860523075659168, 'lambda_l2': 2.0525610433062016}. Best is trial 7 with value: 0.7723731371288146.\u001b[0m\n"
     ]
    },
    {
     "name": "stdout",
     "output_type": "stream",
     "text": [
      "[LightGBM] [Warning] feature_fraction is set=0.7533122568560118, colsample_bytree=1.0 will be ignored. Current value: feature_fraction=0.7533122568560118\n",
      "[LightGBM] [Warning] lambda_l1 is set=0.1826408327783265, reg_alpha=0.0 will be ignored. Current value: lambda_l1=0.1826408327783265\n",
      "[LightGBM] [Warning] bagging_fraction is set=0.5255992767496774, subsample=1.0 will be ignored. Current value: bagging_fraction=0.5255992767496774\n",
      "[LightGBM] [Warning] min_sum_hessian_in_leaf is set=0.006487348172813453, min_child_weight=0.001 will be ignored. Current value: min_sum_hessian_in_leaf=0.006487348172813453\n",
      "[LightGBM] [Warning] bagging_freq is set=1, subsample_freq=0 will be ignored. Current value: bagging_freq=1\n",
      "[LightGBM] [Warning] lambda_l2 is set=12.16477025999942, reg_lambda=0.0 will be ignored. Current value: lambda_l2=12.16477025999942\n"
     ]
    },
    {
     "name": "stderr",
     "output_type": "stream",
     "text": [
      "\u001b[32m[I 2022-05-01 11:48:26,687]\u001b[0m Trial 13 finished with value: 0.7700091984227062 and parameters: {'num_leaves': 65, 'min_child_samples': 191, 'min_sum_hessian_in_leaf': 1.3787511983449289e-05, 'feature_fraction': 0.8906916850136228, 'bagging_fraction': 0.7412083060096379, 'lambda_l1': 0.022482002960242487, 'lambda_l2': 1.3292467530819916}. Best is trial 7 with value: 0.7723731371288146.\u001b[0m\n",
      "\u001b[32m[I 2022-05-01 11:48:29,160]\u001b[0m Trial 11 finished with value: 0.771075593464984 and parameters: {'num_leaves': 177, 'min_child_samples': 50, 'min_sum_hessian_in_leaf': 6.003404604846925e-05, 'feature_fraction': 0.6508058130840766, 'bagging_fraction': 0.9783887014658836, 'lambda_l1': 19.621218910713292, 'lambda_l2': 0.16837391395308382}. Best is trial 7 with value: 0.7723731371288146.\u001b[0m\n"
     ]
    },
    {
     "name": "stdout",
     "output_type": "stream",
     "text": [
      "[LightGBM] [Warning] feature_fraction is set=0.754030735241468, colsample_bytree=1.0 will be ignored. Current value: feature_fraction=0.754030735241468\n",
      "[LightGBM] [Warning] lambda_l1 is set=0.18812831719012948, reg_alpha=0.0 will be ignored. Current value: lambda_l1=0.18812831719012948\n",
      "[LightGBM] [Warning] bagging_fraction is set=0.5374274003238141, subsample=1.0 will be ignored. Current value: bagging_fraction=0.5374274003238141\n",
      "[LightGBM] [Warning] min_sum_hessian_in_leaf is set=0.008338079979723863, min_child_weight=0.001 will be ignored. Current value: min_sum_hessian_in_leaf=0.008338079979723863\n",
      "[LightGBM] [Warning] bagging_freq is set=1, subsample_freq=0 will be ignored. Current value: bagging_freq=1\n",
      "[LightGBM] [Warning] lambda_l2 is set=73.6798663423486, reg_lambda=0.0 will be ignored. Current value: lambda_l2=73.6798663423486\n",
      "[LightGBM] [Warning] feature_fraction is set=0.7737368318435336, colsample_bytree=1.0 will be ignored. Current value: feature_fraction=0.7737368318435336\n",
      "[LightGBM] [Warning] lambda_l1 is set=0.22307424705890072, reg_alpha=0.0 will be ignored. Current value: lambda_l1=0.22307424705890072\n",
      "[LightGBM] [Warning] bagging_fraction is set=0.5035091058406657, subsample=1.0 will be ignored. Current value: bagging_fraction=0.5035091058406657\n",
      "[LightGBM] [Warning] min_sum_hessian_in_leaf is set=0.0074450391759240085, min_child_weight=0.001 will be ignored. Current value: min_sum_hessian_in_leaf=0.0074450391759240085\n",
      "[LightGBM] [Warning] bagging_freq is set=1, subsample_freq=0 will be ignored. Current value: bagging_freq=1\n",
      "[LightGBM] [Warning] lambda_l2 is set=25.806357989971495, reg_lambda=0.0 will be ignored. Current value: lambda_l2=25.806357989971495\n"
     ]
    },
    {
     "name": "stderr",
     "output_type": "stream",
     "text": [
      "\u001b[32m[I 2022-05-01 11:49:15,739]\u001b[0m Trial 14 finished with value: 0.7725676181678128 and parameters: {'num_leaves': 24, 'min_child_samples': 165, 'min_sum_hessian_in_leaf': 0.009359835012461381, 'feature_fraction': 0.7780819739431071, 'bagging_fraction': 0.5095784491849814, 'lambda_l1': 0.010374599370054695, 'lambda_l2': 40.67599612066364}. Best is trial 14 with value: 0.7725676181678128.\u001b[0m\n"
     ]
    },
    {
     "name": "stdout",
     "output_type": "stream",
     "text": [
      "[LightGBM] [Warning] feature_fraction is set=0.764981976128038, colsample_bytree=1.0 will be ignored. Current value: feature_fraction=0.764981976128038\n",
      "[LightGBM] [Warning] lambda_l1 is set=0.4583396175806724, reg_alpha=0.0 will be ignored. Current value: lambda_l1=0.4583396175806724\n",
      "[LightGBM] [Warning] bagging_fraction is set=0.5047118197240547, subsample=1.0 will be ignored. Current value: bagging_fraction=0.5047118197240547\n",
      "[LightGBM] [Warning] min_sum_hessian_in_leaf is set=0.009661397813490845, min_child_weight=0.001 will be ignored. Current value: min_sum_hessian_in_leaf=0.009661397813490845\n",
      "[LightGBM] [Warning] bagging_freq is set=1, subsample_freq=0 will be ignored. Current value: bagging_freq=1\n",
      "[LightGBM] [Warning] lambda_l2 is set=34.18592793732849, reg_lambda=0.0 will be ignored. Current value: lambda_l2=34.18592793732849\n"
     ]
    },
    {
     "name": "stderr",
     "output_type": "stream",
     "text": [
      "\u001b[32m[I 2022-05-01 11:51:42,651]\u001b[0m Trial 16 finished with value: 0.7736781902907532 and parameters: {'num_leaves': 10, 'min_child_samples': 200, 'min_sum_hessian_in_leaf': 0.006487348172813453, 'feature_fraction': 0.7533122568560118, 'bagging_fraction': 0.5255992767496774, 'lambda_l1': 0.1826408327783265, 'lambda_l2': 12.16477025999942}. Best is trial 16 with value: 0.7736781902907532.\u001b[0m\n",
      "\u001b[32m[I 2022-05-01 11:51:42,915]\u001b[0m Trial 15 finished with value: 0.7736601112096821 and parameters: {'num_leaves': 9, 'min_child_samples': 196, 'min_sum_hessian_in_leaf': 0.009709598106486705, 'feature_fraction': 0.7529917860005172, 'bagging_fraction': 0.5292724536235864, 'lambda_l1': 0.2177333111314291, 'lambda_l2': 94.51987086551506}. Best is trial 16 with value: 0.7736781902907532.\u001b[0m\n"
     ]
    },
    {
     "name": "stdout",
     "output_type": "stream",
     "text": [
      "[LightGBM] [Warning] feature_fraction is set=0.7155776320136286, colsample_bytree=1.0 will be ignored. Current value: feature_fraction=0.7155776320136286\n",
      "[LightGBM] [Warning] lambda_l1 is set=0.2534994645432852, reg_alpha=0.0 will be ignored. Current value: lambda_l1=0.2534994645432852\n",
      "[LightGBM] [Warning] bagging_fraction is set=0.5108460605522516, subsample=1.0 will be ignored. Current value: bagging_fraction=0.5108460605522516\n",
      "[LightGBM] [Warning] min_sum_hessian_in_leaf is set=0.009545779875764413, min_child_weight=0.001 will be ignored. Current value: min_sum_hessian_in_leaf=0.009545779875764413\n",
      "[LightGBM] [Warning] bagging_freq is set=1, subsample_freq=0 will be ignored. Current value: bagging_freq=1\n",
      "[LightGBM] [Warning] lambda_l2 is set=35.71649364229052, reg_lambda=0.0 will be ignored. Current value: lambda_l2=35.71649364229052\n",
      "[LightGBM] [Warning] feature_fraction is set=0.7284563550773234, colsample_bytree=1.0 will be ignored. Current value: feature_fraction=0.7284563550773234\n",
      "[LightGBM] [Warning] lambda_l1 is set=0.31608344347530143, reg_alpha=0.0 will be ignored. Current value: lambda_l1=0.31608344347530143\n",
      "[LightGBM] [Warning] bagging_fraction is set=0.5010807424753472, subsample=1.0 will be ignored. Current value: bagging_fraction=0.5010807424753472\n",
      "[LightGBM] [Warning] min_sum_hessian_in_leaf is set=0.0064174027192839475, min_child_weight=0.001 will be ignored. Current value: min_sum_hessian_in_leaf=0.0064174027192839475\n",
      "[LightGBM] [Warning] bagging_freq is set=1, subsample_freq=0 will be ignored. Current value: bagging_freq=1\n",
      "[LightGBM] [Warning] lambda_l2 is set=78.1541397851394, reg_lambda=0.0 will be ignored. Current value: lambda_l2=78.1541397851394\n"
     ]
    },
    {
     "name": "stderr",
     "output_type": "stream",
     "text": [
      "\u001b[32m[I 2022-05-01 11:52:04,130]\u001b[0m Trial 18 finished with value: 0.7727465244792361 and parameters: {'num_leaves': 12, 'min_child_samples': 169, 'min_sum_hessian_in_leaf': 0.0074450391759240085, 'feature_fraction': 0.7737368318435336, 'bagging_fraction': 0.5035091058406657, 'lambda_l1': 0.22307424705890072, 'lambda_l2': 25.806357989971495}. Best is trial 16 with value: 0.7736781902907532.\u001b[0m\n"
     ]
    },
    {
     "name": "stdout",
     "output_type": "stream",
     "text": [
      "[LightGBM] [Warning] feature_fraction is set=0.7088508288843905, colsample_bytree=1.0 will be ignored. Current value: feature_fraction=0.7088508288843905\n",
      "[LightGBM] [Warning] lambda_l1 is set=0.42637734956219364, reg_alpha=0.0 will be ignored. Current value: lambda_l1=0.42637734956219364\n",
      "[LightGBM] [Warning] bagging_fraction is set=0.6082112449332547, subsample=1.0 will be ignored. Current value: bagging_fraction=0.6082112449332547\n",
      "[LightGBM] [Warning] min_sum_hessian_in_leaf is set=0.004133195241429847, min_child_weight=0.001 will be ignored. Current value: min_sum_hessian_in_leaf=0.004133195241429847\n",
      "[LightGBM] [Warning] bagging_freq is set=1, subsample_freq=0 will be ignored. Current value: bagging_freq=1\n",
      "[LightGBM] [Warning] lambda_l2 is set=8.81143285534599, reg_lambda=0.0 will be ignored. Current value: lambda_l2=8.81143285534599\n"
     ]
    },
    {
     "name": "stderr",
     "output_type": "stream",
     "text": [
      "\u001b[32m[I 2022-05-01 11:52:43,783]\u001b[0m Trial 17 finished with value: 0.772148325982183 and parameters: {'num_leaves': 18, 'min_child_samples': 171, 'min_sum_hessian_in_leaf': 0.008338079979723863, 'feature_fraction': 0.754030735241468, 'bagging_fraction': 0.5374274003238141, 'lambda_l1': 0.18812831719012948, 'lambda_l2': 73.6798663423486}. Best is trial 16 with value: 0.7736781902907532.\u001b[0m\n"
     ]
    },
    {
     "name": "stdout",
     "output_type": "stream",
     "text": [
      "[LightGBM] [Warning] feature_fraction is set=0.7031573150071807, colsample_bytree=1.0 will be ignored. Current value: feature_fraction=0.7031573150071807\n",
      "[LightGBM] [Warning] lambda_l1 is set=0.6394333573768488, reg_alpha=0.0 will be ignored. Current value: lambda_l1=0.6394333573768488\n",
      "[LightGBM] [Warning] bagging_fraction is set=0.597507797262484, subsample=1.0 will be ignored. Current value: bagging_fraction=0.597507797262484\n",
      "[LightGBM] [Warning] min_sum_hessian_in_leaf is set=0.0032283133664017154, min_child_weight=0.001 will be ignored. Current value: min_sum_hessian_in_leaf=0.0032283133664017154\n",
      "[LightGBM] [Warning] bagging_freq is set=1, subsample_freq=0 will be ignored. Current value: bagging_freq=1\n",
      "[LightGBM] [Warning] lambda_l2 is set=16.407511193233738, reg_lambda=0.0 will be ignored. Current value: lambda_l2=16.407511193233738\n"
     ]
    },
    {
     "name": "stderr",
     "output_type": "stream",
     "text": [
      "\u001b[32m[I 2022-05-01 11:52:52,637]\u001b[0m Trial 19 finished with value: 0.773296556029459 and parameters: {'num_leaves': 18, 'min_child_samples': 169, 'min_sum_hessian_in_leaf': 0.009661397813490845, 'feature_fraction': 0.764981976128038, 'bagging_fraction': 0.5047118197240547, 'lambda_l1': 0.4583396175806724, 'lambda_l2': 34.18592793732849}. Best is trial 16 with value: 0.7736781902907532.\u001b[0m\n"
     ]
    },
    {
     "name": "stdout",
     "output_type": "stream",
     "text": [
      "[LightGBM] [Warning] feature_fraction is set=0.6980503747817011, colsample_bytree=1.0 will be ignored. Current value: feature_fraction=0.6980503747817011\n",
      "[LightGBM] [Warning] lambda_l1 is set=3.380179651859003, reg_alpha=0.0 will be ignored. Current value: lambda_l1=3.380179651859003\n",
      "[LightGBM] [Warning] bagging_fraction is set=0.5901847808823646, subsample=1.0 will be ignored. Current value: bagging_fraction=0.5901847808823646\n",
      "[LightGBM] [Warning] min_sum_hessian_in_leaf is set=0.0035763432729662543, min_child_weight=0.001 will be ignored. Current value: min_sum_hessian_in_leaf=0.0035763432729662543\n",
      "[LightGBM] [Warning] bagging_freq is set=1, subsample_freq=0 will be ignored. Current value: bagging_freq=1\n",
      "[LightGBM] [Warning] lambda_l2 is set=6.089080442967356, reg_lambda=0.0 will be ignored. Current value: lambda_l2=6.089080442967356\n"
     ]
    },
    {
     "name": "stderr",
     "output_type": "stream",
     "text": [
      "\u001b[32m[I 2022-05-01 11:54:53,155]\u001b[0m Trial 20 finished with value: 0.7728608448320742 and parameters: {'num_leaves': 18, 'min_child_samples': 170, 'min_sum_hessian_in_leaf': 0.009545779875764413, 'feature_fraction': 0.7155776320136286, 'bagging_fraction': 0.5108460605522516, 'lambda_l1': 0.2534994645432852, 'lambda_l2': 35.71649364229052}. Best is trial 16 with value: 0.7736781902907532.\u001b[0m\n"
     ]
    },
    {
     "name": "stdout",
     "output_type": "stream",
     "text": [
      "[LightGBM] [Warning] feature_fraction is set=0.827263806818863, colsample_bytree=1.0 will be ignored. Current value: feature_fraction=0.827263806818863\n",
      "[LightGBM] [Warning] lambda_l1 is set=0.623327025754389, reg_alpha=0.0 will be ignored. Current value: lambda_l1=0.623327025754389\n",
      "[LightGBM] [Warning] bagging_fraction is set=0.5901072224782853, subsample=1.0 will be ignored. Current value: bagging_fraction=0.5901072224782853\n",
      "[LightGBM] [Warning] min_sum_hessian_in_leaf is set=0.00359319041190123, min_child_weight=0.001 will be ignored. Current value: min_sum_hessian_in_leaf=0.00359319041190123\n",
      "[LightGBM] [Warning] bagging_freq is set=1, subsample_freq=0 will be ignored. Current value: bagging_freq=1\n",
      "[LightGBM] [Warning] lambda_l2 is set=9.35101587113855, reg_lambda=0.0 will be ignored. Current value: lambda_l2=9.35101587113855\n"
     ]
    },
    {
     "name": "stderr",
     "output_type": "stream",
     "text": [
      "\u001b[32m[I 2022-05-01 11:55:12,822]\u001b[0m Trial 21 finished with value: 0.7727797116160359 and parameters: {'num_leaves': 10, 'min_child_samples': 167, 'min_sum_hessian_in_leaf': 0.0064174027192839475, 'feature_fraction': 0.7284563550773234, 'bagging_fraction': 0.5010807424753472, 'lambda_l1': 0.31608344347530143, 'lambda_l2': 78.1541397851394}. Best is trial 16 with value: 0.7736781902907532.\u001b[0m\n"
     ]
    },
    {
     "name": "stdout",
     "output_type": "stream",
     "text": [
      "[LightGBM] [Warning] feature_fraction is set=0.8253622979330543, colsample_bytree=1.0 will be ignored. Current value: feature_fraction=0.8253622979330543\n",
      "[LightGBM] [Warning] lambda_l1 is set=0.6733154758493748, reg_alpha=0.0 will be ignored. Current value: lambda_l1=0.6733154758493748\n",
      "[LightGBM] [Warning] bagging_fraction is set=0.5904077337210729, subsample=1.0 will be ignored. Current value: bagging_fraction=0.5904077337210729\n",
      "[LightGBM] [Warning] min_sum_hessian_in_leaf is set=0.002664082937994302, min_child_weight=0.001 will be ignored. Current value: min_sum_hessian_in_leaf=0.002664082937994302\n",
      "[LightGBM] [Warning] bagging_freq is set=1, subsample_freq=0 will be ignored. Current value: bagging_freq=1\n",
      "[LightGBM] [Warning] lambda_l2 is set=9.592029275625382, reg_lambda=0.0 will be ignored. Current value: lambda_l2=9.592029275625382\n"
     ]
    },
    {
     "name": "stderr",
     "output_type": "stream",
     "text": [
      "\u001b[32m[I 2022-05-01 11:55:25,660]\u001b[0m Trial 22 finished with value: 0.7707033247020417 and parameters: {'num_leaves': 107, 'min_child_samples': 199, 'min_sum_hessian_in_leaf': 0.004133195241429847, 'feature_fraction': 0.7088508288843905, 'bagging_fraction': 0.6082112449332547, 'lambda_l1': 0.42637734956219364, 'lambda_l2': 8.81143285534599}. Best is trial 16 with value: 0.7736781902907532.\u001b[0m\n"
     ]
    },
    {
     "name": "stdout",
     "output_type": "stream",
     "text": [
      "[LightGBM] [Warning] feature_fraction is set=0.8302430831366436, colsample_bytree=1.0 will be ignored. Current value: feature_fraction=0.8302430831366436\n",
      "[LightGBM] [Warning] lambda_l1 is set=0.7257163869813893, reg_alpha=0.0 will be ignored. Current value: lambda_l1=0.7257163869813893\n",
      "[LightGBM] [Warning] bagging_fraction is set=0.5744595134306741, subsample=1.0 will be ignored. Current value: bagging_fraction=0.5744595134306741\n",
      "[LightGBM] [Warning] min_sum_hessian_in_leaf is set=0.0036035561534540268, min_child_weight=0.001 will be ignored. Current value: min_sum_hessian_in_leaf=0.0036035561534540268\n",
      "[LightGBM] [Warning] bagging_freq is set=1, subsample_freq=0 will be ignored. Current value: bagging_freq=1\n",
      "[LightGBM] [Warning] lambda_l2 is set=11.47588663134806, reg_lambda=0.0 will be ignored. Current value: lambda_l2=11.47588663134806\n"
     ]
    },
    {
     "name": "stderr",
     "output_type": "stream",
     "text": [
      "\u001b[32m[I 2022-05-01 11:55:50,741]\u001b[0m Trial 23 finished with value: 0.7697068378148259 and parameters: {'num_leaves': 113, 'min_child_samples': 120, 'min_sum_hessian_in_leaf': 0.0032283133664017154, 'feature_fraction': 0.7031573150071807, 'bagging_fraction': 0.597507797262484, 'lambda_l1': 0.6394333573768488, 'lambda_l2': 16.407511193233738}. Best is trial 16 with value: 0.7736781902907532.\u001b[0m\n"
     ]
    },
    {
     "name": "stdout",
     "output_type": "stream",
     "text": [
      "[LightGBM] [Warning] feature_fraction is set=0.8273254325163798, colsample_bytree=1.0 will be ignored. Current value: feature_fraction=0.8273254325163798\n",
      "[LightGBM] [Warning] lambda_l1 is set=0.07228631900555492, reg_alpha=0.0 will be ignored. Current value: lambda_l1=0.07228631900555492\n",
      "[LightGBM] [Warning] bagging_fraction is set=0.5684420361833098, subsample=1.0 will be ignored. Current value: bagging_fraction=0.5684420361833098\n",
      "[LightGBM] [Warning] min_sum_hessian_in_leaf is set=0.0012029532753087611, min_child_weight=0.001 will be ignored. Current value: min_sum_hessian_in_leaf=0.0012029532753087611\n",
      "[LightGBM] [Warning] bagging_freq is set=1, subsample_freq=0 will be ignored. Current value: bagging_freq=1\n",
      "[LightGBM] [Warning] lambda_l2 is set=7.793103881809226, reg_lambda=0.0 will be ignored. Current value: lambda_l2=7.793103881809226\n"
     ]
    },
    {
     "name": "stderr",
     "output_type": "stream",
     "text": [
      "\u001b[32m[I 2022-05-01 11:56:04,897]\u001b[0m Trial 24 finished with value: 0.7685516183769958 and parameters: {'num_leaves': 122, 'min_child_samples': 198, 'min_sum_hessian_in_leaf': 0.0035763432729662543, 'feature_fraction': 0.6980503747817011, 'bagging_fraction': 0.5901847808823646, 'lambda_l1': 3.380179651859003, 'lambda_l2': 6.089080442967356}. Best is trial 16 with value: 0.7736781902907532.\u001b[0m\n"
     ]
    },
    {
     "name": "stdout",
     "output_type": "stream",
     "text": [
      "[LightGBM] [Warning] feature_fraction is set=0.8261331236622983, colsample_bytree=1.0 will be ignored. Current value: feature_fraction=0.8261331236622983\n",
      "[LightGBM] [Warning] lambda_l1 is set=0.08162522053364786, reg_alpha=0.0 will be ignored. Current value: lambda_l1=0.08162522053364786\n",
      "[LightGBM] [Warning] bagging_fraction is set=0.6991152132614744, subsample=1.0 will be ignored. Current value: bagging_fraction=0.6991152132614744\n",
      "[LightGBM] [Warning] min_sum_hessian_in_leaf is set=0.0011639087722019085, min_child_weight=0.001 will be ignored. Current value: min_sum_hessian_in_leaf=0.0011639087722019085\n",
      "[LightGBM] [Warning] bagging_freq is set=1, subsample_freq=0 will be ignored. Current value: bagging_freq=1\n",
      "[LightGBM] [Warning] lambda_l2 is set=13.362526464200625, reg_lambda=0.0 will be ignored. Current value: lambda_l2=13.362526464200625\n"
     ]
    },
    {
     "name": "stderr",
     "output_type": "stream",
     "text": [
      "\u001b[32m[I 2022-05-01 11:57:58,895]\u001b[0m Trial 27 finished with value: 0.7705938206876485 and parameters: {'num_leaves': 41, 'min_child_samples': 200, 'min_sum_hessian_in_leaf': 0.0036035561534540268, 'feature_fraction': 0.8302430831366436, 'bagging_fraction': 0.5744595134306741, 'lambda_l1': 0.7257163869813893, 'lambda_l2': 11.47588663134806}. Best is trial 16 with value: 0.7736781902907532.\u001b[0m\n"
     ]
    },
    {
     "name": "stdout",
     "output_type": "stream",
     "text": [
      "[LightGBM] [Warning] feature_fraction is set=0.837696514612162, colsample_bytree=1.0 will be ignored. Current value: feature_fraction=0.837696514612162\n",
      "[LightGBM] [Warning] lambda_l1 is set=0.09765139093978645, reg_alpha=0.0 will be ignored. Current value: lambda_l1=0.09765139093978645\n",
      "[LightGBM] [Warning] bagging_fraction is set=0.6852129041426301, subsample=1.0 will be ignored. Current value: bagging_fraction=0.6852129041426301\n",
      "[LightGBM] [Warning] min_sum_hessian_in_leaf is set=0.0012501165270182345, min_child_weight=0.001 will be ignored. Current value: min_sum_hessian_in_leaf=0.0012501165270182345\n",
      "[LightGBM] [Warning] bagging_freq is set=1, subsample_freq=0 will be ignored. Current value: bagging_freq=1\n",
      "[LightGBM] [Warning] lambda_l2 is set=93.35780996278153, reg_lambda=0.0 will be ignored. Current value: lambda_l2=93.35780996278153\n"
     ]
    },
    {
     "name": "stderr",
     "output_type": "stream",
     "text": [
      "\u001b[32m[I 2022-05-01 11:58:03,416]\u001b[0m Trial 26 finished with value: 0.7700740978707757 and parameters: {'num_leaves': 102, 'min_child_samples': 198, 'min_sum_hessian_in_leaf': 0.002664082937994302, 'feature_fraction': 0.8253622979330543, 'bagging_fraction': 0.5904077337210729, 'lambda_l1': 0.6733154758493748, 'lambda_l2': 9.592029275625382}. Best is trial 16 with value: 0.7736781902907532.\u001b[0m\n"
     ]
    },
    {
     "name": "stdout",
     "output_type": "stream",
     "text": [
      "[LightGBM] [Warning] feature_fraction is set=0.9472446755405861, colsample_bytree=1.0 will be ignored. Current value: feature_fraction=0.9472446755405861\n",
      "[LightGBM] [Warning] lambda_l1 is set=0.09319350275344146, reg_alpha=0.0 will be ignored. Current value: lambda_l1=0.09319350275344146\n",
      "[LightGBM] [Warning] bagging_fraction is set=0.7043685989738626, subsample=1.0 will be ignored. Current value: bagging_fraction=0.7043685989738626\n",
      "[LightGBM] [Warning] min_sum_hessian_in_leaf is set=0.0007725307045602569, min_child_weight=0.001 will be ignored. Current value: min_sum_hessian_in_leaf=0.0007725307045602569\n",
      "[LightGBM] [Warning] bagging_freq is set=1, subsample_freq=0 will be ignored. Current value: bagging_freq=1\n",
      "[LightGBM] [Warning] lambda_l2 is set=92.21762031695367, reg_lambda=0.0 will be ignored. Current value: lambda_l2=92.21762031695367\n"
     ]
    },
    {
     "name": "stderr",
     "output_type": "stream",
     "text": [
      "\u001b[32m[I 2022-05-01 11:58:58,856]\u001b[0m Trial 25 finished with value: 0.7706634189156064 and parameters: {'num_leaves': 102, 'min_child_samples': 200, 'min_sum_hessian_in_leaf': 0.00359319041190123, 'feature_fraction': 0.827263806818863, 'bagging_fraction': 0.5901072224782853, 'lambda_l1': 0.623327025754389, 'lambda_l2': 9.35101587113855}. Best is trial 16 with value: 0.7736781902907532.\u001b[0m\n"
     ]
    },
    {
     "name": "stdout",
     "output_type": "stream",
     "text": [
      "[LightGBM] [Warning] feature_fraction is set=0.607897101099848, colsample_bytree=1.0 will be ignored. Current value: feature_fraction=0.607897101099848\n",
      "[LightGBM] [Warning] lambda_l1 is set=0.08963604637974677, reg_alpha=0.0 will be ignored. Current value: lambda_l1=0.08963604637974677\n",
      "[LightGBM] [Warning] bagging_fraction is set=0.6942587934616335, subsample=1.0 will be ignored. Current value: bagging_fraction=0.6942587934616335\n",
      "[LightGBM] [Warning] min_sum_hessian_in_leaf is set=0.0009786946009003562, min_child_weight=0.001 will be ignored. Current value: min_sum_hessian_in_leaf=0.0009786946009003562\n",
      "[LightGBM] [Warning] bagging_freq is set=1, subsample_freq=0 will be ignored. Current value: bagging_freq=1\n",
      "[LightGBM] [Warning] lambda_l2 is set=56.3068220784748, reg_lambda=0.0 will be ignored. Current value: lambda_l2=56.3068220784748\n"
     ]
    },
    {
     "name": "stderr",
     "output_type": "stream",
     "text": [
      "\u001b[32m[I 2022-05-01 11:59:19,869]\u001b[0m Trial 28 finished with value: 0.7717690892029698 and parameters: {'num_leaves': 44, 'min_child_samples': 183, 'min_sum_hessian_in_leaf': 0.0012029532753087611, 'feature_fraction': 0.8273254325163798, 'bagging_fraction': 0.5684420361833098, 'lambda_l1': 0.07228631900555492, 'lambda_l2': 7.793103881809226}. Best is trial 16 with value: 0.7736781902907532.\u001b[0m\n"
     ]
    },
    {
     "name": "stdout",
     "output_type": "stream",
     "text": [
      "[LightGBM] [Warning] feature_fraction is set=0.6021561465670731, colsample_bytree=1.0 will be ignored. Current value: feature_fraction=0.6021561465670731\n",
      "[LightGBM] [Warning] lambda_l1 is set=0.0779321828521109, reg_alpha=0.0 will be ignored. Current value: lambda_l1=0.0779321828521109\n",
      "[LightGBM] [Warning] bagging_fraction is set=0.7130734560434281, subsample=1.0 will be ignored. Current value: bagging_fraction=0.7130734560434281\n",
      "[LightGBM] [Warning] min_sum_hessian_in_leaf is set=0.0006572892814627545, min_child_weight=0.001 will be ignored. Current value: min_sum_hessian_in_leaf=0.0006572892814627545\n",
      "[LightGBM] [Warning] bagging_freq is set=1, subsample_freq=0 will be ignored. Current value: bagging_freq=1\n",
      "[LightGBM] [Warning] lambda_l2 is set=97.11829116150953, reg_lambda=0.0 will be ignored. Current value: lambda_l2=97.11829116150953\n"
     ]
    },
    {
     "name": "stderr",
     "output_type": "stream",
     "text": [
      "\u001b[32m[I 2022-05-01 11:59:45,906]\u001b[0m Trial 29 finished with value: 0.7716823203009698 and parameters: {'num_leaves': 37, 'min_child_samples': 154, 'min_sum_hessian_in_leaf': 0.0011639087722019085, 'feature_fraction': 0.8261331236622983, 'bagging_fraction': 0.6991152132614744, 'lambda_l1': 0.08162522053364786, 'lambda_l2': 13.362526464200625}. Best is trial 16 with value: 0.7736781902907532.\u001b[0m\n"
     ]
    },
    {
     "name": "stdout",
     "output_type": "stream",
     "text": [
      "[LightGBM] [Warning] feature_fraction is set=0.6733497995777573, colsample_bytree=1.0 will be ignored. Current value: feature_fraction=0.6733497995777573\n",
      "[LightGBM] [Warning] lambda_l1 is set=0.13694554646248658, reg_alpha=0.0 will be ignored. Current value: lambda_l1=0.13694554646248658\n",
      "[LightGBM] [Warning] bagging_fraction is set=0.5400280555887712, subsample=1.0 will be ignored. Current value: bagging_fraction=0.5400280555887712\n",
      "[LightGBM] [Warning] min_sum_hessian_in_leaf is set=0.0003863078218838296, min_child_weight=0.001 will be ignored. Current value: min_sum_hessian_in_leaf=0.0003863078218838296\n",
      "[LightGBM] [Warning] bagging_freq is set=1, subsample_freq=0 will be ignored. Current value: bagging_freq=1\n",
      "[LightGBM] [Warning] lambda_l2 is set=51.464628429983996, reg_lambda=0.0 will be ignored. Current value: lambda_l2=51.464628429983996\n"
     ]
    },
    {
     "name": "stderr",
     "output_type": "stream",
     "text": [
      "\u001b[32m[I 2022-05-01 12:01:55,087]\u001b[0m Trial 31 finished with value: 0.7718521603540037 and parameters: {'num_leaves': 42, 'min_child_samples': 158, 'min_sum_hessian_in_leaf': 0.0007725307045602569, 'feature_fraction': 0.9472446755405861, 'bagging_fraction': 0.7043685989738626, 'lambda_l1': 0.09319350275344146, 'lambda_l2': 92.21762031695367}. Best is trial 16 with value: 0.7736781902907532.\u001b[0m\n"
     ]
    },
    {
     "name": "stdout",
     "output_type": "stream",
     "text": [
      "[LightGBM] [Warning] feature_fraction is set=0.6231293151037325, colsample_bytree=1.0 will be ignored. Current value: feature_fraction=0.6231293151037325\n",
      "[LightGBM] [Warning] lambda_l1 is set=2.3145977966055207, reg_alpha=0.0 will be ignored. Current value: lambda_l1=2.3145977966055207\n",
      "[LightGBM] [Warning] bagging_fraction is set=0.5400643721950571, subsample=1.0 will be ignored. Current value: bagging_fraction=0.5400643721950571\n",
      "[LightGBM] [Warning] min_sum_hessian_in_leaf is set=0.005648102844029995, min_child_weight=0.001 will be ignored. Current value: min_sum_hessian_in_leaf=0.005648102844029995\n",
      "[LightGBM] [Warning] bagging_freq is set=1, subsample_freq=0 will be ignored. Current value: bagging_freq=1\n",
      "[LightGBM] [Warning] lambda_l2 is set=33.505733342004284, reg_lambda=0.0 will be ignored. Current value: lambda_l2=33.505733342004284\n"
     ]
    },
    {
     "name": "stderr",
     "output_type": "stream",
     "text": [
      "\u001b[32m[I 2022-05-01 12:02:29,473]\u001b[0m Trial 30 finished with value: 0.7729985272762747 and parameters: {'num_leaves': 42, 'min_child_samples': 150, 'min_sum_hessian_in_leaf': 0.0012501165270182345, 'feature_fraction': 0.837696514612162, 'bagging_fraction': 0.6852129041426301, 'lambda_l1': 0.09765139093978645, 'lambda_l2': 93.35780996278153}. Best is trial 16 with value: 0.7736781902907532.\u001b[0m\n"
     ]
    },
    {
     "name": "stdout",
     "output_type": "stream",
     "text": [
      "[LightGBM] [Warning] feature_fraction is set=0.5138157602047937, colsample_bytree=1.0 will be ignored. Current value: feature_fraction=0.5138157602047937\n",
      "[LightGBM] [Warning] lambda_l1 is set=0.1345798694027298, reg_alpha=0.0 will be ignored. Current value: lambda_l1=0.1345798694027298\n",
      "[LightGBM] [Warning] bagging_fraction is set=0.54767143109193, subsample=1.0 will be ignored. Current value: bagging_fraction=0.54767143109193\n",
      "[LightGBM] [Warning] min_sum_hessian_in_leaf is set=0.00540755829463685, min_child_weight=0.001 will be ignored. Current value: min_sum_hessian_in_leaf=0.00540755829463685\n",
      "[LightGBM] [Warning] bagging_freq is set=1, subsample_freq=0 will be ignored. Current value: bagging_freq=1\n",
      "[LightGBM] [Warning] lambda_l2 is set=46.005885073524325, reg_lambda=0.0 will be ignored. Current value: lambda_l2=46.005885073524325\n"
     ]
    },
    {
     "name": "stderr",
     "output_type": "stream",
     "text": [
      "\u001b[32m[I 2022-05-01 12:03:24,262]\u001b[0m Trial 34 finished with value: 0.7715305557666267 and parameters: {'num_leaves': 82, 'min_child_samples': 182, 'min_sum_hessian_in_leaf': 0.0003863078218838296, 'feature_fraction': 0.6733497995777573, 'bagging_fraction': 0.5400280555887712, 'lambda_l1': 0.13694554646248658, 'lambda_l2': 51.464628429983996}. Best is trial 16 with value: 0.7736781902907532.\u001b[0m\n"
     ]
    },
    {
     "name": "stdout",
     "output_type": "stream",
     "text": [
      "[LightGBM] [Warning] feature_fraction is set=0.7514566059816202, colsample_bytree=1.0 will be ignored. Current value: feature_fraction=0.7514566059816202\n",
      "[LightGBM] [Warning] lambda_l1 is set=0.036490510273135365, reg_alpha=0.0 will be ignored. Current value: lambda_l1=0.036490510273135365\n",
      "[LightGBM] [Warning] bagging_fraction is set=0.8022663475328027, subsample=1.0 will be ignored. Current value: bagging_fraction=0.8022663475328027\n",
      "[LightGBM] [Warning] min_sum_hessian_in_leaf is set=0.006214375855002281, min_child_weight=0.001 will be ignored. Current value: min_sum_hessian_in_leaf=0.006214375855002281\n",
      "[LightGBM] [Warning] bagging_freq is set=1, subsample_freq=0 will be ignored. Current value: bagging_freq=1\n",
      "[LightGBM] [Warning] lambda_l2 is set=28.040356568227118, reg_lambda=0.0 will be ignored. Current value: lambda_l2=28.040356568227118\n"
     ]
    },
    {
     "name": "stderr",
     "output_type": "stream",
     "text": [
      "\u001b[32m[I 2022-05-01 12:03:35,550]\u001b[0m Trial 32 finished with value: 0.7721522624126429 and parameters: {'num_leaves': 42, 'min_child_samples': 156, 'min_sum_hessian_in_leaf': 0.0009786946009003562, 'feature_fraction': 0.607897101099848, 'bagging_fraction': 0.6942587934616335, 'lambda_l1': 0.08963604637974677, 'lambda_l2': 56.3068220784748}. Best is trial 16 with value: 0.7736781902907532.\u001b[0m\n"
     ]
    },
    {
     "name": "stdout",
     "output_type": "stream",
     "text": [
      "[LightGBM] [Warning] feature_fraction is set=0.748845019303335, colsample_bytree=1.0 will be ignored. Current value: feature_fraction=0.748845019303335\n",
      "[LightGBM] [Warning] lambda_l1 is set=0.03522551287537929, reg_alpha=0.0 will be ignored. Current value: lambda_l1=0.03522551287537929\n",
      "[LightGBM] [Warning] bagging_fraction is set=0.8228943442677358, subsample=1.0 will be ignored. Current value: bagging_fraction=0.8228943442677358\n",
      "[LightGBM] [Warning] min_sum_hessian_in_leaf is set=0.005027715444940295, min_child_weight=0.001 will be ignored. Current value: min_sum_hessian_in_leaf=0.005027715444940295\n",
      "[LightGBM] [Warning] bagging_freq is set=1, subsample_freq=0 will be ignored. Current value: bagging_freq=1\n",
      "[LightGBM] [Warning] lambda_l2 is set=23.26357516965278, reg_lambda=0.0 will be ignored. Current value: lambda_l2=23.26357516965278\n"
     ]
    },
    {
     "name": "stderr",
     "output_type": "stream",
     "text": [
      "\u001b[32m[I 2022-05-01 12:03:57,246]\u001b[0m Trial 33 finished with value: 0.773263732255471 and parameters: {'num_leaves': 43, 'min_child_samples': 151, 'min_sum_hessian_in_leaf': 0.0006572892814627545, 'feature_fraction': 0.6021561465670731, 'bagging_fraction': 0.7130734560434281, 'lambda_l1': 0.0779321828521109, 'lambda_l2': 97.11829116150953}. Best is trial 16 with value: 0.7736781902907532.\u001b[0m\n"
     ]
    },
    {
     "name": "stdout",
     "output_type": "stream",
     "text": [
      "[LightGBM] [Warning] feature_fraction is set=0.5371443300284879, colsample_bytree=1.0 will be ignored. Current value: feature_fraction=0.5371443300284879\n",
      "[LightGBM] [Warning] lambda_l1 is set=0.039891656370535315, reg_alpha=0.0 will be ignored. Current value: lambda_l1=0.039891656370535315\n",
      "[LightGBM] [Warning] bagging_fraction is set=0.6307012532543521, subsample=1.0 will be ignored. Current value: bagging_fraction=0.6307012532543521\n",
      "[LightGBM] [Warning] min_sum_hessian_in_leaf is set=0.005612161110241938, min_child_weight=0.001 will be ignored. Current value: min_sum_hessian_in_leaf=0.005612161110241938\n",
      "[LightGBM] [Warning] bagging_freq is set=1, subsample_freq=0 will be ignored. Current value: bagging_freq=1\n",
      "[LightGBM] [Warning] lambda_l2 is set=23.99974380142292, reg_lambda=0.0 will be ignored. Current value: lambda_l2=23.99974380142292\n"
     ]
    },
    {
     "name": "stderr",
     "output_type": "stream",
     "text": [
      "\u001b[32m[I 2022-05-01 12:05:27,699]\u001b[0m Trial 36 finished with value: 0.7725992022333846 and parameters: {'num_leaves': 31, 'min_child_samples': 176, 'min_sum_hessian_in_leaf': 0.00540755829463685, 'feature_fraction': 0.5138157602047937, 'bagging_fraction': 0.54767143109193, 'lambda_l1': 0.1345798694027298, 'lambda_l2': 46.005885073524325}. Best is trial 16 with value: 0.7736781902907532.\u001b[0m\n"
     ]
    },
    {
     "name": "stdout",
     "output_type": "stream",
     "text": [
      "[LightGBM] [Warning] feature_fraction is set=0.5959387515411809, colsample_bytree=1.0 will be ignored. Current value: feature_fraction=0.5959387515411809\n",
      "[LightGBM] [Warning] lambda_l1 is set=0.040897283829341886, reg_alpha=0.0 will be ignored. Current value: lambda_l1=0.040897283829341886\n",
      "[LightGBM] [Warning] bagging_fraction is set=0.6298458983085963, subsample=1.0 will be ignored. Current value: bagging_fraction=0.6298458983085963\n",
      "[LightGBM] [Warning] min_sum_hessian_in_leaf is set=0.0020712237089454844, min_child_weight=0.001 will be ignored. Current value: min_sum_hessian_in_leaf=0.0020712237089454844\n",
      "[LightGBM] [Warning] bagging_freq is set=1, subsample_freq=0 will be ignored. Current value: bagging_freq=1\n",
      "[LightGBM] [Warning] lambda_l2 is set=23.61762245836251, reg_lambda=0.0 will be ignored. Current value: lambda_l2=23.61762245836251\n"
     ]
    },
    {
     "name": "stderr",
     "output_type": "stream",
     "text": [
      "\u001b[32m[I 2022-05-01 12:06:23,710]\u001b[0m Trial 35 finished with value: 0.773913852448408 and parameters: {'num_leaves': 8, 'min_child_samples': 182, 'min_sum_hessian_in_leaf': 0.005648102844029995, 'feature_fraction': 0.6231293151037325, 'bagging_fraction': 0.5400643721950571, 'lambda_l1': 2.3145977966055207, 'lambda_l2': 33.505733342004284}. Best is trial 35 with value: 0.773913852448408.\u001b[0m\n"
     ]
    },
    {
     "name": "stdout",
     "output_type": "stream",
     "text": [
      "[LightGBM] [Warning] feature_fraction is set=0.7513067889436882, colsample_bytree=1.0 will be ignored. Current value: feature_fraction=0.7513067889436882\n",
      "[LightGBM] [Warning] lambda_l1 is set=2.391777566789162, reg_alpha=0.0 will be ignored. Current value: lambda_l1=2.391777566789162\n",
      "[LightGBM] [Warning] bagging_fraction is set=0.6167844354306887, subsample=1.0 will be ignored. Current value: bagging_fraction=0.6167844354306887\n",
      "[LightGBM] [Warning] min_sum_hessian_in_leaf is set=0.002007016686903535, min_child_weight=0.001 will be ignored. Current value: min_sum_hessian_in_leaf=0.002007016686903535\n",
      "[LightGBM] [Warning] bagging_freq is set=1, subsample_freq=0 will be ignored. Current value: bagging_freq=1\n",
      "[LightGBM] [Warning] lambda_l2 is set=23.314713834317562, reg_lambda=0.0 will be ignored. Current value: lambda_l2=23.314713834317562\n"
     ]
    },
    {
     "name": "stderr",
     "output_type": "stream",
     "text": [
      "\u001b[32m[I 2022-05-01 12:06:54,926]\u001b[0m Trial 38 finished with value: 0.7736320930869975 and parameters: {'num_leaves': 25, 'min_child_samples': 183, 'min_sum_hessian_in_leaf': 0.005027715444940295, 'feature_fraction': 0.748845019303335, 'bagging_fraction': 0.8228943442677358, 'lambda_l1': 0.03522551287537929, 'lambda_l2': 23.26357516965278}. Best is trial 35 with value: 0.773913852448408.\u001b[0m\n"
     ]
    },
    {
     "name": "stdout",
     "output_type": "stream",
     "text": [
      "[LightGBM] [Warning] feature_fraction is set=0.5849979625084633, colsample_bytree=1.0 will be ignored. Current value: feature_fraction=0.5849979625084633\n",
      "[LightGBM] [Warning] lambda_l1 is set=0.042220064682153204, reg_alpha=0.0 will be ignored. Current value: lambda_l1=0.042220064682153204\n",
      "[LightGBM] [Warning] bagging_fraction is set=0.8041142026980888, subsample=1.0 will be ignored. Current value: bagging_fraction=0.8041142026980888\n",
      "[LightGBM] [Warning] min_sum_hessian_in_leaf is set=0.0019953966893219, min_child_weight=0.001 will be ignored. Current value: min_sum_hessian_in_leaf=0.0019953966893219\n",
      "[LightGBM] [Warning] bagging_freq is set=1, subsample_freq=0 will be ignored. Current value: bagging_freq=1\n",
      "[LightGBM] [Warning] lambda_l2 is set=24.225175373478233, reg_lambda=0.0 will be ignored. Current value: lambda_l2=24.225175373478233\n"
     ]
    },
    {
     "name": "stderr",
     "output_type": "stream",
     "text": [
      "\u001b[32m[I 2022-05-01 12:07:20,523]\u001b[0m Trial 37 finished with value: 0.7740694999775035 and parameters: {'num_leaves': 29, 'min_child_samples': 183, 'min_sum_hessian_in_leaf': 0.006214375855002281, 'feature_fraction': 0.7514566059816202, 'bagging_fraction': 0.8022663475328027, 'lambda_l1': 0.036490510273135365, 'lambda_l2': 28.040356568227118}. Best is trial 37 with value: 0.7740694999775035.\u001b[0m\n"
     ]
    },
    {
     "name": "stdout",
     "output_type": "stream",
     "text": [
      "[LightGBM] [Warning] feature_fraction is set=0.5723896784726493, colsample_bytree=1.0 will be ignored. Current value: feature_fraction=0.5723896784726493\n",
      "[LightGBM] [Warning] lambda_l1 is set=2.6006634286646846, reg_alpha=0.0 will be ignored. Current value: lambda_l1=2.6006634286646846\n",
      "[LightGBM] [Warning] bagging_fraction is set=0.8791233711371605, subsample=1.0 will be ignored. Current value: bagging_fraction=0.8791233711371605\n",
      "[LightGBM] [Warning] min_sum_hessian_in_leaf is set=0.0022827757433597456, min_child_weight=0.001 will be ignored. Current value: min_sum_hessian_in_leaf=0.0022827757433597456\n",
      "[LightGBM] [Warning] bagging_freq is set=1, subsample_freq=0 will be ignored. Current value: bagging_freq=1\n",
      "[LightGBM] [Warning] lambda_l2 is set=4.1907772179650165, reg_lambda=0.0 will be ignored. Current value: lambda_l2=4.1907772179650165\n"
     ]
    },
    {
     "name": "stderr",
     "output_type": "stream",
     "text": [
      "\u001b[32m[I 2022-05-01 12:08:16,904]\u001b[0m Trial 39 finished with value: 0.7739951139101449 and parameters: {'num_leaves': 27, 'min_child_samples': 181, 'min_sum_hessian_in_leaf': 0.005612161110241938, 'feature_fraction': 0.5371443300284879, 'bagging_fraction': 0.6307012532543521, 'lambda_l1': 0.039891656370535315, 'lambda_l2': 23.99974380142292}. Best is trial 37 with value: 0.7740694999775035.\u001b[0m\n"
     ]
    },
    {
     "name": "stdout",
     "output_type": "stream",
     "text": [
      "[LightGBM] [Warning] feature_fraction is set=0.567773430851432, colsample_bytree=1.0 will be ignored. Current value: feature_fraction=0.567773430851432\n",
      "[LightGBM] [Warning] lambda_l1 is set=0.042960950500772525, reg_alpha=0.0 will be ignored. Current value: lambda_l1=0.042960950500772525\n",
      "[LightGBM] [Warning] bagging_fraction is set=0.7949940237379882, subsample=1.0 will be ignored. Current value: bagging_fraction=0.7949940237379882\n",
      "[LightGBM] [Warning] min_sum_hessian_in_leaf is set=0.001955060288282266, min_child_weight=0.001 will be ignored. Current value: min_sum_hessian_in_leaf=0.001955060288282266\n",
      "[LightGBM] [Warning] bagging_freq is set=1, subsample_freq=0 will be ignored. Current value: bagging_freq=1\n",
      "[LightGBM] [Warning] lambda_l2 is set=4.4036662899056545, reg_lambda=0.0 will be ignored. Current value: lambda_l2=4.4036662899056545\n"
     ]
    },
    {
     "name": "stderr",
     "output_type": "stream",
     "text": [
      "\u001b[32m[I 2022-05-01 12:09:14,322]\u001b[0m Trial 40 finished with value: 0.7698194767240649 and parameters: {'num_leaves': 148, 'min_child_samples': 185, 'min_sum_hessian_in_leaf': 0.0020712237089454844, 'feature_fraction': 0.5959387515411809, 'bagging_fraction': 0.6298458983085963, 'lambda_l1': 0.040897283829341886, 'lambda_l2': 23.61762245836251}. Best is trial 37 with value: 0.7740694999775035.\u001b[0m\n"
     ]
    },
    {
     "name": "stdout",
     "output_type": "stream",
     "text": [
      "[LightGBM] [Warning] feature_fraction is set=0.5453317434947169, colsample_bytree=1.0 will be ignored. Current value: feature_fraction=0.5453317434947169\n",
      "[LightGBM] [Warning] lambda_l1 is set=1.8194645331219828, reg_alpha=0.0 will be ignored. Current value: lambda_l1=1.8194645331219828\n",
      "[LightGBM] [Warning] bagging_fraction is set=0.8159066475441707, subsample=1.0 will be ignored. Current value: bagging_fraction=0.8159066475441707\n",
      "[LightGBM] [Warning] min_sum_hessian_in_leaf is set=0.0018040061000251064, min_child_weight=0.001 will be ignored. Current value: min_sum_hessian_in_leaf=0.0018040061000251064\n",
      "[LightGBM] [Warning] bagging_freq is set=1, subsample_freq=0 will be ignored. Current value: bagging_freq=1\n",
      "[LightGBM] [Warning] lambda_l2 is set=3.237260332175004, reg_lambda=0.0 will be ignored. Current value: lambda_l2=3.237260332175004\n"
     ]
    },
    {
     "name": "stderr",
     "output_type": "stream",
     "text": [
      "\u001b[32m[I 2022-05-01 12:10:53,705]\u001b[0m Trial 41 finished with value: 0.770463804486298 and parameters: {'num_leaves': 146, 'min_child_samples': 7, 'min_sum_hessian_in_leaf': 0.002007016686903535, 'feature_fraction': 0.7513067889436882, 'bagging_fraction': 0.6167844354306887, 'lambda_l1': 2.391777566789162, 'lambda_l2': 23.314713834317562}. Best is trial 37 with value: 0.7740694999775035.\u001b[0m\n"
     ]
    },
    {
     "name": "stdout",
     "output_type": "stream",
     "text": [
      "[LightGBM] [Warning] feature_fraction is set=0.5040706766176062, colsample_bytree=1.0 will be ignored. Current value: feature_fraction=0.5040706766176062\n",
      "[LightGBM] [Warning] lambda_l1 is set=0.02422415508286258, reg_alpha=0.0 will be ignored. Current value: lambda_l1=0.02422415508286258\n",
      "[LightGBM] [Warning] bagging_fraction is set=0.8906803370906399, subsample=1.0 will be ignored. Current value: bagging_fraction=0.8906803370906399\n",
      "[LightGBM] [Warning] min_sum_hessian_in_leaf is set=0.005372519889325684, min_child_weight=0.001 will be ignored. Current value: min_sum_hessian_in_leaf=0.005372519889325684\n",
      "[LightGBM] [Warning] bagging_freq is set=1, subsample_freq=0 will be ignored. Current value: bagging_freq=1\n",
      "[LightGBM] [Warning] lambda_l2 is set=3.8031957598067416, reg_lambda=0.0 will be ignored. Current value: lambda_l2=3.8031957598067416\n"
     ]
    },
    {
     "name": "stderr",
     "output_type": "stream",
     "text": [
      "\u001b[32m[I 2022-05-01 12:11:07,704]\u001b[0m Trial 42 finished with value: 0.7710120405967457 and parameters: {'num_leaves': 144, 'min_child_samples': 185, 'min_sum_hessian_in_leaf': 0.0019953966893219, 'feature_fraction': 0.5849979625084633, 'bagging_fraction': 0.8041142026980888, 'lambda_l1': 0.042220064682153204, 'lambda_l2': 24.225175373478233}. Best is trial 37 with value: 0.7740694999775035.\u001b[0m\n"
     ]
    },
    {
     "name": "stdout",
     "output_type": "stream",
     "text": [
      "[LightGBM] [Warning] feature_fraction is set=0.5092583278396488, colsample_bytree=1.0 will be ignored. Current value: feature_fraction=0.5092583278396488\n",
      "[LightGBM] [Warning] lambda_l1 is set=1.3919237532030029, reg_alpha=0.0 will be ignored. Current value: lambda_l1=1.3919237532030029\n",
      "[LightGBM] [Warning] bagging_fraction is set=0.8814860573993653, subsample=1.0 will be ignored. Current value: bagging_fraction=0.8814860573993653\n",
      "[LightGBM] [Warning] min_sum_hessian_in_leaf is set=0.0053812109322359785, min_child_weight=0.001 will be ignored. Current value: min_sum_hessian_in_leaf=0.0053812109322359785\n",
      "[LightGBM] [Warning] bagging_freq is set=1, subsample_freq=0 will be ignored. Current value: bagging_freq=1\n",
      "[LightGBM] [Warning] lambda_l2 is set=3.3075452323627004, reg_lambda=0.0 will be ignored. Current value: lambda_l2=3.3075452323627004\n"
     ]
    },
    {
     "name": "stderr",
     "output_type": "stream",
     "text": [
      "\u001b[32m[I 2022-05-01 12:11:39,913]\u001b[0m Trial 43 finished with value: 0.7725871257634671 and parameters: {'num_leaves': 145, 'min_child_samples': 14, 'min_sum_hessian_in_leaf': 0.0022827757433597456, 'feature_fraction': 0.5723896784726493, 'bagging_fraction': 0.8791233711371605, 'lambda_l1': 2.6006634286646846, 'lambda_l2': 4.1907772179650165}. Best is trial 37 with value: 0.7740694999775035.\u001b[0m\n"
     ]
    },
    {
     "name": "stdout",
     "output_type": "stream",
     "text": [
      "[LightGBM] [Warning] feature_fraction is set=0.5354111985540088, colsample_bytree=1.0 will be ignored. Current value: feature_fraction=0.5354111985540088\n",
      "[LightGBM] [Warning] lambda_l1 is set=1.1684154453497342, reg_alpha=0.0 will be ignored. Current value: lambda_l1=1.1684154453497342\n",
      "[LightGBM] [Warning] bagging_fraction is set=0.6534761080160598, subsample=1.0 will be ignored. Current value: bagging_fraction=0.6534761080160598\n",
      "[LightGBM] [Warning] min_sum_hessian_in_leaf is set=0.00552258628184615, min_child_weight=0.001 will be ignored. Current value: min_sum_hessian_in_leaf=0.00552258628184615\n",
      "[LightGBM] [Warning] bagging_freq is set=1, subsample_freq=0 will be ignored. Current value: bagging_freq=1\n",
      "[LightGBM] [Warning] lambda_l2 is set=16.102353053964674, reg_lambda=0.0 will be ignored. Current value: lambda_l2=16.102353053964674\n"
     ]
    },
    {
     "name": "stderr",
     "output_type": "stream",
     "text": [
      "\u001b[32m[I 2022-05-01 12:12:14,459]\u001b[0m Trial 44 finished with value: 0.7700645079424521 and parameters: {'num_leaves': 219, 'min_child_samples': 122, 'min_sum_hessian_in_leaf': 0.001955060288282266, 'feature_fraction': 0.567773430851432, 'bagging_fraction': 0.7949940237379882, 'lambda_l1': 0.042960950500772525, 'lambda_l2': 4.4036662899056545}. Best is trial 37 with value: 0.7740694999775035.\u001b[0m\n"
     ]
    },
    {
     "name": "stdout",
     "output_type": "stream",
     "text": [
      "[LightGBM] [Warning] feature_fraction is set=0.5077974604475352, colsample_bytree=1.0 will be ignored. Current value: feature_fraction=0.5077974604475352\n",
      "[LightGBM] [Warning] lambda_l1 is set=4.544616193236581, reg_alpha=0.0 will be ignored. Current value: lambda_l1=4.544616193236581\n",
      "[LightGBM] [Warning] bagging_fraction is set=0.6554875930011256, subsample=1.0 will be ignored. Current value: bagging_fraction=0.6554875930011256\n",
      "[LightGBM] [Warning] min_sum_hessian_in_leaf is set=0.005561537937464585, min_child_weight=0.001 will be ignored. Current value: min_sum_hessian_in_leaf=0.005561537937464585\n",
      "[LightGBM] [Warning] bagging_freq is set=1, subsample_freq=0 will be ignored. Current value: bagging_freq=1\n",
      "[LightGBM] [Warning] lambda_l2 is set=15.844875914409581, reg_lambda=0.0 will be ignored. Current value: lambda_l2=15.844875914409581\n"
     ]
    },
    {
     "name": "stderr",
     "output_type": "stream",
     "text": [
      "\u001b[32m[I 2022-05-01 12:15:52,022]\u001b[0m Trial 47 finished with value: 0.7744062126206093 and parameters: {'num_leaves': 56, 'min_child_samples': 127, 'min_sum_hessian_in_leaf': 0.0053812109322359785, 'feature_fraction': 0.5092583278396488, 'bagging_fraction': 0.8814860573993653, 'lambda_l1': 1.3919237532030029, 'lambda_l2': 3.3075452323627004}. Best is trial 47 with value: 0.7744062126206093.\u001b[0m\n",
      "\u001b[32m[I 2022-05-01 12:16:02,595]\u001b[0m Trial 45 finished with value: 0.7741580393826153 and parameters: {'num_leaves': 8, 'min_child_samples': 186, 'min_sum_hessian_in_leaf': 0.0018040061000251064, 'feature_fraction': 0.5453317434947169, 'bagging_fraction': 0.8159066475441707, 'lambda_l1': 1.8194645331219828, 'lambda_l2': 3.237260332175004}. Best is trial 47 with value: 0.7744062126206093.\u001b[0m\n",
      "\u001b[32m[I 2022-05-01 12:16:16,451]\u001b[0m Trial 49 finished with value: 0.7730881852688655 and parameters: {'num_leaves': 53, 'min_child_samples': 60, 'min_sum_hessian_in_leaf': 0.005561537937464585, 'feature_fraction': 0.5077974604475352, 'bagging_fraction': 0.6554875930011256, 'lambda_l1': 4.544616193236581, 'lambda_l2': 15.844875914409581}. Best is trial 47 with value: 0.7744062126206093.\u001b[0m\n",
      "\u001b[32m[I 2022-05-01 12:16:19,151]\u001b[0m Trial 48 finished with value: 0.7680701626515254 and parameters: {'num_leaves': 213, 'min_child_samples': 53, 'min_sum_hessian_in_leaf': 0.00552258628184615, 'feature_fraction': 0.5354111985540088, 'bagging_fraction': 0.6534761080160598, 'lambda_l1': 1.1684154453497342, 'lambda_l2': 16.102353053964674}. Best is trial 47 with value: 0.7744062126206093.\u001b[0m\n",
      "\u001b[32m[I 2022-05-01 12:16:37,163]\u001b[0m Trial 46 finished with value: 0.7753080826815691 and parameters: {'num_leaves': 8, 'min_child_samples': 188, 'min_sum_hessian_in_leaf': 0.005372519889325684, 'feature_fraction': 0.5040706766176062, 'bagging_fraction': 0.8906803370906399, 'lambda_l1': 0.02422415508286258, 'lambda_l2': 3.8031957598067416}. Best is trial 46 with value: 0.7753080826815691.\u001b[0m\n"
     ]
    }
   ],
   "source": [
    "sampler = optuna.samplers.TPESampler(seed=123)\n",
    "study = optuna.create_study(sampler=sampler, direction=\"maximize\")\n",
    "study.optimize(objective, n_trials=50, n_jobs=5)"
   ]
  },
  {
   "cell_type": "markdown",
   "id": "8e5a2b33",
   "metadata": {
    "papermill": {
     "duration": 0.183042,
     "end_time": "2022-05-01T12:16:37.715994",
     "exception": false,
     "start_time": "2022-05-01T12:16:37.532952",
     "status": "completed"
    },
    "tags": []
   },
   "source": [
    "#### スクリプト7-51: 探索結果の確認"
   ]
  },
  {
   "cell_type": "code",
   "execution_count": 51,
   "id": "cfd86f00",
   "metadata": {
    "execution": {
     "iopub.execute_input": "2022-05-01T12:16:38.090479Z",
     "iopub.status.busy": "2022-05-01T12:16:38.090147Z",
     "iopub.status.idle": "2022-05-01T12:16:38.098164Z",
     "shell.execute_reply": "2022-05-01T12:16:38.097273Z"
    },
    "papermill": {
     "duration": 0.201711,
     "end_time": "2022-05-01T12:16:38.100171",
     "exception": false,
     "start_time": "2022-05-01T12:16:37.898460",
     "status": "completed"
    },
    "tags": []
   },
   "outputs": [
    {
     "name": "stdout",
     "output_type": "stream",
     "text": [
      "acc(best)=0.7753\n"
     ]
    },
    {
     "data": {
      "text/plain": [
       "{'num_leaves': 8,\n",
       " 'min_child_samples': 188,\n",
       " 'min_sum_hessian_in_leaf': 0.005372519889325684,\n",
       " 'feature_fraction': 0.5040706766176062,\n",
       " 'bagging_fraction': 0.8906803370906399,\n",
       " 'lambda_l1': 0.02422415508286258,\n",
       " 'lambda_l2': 3.8031957598067416}"
      ]
     },
     "metadata": {},
     "output_type": "display_data"
    }
   ],
   "source": [
    "trial = study.best_trial\n",
    "print(\"acc(best)={:.4f}\".format(trial.value))\n",
    "display(trial.params)"
   ]
  },
  {
   "cell_type": "markdown",
   "id": "1b3df262",
   "metadata": {
    "papermill": {
     "duration": 0.184052,
     "end_time": "2022-05-01T12:16:38.468166",
     "exception": false,
     "start_time": "2022-05-01T12:16:38.284114",
     "status": "completed"
    },
    "tags": []
   },
   "source": [
    "#### スクリプト7-52: ベストなハイパーパラメータの取得"
   ]
  },
  {
   "cell_type": "code",
   "execution_count": 52,
   "id": "8985e40f",
   "metadata": {
    "execution": {
     "iopub.execute_input": "2022-05-01T12:16:38.838321Z",
     "iopub.status.busy": "2022-05-01T12:16:38.838017Z",
     "iopub.status.idle": "2022-05-01T12:16:38.844348Z",
     "shell.execute_reply": "2022-05-01T12:16:38.843539Z"
    },
    "papermill": {
     "duration": 0.19326,
     "end_time": "2022-05-01T12:16:38.846196",
     "exception": false,
     "start_time": "2022-05-01T12:16:38.652936",
     "status": "completed"
    },
    "tags": []
   },
   "outputs": [
    {
     "data": {
      "text/plain": [
       "{'num_leaves': 8,\n",
       " 'min_child_samples': 188,\n",
       " 'min_sum_hessian_in_leaf': 0.005372519889325684,\n",
       " 'feature_fraction': 0.5040706766176062,\n",
       " 'bagging_fraction': 0.8906803370906399,\n",
       " 'lambda_l1': 0.02422415508286258,\n",
       " 'lambda_l2': 3.8031957598067416,\n",
       " 'boosting_type': 'gbdt',\n",
       " 'objective': 'binary',\n",
       " 'metric': 'auc',\n",
       " 'verbosity': -1,\n",
       " 'learning_rate': 0.05,\n",
       " 'n_estimators': 100000,\n",
       " 'bagging_freq': 1,\n",
       " 'random_state': 123}"
      ]
     },
     "metadata": {},
     "output_type": "display_data"
    }
   ],
   "source": [
    "params_best = trial.params\n",
    "params_best.update(params_base)\n",
    "display(params_best)"
   ]
  },
  {
   "cell_type": "markdown",
   "id": "6e86ef45",
   "metadata": {
    "papermill": {
     "duration": 0.184201,
     "end_time": "2022-05-01T12:16:39.215214",
     "exception": false,
     "start_time": "2022-05-01T12:16:39.031013",
     "status": "completed"
    },
    "tags": []
   },
   "source": [
    "#### スクリプト7-53: ベストなハイパーパラメータを用いたモデル学習"
   ]
  },
  {
   "cell_type": "code",
   "execution_count": 53,
   "id": "d92de8b0",
   "metadata": {
    "execution": {
     "iopub.execute_input": "2022-05-01T12:16:39.588345Z",
     "iopub.status.busy": "2022-05-01T12:16:39.587970Z",
     "iopub.status.idle": "2022-05-01T12:27:23.523631Z",
     "shell.execute_reply": "2022-05-01T12:27:23.522651Z"
    },
    "papermill": {
     "duration": 644.340392,
     "end_time": "2022-05-01T12:27:23.740444",
     "exception": false,
     "start_time": "2022-05-01T12:16:39.400052",
     "status": "completed"
    },
    "tags": []
   },
   "outputs": [
    {
     "name": "stdout",
     "output_type": "stream",
     "text": [
      "-------------------- 0 --------------------\n",
      "(246008, 162) (61503, 162)\n",
      "[LightGBM] [Warning] feature_fraction is set=0.5040706766176062, colsample_bytree=1.0 will be ignored. Current value: feature_fraction=0.5040706766176062\n",
      "[LightGBM] [Warning] lambda_l1 is set=0.02422415508286258, reg_alpha=0.0 will be ignored. Current value: lambda_l1=0.02422415508286258\n",
      "[LightGBM] [Warning] bagging_fraction is set=0.8906803370906399, subsample=1.0 will be ignored. Current value: bagging_fraction=0.8906803370906399\n",
      "[LightGBM] [Warning] min_sum_hessian_in_leaf is set=0.005372519889325684, min_child_weight=0.001 will be ignored. Current value: min_sum_hessian_in_leaf=0.005372519889325684\n",
      "[LightGBM] [Warning] bagging_freq is set=1, subsample_freq=0 will be ignored. Current value: bagging_freq=1\n",
      "[LightGBM] [Warning] lambda_l2 is set=3.8031957598067416, reg_lambda=0.0 will be ignored. Current value: lambda_l2=3.8031957598067416\n",
      "[100]\ttraining's auc: 0.762984\tvalid_1's auc: 0.756262\n",
      "[200]\ttraining's auc: 0.775454\tvalid_1's auc: 0.765933\n",
      "[300]\ttraining's auc: 0.782744\tvalid_1's auc: 0.769901\n",
      "[400]\ttraining's auc: 0.788169\tvalid_1's auc: 0.771682\n",
      "[500]\ttraining's auc: 0.793047\tvalid_1's auc: 0.773021\n",
      "[600]\ttraining's auc: 0.797187\tvalid_1's auc: 0.773595\n",
      "[700]\ttraining's auc: 0.801366\tvalid_1's auc: 0.773865\n",
      "[800]\ttraining's auc: 0.805038\tvalid_1's auc: 0.774357\n",
      "[900]\ttraining's auc: 0.808634\tvalid_1's auc: 0.774459\n",
      "[1000]\ttraining's auc: 0.811895\tvalid_1's auc: 0.774566\n",
      "[1100]\ttraining's auc: 0.815212\tvalid_1's auc: 0.77464\n",
      "[1200]\ttraining's auc: 0.818422\tvalid_1's auc: 0.774841\n",
      "[1300]\ttraining's auc: 0.821748\tvalid_1's auc: 0.774856\n",
      "[1400]\ttraining's auc: 0.824722\tvalid_1's auc: 0.775093\n",
      "[1500]\ttraining's auc: 0.827718\tvalid_1's auc: 0.775251\n",
      "[auc] tr:0.8266, va:0.7753\n",
      "-------------------- 1 --------------------\n",
      "(246009, 162) (61502, 162)\n",
      "[LightGBM] [Warning] feature_fraction is set=0.5040706766176062, colsample_bytree=1.0 will be ignored. Current value: feature_fraction=0.5040706766176062\n",
      "[LightGBM] [Warning] lambda_l1 is set=0.02422415508286258, reg_alpha=0.0 will be ignored. Current value: lambda_l1=0.02422415508286258\n",
      "[LightGBM] [Warning] bagging_fraction is set=0.8906803370906399, subsample=1.0 will be ignored. Current value: bagging_fraction=0.8906803370906399\n",
      "[LightGBM] [Warning] min_sum_hessian_in_leaf is set=0.005372519889325684, min_child_weight=0.001 will be ignored. Current value: min_sum_hessian_in_leaf=0.005372519889325684\n",
      "[LightGBM] [Warning] bagging_freq is set=1, subsample_freq=0 will be ignored. Current value: bagging_freq=1\n",
      "[LightGBM] [Warning] lambda_l2 is set=3.8031957598067416, reg_lambda=0.0 will be ignored. Current value: lambda_l2=3.8031957598067416\n",
      "[100]\ttraining's auc: 0.762665\tvalid_1's auc: 0.758519\n",
      "[200]\ttraining's auc: 0.775233\tvalid_1's auc: 0.768759\n",
      "[300]\ttraining's auc: 0.781809\tvalid_1's auc: 0.772325\n",
      "[400]\ttraining's auc: 0.787347\tvalid_1's auc: 0.774655\n",
      "[500]\ttraining's auc: 0.792249\tvalid_1's auc: 0.776243\n",
      "[600]\ttraining's auc: 0.796701\tvalid_1's auc: 0.777252\n",
      "[700]\ttraining's auc: 0.800754\tvalid_1's auc: 0.777829\n",
      "[800]\ttraining's auc: 0.804544\tvalid_1's auc: 0.778398\n",
      "[900]\ttraining's auc: 0.807985\tvalid_1's auc: 0.778711\n",
      "[1000]\ttraining's auc: 0.81136\tvalid_1's auc: 0.778817\n",
      "[1100]\ttraining's auc: 0.814728\tvalid_1's auc: 0.779036\n",
      "[1200]\ttraining's auc: 0.818115\tvalid_1's auc: 0.779313\n",
      "[1300]\ttraining's auc: 0.821121\tvalid_1's auc: 0.779539\n",
      "[1400]\ttraining's auc: 0.824261\tvalid_1's auc: 0.779582\n",
      "[auc] tr:0.8230, va:0.7797\n",
      "-------------------- 2 --------------------\n",
      "(246009, 162) (61502, 162)\n",
      "[LightGBM] [Warning] feature_fraction is set=0.5040706766176062, colsample_bytree=1.0 will be ignored. Current value: feature_fraction=0.5040706766176062\n",
      "[LightGBM] [Warning] lambda_l1 is set=0.02422415508286258, reg_alpha=0.0 will be ignored. Current value: lambda_l1=0.02422415508286258\n",
      "[LightGBM] [Warning] bagging_fraction is set=0.8906803370906399, subsample=1.0 will be ignored. Current value: bagging_fraction=0.8906803370906399\n",
      "[LightGBM] [Warning] min_sum_hessian_in_leaf is set=0.005372519889325684, min_child_weight=0.001 will be ignored. Current value: min_sum_hessian_in_leaf=0.005372519889325684\n",
      "[LightGBM] [Warning] bagging_freq is set=1, subsample_freq=0 will be ignored. Current value: bagging_freq=1\n",
      "[LightGBM] [Warning] lambda_l2 is set=3.8031957598067416, reg_lambda=0.0 will be ignored. Current value: lambda_l2=3.8031957598067416\n",
      "[100]\ttraining's auc: 0.762158\tvalid_1's auc: 0.760413\n",
      "[200]\ttraining's auc: 0.774637\tvalid_1's auc: 0.768269\n",
      "[300]\ttraining's auc: 0.781876\tvalid_1's auc: 0.771515\n",
      "[400]\ttraining's auc: 0.787349\tvalid_1's auc: 0.773288\n",
      "[500]\ttraining's auc: 0.792001\tvalid_1's auc: 0.774193\n",
      "[600]\ttraining's auc: 0.79646\tvalid_1's auc: 0.775243\n",
      "[700]\ttraining's auc: 0.800578\tvalid_1's auc: 0.775861\n",
      "[800]\ttraining's auc: 0.804106\tvalid_1's auc: 0.776498\n",
      "[900]\ttraining's auc: 0.807733\tvalid_1's auc: 0.776792\n",
      "[1000]\ttraining's auc: 0.811351\tvalid_1's auc: 0.777028\n",
      "[1100]\ttraining's auc: 0.814585\tvalid_1's auc: 0.777098\n",
      "[auc] tr:0.8137, va:0.7772\n",
      "-------------------- 3 --------------------\n",
      "(246009, 162) (61502, 162)\n",
      "[LightGBM] [Warning] feature_fraction is set=0.5040706766176062, colsample_bytree=1.0 will be ignored. Current value: feature_fraction=0.5040706766176062\n",
      "[LightGBM] [Warning] lambda_l1 is set=0.02422415508286258, reg_alpha=0.0 will be ignored. Current value: lambda_l1=0.02422415508286258\n",
      "[LightGBM] [Warning] bagging_fraction is set=0.8906803370906399, subsample=1.0 will be ignored. Current value: bagging_fraction=0.8906803370906399\n",
      "[LightGBM] [Warning] min_sum_hessian_in_leaf is set=0.005372519889325684, min_child_weight=0.001 will be ignored. Current value: min_sum_hessian_in_leaf=0.005372519889325684\n",
      "[LightGBM] [Warning] bagging_freq is set=1, subsample_freq=0 will be ignored. Current value: bagging_freq=1\n",
      "[LightGBM] [Warning] lambda_l2 is set=3.8031957598067416, reg_lambda=0.0 will be ignored. Current value: lambda_l2=3.8031957598067416\n",
      "[100]\ttraining's auc: 0.762654\tvalid_1's auc: 0.756945\n",
      "[200]\ttraining's auc: 0.77518\tvalid_1's auc: 0.766035\n",
      "[300]\ttraining's auc: 0.782162\tvalid_1's auc: 0.769184\n",
      "[400]\ttraining's auc: 0.787927\tvalid_1's auc: 0.771373\n",
      "[500]\ttraining's auc: 0.792911\tvalid_1's auc: 0.772828\n",
      "[600]\ttraining's auc: 0.797196\tvalid_1's auc: 0.773245\n",
      "[700]\ttraining's auc: 0.801332\tvalid_1's auc: 0.773614\n",
      "[800]\ttraining's auc: 0.804943\tvalid_1's auc: 0.774022\n",
      "[900]\ttraining's auc: 0.808526\tvalid_1's auc: 0.774371\n",
      "[1000]\ttraining's auc: 0.812103\tvalid_1's auc: 0.774639\n",
      "[1100]\ttraining's auc: 0.815605\tvalid_1's auc: 0.774858\n",
      "[1200]\ttraining's auc: 0.819042\tvalid_1's auc: 0.774853\n",
      "[1300]\ttraining's auc: 0.822381\tvalid_1's auc: 0.775223\n",
      "[1400]\ttraining's auc: 0.825372\tvalid_1's auc: 0.775377\n",
      "[auc] tr:0.8244, va:0.7754\n",
      "-------------------- 4 --------------------\n",
      "(246009, 162) (61502, 162)\n",
      "[LightGBM] [Warning] feature_fraction is set=0.5040706766176062, colsample_bytree=1.0 will be ignored. Current value: feature_fraction=0.5040706766176062\n",
      "[LightGBM] [Warning] lambda_l1 is set=0.02422415508286258, reg_alpha=0.0 will be ignored. Current value: lambda_l1=0.02422415508286258\n",
      "[LightGBM] [Warning] bagging_fraction is set=0.8906803370906399, subsample=1.0 will be ignored. Current value: bagging_fraction=0.8906803370906399\n",
      "[LightGBM] [Warning] min_sum_hessian_in_leaf is set=0.005372519889325684, min_child_weight=0.001 will be ignored. Current value: min_sum_hessian_in_leaf=0.005372519889325684\n",
      "[LightGBM] [Warning] bagging_freq is set=1, subsample_freq=0 will be ignored. Current value: bagging_freq=1\n",
      "[LightGBM] [Warning] lambda_l2 is set=3.8031957598067416, reg_lambda=0.0 will be ignored. Current value: lambda_l2=3.8031957598067416\n",
      "[100]\ttraining's auc: 0.764096\tvalid_1's auc: 0.752664\n",
      "[200]\ttraining's auc: 0.776563\tvalid_1's auc: 0.761842\n",
      "[300]\ttraining's auc: 0.783636\tvalid_1's auc: 0.765361\n",
      "[400]\ttraining's auc: 0.789201\tvalid_1's auc: 0.767424\n",
      "[500]\ttraining's auc: 0.794108\tvalid_1's auc: 0.768673\n",
      "[600]\ttraining's auc: 0.798466\tvalid_1's auc: 0.769491\n",
      "[700]\ttraining's auc: 0.80234\tvalid_1's auc: 0.770009\n",
      "[800]\ttraining's auc: 0.806104\tvalid_1's auc: 0.770385\n",
      "[900]\ttraining's auc: 0.80969\tvalid_1's auc: 0.770618\n",
      "[1000]\ttraining's auc: 0.813053\tvalid_1's auc: 0.770741\n",
      "[auc] tr:0.8120, va:0.7708\n",
      "-------------------- result --------------------\n",
      "[[0.         0.82664193 0.77530808]\n",
      " [1.         0.82304793 0.77972563]\n",
      " [2.         0.81370395 0.77719695]\n",
      " [3.         0.82437657 0.77542618]\n",
      " [4.         0.8120369  0.77082206]]\n",
      "[cv] tr:0.8200+-0.0059, va:0.7757+-0.0029\n",
      "[oof] 0.7757\n"
     ]
    }
   ],
   "source": [
    "train_oof, imp, metrics = train_lgb(x_train,\n",
    "                                    y_train,\n",
    "                                    id_train,\n",
    "                                    list_nfold=[0,1,2,3,4],\n",
    "                                    n_splits=5,\n",
    "                                    params=params_best,\n",
    "                                   )"
   ]
  },
  {
   "cell_type": "markdown",
   "id": "afcca9ae",
   "metadata": {
    "papermill": {
     "duration": 0.215454,
     "end_time": "2022-05-01T12:27:24.246795",
     "exception": false,
     "start_time": "2022-05-01T12:27:24.031341",
     "status": "completed"
    },
    "tags": []
   },
   "source": [
    "#### スクリプト7-54: 推論データ作成とモデル推論"
   ]
  },
  {
   "cell_type": "code",
   "execution_count": 54,
   "id": "3084b6b6",
   "metadata": {
    "execution": {
     "iopub.execute_input": "2022-05-01T12:27:24.680764Z",
     "iopub.status.busy": "2022-05-01T12:27:24.680204Z",
     "iopub.status.idle": "2022-05-01T12:27:33.520379Z",
     "shell.execute_reply": "2022-05-01T12:27:33.519435Z"
    },
    "papermill": {
     "duration": 9.059787,
     "end_time": "2022-05-01T12:27:33.522678",
     "exception": false,
     "start_time": "2022-05-01T12:27:24.462891",
     "status": "completed"
    },
    "tags": []
   },
   "outputs": [
    {
     "name": "stdout",
     "output_type": "stream",
     "text": [
      "-------------------- 0 --------------------\n",
      "-------------------- 1 --------------------\n",
      "-------------------- 2 --------------------\n",
      "-------------------- 3 --------------------\n",
      "-------------------- 4 --------------------\n",
      "Done.\n",
      "(48744, 2)\n"
     ]
    },
    {
     "data": {
      "text/html": [
       "<div>\n",
       "<style scoped>\n",
       "    .dataframe tbody tr th:only-of-type {\n",
       "        vertical-align: middle;\n",
       "    }\n",
       "\n",
       "    .dataframe tbody tr th {\n",
       "        vertical-align: top;\n",
       "    }\n",
       "\n",
       "    .dataframe thead th {\n",
       "        text-align: right;\n",
       "    }\n",
       "</style>\n",
       "<table border=\"1\" class=\"dataframe\">\n",
       "  <thead>\n",
       "    <tr style=\"text-align: right;\">\n",
       "      <th></th>\n",
       "      <th>SK_ID_CURR</th>\n",
       "      <th>TARGET</th>\n",
       "    </tr>\n",
       "  </thead>\n",
       "  <tbody>\n",
       "    <tr>\n",
       "      <th>0</th>\n",
       "      <td>100001</td>\n",
       "      <td>0.039234</td>\n",
       "    </tr>\n",
       "    <tr>\n",
       "      <th>1</th>\n",
       "      <td>100005</td>\n",
       "      <td>0.130036</td>\n",
       "    </tr>\n",
       "    <tr>\n",
       "      <th>2</th>\n",
       "      <td>100013</td>\n",
       "      <td>0.027832</td>\n",
       "    </tr>\n",
       "    <tr>\n",
       "      <th>3</th>\n",
       "      <td>100028</td>\n",
       "      <td>0.045500</td>\n",
       "    </tr>\n",
       "    <tr>\n",
       "      <th>4</th>\n",
       "      <td>100038</td>\n",
       "      <td>0.194294</td>\n",
       "    </tr>\n",
       "  </tbody>\n",
       "</table>\n",
       "</div>"
      ],
      "text/plain": [
       "   SK_ID_CURR    TARGET\n",
       "0      100001  0.039234\n",
       "1      100005  0.130036\n",
       "2      100013  0.027832\n",
       "3      100028  0.045500\n",
       "4      100038  0.194294"
      ]
     },
     "metadata": {},
     "output_type": "display_data"
    }
   ],
   "source": [
    "# 推論用のデータセット作成\n",
    "x_test = df_test.drop(columns=[\"SK_ID_CURR\"])\n",
    "id_test = df_test[[\"SK_ID_CURR\"]]\n",
    "\n",
    "# カテゴリ変数をcategory型へ変換\n",
    "for col in x_test.columns:\n",
    "    if x_test[col].dtype==\"O\":\n",
    "        x_test[col] = x_test[col].astype(\"category\")\n",
    "\n",
    "# predict\n",
    "test_pred = predict_lgb(x_test,\n",
    "                        id_test,\n",
    "                        list_nfold=[0,1,2,3,4],\n",
    "                       )\n",
    "\n",
    "# make submission-file\n",
    "df_submit = test_pred.rename(columns={\"pred\":\"TARGET\"})\n",
    "print(df_submit.shape)\n",
    "display(df_submit.head())\n",
    "df_submit.to_csv(\"submission_HyperParameterTuning.csv\", index=None)"
   ]
  },
  {
   "cell_type": "code",
   "execution_count": null,
   "id": "0589ba1c",
   "metadata": {
    "papermill": {
     "duration": 0.219616,
     "end_time": "2022-05-01T12:27:33.959413",
     "exception": false,
     "start_time": "2022-05-01T12:27:33.739797",
     "status": "completed"
    },
    "tags": []
   },
   "outputs": [],
   "source": []
  }
 ],
 "metadata": {
  "kernelspec": {
   "display_name": "Python 3",
   "language": "python",
   "name": "python3"
  },
  "language_info": {
   "codemirror_mode": {
    "name": "ipython",
    "version": 3
   },
   "file_extension": ".py",
   "mimetype": "text/x-python",
   "name": "python",
   "nbconvert_exporter": "python",
   "pygments_lexer": "ipython3",
   "version": "3.7.12"
  },
  "papermill": {
   "default_parameters": {},
   "duration": 3851.265348,
   "end_time": "2022-05-01T12:27:35.412308",
   "environment_variables": {},
   "exception": null,
   "input_path": "__notebook__.ipynb",
   "output_path": "__notebook__.ipynb",
   "parameters": {},
   "start_time": "2022-05-01T11:23:24.146960",
   "version": "2.3.4"
  }
 },
 "nbformat": 4,
 "nbformat_minor": 5
}
