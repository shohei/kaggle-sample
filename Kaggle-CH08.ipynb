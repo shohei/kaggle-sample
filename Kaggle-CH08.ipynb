{
 "cells": [
  {
   "cell_type": "markdown",
   "id": "218c8784",
   "metadata": {
    "papermill": {
     "duration": 0.106577,
     "end_time": "2022-05-01T08:50:40.702309",
     "exception": false,
     "start_time": "2022-05-01T08:50:40.595732",
     "status": "completed"
    },
    "tags": []
   },
   "source": [
    "# Kaggleで磨く 機械学習の実践力\n",
    "# 第8章 回帰問題のコンペ (MLB Player Digital Engagement Forecasting)"
   ]
  },
  {
   "cell_type": "markdown",
   "id": "5db6bb2e",
   "metadata": {
    "papermill": {
     "duration": 0.105301,
     "end_time": "2022-05-01T08:50:40.910838",
     "exception": false,
     "start_time": "2022-05-01T08:50:40.805537",
     "status": "completed"
    },
    "tags": []
   },
   "source": [
    "### ※サブミット時の注意点\n",
    "- 右メニューで「Settings」の**「Internet」をオフ**にしてください。インターネット接続状態ではサブミットできません。\n",
    "- **mlbライブラリは一度しか実行できません。再度実行したい場合はカーネルを再起動**する必要があります。\n",
    "- 本notebookではmlbライブラリを3ヶ所で実行しています。**実行したいセル以外はコメントアウトしてから実行してください。**\n",
    "    - スクリプト8-37 :  8.3 ベースライン作成\n",
    "    - スクリプト8-47 :  8.4 特徴量エンジニアリング\n",
    "    - スクリプト8-62 :  8.5 モデルチューニング\n",
    "- 3つ実行したい場合は、コピーしてNotebookを3個作成し、上記3か所のコメントアウトを外して実行してサブミットしてください。"
   ]
  },
  {
   "cell_type": "markdown",
   "id": "65f07f38",
   "metadata": {
    "papermill": {
     "duration": 0.103509,
     "end_time": "2022-05-01T08:50:41.118599",
     "exception": false,
     "start_time": "2022-05-01T08:50:41.015090",
     "status": "completed"
    },
    "tags": []
   },
   "source": [
    "# 8.3 ベースライン作成\n",
    "## 8.3.2 データ前処理"
   ]
  },
  {
   "cell_type": "markdown",
   "id": "6aa7da1d",
   "metadata": {
    "papermill": {
     "duration": 0.103395,
     "end_time": "2022-05-01T08:50:41.326828",
     "exception": false,
     "start_time": "2022-05-01T08:50:41.223433",
     "status": "completed"
    },
    "tags": []
   },
   "source": [
    "### ● train_updated.csvの読み込みと加工\n",
    "#### スクリプト8-1: ライブラリのインポート"
   ]
  },
  {
   "cell_type": "code",
   "execution_count": 1,
   "id": "3570b6ff",
   "metadata": {
    "execution": {
     "iopub.execute_input": "2022-05-01T08:50:41.537160Z",
     "iopub.status.busy": "2022-05-01T08:50:41.536534Z",
     "iopub.status.idle": "2022-05-01T08:50:43.400795Z",
     "shell.execute_reply": "2022-05-01T08:50:43.400095Z"
    },
    "papermill": {
     "duration": 1.972392,
     "end_time": "2022-05-01T08:50:43.403508",
     "exception": false,
     "start_time": "2022-05-01T08:50:41.431116",
     "status": "completed"
    },
    "tags": []
   },
   "outputs": [
    {
     "data": {
      "text/html": [
       "<style type='text/css'>\n",
       ".datatable table.frame { margin-bottom: 0; }\n",
       ".datatable table.frame thead { border-bottom: none; }\n",
       ".datatable table.frame tr.coltypes td {  color: #FFFFFF;  line-height: 6px;  padding: 0 0.5em;}\n",
       ".datatable .bool    { background: #DDDD99; }\n",
       ".datatable .object  { background: #565656; }\n",
       ".datatable .int     { background: #5D9E5D; }\n",
       ".datatable .float   { background: #4040CC; }\n",
       ".datatable .str     { background: #CC4040; }\n",
       ".datatable .time    { background: #40CC40; }\n",
       ".datatable .row_index {  background: var(--jp-border-color3);  border-right: 1px solid var(--jp-border-color0);  color: var(--jp-ui-font-color3);  font-size: 9px;}\n",
       ".datatable .frame tbody td { text-align: left; }\n",
       ".datatable .frame tr.coltypes .row_index {  background: var(--jp-border-color0);}\n",
       ".datatable th:nth-child(2) { padding-left: 12px; }\n",
       ".datatable .hellipsis {  color: var(--jp-cell-editor-border-color);}\n",
       ".datatable .vellipsis {  background: var(--jp-layout-color0);  color: var(--jp-cell-editor-border-color);}\n",
       ".datatable .na {  color: var(--jp-cell-editor-border-color);  font-size: 80%;}\n",
       ".datatable .sp {  opacity: 0.25;}\n",
       ".datatable .footer { font-size: 9px; }\n",
       ".datatable .frame_dimensions {  background: var(--jp-border-color3);  border-top: 1px solid var(--jp-border-color0);  color: var(--jp-ui-font-color3);  display: inline-block;  opacity: 0.6;  padding: 1px 10px 1px 5px;}\n",
       "</style>\n"
      ],
      "text/plain": [
       "<IPython.core.display.HTML object>"
      ]
     },
     "metadata": {},
     "output_type": "display_data"
    }
   ],
   "source": [
    "import numpy as np\n",
    "import pandas as pd\n",
    "import gc\n",
    "import pickle\n",
    "import os\n",
    "import datetime as dt\n",
    "\n",
    "# plot\n",
    "import matplotlib.pyplot as plt\n",
    "\n",
    "# LightGBM\n",
    "import lightgbm as lgb\n",
    "\n",
    "from sklearn.metrics import mean_absolute_error\n",
    "\n",
    "import warnings\n",
    "warnings.simplefilter(\"ignore\")\n",
    "\n",
    "# 表示桁数の指定\n",
    "pd.options.display.float_format = '{:10.4f}'.format"
   ]
  },
  {
   "cell_type": "markdown",
   "id": "322e5a53",
   "metadata": {
    "papermill": {
     "duration": 0.104174,
     "end_time": "2022-05-01T08:50:43.613639",
     "exception": false,
     "start_time": "2022-05-01T08:50:43.509465",
     "status": "completed"
    },
    "tags": []
   },
   "source": [
    "#### スクリプト8-2: train_updated.csvファイルの読み込み"
   ]
  },
  {
   "cell_type": "code",
   "execution_count": 2,
   "id": "682f9e84",
   "metadata": {
    "execution": {
     "iopub.execute_input": "2022-05-01T08:50:43.827081Z",
     "iopub.status.busy": "2022-05-01T08:50:43.826614Z",
     "iopub.status.idle": "2022-05-01T08:52:20.265439Z",
     "shell.execute_reply": "2022-05-01T08:52:20.264398Z"
    },
    "papermill": {
     "duration": 96.655078,
     "end_time": "2022-05-01T08:52:20.374632",
     "exception": false,
     "start_time": "2022-05-01T08:50:43.719554",
     "status": "completed"
    },
    "tags": []
   },
   "outputs": [
    {
     "name": "stdout",
     "output_type": "stream",
     "text": [
      "(1308, 12)\n"
     ]
    },
    {
     "data": {
      "text/html": [
       "<div>\n",
       "<style scoped>\n",
       "    .dataframe tbody tr th:only-of-type {\n",
       "        vertical-align: middle;\n",
       "    }\n",
       "\n",
       "    .dataframe tbody tr th {\n",
       "        vertical-align: top;\n",
       "    }\n",
       "\n",
       "    .dataframe thead th {\n",
       "        text-align: right;\n",
       "    }\n",
       "</style>\n",
       "<table border=\"1\" class=\"dataframe\">\n",
       "  <thead>\n",
       "    <tr style=\"text-align: right;\">\n",
       "      <th></th>\n",
       "      <th>date</th>\n",
       "      <th>nextDayPlayerEngagement</th>\n",
       "      <th>games</th>\n",
       "      <th>rosters</th>\n",
       "      <th>playerBoxScores</th>\n",
       "      <th>teamBoxScores</th>\n",
       "      <th>transactions</th>\n",
       "      <th>standings</th>\n",
       "      <th>awards</th>\n",
       "      <th>events</th>\n",
       "      <th>playerTwitterFollowers</th>\n",
       "      <th>teamTwitterFollowers</th>\n",
       "    </tr>\n",
       "  </thead>\n",
       "  <tbody>\n",
       "    <tr>\n",
       "      <th>0</th>\n",
       "      <td>20180101</td>\n",
       "      <td>[{\"engagementMetricsDate\":\"2018-01-02\",\"player...</td>\n",
       "      <td>NaN</td>\n",
       "      <td>[{\"playerId\":400121,\"gameDate\":\"2018-01-01\",\"t...</td>\n",
       "      <td>NaN</td>\n",
       "      <td>NaN</td>\n",
       "      <td>[{\"transactionId\":340732,\"playerId\":547348,\"pl...</td>\n",
       "      <td>NaN</td>\n",
       "      <td>NaN</td>\n",
       "      <td>NaN</td>\n",
       "      <td>[{\"date\":\"2018-01-01\",\"playerId\":545361,\"playe...</td>\n",
       "      <td>[{\"date\":\"2018-01-01\",\"teamId\":147,\"teamName\":...</td>\n",
       "    </tr>\n",
       "    <tr>\n",
       "      <th>1</th>\n",
       "      <td>20180102</td>\n",
       "      <td>[{\"engagementMetricsDate\":\"2018-01-03\",\"player...</td>\n",
       "      <td>NaN</td>\n",
       "      <td>[{\"playerId\":134181,\"gameDate\":\"2018-01-02\",\"t...</td>\n",
       "      <td>NaN</td>\n",
       "      <td>NaN</td>\n",
       "      <td>[{\"transactionId\":339458,\"playerId\":621173,\"pl...</td>\n",
       "      <td>NaN</td>\n",
       "      <td>NaN</td>\n",
       "      <td>NaN</td>\n",
       "      <td>NaN</td>\n",
       "      <td>NaN</td>\n",
       "    </tr>\n",
       "    <tr>\n",
       "      <th>2</th>\n",
       "      <td>20180103</td>\n",
       "      <td>[{\"engagementMetricsDate\":\"2018-01-04\",\"player...</td>\n",
       "      <td>NaN</td>\n",
       "      <td>[{\"playerId\":425492,\"gameDate\":\"2018-01-03\",\"t...</td>\n",
       "      <td>NaN</td>\n",
       "      <td>NaN</td>\n",
       "      <td>[{\"transactionId\":347527,\"playerId\":572389,\"pl...</td>\n",
       "      <td>NaN</td>\n",
       "      <td>NaN</td>\n",
       "      <td>NaN</td>\n",
       "      <td>NaN</td>\n",
       "      <td>NaN</td>\n",
       "    </tr>\n",
       "    <tr>\n",
       "      <th>3</th>\n",
       "      <td>20180104</td>\n",
       "      <td>[{\"engagementMetricsDate\":\"2018-01-05\",\"player...</td>\n",
       "      <td>NaN</td>\n",
       "      <td>[{\"playerId\":282332,\"gameDate\":\"2018-01-04\",\"t...</td>\n",
       "      <td>NaN</td>\n",
       "      <td>NaN</td>\n",
       "      <td>[{\"transactionId\":339549,\"playerId\":545343,\"pl...</td>\n",
       "      <td>NaN</td>\n",
       "      <td>NaN</td>\n",
       "      <td>NaN</td>\n",
       "      <td>NaN</td>\n",
       "      <td>NaN</td>\n",
       "    </tr>\n",
       "    <tr>\n",
       "      <th>4</th>\n",
       "      <td>20180105</td>\n",
       "      <td>[{\"engagementMetricsDate\":\"2018-01-06\",\"player...</td>\n",
       "      <td>NaN</td>\n",
       "      <td>[{\"playerId\":282332,\"gameDate\":\"2018-01-05\",\"t...</td>\n",
       "      <td>NaN</td>\n",
       "      <td>NaN</td>\n",
       "      <td>[{\"transactionId\":341195,\"playerId\":628336,\"pl...</td>\n",
       "      <td>NaN</td>\n",
       "      <td>NaN</td>\n",
       "      <td>NaN</td>\n",
       "      <td>NaN</td>\n",
       "      <td>NaN</td>\n",
       "    </tr>\n",
       "  </tbody>\n",
       "</table>\n",
       "</div>"
      ],
      "text/plain": [
       "       date                            nextDayPlayerEngagement games  \\\n",
       "0  20180101  [{\"engagementMetricsDate\":\"2018-01-02\",\"player...   NaN   \n",
       "1  20180102  [{\"engagementMetricsDate\":\"2018-01-03\",\"player...   NaN   \n",
       "2  20180103  [{\"engagementMetricsDate\":\"2018-01-04\",\"player...   NaN   \n",
       "3  20180104  [{\"engagementMetricsDate\":\"2018-01-05\",\"player...   NaN   \n",
       "4  20180105  [{\"engagementMetricsDate\":\"2018-01-06\",\"player...   NaN   \n",
       "\n",
       "                                             rosters playerBoxScores  \\\n",
       "0  [{\"playerId\":400121,\"gameDate\":\"2018-01-01\",\"t...             NaN   \n",
       "1  [{\"playerId\":134181,\"gameDate\":\"2018-01-02\",\"t...             NaN   \n",
       "2  [{\"playerId\":425492,\"gameDate\":\"2018-01-03\",\"t...             NaN   \n",
       "3  [{\"playerId\":282332,\"gameDate\":\"2018-01-04\",\"t...             NaN   \n",
       "4  [{\"playerId\":282332,\"gameDate\":\"2018-01-05\",\"t...             NaN   \n",
       "\n",
       "  teamBoxScores                                       transactions standings  \\\n",
       "0           NaN  [{\"transactionId\":340732,\"playerId\":547348,\"pl...       NaN   \n",
       "1           NaN  [{\"transactionId\":339458,\"playerId\":621173,\"pl...       NaN   \n",
       "2           NaN  [{\"transactionId\":347527,\"playerId\":572389,\"pl...       NaN   \n",
       "3           NaN  [{\"transactionId\":339549,\"playerId\":545343,\"pl...       NaN   \n",
       "4           NaN  [{\"transactionId\":341195,\"playerId\":628336,\"pl...       NaN   \n",
       "\n",
       "  awards events                             playerTwitterFollowers  \\\n",
       "0    NaN    NaN  [{\"date\":\"2018-01-01\",\"playerId\":545361,\"playe...   \n",
       "1    NaN    NaN                                                NaN   \n",
       "2    NaN    NaN                                                NaN   \n",
       "3    NaN    NaN                                                NaN   \n",
       "4    NaN    NaN                                                NaN   \n",
       "\n",
       "                                teamTwitterFollowers  \n",
       "0  [{\"date\":\"2018-01-01\",\"teamId\":147,\"teamName\":...  \n",
       "1                                                NaN  \n",
       "2                                                NaN  \n",
       "3                                                NaN  \n",
       "4                                                NaN  "
      ]
     },
     "execution_count": 2,
     "metadata": {},
     "output_type": "execute_result"
    }
   ],
   "source": [
    "train = pd.read_csv(\"../input/mlb-player-digital-engagement-forecasting/train_updated.csv\")\n",
    "print(train.shape)\n",
    "train.head()"
   ]
  },
  {
   "cell_type": "markdown",
   "id": "8ecaac79",
   "metadata": {
    "papermill": {
     "duration": 0.105976,
     "end_time": "2022-05-01T08:52:20.586697",
     "exception": false,
     "start_time": "2022-05-01T08:52:20.480721",
     "status": "completed"
    },
    "tags": []
   },
   "source": [
    "#### スクリプト8-3: 処理速度を上げるためにデータを絞り込む"
   ]
  },
  {
   "cell_type": "code",
   "execution_count": 3,
   "id": "c07d975b",
   "metadata": {
    "execution": {
     "iopub.execute_input": "2022-05-01T08:52:20.804998Z",
     "iopub.status.busy": "2022-05-01T08:52:20.803931Z",
     "iopub.status.idle": "2022-05-01T08:52:20.818087Z",
     "shell.execute_reply": "2022-05-01T08:52:20.816881Z"
    },
    "papermill": {
     "duration": 0.126869,
     "end_time": "2022-05-01T08:52:20.820309",
     "exception": false,
     "start_time": "2022-05-01T08:52:20.693440",
     "status": "completed"
    },
    "tags": []
   },
   "outputs": [
    {
     "name": "stdout",
     "output_type": "stream",
     "text": [
      "(487, 12)\n"
     ]
    }
   ],
   "source": [
    "train = train.loc[train[\"date\"]>=20200401, :].reset_index(drop=True)\n",
    "print(train.shape)"
   ]
  },
  {
   "cell_type": "markdown",
   "id": "ead7f024",
   "metadata": {
    "papermill": {
     "duration": 0.111666,
     "end_time": "2022-05-01T08:52:21.039204",
     "exception": false,
     "start_time": "2022-05-01T08:52:20.927538",
     "status": "completed"
    },
    "tags": []
   },
   "source": [
    "#### スクリプト8-4: train_updated.csv専用の変換関数の作成"
   ]
  },
  {
   "cell_type": "code",
   "execution_count": 4,
   "id": "30a0187d",
   "metadata": {
    "execution": {
     "iopub.execute_input": "2022-05-01T08:52:21.255281Z",
     "iopub.status.busy": "2022-05-01T08:52:21.254278Z",
     "iopub.status.idle": "2022-05-01T08:52:21.263336Z",
     "shell.execute_reply": "2022-05-01T08:52:21.262597Z"
    },
    "papermill": {
     "duration": 0.118255,
     "end_time": "2022-05-01T08:52:21.265607",
     "exception": false,
     "start_time": "2022-05-01T08:52:21.147352",
     "status": "completed"
    },
    "tags": []
   },
   "outputs": [],
   "source": [
    "def unpack_json(json_str):\n",
    "    return np.nan if pd.isna(json_str) else pd.read_json(json_str)\n",
    "\n",
    "def extract_data(input_df, col=\"events\", show=False):\n",
    "    output_df = pd.DataFrame()\n",
    "    for i in np.arange(len(input_df)):\n",
    "        if show: print(\"\\r{}/{}\".format(i+1, len(input_df)), end=\"\")\n",
    "        try:\n",
    "            output_df = pd.concat([\n",
    "                output_df,\n",
    "                unpack_json(input_df[col].iloc[i])\n",
    "            ], axis=0, ignore_index=True)\n",
    "        except:\n",
    "            pass\n",
    "    if show: print(\"\")\n",
    "    if show: print(output_df.shape)\n",
    "    if show: display(output_df.head())\n",
    "    return output_df"
   ]
  },
  {
   "cell_type": "markdown",
   "id": "73f308e8",
   "metadata": {
    "papermill": {
     "duration": 0.105488,
     "end_time": "2022-05-01T08:52:21.477131",
     "exception": false,
     "start_time": "2022-05-01T08:52:21.371643",
     "status": "completed"
    },
    "tags": []
   },
   "source": [
    "#### スクリプト8-5: train_updated.csvから「nextDayPlayerEngagement」を取り出して表形式に変換"
   ]
  },
  {
   "cell_type": "code",
   "execution_count": 5,
   "id": "d54bbec0",
   "metadata": {
    "execution": {
     "iopub.execute_input": "2022-05-01T08:52:21.691069Z",
     "iopub.status.busy": "2022-05-01T08:52:21.690089Z",
     "iopub.status.idle": "2022-05-01T08:52:42.740899Z",
     "shell.execute_reply": "2022-05-01T08:52:42.739890Z"
    },
    "papermill": {
     "duration": 21.160058,
     "end_time": "2022-05-01T08:52:42.743080",
     "exception": false,
     "start_time": "2022-05-01T08:52:21.583022",
     "status": "completed"
    },
    "tags": []
   },
   "outputs": [
    {
     "name": "stdout",
     "output_type": "stream",
     "text": [
      "487/487\n",
      "(1003707, 6)\n"
     ]
    },
    {
     "data": {
      "text/html": [
       "<div>\n",
       "<style scoped>\n",
       "    .dataframe tbody tr th:only-of-type {\n",
       "        vertical-align: middle;\n",
       "    }\n",
       "\n",
       "    .dataframe tbody tr th {\n",
       "        vertical-align: top;\n",
       "    }\n",
       "\n",
       "    .dataframe thead th {\n",
       "        text-align: right;\n",
       "    }\n",
       "</style>\n",
       "<table border=\"1\" class=\"dataframe\">\n",
       "  <thead>\n",
       "    <tr style=\"text-align: right;\">\n",
       "      <th></th>\n",
       "      <th>engagementMetricsDate</th>\n",
       "      <th>playerId</th>\n",
       "      <th>target1</th>\n",
       "      <th>target2</th>\n",
       "      <th>target3</th>\n",
       "      <th>target4</th>\n",
       "    </tr>\n",
       "  </thead>\n",
       "  <tbody>\n",
       "    <tr>\n",
       "      <th>0</th>\n",
       "      <td>2020-04-02</td>\n",
       "      <td>425794</td>\n",
       "      <td>5.1249</td>\n",
       "      <td>9.4340</td>\n",
       "      <td>0.1179</td>\n",
       "      <td>6.1947</td>\n",
       "    </tr>\n",
       "    <tr>\n",
       "      <th>1</th>\n",
       "      <td>2020-04-02</td>\n",
       "      <td>571704</td>\n",
       "      <td>0.0389</td>\n",
       "      <td>8.1761</td>\n",
       "      <td>0.0105</td>\n",
       "      <td>2.1304</td>\n",
       "    </tr>\n",
       "    <tr>\n",
       "      <th>2</th>\n",
       "      <td>2020-04-02</td>\n",
       "      <td>506702</td>\n",
       "      <td>0.0106</td>\n",
       "      <td>5.0314</td>\n",
       "      <td>0.0082</td>\n",
       "      <td>0.8850</td>\n",
       "    </tr>\n",
       "    <tr>\n",
       "      <th>3</th>\n",
       "      <td>2020-04-02</td>\n",
       "      <td>607231</td>\n",
       "      <td>0.0247</td>\n",
       "      <td>2.8302</td>\n",
       "      <td>0.0222</td>\n",
       "      <td>0.5900</td>\n",
       "    </tr>\n",
       "    <tr>\n",
       "      <th>4</th>\n",
       "      <td>2020-04-02</td>\n",
       "      <td>543193</td>\n",
       "      <td>0.0071</td>\n",
       "      <td>1.1006</td>\n",
       "      <td>0.0012</td>\n",
       "      <td>0.1967</td>\n",
       "    </tr>\n",
       "  </tbody>\n",
       "</table>\n",
       "</div>"
      ],
      "text/plain": [
       "  engagementMetricsDate  playerId    target1    target2    target3    target4\n",
       "0            2020-04-02    425794     5.1249     9.4340     0.1179     6.1947\n",
       "1            2020-04-02    571704     0.0389     8.1761     0.0105     2.1304\n",
       "2            2020-04-02    506702     0.0106     5.0314     0.0082     0.8850\n",
       "3            2020-04-02    607231     0.0247     2.8302     0.0222     0.5900\n",
       "4            2020-04-02    543193     0.0071     1.1006     0.0012     0.1967"
      ]
     },
     "metadata": {},
     "output_type": "display_data"
    }
   ],
   "source": [
    "df_engagement = extract_data(train, col=\"nextDayPlayerEngagement\", show=True)"
   ]
  },
  {
   "cell_type": "markdown",
   "id": "93cd53ba",
   "metadata": {
    "papermill": {
     "duration": 0.140945,
     "end_time": "2022-05-01T08:52:43.024057",
     "exception": false,
     "start_time": "2022-05-01T08:52:42.883112",
     "status": "completed"
    },
    "tags": []
   },
   "source": [
    "#### スクリプト8-6: 結合キーであるdate_playerIdの作成"
   ]
  },
  {
   "cell_type": "code",
   "execution_count": 6,
   "id": "44bae5ca",
   "metadata": {
    "execution": {
     "iopub.execute_input": "2022-05-01T08:52:43.303310Z",
     "iopub.status.busy": "2022-05-01T08:52:43.303025Z",
     "iopub.status.idle": "2022-05-01T08:52:45.579560Z",
     "shell.execute_reply": "2022-05-01T08:52:45.578724Z"
    },
    "papermill": {
     "duration": 2.418396,
     "end_time": "2022-05-01T08:52:45.581724",
     "exception": false,
     "start_time": "2022-05-01T08:52:43.163328",
     "status": "completed"
    },
    "tags": []
   },
   "outputs": [
    {
     "data": {
      "text/html": [
       "<div>\n",
       "<style scoped>\n",
       "    .dataframe tbody tr th:only-of-type {\n",
       "        vertical-align: middle;\n",
       "    }\n",
       "\n",
       "    .dataframe tbody tr th {\n",
       "        vertical-align: top;\n",
       "    }\n",
       "\n",
       "    .dataframe thead th {\n",
       "        text-align: right;\n",
       "    }\n",
       "</style>\n",
       "<table border=\"1\" class=\"dataframe\">\n",
       "  <thead>\n",
       "    <tr style=\"text-align: right;\">\n",
       "      <th></th>\n",
       "      <th>engagementMetricsDate</th>\n",
       "      <th>playerId</th>\n",
       "      <th>target1</th>\n",
       "      <th>target2</th>\n",
       "      <th>target3</th>\n",
       "      <th>target4</th>\n",
       "      <th>date_playerId</th>\n",
       "    </tr>\n",
       "  </thead>\n",
       "  <tbody>\n",
       "    <tr>\n",
       "      <th>0</th>\n",
       "      <td>2020-04-02</td>\n",
       "      <td>425794</td>\n",
       "      <td>5.1249</td>\n",
       "      <td>9.4340</td>\n",
       "      <td>0.1179</td>\n",
       "      <td>6.1947</td>\n",
       "      <td>20200402_425794</td>\n",
       "    </tr>\n",
       "    <tr>\n",
       "      <th>1</th>\n",
       "      <td>2020-04-02</td>\n",
       "      <td>571704</td>\n",
       "      <td>0.0389</td>\n",
       "      <td>8.1761</td>\n",
       "      <td>0.0105</td>\n",
       "      <td>2.1304</td>\n",
       "      <td>20200402_571704</td>\n",
       "    </tr>\n",
       "    <tr>\n",
       "      <th>2</th>\n",
       "      <td>2020-04-02</td>\n",
       "      <td>506702</td>\n",
       "      <td>0.0106</td>\n",
       "      <td>5.0314</td>\n",
       "      <td>0.0082</td>\n",
       "      <td>0.8850</td>\n",
       "      <td>20200402_506702</td>\n",
       "    </tr>\n",
       "    <tr>\n",
       "      <th>3</th>\n",
       "      <td>2020-04-02</td>\n",
       "      <td>607231</td>\n",
       "      <td>0.0247</td>\n",
       "      <td>2.8302</td>\n",
       "      <td>0.0222</td>\n",
       "      <td>0.5900</td>\n",
       "      <td>20200402_607231</td>\n",
       "    </tr>\n",
       "    <tr>\n",
       "      <th>4</th>\n",
       "      <td>2020-04-02</td>\n",
       "      <td>543193</td>\n",
       "      <td>0.0071</td>\n",
       "      <td>1.1006</td>\n",
       "      <td>0.0012</td>\n",
       "      <td>0.1967</td>\n",
       "      <td>20200402_543193</td>\n",
       "    </tr>\n",
       "  </tbody>\n",
       "</table>\n",
       "</div>"
      ],
      "text/plain": [
       "  engagementMetricsDate  playerId    target1    target2    target3    target4  \\\n",
       "0            2020-04-02    425794     5.1249     9.4340     0.1179     6.1947   \n",
       "1            2020-04-02    571704     0.0389     8.1761     0.0105     2.1304   \n",
       "2            2020-04-02    506702     0.0106     5.0314     0.0082     0.8850   \n",
       "3            2020-04-02    607231     0.0247     2.8302     0.0222     0.5900   \n",
       "4            2020-04-02    543193     0.0071     1.1006     0.0012     0.1967   \n",
       "\n",
       "     date_playerId  \n",
       "0  20200402_425794  \n",
       "1  20200402_571704  \n",
       "2  20200402_506702  \n",
       "3  20200402_607231  \n",
       "4  20200402_543193  "
      ]
     },
     "execution_count": 6,
     "metadata": {},
     "output_type": "execute_result"
    }
   ],
   "source": [
    "df_engagement[\"date_playerId\"] = df_engagement[\"engagementMetricsDate\"].str.replace(\"-\", \"\") + \"_\" + df_engagement[\"playerId\"].astype(str)\n",
    "df_engagement.head()"
   ]
  },
  {
   "cell_type": "markdown",
   "id": "68f283d0",
   "metadata": {
    "papermill": {
     "duration": 0.139366,
     "end_time": "2022-05-01T08:52:45.862037",
     "exception": false,
     "start_time": "2022-05-01T08:52:45.722671",
     "status": "completed"
    },
    "tags": []
   },
   "source": [
    "#### スクリプト8-7: 日付から簡単な特徴量を作成"
   ]
  },
  {
   "cell_type": "code",
   "execution_count": 7,
   "id": "d7765253",
   "metadata": {
    "execution": {
     "iopub.execute_input": "2022-05-01T08:52:46.146667Z",
     "iopub.status.busy": "2022-05-01T08:52:46.146384Z",
     "iopub.status.idle": "2022-05-01T08:52:54.479062Z",
     "shell.execute_reply": "2022-05-01T08:52:54.478020Z"
    },
    "papermill": {
     "duration": 8.478628,
     "end_time": "2022-05-01T08:52:54.481526",
     "exception": false,
     "start_time": "2022-05-01T08:52:46.002898",
     "status": "completed"
    },
    "tags": []
   },
   "outputs": [
    {
     "data": {
      "text/html": [
       "<div>\n",
       "<style scoped>\n",
       "    .dataframe tbody tr th:only-of-type {\n",
       "        vertical-align: middle;\n",
       "    }\n",
       "\n",
       "    .dataframe tbody tr th {\n",
       "        vertical-align: top;\n",
       "    }\n",
       "\n",
       "    .dataframe thead th {\n",
       "        text-align: right;\n",
       "    }\n",
       "</style>\n",
       "<table border=\"1\" class=\"dataframe\">\n",
       "  <thead>\n",
       "    <tr style=\"text-align: right;\">\n",
       "      <th></th>\n",
       "      <th>engagementMetricsDate</th>\n",
       "      <th>playerId</th>\n",
       "      <th>target1</th>\n",
       "      <th>target2</th>\n",
       "      <th>target3</th>\n",
       "      <th>target4</th>\n",
       "      <th>date_playerId</th>\n",
       "      <th>date</th>\n",
       "      <th>dayofweek</th>\n",
       "      <th>yearmonth</th>\n",
       "    </tr>\n",
       "  </thead>\n",
       "  <tbody>\n",
       "    <tr>\n",
       "      <th>0</th>\n",
       "      <td>2020-04-02</td>\n",
       "      <td>425794</td>\n",
       "      <td>5.1249</td>\n",
       "      <td>9.4340</td>\n",
       "      <td>0.1179</td>\n",
       "      <td>6.1947</td>\n",
       "      <td>20200402_425794</td>\n",
       "      <td>2020-04-01</td>\n",
       "      <td>2</td>\n",
       "      <td>2020-04</td>\n",
       "    </tr>\n",
       "    <tr>\n",
       "      <th>1</th>\n",
       "      <td>2020-04-02</td>\n",
       "      <td>571704</td>\n",
       "      <td>0.0389</td>\n",
       "      <td>8.1761</td>\n",
       "      <td>0.0105</td>\n",
       "      <td>2.1304</td>\n",
       "      <td>20200402_571704</td>\n",
       "      <td>2020-04-01</td>\n",
       "      <td>2</td>\n",
       "      <td>2020-04</td>\n",
       "    </tr>\n",
       "    <tr>\n",
       "      <th>2</th>\n",
       "      <td>2020-04-02</td>\n",
       "      <td>506702</td>\n",
       "      <td>0.0106</td>\n",
       "      <td>5.0314</td>\n",
       "      <td>0.0082</td>\n",
       "      <td>0.8850</td>\n",
       "      <td>20200402_506702</td>\n",
       "      <td>2020-04-01</td>\n",
       "      <td>2</td>\n",
       "      <td>2020-04</td>\n",
       "    </tr>\n",
       "    <tr>\n",
       "      <th>3</th>\n",
       "      <td>2020-04-02</td>\n",
       "      <td>607231</td>\n",
       "      <td>0.0247</td>\n",
       "      <td>2.8302</td>\n",
       "      <td>0.0222</td>\n",
       "      <td>0.5900</td>\n",
       "      <td>20200402_607231</td>\n",
       "      <td>2020-04-01</td>\n",
       "      <td>2</td>\n",
       "      <td>2020-04</td>\n",
       "    </tr>\n",
       "    <tr>\n",
       "      <th>4</th>\n",
       "      <td>2020-04-02</td>\n",
       "      <td>543193</td>\n",
       "      <td>0.0071</td>\n",
       "      <td>1.1006</td>\n",
       "      <td>0.0012</td>\n",
       "      <td>0.1967</td>\n",
       "      <td>20200402_543193</td>\n",
       "      <td>2020-04-01</td>\n",
       "      <td>2</td>\n",
       "      <td>2020-04</td>\n",
       "    </tr>\n",
       "  </tbody>\n",
       "</table>\n",
       "</div>"
      ],
      "text/plain": [
       "  engagementMetricsDate  playerId    target1    target2    target3    target4  \\\n",
       "0            2020-04-02    425794     5.1249     9.4340     0.1179     6.1947   \n",
       "1            2020-04-02    571704     0.0389     8.1761     0.0105     2.1304   \n",
       "2            2020-04-02    506702     0.0106     5.0314     0.0082     0.8850   \n",
       "3            2020-04-02    607231     0.0247     2.8302     0.0222     0.5900   \n",
       "4            2020-04-02    543193     0.0071     1.1006     0.0012     0.1967   \n",
       "\n",
       "     date_playerId       date  dayofweek yearmonth  \n",
       "0  20200402_425794 2020-04-01          2   2020-04  \n",
       "1  20200402_571704 2020-04-01          2   2020-04  \n",
       "2  20200402_506702 2020-04-01          2   2020-04  \n",
       "3  20200402_607231 2020-04-01          2   2020-04  \n",
       "4  20200402_543193 2020-04-01          2   2020-04  "
      ]
     },
     "execution_count": 7,
     "metadata": {},
     "output_type": "execute_result"
    }
   ],
   "source": [
    "# 推論実施日のカラム作成（推論実施日＝推論対象日の前日）\n",
    "df_engagement[\"date\"] = pd.to_datetime(df_engagement[\"engagementMetricsDate\"], format=\"%Y-%m-%d\") + dt.timedelta(days=-1)\n",
    "\n",
    "# 推論実施日から「曜日」と「年月」の特徴量作成\n",
    "df_engagement[\"dayofweek\"] = df_engagement[\"date\"].dt.dayofweek\n",
    "df_engagement[\"yearmonth\"] = df_engagement[\"date\"].astype(str).apply(lambda x: x[:7])\n",
    "df_engagement.head()"
   ]
  },
  {
   "cell_type": "markdown",
   "id": "225af4ef",
   "metadata": {
    "papermill": {
     "duration": 0.14077,
     "end_time": "2022-05-01T08:52:54.762340",
     "exception": false,
     "start_time": "2022-05-01T08:52:54.621570",
     "status": "completed"
    },
    "tags": []
   },
   "source": [
    "### ● players.csvの読み込みと加工\n",
    "#### スクリプト8-8: players.csvの読み込み"
   ]
  },
  {
   "cell_type": "code",
   "execution_count": 8,
   "id": "a55bb561",
   "metadata": {
    "execution": {
     "iopub.execute_input": "2022-05-01T08:52:55.048667Z",
     "iopub.status.busy": "2022-05-01T08:52:55.047719Z",
     "iopub.status.idle": "2022-05-01T08:52:55.085943Z",
     "shell.execute_reply": "2022-05-01T08:52:55.084996Z"
    },
    "papermill": {
     "duration": 0.182925,
     "end_time": "2022-05-01T08:52:55.088168",
     "exception": false,
     "start_time": "2022-05-01T08:52:54.905243",
     "status": "completed"
    },
    "tags": []
   },
   "outputs": [
    {
     "name": "stdout",
     "output_type": "stream",
     "text": [
      "(2061, 12)\n",
      "2061\n"
     ]
    },
    {
     "data": {
      "text/html": [
       "<div>\n",
       "<style scoped>\n",
       "    .dataframe tbody tr th:only-of-type {\n",
       "        vertical-align: middle;\n",
       "    }\n",
       "\n",
       "    .dataframe tbody tr th {\n",
       "        vertical-align: top;\n",
       "    }\n",
       "\n",
       "    .dataframe thead th {\n",
       "        text-align: right;\n",
       "    }\n",
       "</style>\n",
       "<table border=\"1\" class=\"dataframe\">\n",
       "  <thead>\n",
       "    <tr style=\"text-align: right;\">\n",
       "      <th></th>\n",
       "      <th>playerId</th>\n",
       "      <th>playerName</th>\n",
       "      <th>DOB</th>\n",
       "      <th>mlbDebutDate</th>\n",
       "      <th>birthCity</th>\n",
       "      <th>birthStateProvince</th>\n",
       "      <th>birthCountry</th>\n",
       "      <th>heightInches</th>\n",
       "      <th>weight</th>\n",
       "      <th>primaryPositionCode</th>\n",
       "      <th>primaryPositionName</th>\n",
       "      <th>playerForTestSetAndFuturePreds</th>\n",
       "    </tr>\n",
       "  </thead>\n",
       "  <tbody>\n",
       "    <tr>\n",
       "      <th>0</th>\n",
       "      <td>665482</td>\n",
       "      <td>Gilberto Celestino</td>\n",
       "      <td>1999-02-13</td>\n",
       "      <td>2021-06-02</td>\n",
       "      <td>Santo Domingo</td>\n",
       "      <td>NaN</td>\n",
       "      <td>Dominican Republic</td>\n",
       "      <td>72</td>\n",
       "      <td>170</td>\n",
       "      <td>8</td>\n",
       "      <td>Outfielder</td>\n",
       "      <td>False</td>\n",
       "    </tr>\n",
       "    <tr>\n",
       "      <th>1</th>\n",
       "      <td>593590</td>\n",
       "      <td>Webster Rivas</td>\n",
       "      <td>1990-08-08</td>\n",
       "      <td>2021-05-28</td>\n",
       "      <td>Nagua</td>\n",
       "      <td>NaN</td>\n",
       "      <td>Dominican Republic</td>\n",
       "      <td>73</td>\n",
       "      <td>219</td>\n",
       "      <td>3</td>\n",
       "      <td>First Base</td>\n",
       "      <td>True</td>\n",
       "    </tr>\n",
       "    <tr>\n",
       "      <th>2</th>\n",
       "      <td>661269</td>\n",
       "      <td>Vladimir Gutierrez</td>\n",
       "      <td>1995-09-18</td>\n",
       "      <td>2021-05-28</td>\n",
       "      <td>Havana</td>\n",
       "      <td>NaN</td>\n",
       "      <td>Cuba</td>\n",
       "      <td>73</td>\n",
       "      <td>190</td>\n",
       "      <td>1</td>\n",
       "      <td>Pitcher</td>\n",
       "      <td>True</td>\n",
       "    </tr>\n",
       "    <tr>\n",
       "      <th>3</th>\n",
       "      <td>669212</td>\n",
       "      <td>Eli Morgan</td>\n",
       "      <td>1996-05-13</td>\n",
       "      <td>2021-05-28</td>\n",
       "      <td>Rancho Palos Verdes</td>\n",
       "      <td>CA</td>\n",
       "      <td>USA</td>\n",
       "      <td>70</td>\n",
       "      <td>190</td>\n",
       "      <td>1</td>\n",
       "      <td>Pitcher</td>\n",
       "      <td>True</td>\n",
       "    </tr>\n",
       "    <tr>\n",
       "      <th>4</th>\n",
       "      <td>666201</td>\n",
       "      <td>Alek Manoah</td>\n",
       "      <td>1998-01-09</td>\n",
       "      <td>2021-05-27</td>\n",
       "      <td>Homestead</td>\n",
       "      <td>FL</td>\n",
       "      <td>USA</td>\n",
       "      <td>78</td>\n",
       "      <td>260</td>\n",
       "      <td>1</td>\n",
       "      <td>Pitcher</td>\n",
       "      <td>True</td>\n",
       "    </tr>\n",
       "  </tbody>\n",
       "</table>\n",
       "</div>"
      ],
      "text/plain": [
       "   playerId          playerName         DOB mlbDebutDate            birthCity  \\\n",
       "0    665482  Gilberto Celestino  1999-02-13   2021-06-02        Santo Domingo   \n",
       "1    593590       Webster Rivas  1990-08-08   2021-05-28                Nagua   \n",
       "2    661269  Vladimir Gutierrez  1995-09-18   2021-05-28               Havana   \n",
       "3    669212          Eli Morgan  1996-05-13   2021-05-28  Rancho Palos Verdes   \n",
       "4    666201         Alek Manoah  1998-01-09   2021-05-27            Homestead   \n",
       "\n",
       "  birthStateProvince        birthCountry  heightInches  weight  \\\n",
       "0                NaN  Dominican Republic            72     170   \n",
       "1                NaN  Dominican Republic            73     219   \n",
       "2                NaN                Cuba            73     190   \n",
       "3                 CA                 USA            70     190   \n",
       "4                 FL                 USA            78     260   \n",
       "\n",
       "  primaryPositionCode primaryPositionName playerForTestSetAndFuturePreds  \n",
       "0                   8          Outfielder                          False  \n",
       "1                   3          First Base                           True  \n",
       "2                   1             Pitcher                           True  \n",
       "3                   1             Pitcher                           True  \n",
       "4                   1             Pitcher                           True  "
      ]
     },
     "execution_count": 8,
     "metadata": {},
     "output_type": "execute_result"
    }
   ],
   "source": [
    "df_players = pd.read_csv(\"../input/mlb-player-digital-engagement-forecasting/players.csv\")\n",
    "print(df_players.shape)\n",
    "print(df_players[\"playerId\"].agg(\"nunique\"))\n",
    "df_players.head()"
   ]
  },
  {
   "cell_type": "markdown",
   "id": "17001a41",
   "metadata": {
    "papermill": {
     "duration": 0.140652,
     "end_time": "2022-05-01T08:52:55.369841",
     "exception": false,
     "start_time": "2022-05-01T08:52:55.229189",
     "status": "completed"
    },
    "tags": []
   },
   "source": [
    "#### スクリプト8-9: 評価対象の人数確認"
   ]
  },
  {
   "cell_type": "code",
   "execution_count": 9,
   "id": "d9cde825",
   "metadata": {
    "execution": {
     "iopub.execute_input": "2022-05-01T08:52:55.654463Z",
     "iopub.status.busy": "2022-05-01T08:52:55.653903Z",
     "iopub.status.idle": "2022-05-01T08:52:55.661573Z",
     "shell.execute_reply": "2022-05-01T08:52:55.660617Z"
    },
    "papermill": {
     "duration": 0.152503,
     "end_time": "2022-05-01T08:52:55.663633",
     "exception": false,
     "start_time": "2022-05-01T08:52:55.511130",
     "status": "completed"
    },
    "tags": []
   },
   "outputs": [
    {
     "name": "stdout",
     "output_type": "stream",
     "text": [
      "1187\n",
      "0.5759340126152354\n"
     ]
    }
   ],
   "source": [
    "df_players[\"playerForTestSetAndFuturePreds\"] = np.where(df_players[\"playerForTestSetAndFuturePreds\"]==True, 1, 0)\n",
    "print(df_players[\"playerForTestSetAndFuturePreds\"].sum())\n",
    "print(df_players[\"playerForTestSetAndFuturePreds\"].mean())"
   ]
  },
  {
   "cell_type": "markdown",
   "id": "34f7cc86",
   "metadata": {
    "papermill": {
     "duration": 0.142263,
     "end_time": "2022-05-01T08:52:55.949133",
     "exception": false,
     "start_time": "2022-05-01T08:52:55.806870",
     "status": "completed"
    },
    "tags": []
   },
   "source": [
    "## 8.3.3 データセット作成\n",
    "#### スクリプト8-10: テーブル結合 "
   ]
  },
  {
   "cell_type": "code",
   "execution_count": 10,
   "id": "fa8fea62",
   "metadata": {
    "execution": {
     "iopub.execute_input": "2022-05-01T08:52:56.235154Z",
     "iopub.status.busy": "2022-05-01T08:52:56.234208Z",
     "iopub.status.idle": "2022-05-01T08:52:56.834071Z",
     "shell.execute_reply": "2022-05-01T08:52:56.832873Z"
    },
    "papermill": {
     "duration": 0.745222,
     "end_time": "2022-05-01T08:52:56.836398",
     "exception": false,
     "start_time": "2022-05-01T08:52:56.091176",
     "status": "completed"
    },
    "tags": []
   },
   "outputs": [
    {
     "name": "stdout",
     "output_type": "stream",
     "text": [
      "(1003707, 21)\n"
     ]
    }
   ],
   "source": [
    "df_train = pd.merge(df_engagement, df_players, on=[\"playerId\"], how=\"left\")\n",
    "print(df_train.shape)"
   ]
  },
  {
   "cell_type": "markdown",
   "id": "c647688c",
   "metadata": {
    "papermill": {
     "duration": 0.144435,
     "end_time": "2022-05-01T08:52:57.123471",
     "exception": false,
     "start_time": "2022-05-01T08:52:56.979036",
     "status": "completed"
    },
    "tags": []
   },
   "source": [
    "#### スクリプト8-11: 学習用データセットの作成"
   ]
  },
  {
   "cell_type": "code",
   "execution_count": 11,
   "id": "b6bf22c7",
   "metadata": {
    "execution": {
     "iopub.execute_input": "2022-05-01T08:52:57.412529Z",
     "iopub.status.busy": "2022-05-01T08:52:57.411607Z",
     "iopub.status.idle": "2022-05-01T08:52:57.995985Z",
     "shell.execute_reply": "2022-05-01T08:52:57.994993Z"
    },
    "papermill": {
     "duration": 0.730461,
     "end_time": "2022-05-01T08:52:57.998266",
     "exception": false,
     "start_time": "2022-05-01T08:52:57.267805",
     "status": "completed"
    },
    "tags": []
   },
   "outputs": [
    {
     "name": "stdout",
     "output_type": "stream",
     "text": [
      "(1003707, 10) (1003707, 4) (1003707, 6)\n"
     ]
    },
    {
     "data": {
      "text/html": [
       "<div>\n",
       "<style scoped>\n",
       "    .dataframe tbody tr th:only-of-type {\n",
       "        vertical-align: middle;\n",
       "    }\n",
       "\n",
       "    .dataframe tbody tr th {\n",
       "        vertical-align: top;\n",
       "    }\n",
       "\n",
       "    .dataframe thead th {\n",
       "        text-align: right;\n",
       "    }\n",
       "</style>\n",
       "<table border=\"1\" class=\"dataframe\">\n",
       "  <thead>\n",
       "    <tr style=\"text-align: right;\">\n",
       "      <th></th>\n",
       "      <th>playerId</th>\n",
       "      <th>dayofweek</th>\n",
       "      <th>birthCity</th>\n",
       "      <th>birthStateProvince</th>\n",
       "      <th>birthCountry</th>\n",
       "      <th>heightInches</th>\n",
       "      <th>weight</th>\n",
       "      <th>primaryPositionCode</th>\n",
       "      <th>primaryPositionName</th>\n",
       "      <th>playerForTestSetAndFuturePreds</th>\n",
       "    </tr>\n",
       "  </thead>\n",
       "  <tbody>\n",
       "    <tr>\n",
       "      <th>0</th>\n",
       "      <td>425794</td>\n",
       "      <td>2</td>\n",
       "      <td>Brunswick</td>\n",
       "      <td>GA</td>\n",
       "      <td>USA</td>\n",
       "      <td>79</td>\n",
       "      <td>230</td>\n",
       "      <td>1</td>\n",
       "      <td>Pitcher</td>\n",
       "      <td>1</td>\n",
       "    </tr>\n",
       "    <tr>\n",
       "      <th>1</th>\n",
       "      <td>571704</td>\n",
       "      <td>2</td>\n",
       "      <td>Albuquerque</td>\n",
       "      <td>NM</td>\n",
       "      <td>USA</td>\n",
       "      <td>75</td>\n",
       "      <td>210</td>\n",
       "      <td>1</td>\n",
       "      <td>Pitcher</td>\n",
       "      <td>0</td>\n",
       "    </tr>\n",
       "    <tr>\n",
       "      <th>2</th>\n",
       "      <td>506702</td>\n",
       "      <td>2</td>\n",
       "      <td>Maracaibo</td>\n",
       "      <td>NaN</td>\n",
       "      <td>Venezuela</td>\n",
       "      <td>70</td>\n",
       "      <td>235</td>\n",
       "      <td>2</td>\n",
       "      <td>Catcher</td>\n",
       "      <td>1</td>\n",
       "    </tr>\n",
       "    <tr>\n",
       "      <th>3</th>\n",
       "      <td>607231</td>\n",
       "      <td>2</td>\n",
       "      <td>Savannah</td>\n",
       "      <td>GA</td>\n",
       "      <td>USA</td>\n",
       "      <td>76</td>\n",
       "      <td>200</td>\n",
       "      <td>1</td>\n",
       "      <td>Pitcher</td>\n",
       "      <td>1</td>\n",
       "    </tr>\n",
       "    <tr>\n",
       "      <th>4</th>\n",
       "      <td>543193</td>\n",
       "      <td>2</td>\n",
       "      <td>Columbia</td>\n",
       "      <td>CA</td>\n",
       "      <td>USA</td>\n",
       "      <td>76</td>\n",
       "      <td>215</td>\n",
       "      <td>1</td>\n",
       "      <td>Pitcher</td>\n",
       "      <td>0</td>\n",
       "    </tr>\n",
       "  </tbody>\n",
       "</table>\n",
       "</div>"
      ],
      "text/plain": [
       "   playerId  dayofweek    birthCity birthStateProvince birthCountry  \\\n",
       "0    425794          2    Brunswick                 GA          USA   \n",
       "1    571704          2  Albuquerque                 NM          USA   \n",
       "2    506702          2    Maracaibo                NaN    Venezuela   \n",
       "3    607231          2     Savannah                 GA          USA   \n",
       "4    543193          2     Columbia                 CA          USA   \n",
       "\n",
       "   heightInches  weight primaryPositionCode primaryPositionName  \\\n",
       "0            79     230                   1             Pitcher   \n",
       "1            75     210                   1             Pitcher   \n",
       "2            70     235                   2             Catcher   \n",
       "3            76     200                   1             Pitcher   \n",
       "4            76     215                   1             Pitcher   \n",
       "\n",
       "   playerForTestSetAndFuturePreds  \n",
       "0                               1  \n",
       "1                               0  \n",
       "2                               1  \n",
       "3                               1  \n",
       "4                               0  "
      ]
     },
     "execution_count": 11,
     "metadata": {},
     "output_type": "execute_result"
    }
   ],
   "source": [
    "x_train = df_train[[\n",
    "    \"playerId\", \"dayofweek\",\n",
    "    \"birthCity\", \"birthStateProvince\", \"birthCountry\", \"heightInches\", \"weight\", \n",
    "    \"primaryPositionCode\", \"primaryPositionName\", \"playerForTestSetAndFuturePreds\"]]\n",
    "y_train = df_train[[\"target1\",\"target2\",\"target3\",\"target4\"]]\n",
    "id_train = df_train[[\"engagementMetricsDate\",\"playerId\",\"date_playerId\",\"date\",\"yearmonth\",\"playerForTestSetAndFuturePreds\"]]\n",
    "print(x_train.shape, y_train.shape, id_train.shape)\n",
    "x_train.head()"
   ]
  },
  {
   "cell_type": "markdown",
   "id": "8e48f2f4",
   "metadata": {
    "papermill": {
     "duration": 0.143017,
     "end_time": "2022-05-01T08:52:58.285973",
     "exception": false,
     "start_time": "2022-05-01T08:52:58.142956",
     "status": "completed"
    },
    "tags": []
   },
   "source": [
    "#### スクリプト8-12: カテゴリ変数をcategory型に変換"
   ]
  },
  {
   "cell_type": "code",
   "execution_count": 12,
   "id": "65ae39bd",
   "metadata": {
    "execution": {
     "iopub.execute_input": "2022-05-01T08:52:58.574095Z",
     "iopub.status.busy": "2022-05-01T08:52:58.573771Z",
     "iopub.status.idle": "2022-05-01T08:52:59.165999Z",
     "shell.execute_reply": "2022-05-01T08:52:59.165104Z"
    },
    "papermill": {
     "duration": 0.740219,
     "end_time": "2022-05-01T08:52:59.168576",
     "exception": false,
     "start_time": "2022-05-01T08:52:58.428357",
     "status": "completed"
    },
    "tags": []
   },
   "outputs": [],
   "source": [
    "for col in [\"playerId\", \"dayofweek\", \"birthCity\", \"birthStateProvince\", \"birthCountry\", \"primaryPositionCode\", \"primaryPositionName\"]:\n",
    "    x_train[col] = x_train[col].astype(\"category\")"
   ]
  },
  {
   "cell_type": "markdown",
   "id": "78861c8d",
   "metadata": {
    "papermill": {
     "duration": 0.142803,
     "end_time": "2022-05-01T08:52:59.453702",
     "exception": false,
     "start_time": "2022-05-01T08:52:59.310899",
     "status": "completed"
    },
    "tags": []
   },
   "source": [
    "## 8.3.4 バリデーション設計"
   ]
  },
  {
   "cell_type": "markdown",
   "id": "b5786320",
   "metadata": {
    "papermill": {
     "duration": 0.142065,
     "end_time": "2022-05-01T08:52:59.738066",
     "exception": false,
     "start_time": "2022-05-01T08:52:59.596001",
     "status": "completed"
    },
    "tags": []
   },
   "source": [
    "#### スクリプト8-13: 学習データと検証データの期間の設定"
   ]
  },
  {
   "cell_type": "code",
   "execution_count": 13,
   "id": "abf8c655",
   "metadata": {
    "execution": {
     "iopub.execute_input": "2022-05-01T08:53:00.029424Z",
     "iopub.status.busy": "2022-05-01T08:53:00.028976Z",
     "iopub.status.idle": "2022-05-01T08:53:00.035024Z",
     "shell.execute_reply": "2022-05-01T08:53:00.034375Z"
    },
    "papermill": {
     "duration": 0.153188,
     "end_time": "2022-05-01T08:53:00.037010",
     "exception": false,
     "start_time": "2022-05-01T08:52:59.883822",
     "status": "completed"
    },
    "tags": []
   },
   "outputs": [],
   "source": [
    "list_cv_month = [\n",
    "    [[\"2020-05\",\"2020-06\",\"2020-07\",\"2020-08\",\"2020-09\",\"2020-10\",\"2020-11\",\"2020-12\",\"2021-01\",\"2021-02\",\"2021-03\",\"2021-04\"], [\"2021-05\"]],\n",
    "    [[\"2020-06\",\"2020-07\",\"2020-08\",\"2020-09\",\"2020-10\",\"2020-11\",\"2020-12\",\"2021-01\",\"2021-02\",\"2021-03\",\"2021-04\",\"2021-05\"], [\"2021-06\"]],\n",
    "    [[\"2020-07\",\"2020-08\",\"2020-09\",\"2020-10\",\"2020-11\",\"2020-12\",\"2021-01\",\"2021-02\",\"2021-03\",\"2021-04\",\"2021-05\",\"2021-06\"], [\"2021-07\"]],\n",
    "]"
   ]
  },
  {
   "cell_type": "markdown",
   "id": "45d961b7",
   "metadata": {
    "papermill": {
     "duration": 0.142424,
     "end_time": "2022-05-01T08:53:00.321844",
     "exception": false,
     "start_time": "2022-05-01T08:53:00.179420",
     "status": "completed"
    },
    "tags": []
   },
   "source": [
    "#### スクリプト8-14: 学習データと検証データのindexリストの作成"
   ]
  },
  {
   "cell_type": "code",
   "execution_count": 14,
   "id": "1fa45367",
   "metadata": {
    "execution": {
     "iopub.execute_input": "2022-05-01T08:53:00.609128Z",
     "iopub.status.busy": "2022-05-01T08:53:00.608680Z",
     "iopub.status.idle": "2022-05-01T08:53:01.180254Z",
     "shell.execute_reply": "2022-05-01T08:53:01.179375Z"
    },
    "papermill": {
     "duration": 0.718049,
     "end_time": "2022-05-01T08:53:01.182492",
     "exception": false,
     "start_time": "2022-05-01T08:53:00.464443",
     "status": "completed"
    },
    "tags": []
   },
   "outputs": [
    {
     "data": {
      "text/plain": [
       "[Int64Index([ 61830,  61831,  61832,  61833,  61834,  61835,  61836,  61837,\n",
       "              61838,  61839,\n",
       "             ...\n",
       "             814085, 814086, 814087, 814088, 814089, 814090, 814091, 814092,\n",
       "             814093, 814094],\n",
       "            dtype='int64', length=752265),\n",
       " Int64Index([814095, 814096, 814100, 814101, 814102, 814104, 814105, 814106,\n",
       "             814107, 814109,\n",
       "             ...\n",
       "             877931, 877934, 877950, 877951, 877957, 877958, 877969, 877972,\n",
       "             877974, 877975],\n",
       "            dtype='int64', length=36797)]"
      ]
     },
     "execution_count": 14,
     "metadata": {},
     "output_type": "execute_result"
    }
   ],
   "source": [
    "cv = []\n",
    "for month_tr, month_va in list_cv_month:\n",
    "    cv.append([\n",
    "        id_train.index[id_train[\"yearmonth\"].isin(month_tr)],\n",
    "        id_train.index[id_train[\"yearmonth\"].isin(month_va) & (id_train[\"playerForTestSetAndFuturePreds\"]==1)],\n",
    "    ])\n",
    "# fold0のindexのリスト\n",
    "cv[0]"
   ]
  },
  {
   "cell_type": "markdown",
   "id": "c11bee23",
   "metadata": {
    "papermill": {
     "duration": 0.144643,
     "end_time": "2022-05-01T08:53:01.471800",
     "exception": false,
     "start_time": "2022-05-01T08:53:01.327157",
     "status": "completed"
    },
    "tags": []
   },
   "source": [
    "## 8.3.5 モデル学習\n",
    "#### スクリプト8-15: 学習データと検証データに分離"
   ]
  },
  {
   "cell_type": "code",
   "execution_count": 15,
   "id": "9ca26634",
   "metadata": {
    "execution": {
     "iopub.execute_input": "2022-05-01T08:53:01.761702Z",
     "iopub.status.busy": "2022-05-01T08:53:01.760933Z",
     "iopub.status.idle": "2022-05-01T08:53:01.996823Z",
     "shell.execute_reply": "2022-05-01T08:53:01.995833Z"
    },
    "papermill": {
     "duration": 0.383729,
     "end_time": "2022-05-01T08:53:01.999323",
     "exception": false,
     "start_time": "2022-05-01T08:53:01.615594",
     "status": "completed"
    },
    "tags": []
   },
   "outputs": [
    {
     "name": "stdout",
     "output_type": "stream",
     "text": [
      "(752265, 10) (752265,) (752265, 6)\n",
      "(36797, 10) (36797,) (36797, 6)\n"
     ]
    }
   ],
   "source": [
    "# 目的変数は「target1」で，foldは「fold0」の場合とする\n",
    "target = \"target1\"\n",
    "nfold = 0\n",
    "\n",
    "# trainとvalidのindex取得\n",
    "idx_tr, idx_va = cv[nfold][0], cv[nfold][1]\n",
    "\n",
    "# trainデータとvalidデータに分離\n",
    "x_tr, y_tr, id_tr = x_train.loc[idx_tr, :], y_train.loc[idx_tr, target], id_train.loc[idx_tr, :]\n",
    "x_va, y_va, id_va = x_train.loc[idx_va, :], y_train.loc[idx_va, target], id_train.loc[idx_va, :]\n",
    "print(x_tr.shape, y_tr.shape, id_tr.shape)\n",
    "print(x_va.shape, y_va.shape, id_va.shape)"
   ]
  },
  {
   "cell_type": "markdown",
   "id": "6c3a446d",
   "metadata": {
    "papermill": {
     "duration": 0.145742,
     "end_time": "2022-05-01T08:53:02.292408",
     "exception": false,
     "start_time": "2022-05-01T08:53:02.146666",
     "status": "completed"
    },
    "tags": []
   },
   "source": [
    "#### スクリプト8-16: モデル学習"
   ]
  },
  {
   "cell_type": "code",
   "execution_count": 16,
   "id": "35cba28a",
   "metadata": {
    "execution": {
     "iopub.execute_input": "2022-05-01T08:53:02.587625Z",
     "iopub.status.busy": "2022-05-01T08:53:02.587337Z",
     "iopub.status.idle": "2022-05-01T08:53:34.425533Z",
     "shell.execute_reply": "2022-05-01T08:53:34.424267Z"
    },
    "papermill": {
     "duration": 31.990339,
     "end_time": "2022-05-01T08:53:34.428325",
     "exception": false,
     "start_time": "2022-05-01T08:53:02.437986",
     "status": "completed"
    },
    "tags": []
   },
   "outputs": [
    {
     "name": "stdout",
     "output_type": "stream",
     "text": [
      "[LightGBM] [Warning] feature_fraction is set=0.8, colsample_bytree=1.0 will be ignored. Current value: feature_fraction=0.8\n",
      "[LightGBM] [Warning] min_sum_hessian_in_leaf is set=50, min_child_weight=0.001 will be ignored. Current value: min_sum_hessian_in_leaf=50\n",
      "[LightGBM] [Warning] min_data_in_leaf is set=50, min_child_samples=20 will be ignored. Current value: min_data_in_leaf=50\n",
      "[100]\ttraining's l1: 0.508316\tvalid_1's l1: 1.29781\n",
      "[200]\ttraining's l1: 0.508247\tvalid_1's l1: 1.29772\n",
      "[300]\ttraining's l1: 0.508185\tvalid_1's l1: 1.29768\n",
      "[400]\ttraining's l1: 0.508154\tvalid_1's l1: 1.29768\n"
     ]
    }
   ],
   "source": [
    "# ハイパーパラメータの設定\n",
    "params = {\n",
    "    'boosting_type': 'gbdt',\n",
    "    'objective': 'regression_l1', \n",
    "    'metric': 'mean_absolute_error',\n",
    "    'learning_rate': 0.05,\n",
    "    'num_leaves': 32,\n",
    "    'subsample': 0.7,\n",
    "    'subsample_freq': 1,\n",
    "    'feature_fraction': 0.8,\n",
    "    'min_data_in_leaf': 50,\n",
    "    'min_sum_hessian_in_leaf': 50,\n",
    "    'n_estimators': 1000,\n",
    "    \"random_state\": 123,\n",
    "    \"importance_type\": \"gain\",\n",
    "}\n",
    "\n",
    "# モデルの学習\n",
    "model = lgb.LGBMRegressor(**params)\n",
    "model.fit(x_tr,\n",
    "          y_tr,\n",
    "          eval_set=[(x_tr,y_tr), (x_va,y_va)],\n",
    "          early_stopping_rounds=50,\n",
    "          verbose=100,\n",
    "         )\n",
    "\n",
    "# モデルの保存\n",
    "with open(\"model_lgb_target1_fold0.h5\", \"wb\") as f:\n",
    "    pickle.dump(model, f, protocol=4)"
   ]
  },
  {
   "cell_type": "markdown",
   "id": "4085f1bd",
   "metadata": {
    "papermill": {
     "duration": 0.145211,
     "end_time": "2022-05-01T08:53:34.719947",
     "exception": false,
     "start_time": "2022-05-01T08:53:34.574736",
     "status": "completed"
    },
    "tags": []
   },
   "source": [
    "#### スクリプト8-17: モデル評価"
   ]
  },
  {
   "cell_type": "code",
   "execution_count": 17,
   "id": "8001f3e4",
   "metadata": {
    "execution": {
     "iopub.execute_input": "2022-05-01T08:53:35.018631Z",
     "iopub.status.busy": "2022-05-01T08:53:35.018101Z",
     "iopub.status.idle": "2022-05-01T08:53:36.009468Z",
     "shell.execute_reply": "2022-05-01T08:53:36.008540Z"
    },
    "papermill": {
     "duration": 1.143976,
     "end_time": "2022-05-01T08:53:36.011950",
     "exception": false,
     "start_time": "2022-05-01T08:53:34.867974",
     "status": "completed"
    },
    "tags": []
   },
   "outputs": [
    {
     "data": {
      "text/plain": [
       "[['target1', 0, 1.297671433371246]]"
      ]
     },
     "execution_count": 17,
     "metadata": {},
     "output_type": "execute_result"
    }
   ],
   "source": [
    "# validデータの推論値取得\n",
    "y_va_pred = model.predict(x_va)\n",
    "\n",
    "# 全target/foldの推論値を格納する変数の作成\n",
    "df_valid_pred = pd.DataFrame()\n",
    "\n",
    "# 推論値を格納\n",
    "tmp_pred = pd.concat([\n",
    "    id_va,\n",
    "    pd.DataFrame({\"target\": target, \"nfold\": 0, \"true\": y_va, \"pred\": y_va_pred}),\n",
    "], axis=1)\n",
    "df_valid_pred = pd.concat([df_valid_pred, tmp_pred], axis=0, ignore_index=True)\n",
    "\n",
    "# 全target/foldの評価値を入れる変数の作成\n",
    "metrics = []\n",
    "\n",
    "# 評価値の算出\n",
    "metric_va = mean_absolute_error(y_va, y_va_pred)\n",
    "# 評価値を格納\n",
    "metrics.append([target, nfold, metric_va])\n",
    "metrics"
   ]
  },
  {
   "cell_type": "markdown",
   "id": "ea6069c4",
   "metadata": {
    "papermill": {
     "duration": 0.146068,
     "end_time": "2022-05-01T08:53:36.305241",
     "exception": false,
     "start_time": "2022-05-01T08:53:36.159173",
     "status": "completed"
    },
    "tags": []
   },
   "source": [
    "#### スクリプト8-18: 説明変数の重要度取得"
   ]
  },
  {
   "cell_type": "code",
   "execution_count": 18,
   "id": "54a0a190",
   "metadata": {
    "execution": {
     "iopub.execute_input": "2022-05-01T08:53:36.619016Z",
     "iopub.status.busy": "2022-05-01T08:53:36.618254Z",
     "iopub.status.idle": "2022-05-01T08:53:36.639837Z",
     "shell.execute_reply": "2022-05-01T08:53:36.639233Z"
    },
    "papermill": {
     "duration": 0.191134,
     "end_time": "2022-05-01T08:53:36.642600",
     "exception": false,
     "start_time": "2022-05-01T08:53:36.451466",
     "status": "completed"
    },
    "tags": []
   },
   "outputs": [
    {
     "data": {
      "text/html": [
       "<div>\n",
       "<style scoped>\n",
       "    .dataframe tbody tr th:only-of-type {\n",
       "        vertical-align: middle;\n",
       "    }\n",
       "\n",
       "    .dataframe tbody tr th {\n",
       "        vertical-align: top;\n",
       "    }\n",
       "\n",
       "    .dataframe thead th {\n",
       "        text-align: right;\n",
       "    }\n",
       "</style>\n",
       "<table border=\"1\" class=\"dataframe\">\n",
       "  <thead>\n",
       "    <tr style=\"text-align: right;\">\n",
       "      <th></th>\n",
       "      <th>col</th>\n",
       "      <th>imp</th>\n",
       "      <th>target</th>\n",
       "      <th>nfold</th>\n",
       "    </tr>\n",
       "  </thead>\n",
       "  <tbody>\n",
       "    <tr>\n",
       "      <th>0</th>\n",
       "      <td>playerId</td>\n",
       "      <td>19860714.6846</td>\n",
       "      <td>target1</td>\n",
       "      <td>0</td>\n",
       "    </tr>\n",
       "    <tr>\n",
       "      <th>2</th>\n",
       "      <td>birthCity</td>\n",
       "      <td>3294792.5985</td>\n",
       "      <td>target1</td>\n",
       "      <td>0</td>\n",
       "    </tr>\n",
       "    <tr>\n",
       "      <th>9</th>\n",
       "      <td>playerForTestSetAndFuturePreds</td>\n",
       "      <td>2401641.9950</td>\n",
       "      <td>target1</td>\n",
       "      <td>0</td>\n",
       "    </tr>\n",
       "    <tr>\n",
       "      <th>7</th>\n",
       "      <td>primaryPositionCode</td>\n",
       "      <td>637437.8781</td>\n",
       "      <td>target1</td>\n",
       "      <td>0</td>\n",
       "    </tr>\n",
       "    <tr>\n",
       "      <th>1</th>\n",
       "      <td>dayofweek</td>\n",
       "      <td>303999.4478</td>\n",
       "      <td>target1</td>\n",
       "      <td>0</td>\n",
       "    </tr>\n",
       "    <tr>\n",
       "      <th>8</th>\n",
       "      <td>primaryPositionName</td>\n",
       "      <td>117352.6663</td>\n",
       "      <td>target1</td>\n",
       "      <td>0</td>\n",
       "    </tr>\n",
       "    <tr>\n",
       "      <th>6</th>\n",
       "      <td>weight</td>\n",
       "      <td>39797.0950</td>\n",
       "      <td>target1</td>\n",
       "      <td>0</td>\n",
       "    </tr>\n",
       "    <tr>\n",
       "      <th>3</th>\n",
       "      <td>birthStateProvince</td>\n",
       "      <td>33818.5630</td>\n",
       "      <td>target1</td>\n",
       "      <td>0</td>\n",
       "    </tr>\n",
       "    <tr>\n",
       "      <th>5</th>\n",
       "      <td>heightInches</td>\n",
       "      <td>23002.5407</td>\n",
       "      <td>target1</td>\n",
       "      <td>0</td>\n",
       "    </tr>\n",
       "    <tr>\n",
       "      <th>4</th>\n",
       "      <td>birthCountry</td>\n",
       "      <td>4671.9980</td>\n",
       "      <td>target1</td>\n",
       "      <td>0</td>\n",
       "    </tr>\n",
       "  </tbody>\n",
       "</table>\n",
       "</div>"
      ],
      "text/plain": [
       "                              col           imp   target  nfold\n",
       "0                        playerId 19860714.6846  target1      0\n",
       "2                       birthCity  3294792.5985  target1      0\n",
       "9  playerForTestSetAndFuturePreds  2401641.9950  target1      0\n",
       "7             primaryPositionCode   637437.8781  target1      0\n",
       "1                       dayofweek   303999.4478  target1      0\n",
       "8             primaryPositionName   117352.6663  target1      0\n",
       "6                          weight    39797.0950  target1      0\n",
       "3              birthStateProvince    33818.5630  target1      0\n",
       "5                    heightInches    23002.5407  target1      0\n",
       "4                    birthCountry     4671.9980  target1      0"
      ]
     },
     "metadata": {},
     "output_type": "display_data"
    }
   ],
   "source": [
    "# 重要度の取得\n",
    "tmp_imp = pd.DataFrame({\"col\":x_tr.columns, \"imp\":model.feature_importances_, \"target\":\"target1\", \"nfold\":nfold})\n",
    "# 確認（重要度の上位10個）\n",
    "display(tmp_imp.sort_values(\"imp\", ascending=False))\n",
    "\n",
    "# 全target/foldの重要度を格納するデータフレームの作成\n",
    "df_imp = pd.DataFrame()                                                                                                                                                                                                                                                                                                                \n",
    "# imp_foldをdf_impに結合\n",
    "df_imp = pd.concat([df_imp, tmp_imp], axis=0, ignore_index=True)"
   ]
  },
  {
   "cell_type": "markdown",
   "id": "ccf7a6fc",
   "metadata": {
    "papermill": {
     "duration": 0.148444,
     "end_time": "2022-05-01T08:53:36.949988",
     "exception": false,
     "start_time": "2022-05-01T08:53:36.801544",
     "status": "completed"
    },
    "tags": []
   },
   "source": [
    "#### スクリプト8-19: モデルの評価（全target/foldのサマリ）"
   ]
  },
  {
   "cell_type": "code",
   "execution_count": 19,
   "id": "0c936463",
   "metadata": {
    "execution": {
     "iopub.execute_input": "2022-05-01T08:53:37.248045Z",
     "iopub.status.busy": "2022-05-01T08:53:37.247469Z",
     "iopub.status.idle": "2022-05-01T08:53:37.299486Z",
     "shell.execute_reply": "2022-05-01T08:53:37.298521Z"
    },
    "papermill": {
     "duration": 0.202744,
     "end_time": "2022-05-01T08:53:37.301775",
     "exception": false,
     "start_time": "2022-05-01T08:53:37.099031",
     "status": "completed"
    },
    "tags": []
   },
   "outputs": [
    {
     "data": {
      "text/html": [
       "<div>\n",
       "<style scoped>\n",
       "    .dataframe tbody tr th:only-of-type {\n",
       "        vertical-align: middle;\n",
       "    }\n",
       "\n",
       "    .dataframe tbody tr th {\n",
       "        vertical-align: top;\n",
       "    }\n",
       "\n",
       "    .dataframe thead th {\n",
       "        text-align: right;\n",
       "    }\n",
       "</style>\n",
       "<table border=\"1\" class=\"dataframe\">\n",
       "  <thead>\n",
       "    <tr style=\"text-align: right;\">\n",
       "      <th></th>\n",
       "      <th>target</th>\n",
       "      <th>nfold</th>\n",
       "      <th>mae</th>\n",
       "    </tr>\n",
       "  </thead>\n",
       "  <tbody>\n",
       "    <tr>\n",
       "      <th>0</th>\n",
       "      <td>target1</td>\n",
       "      <td>0</td>\n",
       "      <td>1.2977</td>\n",
       "    </tr>\n",
       "  </tbody>\n",
       "</table>\n",
       "</div>"
      ],
      "text/plain": [
       "    target  nfold        mae\n",
       "0  target1      0     1.2977"
      ]
     },
     "metadata": {},
     "output_type": "display_data"
    },
    {
     "name": "stdout",
     "output_type": "stream",
     "text": [
      "MCMAE: 1.2977\n"
     ]
    },
    {
     "data": {
      "text/html": [
       "<div>\n",
       "<style scoped>\n",
       "    .dataframe tbody tr th:only-of-type {\n",
       "        vertical-align: middle;\n",
       "    }\n",
       "\n",
       "    .dataframe tbody tr th {\n",
       "        vertical-align: top;\n",
       "    }\n",
       "\n",
       "    .dataframe thead th {\n",
       "        text-align: right;\n",
       "    }\n",
       "</style>\n",
       "<table border=\"1\" class=\"dataframe\">\n",
       "  <thead>\n",
       "    <tr style=\"text-align: right;\">\n",
       "      <th>target</th>\n",
       "      <th>target1</th>\n",
       "      <th>All</th>\n",
       "    </tr>\n",
       "    <tr>\n",
       "      <th>nfold</th>\n",
       "      <th></th>\n",
       "      <th></th>\n",
       "    </tr>\n",
       "  </thead>\n",
       "  <tbody>\n",
       "    <tr>\n",
       "      <th>0</th>\n",
       "      <td>1.2977</td>\n",
       "      <td>1.2977</td>\n",
       "    </tr>\n",
       "    <tr>\n",
       "      <th>All</th>\n",
       "      <td>1.2977</td>\n",
       "      <td>1.2977</td>\n",
       "    </tr>\n",
       "  </tbody>\n",
       "</table>\n",
       "</div>"
      ],
      "text/plain": [
       "target    target1        All\n",
       "nfold                       \n",
       "0          1.2977     1.2977\n",
       "All        1.2977     1.2977"
      ]
     },
     "metadata": {},
     "output_type": "display_data"
    }
   ],
   "source": [
    "# リスト型をデータフレームに変換\n",
    "df_metrics = pd.DataFrame(metrics, columns=[\"target\", \"nfold\", \"mae\"])\n",
    "display(df_metrics.head())\n",
    "\n",
    "# 評価値\n",
    "print(\"MCMAE: {:.4f}\".format(df_metrics[\"mae\"].mean()))\n",
    "\n",
    "display(pd.pivot_table(df_metrics, index=\"nfold\", columns=\"target\", values=\"mae\", aggfunc=np.mean, margins=True))"
   ]
  },
  {
   "cell_type": "markdown",
   "id": "2f06b790",
   "metadata": {
    "papermill": {
     "duration": 0.152746,
     "end_time": "2022-05-01T08:53:37.604734",
     "exception": false,
     "start_time": "2022-05-01T08:53:37.451988",
     "status": "completed"
    },
    "tags": []
   },
   "source": [
    "#### スクリプト8-20: 検証データの推論値の形式変換（全target/foldのサマリ）"
   ]
  },
  {
   "cell_type": "code",
   "execution_count": 20,
   "id": "d62126db",
   "metadata": {
    "execution": {
     "iopub.execute_input": "2022-05-01T08:53:37.908153Z",
     "iopub.status.busy": "2022-05-01T08:53:37.907831Z",
     "iopub.status.idle": "2022-05-01T08:53:38.086852Z",
     "shell.execute_reply": "2022-05-01T08:53:38.085783Z"
    },
    "papermill": {
     "duration": 0.334871,
     "end_time": "2022-05-01T08:53:38.089272",
     "exception": false,
     "start_time": "2022-05-01T08:53:37.754401",
     "status": "completed"
    },
    "tags": []
   },
   "outputs": [
    {
     "data": {
      "text/html": [
       "<div>\n",
       "<style scoped>\n",
       "    .dataframe tbody tr th:only-of-type {\n",
       "        vertical-align: middle;\n",
       "    }\n",
       "\n",
       "    .dataframe tbody tr th {\n",
       "        vertical-align: top;\n",
       "    }\n",
       "\n",
       "    .dataframe thead th {\n",
       "        text-align: right;\n",
       "    }\n",
       "</style>\n",
       "<table border=\"1\" class=\"dataframe\">\n",
       "  <thead>\n",
       "    <tr style=\"text-align: right;\">\n",
       "      <th></th>\n",
       "      <th>engagementMetricsDate</th>\n",
       "      <th>playerId</th>\n",
       "      <th>date_playerId</th>\n",
       "      <th>date</th>\n",
       "      <th>yearmonth</th>\n",
       "      <th>playerForTestSetAndFuturePreds</th>\n",
       "      <th>target1_fold0_pred</th>\n",
       "      <th>target1_fold0_true</th>\n",
       "    </tr>\n",
       "  </thead>\n",
       "  <tbody>\n",
       "    <tr>\n",
       "      <th>0</th>\n",
       "      <td>2021-05-02</td>\n",
       "      <td>405395</td>\n",
       "      <td>20210502_405395</td>\n",
       "      <td>2021-05-01</td>\n",
       "      <td>2021-05</td>\n",
       "      <td>1</td>\n",
       "      <td>0.6213</td>\n",
       "      <td>0.1518</td>\n",
       "    </tr>\n",
       "    <tr>\n",
       "      <th>1</th>\n",
       "      <td>2021-05-02</td>\n",
       "      <td>408234</td>\n",
       "      <td>20210502_408234</td>\n",
       "      <td>2021-05-01</td>\n",
       "      <td>2021-05</td>\n",
       "      <td>1</td>\n",
       "      <td>0.3264</td>\n",
       "      <td>0.2365</td>\n",
       "    </tr>\n",
       "    <tr>\n",
       "      <th>2</th>\n",
       "      <td>2021-05-02</td>\n",
       "      <td>424144</td>\n",
       "      <td>20210502_424144</td>\n",
       "      <td>2021-05-01</td>\n",
       "      <td>2021-05</td>\n",
       "      <td>1</td>\n",
       "      <td>0.0018</td>\n",
       "      <td>0.0016</td>\n",
       "    </tr>\n",
       "    <tr>\n",
       "      <th>3</th>\n",
       "      <td>2021-05-02</td>\n",
       "      <td>425772</td>\n",
       "      <td>20210502_425772</td>\n",
       "      <td>2021-05-01</td>\n",
       "      <td>2021-05</td>\n",
       "      <td>1</td>\n",
       "      <td>0.0066</td>\n",
       "      <td>0.0035</td>\n",
       "    </tr>\n",
       "    <tr>\n",
       "      <th>4</th>\n",
       "      <td>2021-05-02</td>\n",
       "      <td>425784</td>\n",
       "      <td>20210502_425784</td>\n",
       "      <td>2021-05-01</td>\n",
       "      <td>2021-05</td>\n",
       "      <td>1</td>\n",
       "      <td>0.0007</td>\n",
       "      <td>0.0001</td>\n",
       "    </tr>\n",
       "  </tbody>\n",
       "</table>\n",
       "</div>"
      ],
      "text/plain": [
       "  engagementMetricsDate  playerId    date_playerId       date yearmonth  \\\n",
       "0            2021-05-02    405395  20210502_405395 2021-05-01   2021-05   \n",
       "1            2021-05-02    408234  20210502_408234 2021-05-01   2021-05   \n",
       "2            2021-05-02    424144  20210502_424144 2021-05-01   2021-05   \n",
       "3            2021-05-02    425772  20210502_425772 2021-05-01   2021-05   \n",
       "4            2021-05-02    425784  20210502_425784 2021-05-01   2021-05   \n",
       "\n",
       "   playerForTestSetAndFuturePreds  target1_fold0_pred  target1_fold0_true  \n",
       "0                               1              0.6213              0.1518  \n",
       "1                               1              0.3264              0.2365  \n",
       "2                               1              0.0018              0.0016  \n",
       "3                               1              0.0066              0.0035  \n",
       "4                               1              0.0007              0.0001  "
      ]
     },
     "execution_count": 20,
     "metadata": {},
     "output_type": "execute_result"
    }
   ],
   "source": [
    "df_valid_pred_all = pd.pivot_table(df_valid_pred, index=[\"engagementMetricsDate\",\"playerId\",\"date_playerId\",\"date\",\"yearmonth\",\"playerForTestSetAndFuturePreds\"], columns=[\"target\",  \"nfold\"], values=[\"true\", \"pred\"], aggfunc=np.sum)\n",
    "df_valid_pred_all.columns = [\"{}_fold{}_{}\".format(j,k,i) for i,j,k in df_valid_pred_all.columns]\n",
    "df_valid_pred_all = df_valid_pred_all.reset_index(drop=False)\n",
    "df_valid_pred_all.head()"
   ]
  },
  {
   "cell_type": "markdown",
   "id": "f61482ff",
   "metadata": {
    "papermill": {
     "duration": 0.155893,
     "end_time": "2022-05-01T08:53:38.394394",
     "exception": false,
     "start_time": "2022-05-01T08:53:38.238501",
     "status": "completed"
    },
    "tags": []
   },
   "source": [
    "#### スクリプト8-21: 説明変数の重要度取得（全target/foldのサマリ）"
   ]
  },
  {
   "cell_type": "code",
   "execution_count": 21,
   "id": "c9a85ebd",
   "metadata": {
    "execution": {
     "iopub.execute_input": "2022-05-01T08:53:38.698051Z",
     "iopub.status.busy": "2022-05-01T08:53:38.697719Z",
     "iopub.status.idle": "2022-05-01T08:53:38.713069Z",
     "shell.execute_reply": "2022-05-01T08:53:38.712488Z"
    },
    "papermill": {
     "duration": 0.168175,
     "end_time": "2022-05-01T08:53:38.714835",
     "exception": false,
     "start_time": "2022-05-01T08:53:38.546660",
     "status": "completed"
    },
    "tags": []
   },
   "outputs": [
    {
     "data": {
      "text/html": [
       "<div>\n",
       "<style scoped>\n",
       "    .dataframe tbody tr th:only-of-type {\n",
       "        vertical-align: middle;\n",
       "    }\n",
       "\n",
       "    .dataframe tbody tr th {\n",
       "        vertical-align: top;\n",
       "    }\n",
       "\n",
       "    .dataframe thead th {\n",
       "        text-align: right;\n",
       "    }\n",
       "</style>\n",
       "<table border=\"1\" class=\"dataframe\">\n",
       "  <thead>\n",
       "    <tr style=\"text-align: right;\">\n",
       "      <th></th>\n",
       "      <th>mean</th>\n",
       "      <th>std</th>\n",
       "    </tr>\n",
       "    <tr>\n",
       "      <th>col</th>\n",
       "      <th></th>\n",
       "      <th></th>\n",
       "    </tr>\n",
       "  </thead>\n",
       "  <tbody>\n",
       "    <tr>\n",
       "      <th>playerId</th>\n",
       "      <td>19860714.6846</td>\n",
       "      <td>NaN</td>\n",
       "    </tr>\n",
       "    <tr>\n",
       "      <th>birthCity</th>\n",
       "      <td>3294792.5985</td>\n",
       "      <td>NaN</td>\n",
       "    </tr>\n",
       "    <tr>\n",
       "      <th>playerForTestSetAndFuturePreds</th>\n",
       "      <td>2401641.9950</td>\n",
       "      <td>NaN</td>\n",
       "    </tr>\n",
       "    <tr>\n",
       "      <th>primaryPositionCode</th>\n",
       "      <td>637437.8781</td>\n",
       "      <td>NaN</td>\n",
       "    </tr>\n",
       "    <tr>\n",
       "      <th>dayofweek</th>\n",
       "      <td>303999.4478</td>\n",
       "      <td>NaN</td>\n",
       "    </tr>\n",
       "    <tr>\n",
       "      <th>primaryPositionName</th>\n",
       "      <td>117352.6663</td>\n",
       "      <td>NaN</td>\n",
       "    </tr>\n",
       "    <tr>\n",
       "      <th>weight</th>\n",
       "      <td>39797.0950</td>\n",
       "      <td>NaN</td>\n",
       "    </tr>\n",
       "    <tr>\n",
       "      <th>birthStateProvince</th>\n",
       "      <td>33818.5630</td>\n",
       "      <td>NaN</td>\n",
       "    </tr>\n",
       "    <tr>\n",
       "      <th>heightInches</th>\n",
       "      <td>23002.5407</td>\n",
       "      <td>NaN</td>\n",
       "    </tr>\n",
       "    <tr>\n",
       "      <th>birthCountry</th>\n",
       "      <td>4671.9980</td>\n",
       "      <td>NaN</td>\n",
       "    </tr>\n",
       "  </tbody>\n",
       "</table>\n",
       "</div>"
      ],
      "text/plain": [
       "                                        mean  std\n",
       "col                                              \n",
       "playerId                       19860714.6846  NaN\n",
       "birthCity                       3294792.5985  NaN\n",
       "playerForTestSetAndFuturePreds  2401641.9950  NaN\n",
       "primaryPositionCode              637437.8781  NaN\n",
       "dayofweek                        303999.4478  NaN\n",
       "primaryPositionName              117352.6663  NaN\n",
       "weight                            39797.0950  NaN\n",
       "birthStateProvince                33818.5630  NaN\n",
       "heightInches                      23002.5407  NaN\n",
       "birthCountry                       4671.9980  NaN"
      ]
     },
     "execution_count": 21,
     "metadata": {},
     "output_type": "execute_result"
    }
   ],
   "source": [
    "df_imp.groupby([\"col\"])[\"imp\"].agg([\"mean\", \"std\"]).sort_values(\"mean\", ascending=False)"
   ]
  },
  {
   "cell_type": "markdown",
   "id": "2a33ef7e",
   "metadata": {
    "papermill": {
     "duration": 0.151161,
     "end_time": "2022-05-01T08:53:39.018841",
     "exception": false,
     "start_time": "2022-05-01T08:53:38.867680",
     "status": "completed"
    },
    "tags": []
   },
   "source": [
    "#### スクリプト8-22: 学習用関数の作成"
   ]
  },
  {
   "cell_type": "code",
   "execution_count": 22,
   "id": "73a5d85c",
   "metadata": {
    "execution": {
     "iopub.execute_input": "2022-05-01T08:53:39.320282Z",
     "iopub.status.busy": "2022-05-01T08:53:39.319953Z",
     "iopub.status.idle": "2022-05-01T08:53:39.343545Z",
     "shell.execute_reply": "2022-05-01T08:53:39.342588Z"
    },
    "papermill": {
     "duration": 0.177202,
     "end_time": "2022-05-01T08:53:39.345665",
     "exception": false,
     "start_time": "2022-05-01T08:53:39.168463",
     "status": "completed"
    },
    "tags": []
   },
   "outputs": [],
   "source": [
    "def train_lgb(input_x,\n",
    "              input_y,\n",
    "              input_id,\n",
    "              params,\n",
    "              list_nfold=[0,1,2],\n",
    "              mode_train=\"train\",\n",
    "             ):\n",
    "    # 推論値を格納する変数の作成\n",
    "    df_valid_pred = pd.DataFrame()\n",
    "    # 評価値を入れる変数の作成\n",
    "    metrics = []\n",
    "    # 重要度を格納するデータフレームの作成\n",
    "    df_imp = pd.DataFrame() \n",
    "\n",
    "    # validation\n",
    "    cv = []\n",
    "    for month_tr, month_va in list_cv_month:\n",
    "        cv.append([\n",
    "            input_id.index[input_id[\"yearmonth\"].isin(month_tr)],\n",
    "            input_id.index[input_id[\"yearmonth\"].isin(month_va) & (input_id[\"playerForTestSetAndFuturePreds\"]==1)],\n",
    "        ])\n",
    "    \n",
    "    # モデル学習 (target/foldごとに学習)\n",
    "    for nfold in list_nfold:\n",
    "        for i, target in enumerate([\"target1\", \"target2\", \"target3\", \"target4\"]):\n",
    "            print(\"-\"*20, target, \", fold:\", nfold, \"-\"*20)\n",
    "            # trainとvalid1に分離\n",
    "            idx_tr, idx_va = cv[nfold][0], cv[nfold][1]\n",
    "            x_tr, y_tr, id_tr = x_train.loc[idx_tr, :], y_train.loc[idx_tr, target], id_train.loc[idx_tr, :]\n",
    "            x_va, y_va, id_va = x_train.loc[idx_va, :], y_train.loc[idx_va, target], id_train.loc[idx_va, :]\n",
    "            print(x_tr.shape, y_tr.shape, id_tr.shape)\n",
    "            print(x_va.shape, y_va.shape, id_va.shape)\n",
    "            \n",
    "            # 保存するモデルのファイル名\n",
    "            filepath = \"model_lgb_{}_fold{}.h5\".format(target, nfold)\n",
    "\n",
    "            if mode_train==\"train\":\n",
    "                print(\"training start.\")\n",
    "                model = lgb.LGBMRegressor(**params)\n",
    "                model.fit(x_tr,\n",
    "                          y_tr,\n",
    "                          eval_set=[(x_tr,y_tr), (x_va,y_va)],\n",
    "                          early_stopping_rounds=50,\n",
    "                          verbose=100,\n",
    "                         )\n",
    "                with open(filepath, \"wb\") as f:\n",
    "                    pickle.dump(model, f, protocol=4)\n",
    "            else:\n",
    "                print(\"model load.\")\n",
    "                with open(filepath, \"rb\") as f:\n",
    "                    model = pickle.load(f)\n",
    "                print(\"Done.\")\n",
    "                \n",
    "            # validの推論値取得\n",
    "            y_va_pred = model.predict(x_va)\n",
    "            tmp_pred = pd.concat([\n",
    "                id_va,\n",
    "                pd.DataFrame({\"target\": target, \"nfold\": 0, \"true\": y_va, \"pred\": y_va_pred}),\n",
    "            ], axis=1)\n",
    "            df_valid_pred = pd.concat([df_valid_pred, tmp_pred], axis=0, ignore_index=True)\n",
    "            \n",
    "            # 評価値の算出\n",
    "            metric_va = mean_absolute_error(y_va, y_va_pred)\n",
    "            metrics.append([target, nfold, metric_va])\n",
    "            \n",
    "            # 重要度の取得\n",
    "            tmp_imp = pd.DataFrame({\"col\":x_tr.columns, \"imp\":model.feature_importances_, \"target\":target, \"nfold\":nfold})\n",
    "            df_imp = pd.concat([df_imp, tmp_imp], axis=0, ignore_index=True)\n",
    "        \n",
    "    print(\"-\"*10, \"result\", \"-\"*10)\n",
    "    # 評価値\n",
    "    df_metrics = pd.DataFrame(metrics, columns=[\"target\", \"nfold\", \"mae\"])\n",
    "    print(\"MCMAE: {:.4f}\".format(df_metrics[\"mae\"].mean()))\n",
    "    \n",
    "    # validの推論値\n",
    "    df_valid_pred_all = pd.pivot_table(df_valid_pred, index=[\"engagementMetricsDate\",\"playerId\",\"date_playerId\",\"date\",\"yearmonth\",\"playerForTestSetAndFuturePreds\"], columns=[\"target\",  \"nfold\"], values=[\"true\", \"pred\"], aggfunc=np.sum)\n",
    "    df_valid_pred_all.columns = [\"{}_fold{}_{}\".format(j,k,i) for i,j,k in df_valid_pred_all.columns]\n",
    "    df_valid_pred_all = df_valid_pred_all.reset_index(drop=False)\n",
    "\n",
    "    return df_valid_pred_all, df_metrics, df_imp"
   ]
  },
  {
   "cell_type": "markdown",
   "id": "b0729cd6",
   "metadata": {
    "papermill": {
     "duration": 0.14976,
     "end_time": "2022-05-01T08:53:39.647379",
     "exception": false,
     "start_time": "2022-05-01T08:53:39.497619",
     "status": "completed"
    },
    "tags": []
   },
   "source": [
    "#### スクリプト8-23: モデル学習"
   ]
  },
  {
   "cell_type": "code",
   "execution_count": 23,
   "id": "bfbfcb72",
   "metadata": {
    "execution": {
     "iopub.execute_input": "2022-05-01T08:53:39.953411Z",
     "iopub.status.busy": "2022-05-01T08:53:39.953079Z",
     "iopub.status.idle": "2022-05-01T08:58:25.302375Z",
     "shell.execute_reply": "2022-05-01T08:58:25.301311Z"
    },
    "papermill": {
     "duration": 285.506473,
     "end_time": "2022-05-01T08:58:25.305227",
     "exception": false,
     "start_time": "2022-05-01T08:53:39.798754",
     "status": "completed"
    },
    "tags": []
   },
   "outputs": [
    {
     "name": "stdout",
     "output_type": "stream",
     "text": [
      "-------------------- target1 , fold: 0 --------------------\n",
      "(752265, 10) (752265,) (752265, 6)\n",
      "(36797, 10) (36797,) (36797, 6)\n",
      "training start.\n",
      "[LightGBM] [Warning] feature_fraction is set=0.8, colsample_bytree=1.0 will be ignored. Current value: feature_fraction=0.8\n",
      "[LightGBM] [Warning] min_sum_hessian_in_leaf is set=50, min_child_weight=0.001 will be ignored. Current value: min_sum_hessian_in_leaf=50\n",
      "[LightGBM] [Warning] min_data_in_leaf is set=50, min_child_samples=20 will be ignored. Current value: min_data_in_leaf=50\n",
      "[100]\ttraining's l1: 0.508316\tvalid_1's l1: 1.29781\n",
      "[200]\ttraining's l1: 0.508247\tvalid_1's l1: 1.29772\n",
      "[300]\ttraining's l1: 0.508185\tvalid_1's l1: 1.29768\n",
      "[400]\ttraining's l1: 0.508154\tvalid_1's l1: 1.29768\n",
      "-------------------- target2 , fold: 0 --------------------\n",
      "(752265, 10) (752265,) (752265, 6)\n",
      "(36797, 10) (36797,) (36797, 6)\n",
      "training start.\n",
      "[LightGBM] [Warning] feature_fraction is set=0.8, colsample_bytree=1.0 will be ignored. Current value: feature_fraction=0.8\n",
      "[LightGBM] [Warning] min_sum_hessian_in_leaf is set=50, min_child_weight=0.001 will be ignored. Current value: min_sum_hessian_in_leaf=50\n",
      "[LightGBM] [Warning] min_data_in_leaf is set=50, min_child_samples=20 will be ignored. Current value: min_data_in_leaf=50\n",
      "[100]\ttraining's l1: 1.82802\tvalid_1's l1: 2.44748\n",
      "-------------------- target3 , fold: 0 --------------------\n",
      "(752265, 10) (752265,) (752265, 6)\n",
      "(36797, 10) (36797,) (36797, 6)\n",
      "training start.\n",
      "[LightGBM] [Warning] feature_fraction is set=0.8, colsample_bytree=1.0 will be ignored. Current value: feature_fraction=0.8\n",
      "[LightGBM] [Warning] min_sum_hessian_in_leaf is set=50, min_child_weight=0.001 will be ignored. Current value: min_sum_hessian_in_leaf=50\n",
      "[LightGBM] [Warning] min_data_in_leaf is set=50, min_child_samples=20 will be ignored. Current value: min_data_in_leaf=50\n",
      "-------------------- target4 , fold: 0 --------------------\n",
      "(752265, 10) (752265,) (752265, 6)\n",
      "(36797, 10) (36797,) (36797, 6)\n",
      "training start.\n",
      "[LightGBM] [Warning] feature_fraction is set=0.8, colsample_bytree=1.0 will be ignored. Current value: feature_fraction=0.8\n",
      "[LightGBM] [Warning] min_sum_hessian_in_leaf is set=50, min_child_weight=0.001 will be ignored. Current value: min_sum_hessian_in_leaf=50\n",
      "[LightGBM] [Warning] min_data_in_leaf is set=50, min_child_samples=20 will be ignored. Current value: min_data_in_leaf=50\n",
      "[100]\ttraining's l1: 0.794924\tvalid_1's l1: 1.25542\n",
      "[200]\ttraining's l1: 0.790874\tvalid_1's l1: 1.24914\n",
      "[300]\ttraining's l1: 0.790258\tvalid_1's l1: 1.24761\n",
      "[400]\ttraining's l1: 0.789855\tvalid_1's l1: 1.24675\n",
      "[500]\ttraining's l1: 0.789642\tvalid_1's l1: 1.24644\n",
      "[600]\ttraining's l1: 0.789555\tvalid_1's l1: 1.24596\n",
      "[700]\ttraining's l1: 0.789414\tvalid_1's l1: 1.24562\n",
      "[800]\ttraining's l1: 0.789358\tvalid_1's l1: 1.24537\n",
      "[900]\ttraining's l1: 0.789182\tvalid_1's l1: 1.24521\n",
      "[1000]\ttraining's l1: 0.789138\tvalid_1's l1: 1.24489\n",
      "-------------------- target1 , fold: 1 --------------------\n",
      "(752265, 10) (752265,) (752265, 6)\n",
      "(35610, 10) (35610,) (35610, 6)\n",
      "training start.\n",
      "[LightGBM] [Warning] feature_fraction is set=0.8, colsample_bytree=1.0 will be ignored. Current value: feature_fraction=0.8\n",
      "[LightGBM] [Warning] min_sum_hessian_in_leaf is set=50, min_child_weight=0.001 will be ignored. Current value: min_sum_hessian_in_leaf=50\n",
      "[LightGBM] [Warning] min_data_in_leaf is set=50, min_child_samples=20 will be ignored. Current value: min_data_in_leaf=50\n",
      "[100]\ttraining's l1: 0.540574\tvalid_1's l1: 1.19554\n",
      "[200]\ttraining's l1: 0.540389\tvalid_1's l1: 1.19543\n",
      "[300]\ttraining's l1: 0.540268\tvalid_1's l1: 1.19537\n",
      "[400]\ttraining's l1: 0.540226\tvalid_1's l1: 1.19528\n",
      "[500]\ttraining's l1: 0.540203\tvalid_1's l1: 1.19522\n",
      "[600]\ttraining's l1: 0.540175\tvalid_1's l1: 1.1952\n",
      "[700]\ttraining's l1: 0.540152\tvalid_1's l1: 1.19519\n",
      "[800]\ttraining's l1: 0.54014\tvalid_1's l1: 1.19513\n",
      "[900]\ttraining's l1: 0.540138\tvalid_1's l1: 1.19512\n",
      "-------------------- target2 , fold: 1 --------------------\n",
      "(752265, 10) (752265,) (752265, 6)\n",
      "(35610, 10) (35610,) (35610, 6)\n",
      "training start.\n",
      "[LightGBM] [Warning] feature_fraction is set=0.8, colsample_bytree=1.0 will be ignored. Current value: feature_fraction=0.8\n",
      "[LightGBM] [Warning] min_sum_hessian_in_leaf is set=50, min_child_weight=0.001 will be ignored. Current value: min_sum_hessian_in_leaf=50\n",
      "[LightGBM] [Warning] min_data_in_leaf is set=50, min_child_samples=20 will be ignored. Current value: min_data_in_leaf=50\n",
      "-------------------- target3 , fold: 1 --------------------\n",
      "(752265, 10) (752265,) (752265, 6)\n",
      "(35610, 10) (35610,) (35610, 6)\n",
      "training start.\n",
      "[LightGBM] [Warning] feature_fraction is set=0.8, colsample_bytree=1.0 will be ignored. Current value: feature_fraction=0.8\n",
      "[LightGBM] [Warning] min_sum_hessian_in_leaf is set=50, min_child_weight=0.001 will be ignored. Current value: min_sum_hessian_in_leaf=50\n",
      "[LightGBM] [Warning] min_data_in_leaf is set=50, min_child_samples=20 will be ignored. Current value: min_data_in_leaf=50\n",
      "-------------------- target4 , fold: 1 --------------------\n",
      "(752265, 10) (752265,) (752265, 6)\n",
      "(35610, 10) (35610,) (35610, 6)\n",
      "training start.\n",
      "[LightGBM] [Warning] feature_fraction is set=0.8, colsample_bytree=1.0 will be ignored. Current value: feature_fraction=0.8\n",
      "[LightGBM] [Warning] min_sum_hessian_in_leaf is set=50, min_child_weight=0.001 will be ignored. Current value: min_sum_hessian_in_leaf=50\n",
      "[LightGBM] [Warning] min_data_in_leaf is set=50, min_child_samples=20 will be ignored. Current value: min_data_in_leaf=50\n",
      "[100]\ttraining's l1: 0.829964\tvalid_1's l1: 1.6597\n",
      "[200]\ttraining's l1: 0.827105\tvalid_1's l1: 1.6493\n",
      "[300]\ttraining's l1: 0.826341\tvalid_1's l1: 1.64616\n",
      "[400]\ttraining's l1: 0.825924\tvalid_1's l1: 1.64471\n",
      "[500]\ttraining's l1: 0.825667\tvalid_1's l1: 1.64382\n",
      "[600]\ttraining's l1: 0.825564\tvalid_1's l1: 1.64302\n",
      "[700]\ttraining's l1: 0.825478\tvalid_1's l1: 1.64226\n",
      "[800]\ttraining's l1: 0.82541\tvalid_1's l1: 1.64185\n",
      "[900]\ttraining's l1: 0.825299\tvalid_1's l1: 1.64137\n",
      "[1000]\ttraining's l1: 0.82525\tvalid_1's l1: 1.64098\n",
      "-------------------- target1 , fold: 2 --------------------\n",
      "(752265, 10) (752265,) (752265, 6)\n",
      "(36797, 10) (36797,) (36797, 6)\n",
      "training start.\n",
      "[LightGBM] [Warning] feature_fraction is set=0.8, colsample_bytree=1.0 will be ignored. Current value: feature_fraction=0.8\n",
      "[LightGBM] [Warning] min_sum_hessian_in_leaf is set=50, min_child_weight=0.001 will be ignored. Current value: min_sum_hessian_in_leaf=50\n",
      "[LightGBM] [Warning] min_data_in_leaf is set=50, min_child_samples=20 will be ignored. Current value: min_data_in_leaf=50\n",
      "[100]\ttraining's l1: 0.56558\tvalid_1's l1: 1.1134\n",
      "-------------------- target2 , fold: 2 --------------------\n",
      "(752265, 10) (752265,) (752265, 6)\n",
      "(36797, 10) (36797,) (36797, 6)\n",
      "training start.\n",
      "[LightGBM] [Warning] feature_fraction is set=0.8, colsample_bytree=1.0 will be ignored. Current value: feature_fraction=0.8\n",
      "[LightGBM] [Warning] min_sum_hessian_in_leaf is set=50, min_child_weight=0.001 will be ignored. Current value: min_sum_hessian_in_leaf=50\n",
      "[LightGBM] [Warning] min_data_in_leaf is set=50, min_child_samples=20 will be ignored. Current value: min_data_in_leaf=50\n",
      "-------------------- target3 , fold: 2 --------------------\n",
      "(752265, 10) (752265,) (752265, 6)\n",
      "(36797, 10) (36797,) (36797, 6)\n",
      "training start.\n",
      "[LightGBM] [Warning] feature_fraction is set=0.8, colsample_bytree=1.0 will be ignored. Current value: feature_fraction=0.8\n",
      "[LightGBM] [Warning] min_sum_hessian_in_leaf is set=50, min_child_weight=0.001 will be ignored. Current value: min_sum_hessian_in_leaf=50\n",
      "[LightGBM] [Warning] min_data_in_leaf is set=50, min_child_samples=20 will be ignored. Current value: min_data_in_leaf=50\n",
      "-------------------- target4 , fold: 2 --------------------\n",
      "(752265, 10) (752265,) (752265, 6)\n",
      "(36797, 10) (36797,) (36797, 6)\n",
      "training start.\n",
      "[LightGBM] [Warning] feature_fraction is set=0.8, colsample_bytree=1.0 will be ignored. Current value: feature_fraction=0.8\n",
      "[LightGBM] [Warning] min_sum_hessian_in_leaf is set=50, min_child_weight=0.001 will be ignored. Current value: min_sum_hessian_in_leaf=50\n",
      "[LightGBM] [Warning] min_data_in_leaf is set=50, min_child_samples=20 will be ignored. Current value: min_data_in_leaf=50\n",
      "---------- result ----------\n",
      "MCMAE: 1.3503\n"
     ]
    }
   ],
   "source": [
    "params = {\n",
    "    'boosting_type': 'gbdt',\n",
    "    'objective': 'regression_l1', \n",
    "    'metric': 'mean_absolute_error',\n",
    "    'learning_rate': 0.05,\n",
    "    'num_leaves': 32,\n",
    "    'subsample': 0.7,\n",
    "    'subsample_freq': 1,\n",
    "    'feature_fraction': 0.8,\n",
    "    'min_data_in_leaf': 50,\n",
    "    'min_sum_hessian_in_leaf': 50,\n",
    "    'n_estimators': 1000,\n",
    "    \"random_state\": 123,\n",
    "    \"importance_type\": \"gain\",\n",
    "}\n",
    "\n",
    "df_valid_pred, df_metrics, df_imp = train_lgb(x_train,\n",
    "                                              y_train,\n",
    "                                              id_train,\n",
    "                                              params,\n",
    "                                              list_nfold=[0,1,2],\n",
    "                                              mode_train=\"train\",\n",
    "                                             )"
   ]
  },
  {
   "cell_type": "markdown",
   "id": "ec0688de",
   "metadata": {
    "papermill": {
     "duration": 0.173878,
     "end_time": "2022-05-01T08:58:25.653350",
     "exception": false,
     "start_time": "2022-05-01T08:58:25.479472",
     "status": "completed"
    },
    "tags": []
   },
   "source": [
    "#### スクリプト8-24: 評価値（MCMAE）の確認"
   ]
  },
  {
   "cell_type": "code",
   "execution_count": 24,
   "id": "c0443b22",
   "metadata": {
    "execution": {
     "iopub.execute_input": "2022-05-01T08:58:26.012510Z",
     "iopub.status.busy": "2022-05-01T08:58:26.012214Z",
     "iopub.status.idle": "2022-05-01T08:58:26.053842Z",
     "shell.execute_reply": "2022-05-01T08:58:26.052891Z"
    },
    "papermill": {
     "duration": 0.224568,
     "end_time": "2022-05-01T08:58:26.056069",
     "exception": false,
     "start_time": "2022-05-01T08:58:25.831501",
     "status": "completed"
    },
    "tags": []
   },
   "outputs": [
    {
     "name": "stdout",
     "output_type": "stream",
     "text": [
      "MCMAE: 1.3503\n"
     ]
    },
    {
     "data": {
      "text/html": [
       "<div>\n",
       "<style scoped>\n",
       "    .dataframe tbody tr th:only-of-type {\n",
       "        vertical-align: middle;\n",
       "    }\n",
       "\n",
       "    .dataframe tbody tr th {\n",
       "        vertical-align: top;\n",
       "    }\n",
       "\n",
       "    .dataframe thead th {\n",
       "        text-align: right;\n",
       "    }\n",
       "</style>\n",
       "<table border=\"1\" class=\"dataframe\">\n",
       "  <thead>\n",
       "    <tr style=\"text-align: right;\">\n",
       "      <th>target</th>\n",
       "      <th>target1</th>\n",
       "      <th>target2</th>\n",
       "      <th>target3</th>\n",
       "      <th>target4</th>\n",
       "      <th>All</th>\n",
       "    </tr>\n",
       "    <tr>\n",
       "      <th>nfold</th>\n",
       "      <th></th>\n",
       "      <th></th>\n",
       "      <th></th>\n",
       "      <th></th>\n",
       "      <th></th>\n",
       "    </tr>\n",
       "  </thead>\n",
       "  <tbody>\n",
       "    <tr>\n",
       "      <th>0</th>\n",
       "      <td>1.2977</td>\n",
       "      <td>2.4445</td>\n",
       "      <td>0.8780</td>\n",
       "      <td>1.2449</td>\n",
       "      <td>1.4662</td>\n",
       "    </tr>\n",
       "    <tr>\n",
       "      <th>1</th>\n",
       "      <td>1.1951</td>\n",
       "      <td>2.1536</td>\n",
       "      <td>0.8316</td>\n",
       "      <td>1.6410</td>\n",
       "      <td>1.4553</td>\n",
       "    </tr>\n",
       "    <tr>\n",
       "      <th>2</th>\n",
       "      <td>1.1132</td>\n",
       "      <td>1.7897</td>\n",
       "      <td>0.7605</td>\n",
       "      <td>0.8534</td>\n",
       "      <td>1.1292</td>\n",
       "    </tr>\n",
       "    <tr>\n",
       "      <th>All</th>\n",
       "      <td>1.2020</td>\n",
       "      <td>2.1293</td>\n",
       "      <td>0.8234</td>\n",
       "      <td>1.2464</td>\n",
       "      <td>1.3503</td>\n",
       "    </tr>\n",
       "  </tbody>\n",
       "</table>\n",
       "</div>"
      ],
      "text/plain": [
       "target    target1    target2    target3    target4        All\n",
       "nfold                                                        \n",
       "0          1.2977     2.4445     0.8780     1.2449     1.4662\n",
       "1          1.1951     2.1536     0.8316     1.6410     1.4553\n",
       "2          1.1132     1.7897     0.7605     0.8534     1.1292\n",
       "All        1.2020     2.1293     0.8234     1.2464     1.3503"
      ]
     },
     "metadata": {},
     "output_type": "display_data"
    }
   ],
   "source": [
    "print(\"MCMAE: {:.4f}\".format(df_metrics[\"mae\"].mean()))\n",
    "display(pd.pivot_table(df_metrics, index=\"nfold\", columns=\"target\", values=\"mae\", aggfunc=np.mean, margins=True))"
   ]
  },
  {
   "cell_type": "markdown",
   "id": "5a29bfa2",
   "metadata": {
    "papermill": {
     "duration": 0.177161,
     "end_time": "2022-05-01T08:58:26.406827",
     "exception": false,
     "start_time": "2022-05-01T08:58:26.229666",
     "status": "completed"
    },
    "tags": []
   },
   "source": [
    "#### スクリプト8-25: 説明変数の重要度の確認"
   ]
  },
  {
   "cell_type": "code",
   "execution_count": 25,
   "id": "e4bc84ef",
   "metadata": {
    "execution": {
     "iopub.execute_input": "2022-05-01T08:58:26.764717Z",
     "iopub.status.busy": "2022-05-01T08:58:26.764395Z",
     "iopub.status.idle": "2022-05-01T08:58:26.778981Z",
     "shell.execute_reply": "2022-05-01T08:58:26.777980Z"
    },
    "papermill": {
     "duration": 0.199529,
     "end_time": "2022-05-01T08:58:26.781276",
     "exception": false,
     "start_time": "2022-05-01T08:58:26.581747",
     "status": "completed"
    },
    "tags": []
   },
   "outputs": [
    {
     "data": {
      "text/html": [
       "<div>\n",
       "<style scoped>\n",
       "    .dataframe tbody tr th:only-of-type {\n",
       "        vertical-align: middle;\n",
       "    }\n",
       "\n",
       "    .dataframe tbody tr th {\n",
       "        vertical-align: top;\n",
       "    }\n",
       "\n",
       "    .dataframe thead th {\n",
       "        text-align: right;\n",
       "    }\n",
       "</style>\n",
       "<table border=\"1\" class=\"dataframe\">\n",
       "  <thead>\n",
       "    <tr style=\"text-align: right;\">\n",
       "      <th></th>\n",
       "      <th>mean</th>\n",
       "      <th>std</th>\n",
       "    </tr>\n",
       "    <tr>\n",
       "      <th>col</th>\n",
       "      <th></th>\n",
       "      <th></th>\n",
       "    </tr>\n",
       "  </thead>\n",
       "  <tbody>\n",
       "    <tr>\n",
       "      <th>playerId</th>\n",
       "      <td>7729847.2801</td>\n",
       "      <td>13640878.7873</td>\n",
       "    </tr>\n",
       "    <tr>\n",
       "      <th>playerForTestSetAndFuturePreds</th>\n",
       "      <td>1281685.2354</td>\n",
       "      <td>1606340.8381</td>\n",
       "    </tr>\n",
       "    <tr>\n",
       "      <th>birthCity</th>\n",
       "      <td>1235480.7889</td>\n",
       "      <td>2426099.1000</td>\n",
       "    </tr>\n",
       "    <tr>\n",
       "      <th>dayofweek</th>\n",
       "      <td>143082.8190</td>\n",
       "      <td>209384.4154</td>\n",
       "    </tr>\n",
       "    <tr>\n",
       "      <th>primaryPositionCode</th>\n",
       "      <td>135093.7701</td>\n",
       "      <td>222089.2313</td>\n",
       "    </tr>\n",
       "    <tr>\n",
       "      <th>primaryPositionName</th>\n",
       "      <td>37740.4615</td>\n",
       "      <td>43340.0821</td>\n",
       "    </tr>\n",
       "    <tr>\n",
       "      <th>weight</th>\n",
       "      <td>28607.5458</td>\n",
       "      <td>44706.0780</td>\n",
       "    </tr>\n",
       "    <tr>\n",
       "      <th>heightInches</th>\n",
       "      <td>26661.7844</td>\n",
       "      <td>43729.0979</td>\n",
       "    </tr>\n",
       "    <tr>\n",
       "      <th>birthStateProvince</th>\n",
       "      <td>14551.1016</td>\n",
       "      <td>34710.6640</td>\n",
       "    </tr>\n",
       "    <tr>\n",
       "      <th>birthCountry</th>\n",
       "      <td>5324.3698</td>\n",
       "      <td>13346.4883</td>\n",
       "    </tr>\n",
       "  </tbody>\n",
       "</table>\n",
       "</div>"
      ],
      "text/plain": [
       "                                       mean           std\n",
       "col                                                      \n",
       "playerId                       7729847.2801 13640878.7873\n",
       "playerForTestSetAndFuturePreds 1281685.2354  1606340.8381\n",
       "birthCity                      1235480.7889  2426099.1000\n",
       "dayofweek                       143082.8190   209384.4154\n",
       "primaryPositionCode             135093.7701   222089.2313\n",
       "primaryPositionName              37740.4615    43340.0821\n",
       "weight                           28607.5458    44706.0780\n",
       "heightInches                     26661.7844    43729.0979\n",
       "birthStateProvince               14551.1016    34710.6640\n",
       "birthCountry                      5324.3698    13346.4883"
      ]
     },
     "execution_count": 25,
     "metadata": {},
     "output_type": "execute_result"
    }
   ],
   "source": [
    "df_imp.groupby([\"col\"])[\"imp\"].agg([\"mean\", \"std\"]).sort_values(\"mean\", ascending=False)"
   ]
  },
  {
   "cell_type": "markdown",
   "id": "31b7c772",
   "metadata": {
    "papermill": {
     "duration": 0.183789,
     "end_time": "2022-05-01T08:58:27.160948",
     "exception": false,
     "start_time": "2022-05-01T08:58:26.977159",
     "status": "completed"
    },
    "tags": []
   },
   "source": [
    "## 8.3.6 モデル推論\n",
    "### **パート１：推論用データセットの作成**"
   ]
  },
  {
   "cell_type": "markdown",
   "id": "01ca15b7",
   "metadata": {
    "papermill": {
     "duration": 0.17652,
     "end_time": "2022-05-01T08:58:27.513830",
     "exception": false,
     "start_time": "2022-05-01T08:58:27.337310",
     "status": "completed"
    },
    "tags": []
   },
   "source": [
    "#### スクリプト8-26: 推論時に受け取るデータのフォーマット確認①（サブミット時はコメントアウト）"
   ]
  },
  {
   "cell_type": "code",
   "execution_count": 26,
   "id": "fb420c4c",
   "metadata": {
    "execution": {
     "iopub.execute_input": "2022-05-01T08:58:27.882658Z",
     "iopub.status.busy": "2022-05-01T08:58:27.882316Z",
     "iopub.status.idle": "2022-05-01T08:58:27.886405Z",
     "shell.execute_reply": "2022-05-01T08:58:27.885353Z"
    },
    "papermill": {
     "duration": 0.186242,
     "end_time": "2022-05-01T08:58:27.888342",
     "exception": false,
     "start_time": "2022-05-01T08:58:27.702100",
     "status": "completed"
    },
    "tags": []
   },
   "outputs": [],
   "source": [
    "# import mlb\n",
    "\n",
    "# env = mlb.make_env()\n",
    "# iter_test = env.iter_test()\n",
    "\n",
    "# for (test_df, prediction_df) in iter_test:\n",
    "#     # forループで受け取るデータの確認\n",
    "#     display(test_df.head())\n",
    "#     display(prediction_df.head())\n",
    "#     break"
   ]
  },
  {
   "cell_type": "markdown",
   "id": "eb7f77f4",
   "metadata": {
    "papermill": {
     "duration": 0.172284,
     "end_time": "2022-05-01T08:58:28.238279",
     "exception": false,
     "start_time": "2022-05-01T08:58:28.065995",
     "status": "completed"
    },
    "tags": []
   },
   "source": [
    "#### スクリプト8-27: 推論時に受け取るデータのフォーマット確認②（サブミット時はコメントアウト）"
   ]
  },
  {
   "cell_type": "code",
   "execution_count": 27,
   "id": "26de48ff",
   "metadata": {
    "execution": {
     "iopub.execute_input": "2022-05-01T08:58:28.593366Z",
     "iopub.status.busy": "2022-05-01T08:58:28.593046Z",
     "iopub.status.idle": "2022-05-01T08:58:28.597505Z",
     "shell.execute_reply": "2022-05-01T08:58:28.596375Z"
    },
    "papermill": {
     "duration": 0.18782,
     "end_time": "2022-05-01T08:58:28.599569",
     "exception": false,
     "start_time": "2022-05-01T08:58:28.411749",
     "status": "completed"
    },
    "tags": []
   },
   "outputs": [],
   "source": [
    "# # forループで受け取るtest_dfのサンプルデータ\n",
    "# test_df = pd.read_csv(\"../input/mlb-player-digital-engagement-forecasting/example_test.csv\")\n",
    "# display(test_df.head())\n",
    "\n",
    "# # forループで受け取るprediction_dfのサンプルデータ\n",
    "# prediction_df = pd.read_csv(\"../input/mlb-player-digital-engagement-forecasting/example_sample_submission.csv\")\n",
    "# display(prediction_df.head())"
   ]
  },
  {
   "cell_type": "markdown",
   "id": "9ba053cf",
   "metadata": {
    "papermill": {
     "duration": 0.178617,
     "end_time": "2022-05-01T08:58:28.953040",
     "exception": false,
     "start_time": "2022-05-01T08:58:28.774423",
     "status": "completed"
    },
    "tags": []
   },
   "source": [
    "#### スクリプト8-28: 推論時に受け取るデータの疑似生成（2021/4/26分）"
   ]
  },
  {
   "cell_type": "code",
   "execution_count": 28,
   "id": "13c1c405",
   "metadata": {
    "execution": {
     "iopub.execute_input": "2022-05-01T08:58:29.314812Z",
     "iopub.status.busy": "2022-05-01T08:58:29.314497Z",
     "iopub.status.idle": "2022-05-01T08:58:29.534985Z",
     "shell.execute_reply": "2022-05-01T08:58:29.534121Z"
    },
    "papermill": {
     "duration": 0.400308,
     "end_time": "2022-05-01T08:58:29.537136",
     "exception": false,
     "start_time": "2022-05-01T08:58:29.136828",
     "status": "completed"
    },
    "tags": []
   },
   "outputs": [
    {
     "data": {
      "text/html": [
       "<div>\n",
       "<style scoped>\n",
       "    .dataframe tbody tr th:only-of-type {\n",
       "        vertical-align: middle;\n",
       "    }\n",
       "\n",
       "    .dataframe tbody tr th {\n",
       "        vertical-align: top;\n",
       "    }\n",
       "\n",
       "    .dataframe thead th {\n",
       "        text-align: right;\n",
       "    }\n",
       "</style>\n",
       "<table border=\"1\" class=\"dataframe\">\n",
       "  <thead>\n",
       "    <tr style=\"text-align: right;\">\n",
       "      <th></th>\n",
       "      <th>date</th>\n",
       "      <th>nextDayPlayerEngagement</th>\n",
       "      <th>games</th>\n",
       "      <th>rosters</th>\n",
       "      <th>playerBoxScores</th>\n",
       "      <th>teamBoxScores</th>\n",
       "      <th>transactions</th>\n",
       "      <th>standings</th>\n",
       "      <th>awards</th>\n",
       "      <th>events</th>\n",
       "      <th>playerTwitterFollowers</th>\n",
       "      <th>teamTwitterFollowers</th>\n",
       "    </tr>\n",
       "  </thead>\n",
       "  <tbody>\n",
       "    <tr>\n",
       "      <th>390</th>\n",
       "      <td>20210426</td>\n",
       "      <td>[{\"engagementMetricsDate\":\"2021-04-27\",\"player...</td>\n",
       "      <td>[{\"gamePk\":634374,\"gameType\":\"R\",\"season\":2021...</td>\n",
       "      <td>[{\"playerId\":405395,\"gameDate\":\"2021-04-26\",\"t...</td>\n",
       "      <td>[{\"home\":1,\"gamePk\":634377,\"gameDate\":\"2021-04...</td>\n",
       "      <td>[{\"home\":1,\"teamId\":139,\"gamePk\":634343,\"gameD...</td>\n",
       "      <td>[{\"transactionId\":480386,\"playerId\":543685,\"pl...</td>\n",
       "      <td>[{\"season\":2021,\"gameDate\":\"2021-04-26\",\"divis...</td>\n",
       "      <td>NaN</td>\n",
       "      <td>[{\"gamePk\":634433,\"gameDate\":\"2021-04-26\",\"gam...</td>\n",
       "      <td>NaN</td>\n",
       "      <td>NaN</td>\n",
       "    </tr>\n",
       "  </tbody>\n",
       "</table>\n",
       "</div>"
      ],
      "text/plain": [
       "         date                            nextDayPlayerEngagement  \\\n",
       "390  20210426  [{\"engagementMetricsDate\":\"2021-04-27\",\"player...   \n",
       "\n",
       "                                                 games  \\\n",
       "390  [{\"gamePk\":634374,\"gameType\":\"R\",\"season\":2021...   \n",
       "\n",
       "                                               rosters  \\\n",
       "390  [{\"playerId\":405395,\"gameDate\":\"2021-04-26\",\"t...   \n",
       "\n",
       "                                       playerBoxScores  \\\n",
       "390  [{\"home\":1,\"gamePk\":634377,\"gameDate\":\"2021-04...   \n",
       "\n",
       "                                         teamBoxScores  \\\n",
       "390  [{\"home\":1,\"teamId\":139,\"gamePk\":634343,\"gameD...   \n",
       "\n",
       "                                          transactions  \\\n",
       "390  [{\"transactionId\":480386,\"playerId\":543685,\"pl...   \n",
       "\n",
       "                                             standings awards  \\\n",
       "390  [{\"season\":2021,\"gameDate\":\"2021-04-26\",\"divis...    NaN   \n",
       "\n",
       "                                                events playerTwitterFollowers  \\\n",
       "390  [{\"gamePk\":634433,\"gameDate\":\"2021-04-26\",\"gam...                    NaN   \n",
       "\n",
       "    teamTwitterFollowers  \n",
       "390                  NaN  "
      ]
     },
     "metadata": {},
     "output_type": "display_data"
    },
    {
     "data": {
      "text/html": [
       "<div>\n",
       "<style scoped>\n",
       "    .dataframe tbody tr th:only-of-type {\n",
       "        vertical-align: middle;\n",
       "    }\n",
       "\n",
       "    .dataframe tbody tr th {\n",
       "        vertical-align: top;\n",
       "    }\n",
       "\n",
       "    .dataframe thead th {\n",
       "        text-align: right;\n",
       "    }\n",
       "</style>\n",
       "<table border=\"1\" class=\"dataframe\">\n",
       "  <thead>\n",
       "    <tr style=\"text-align: right;\">\n",
       "      <th></th>\n",
       "      <th>date</th>\n",
       "      <th>date_playerId</th>\n",
       "      <th>target1</th>\n",
       "      <th>target2</th>\n",
       "      <th>target3</th>\n",
       "      <th>target4</th>\n",
       "    </tr>\n",
       "  </thead>\n",
       "  <tbody>\n",
       "    <tr>\n",
       "      <th>0</th>\n",
       "      <td>20210426</td>\n",
       "      <td>20210427_656669</td>\n",
       "      <td>0</td>\n",
       "      <td>0</td>\n",
       "      <td>0</td>\n",
       "      <td>0</td>\n",
       "    </tr>\n",
       "    <tr>\n",
       "      <th>1</th>\n",
       "      <td>20210426</td>\n",
       "      <td>20210427_543475</td>\n",
       "      <td>0</td>\n",
       "      <td>0</td>\n",
       "      <td>0</td>\n",
       "      <td>0</td>\n",
       "    </tr>\n",
       "    <tr>\n",
       "      <th>2</th>\n",
       "      <td>20210426</td>\n",
       "      <td>20210427_623465</td>\n",
       "      <td>0</td>\n",
       "      <td>0</td>\n",
       "      <td>0</td>\n",
       "      <td>0</td>\n",
       "    </tr>\n",
       "    <tr>\n",
       "      <th>3</th>\n",
       "      <td>20210426</td>\n",
       "      <td>20210427_595032</td>\n",
       "      <td>0</td>\n",
       "      <td>0</td>\n",
       "      <td>0</td>\n",
       "      <td>0</td>\n",
       "    </tr>\n",
       "    <tr>\n",
       "      <th>4</th>\n",
       "      <td>20210426</td>\n",
       "      <td>20210427_592866</td>\n",
       "      <td>0</td>\n",
       "      <td>0</td>\n",
       "      <td>0</td>\n",
       "      <td>0</td>\n",
       "    </tr>\n",
       "  </tbody>\n",
       "</table>\n",
       "</div>"
      ],
      "text/plain": [
       "       date    date_playerId  target1  target2  target3  target4\n",
       "0  20210426  20210427_656669        0        0        0        0\n",
       "1  20210426  20210427_543475        0        0        0        0\n",
       "2  20210426  20210427_623465        0        0        0        0\n",
       "3  20210426  20210427_595032        0        0        0        0\n",
       "4  20210426  20210427_592866        0        0        0        0"
      ]
     },
     "metadata": {},
     "output_type": "display_data"
    }
   ],
   "source": [
    "# test_dfの疑似生成（4/26に受け取るデータを想定）\n",
    "test_df = train.loc[train[\"date\"]==20210426, :]\n",
    "display(test_df.head())\n",
    "\n",
    "# prediction_dfの疑似生成（4/26に受け取るデータを想定）\n",
    "prediction_df = df_engagement.loc[df_engagement[\"date\"]==\"2021-04-26\", [\"date\",\"date_playerId\"]].reset_index(drop=True)\n",
    "prediction_df[\"date\"] = prediction_df[\"date\"].apply(lambda x: int(str(x).replace(\"-\",\"\")[:8]))\n",
    "for col in [\"target1\",\"target2\",\"target3\",\"target4\"]:\n",
    "    prediction_df[col] = 0\n",
    "display(prediction_df.head())"
   ]
  },
  {
   "cell_type": "markdown",
   "id": "9bf4e60a",
   "metadata": {
    "papermill": {
     "duration": 0.185278,
     "end_time": "2022-05-01T08:58:29.897797",
     "exception": false,
     "start_time": "2022-05-01T08:58:29.712519",
     "status": "completed"
    },
    "tags": []
   },
   "source": [
    "#### スクリプト8-29: 推論用データセット作成の関数"
   ]
  },
  {
   "cell_type": "code",
   "execution_count": 29,
   "id": "07c2bc64",
   "metadata": {
    "execution": {
     "iopub.execute_input": "2022-05-01T08:58:30.250825Z",
     "iopub.status.busy": "2022-05-01T08:58:30.250514Z",
     "iopub.status.idle": "2022-05-01T08:58:30.261907Z",
     "shell.execute_reply": "2022-05-01T08:58:30.260967Z"
    },
    "papermill": {
     "duration": 0.189838,
     "end_time": "2022-05-01T08:58:30.263997",
     "exception": false,
     "start_time": "2022-05-01T08:58:30.074159",
     "status": "completed"
    },
    "tags": []
   },
   "outputs": [],
   "source": [
    "def makedataset_for_predict(input_test, input_prediction):\n",
    "    test = input_test.copy()\n",
    "    prediction = input_prediction.copy()\n",
    "    \n",
    "    # dateを日付型に変換\n",
    "    prediction[\"date\"] = pd.to_datetime(prediction[\"date\"], format=\"%Y%m%d\") \n",
    "    # 推論対象日(engagementMetricsDate)と選手ID(playerId)のカラムを作成\n",
    "    prediction[\"engagementMetricsDate\"] = prediction[\"date_playerId\"].apply(lambda x: x[:8])\n",
    "    prediction[\"engagementMetricsDate\"] = pd.to_datetime(prediction[\"engagementMetricsDate\"], format=\"%Y%m%d\") \n",
    "    prediction[\"playerId\"] = prediction[\"date_playerId\"].apply(lambda x: int(x[9:]))\n",
    "    \n",
    "    # 日付から曜日と年月を作成\n",
    "    prediction[\"dayofweek\"] = prediction[\"date\"].dt.dayofweek\n",
    "    prediction[\"yearmonth\"] = prediction[\"date\"].astype(str).apply(lambda x: x[:7])\n",
    "    \n",
    "    # テーブルの結合\n",
    "    df_test = pd.merge(prediction, df_players, on=[\"playerId\"], how=\"left\")\n",
    "    \n",
    "    # 説明変数の作成\n",
    "    x_test = df_test[[\n",
    "        \"playerId\", \"dayofweek\",\n",
    "        \"birthCity\", \"birthStateProvince\", \"birthCountry\", \"heightInches\", \"weight\", \n",
    "        \"primaryPositionCode\", \"primaryPositionName\", \"playerForTestSetAndFuturePreds\"]]\n",
    "    id_test = df_test[[\"engagementMetricsDate\",\"playerId\",\"date_playerId\",\"date\",\"yearmonth\",\"playerForTestSetAndFuturePreds\"]]\n",
    "\n",
    "    # カテゴリ変数をcategory型に変換\n",
    "    for col in [\"playerId\", \"dayofweek\", \"birthCity\", \"birthStateProvince\", \"birthCountry\", \"primaryPositionCode\", \"primaryPositionName\"]:\n",
    "        x_test[col] = x_test [col].astype(\"category\")\n",
    "\n",
    "    return x_test, id_test"
   ]
  },
  {
   "cell_type": "markdown",
   "id": "aac0b86f",
   "metadata": {
    "papermill": {
     "duration": 0.174273,
     "end_time": "2022-05-01T08:58:30.612745",
     "exception": false,
     "start_time": "2022-05-01T08:58:30.438472",
     "status": "completed"
    },
    "tags": []
   },
   "source": [
    "#### スクリプト8-30: 推論用データセット作成の実行"
   ]
  },
  {
   "cell_type": "code",
   "execution_count": 30,
   "id": "09159dcd",
   "metadata": {
    "execution": {
     "iopub.execute_input": "2022-05-01T08:58:30.968565Z",
     "iopub.status.busy": "2022-05-01T08:58:30.968246Z",
     "iopub.status.idle": "2022-05-01T08:58:31.041228Z",
     "shell.execute_reply": "2022-05-01T08:58:31.040400Z"
    },
    "papermill": {
     "duration": 0.253702,
     "end_time": "2022-05-01T08:58:31.043195",
     "exception": false,
     "start_time": "2022-05-01T08:58:30.789493",
     "status": "completed"
    },
    "tags": []
   },
   "outputs": [
    {
     "data": {
      "text/html": [
       "<div>\n",
       "<style scoped>\n",
       "    .dataframe tbody tr th:only-of-type {\n",
       "        vertical-align: middle;\n",
       "    }\n",
       "\n",
       "    .dataframe tbody tr th {\n",
       "        vertical-align: top;\n",
       "    }\n",
       "\n",
       "    .dataframe thead th {\n",
       "        text-align: right;\n",
       "    }\n",
       "</style>\n",
       "<table border=\"1\" class=\"dataframe\">\n",
       "  <thead>\n",
       "    <tr style=\"text-align: right;\">\n",
       "      <th></th>\n",
       "      <th>playerId</th>\n",
       "      <th>dayofweek</th>\n",
       "      <th>birthCity</th>\n",
       "      <th>birthStateProvince</th>\n",
       "      <th>birthCountry</th>\n",
       "      <th>heightInches</th>\n",
       "      <th>weight</th>\n",
       "      <th>primaryPositionCode</th>\n",
       "      <th>primaryPositionName</th>\n",
       "      <th>playerForTestSetAndFuturePreds</th>\n",
       "    </tr>\n",
       "  </thead>\n",
       "  <tbody>\n",
       "    <tr>\n",
       "      <th>0</th>\n",
       "      <td>656669</td>\n",
       "      <td>0</td>\n",
       "      <td>Visalia</td>\n",
       "      <td>CA</td>\n",
       "      <td>USA</td>\n",
       "      <td>73</td>\n",
       "      <td>195</td>\n",
       "      <td>8</td>\n",
       "      <td>Outfielder</td>\n",
       "      <td>1</td>\n",
       "    </tr>\n",
       "    <tr>\n",
       "      <th>1</th>\n",
       "      <td>543475</td>\n",
       "      <td>0</td>\n",
       "      <td>Hartsville</td>\n",
       "      <td>SC</td>\n",
       "      <td>USA</td>\n",
       "      <td>77</td>\n",
       "      <td>230</td>\n",
       "      <td>1</td>\n",
       "      <td>Pitcher</td>\n",
       "      <td>1</td>\n",
       "    </tr>\n",
       "    <tr>\n",
       "      <th>2</th>\n",
       "      <td>623465</td>\n",
       "      <td>0</td>\n",
       "      <td>Salisbury</td>\n",
       "      <td>MD</td>\n",
       "      <td>USA</td>\n",
       "      <td>74</td>\n",
       "      <td>215</td>\n",
       "      <td>1</td>\n",
       "      <td>Pitcher</td>\n",
       "      <td>0</td>\n",
       "    </tr>\n",
       "    <tr>\n",
       "      <th>3</th>\n",
       "      <td>595032</td>\n",
       "      <td>0</td>\n",
       "      <td>Ranburne</td>\n",
       "      <td>AL</td>\n",
       "      <td>USA</td>\n",
       "      <td>76</td>\n",
       "      <td>220</td>\n",
       "      <td>1</td>\n",
       "      <td>Pitcher</td>\n",
       "      <td>0</td>\n",
       "    </tr>\n",
       "    <tr>\n",
       "      <th>4</th>\n",
       "      <td>592866</td>\n",
       "      <td>0</td>\n",
       "      <td>San Diego</td>\n",
       "      <td>CA</td>\n",
       "      <td>USA</td>\n",
       "      <td>75</td>\n",
       "      <td>235</td>\n",
       "      <td>1</td>\n",
       "      <td>Pitcher</td>\n",
       "      <td>1</td>\n",
       "    </tr>\n",
       "  </tbody>\n",
       "</table>\n",
       "</div>"
      ],
      "text/plain": [
       "  playerId dayofweek   birthCity birthStateProvince birthCountry  \\\n",
       "0   656669         0     Visalia                 CA          USA   \n",
       "1   543475         0  Hartsville                 SC          USA   \n",
       "2   623465         0   Salisbury                 MD          USA   \n",
       "3   595032         0    Ranburne                 AL          USA   \n",
       "4   592866         0   San Diego                 CA          USA   \n",
       "\n",
       "   heightInches  weight primaryPositionCode primaryPositionName  \\\n",
       "0            73     195                   8          Outfielder   \n",
       "1            77     230                   1             Pitcher   \n",
       "2            74     215                   1             Pitcher   \n",
       "3            76     220                   1             Pitcher   \n",
       "4            75     235                   1             Pitcher   \n",
       "\n",
       "   playerForTestSetAndFuturePreds  \n",
       "0                               1  \n",
       "1                               1  \n",
       "2                               0  \n",
       "3                               0  \n",
       "4                               1  "
      ]
     },
     "metadata": {},
     "output_type": "display_data"
    },
    {
     "data": {
      "text/html": [
       "<div>\n",
       "<style scoped>\n",
       "    .dataframe tbody tr th:only-of-type {\n",
       "        vertical-align: middle;\n",
       "    }\n",
       "\n",
       "    .dataframe tbody tr th {\n",
       "        vertical-align: top;\n",
       "    }\n",
       "\n",
       "    .dataframe thead th {\n",
       "        text-align: right;\n",
       "    }\n",
       "</style>\n",
       "<table border=\"1\" class=\"dataframe\">\n",
       "  <thead>\n",
       "    <tr style=\"text-align: right;\">\n",
       "      <th></th>\n",
       "      <th>engagementMetricsDate</th>\n",
       "      <th>playerId</th>\n",
       "      <th>date_playerId</th>\n",
       "      <th>date</th>\n",
       "      <th>yearmonth</th>\n",
       "      <th>playerForTestSetAndFuturePreds</th>\n",
       "    </tr>\n",
       "  </thead>\n",
       "  <tbody>\n",
       "    <tr>\n",
       "      <th>0</th>\n",
       "      <td>2021-04-27</td>\n",
       "      <td>656669</td>\n",
       "      <td>20210427_656669</td>\n",
       "      <td>2021-04-26</td>\n",
       "      <td>2021-04</td>\n",
       "      <td>1</td>\n",
       "    </tr>\n",
       "    <tr>\n",
       "      <th>1</th>\n",
       "      <td>2021-04-27</td>\n",
       "      <td>543475</td>\n",
       "      <td>20210427_543475</td>\n",
       "      <td>2021-04-26</td>\n",
       "      <td>2021-04</td>\n",
       "      <td>1</td>\n",
       "    </tr>\n",
       "    <tr>\n",
       "      <th>2</th>\n",
       "      <td>2021-04-27</td>\n",
       "      <td>623465</td>\n",
       "      <td>20210427_623465</td>\n",
       "      <td>2021-04-26</td>\n",
       "      <td>2021-04</td>\n",
       "      <td>0</td>\n",
       "    </tr>\n",
       "    <tr>\n",
       "      <th>3</th>\n",
       "      <td>2021-04-27</td>\n",
       "      <td>595032</td>\n",
       "      <td>20210427_595032</td>\n",
       "      <td>2021-04-26</td>\n",
       "      <td>2021-04</td>\n",
       "      <td>0</td>\n",
       "    </tr>\n",
       "    <tr>\n",
       "      <th>4</th>\n",
       "      <td>2021-04-27</td>\n",
       "      <td>592866</td>\n",
       "      <td>20210427_592866</td>\n",
       "      <td>2021-04-26</td>\n",
       "      <td>2021-04</td>\n",
       "      <td>1</td>\n",
       "    </tr>\n",
       "  </tbody>\n",
       "</table>\n",
       "</div>"
      ],
      "text/plain": [
       "  engagementMetricsDate  playerId    date_playerId       date yearmonth  \\\n",
       "0            2021-04-27    656669  20210427_656669 2021-04-26   2021-04   \n",
       "1            2021-04-27    543475  20210427_543475 2021-04-26   2021-04   \n",
       "2            2021-04-27    623465  20210427_623465 2021-04-26   2021-04   \n",
       "3            2021-04-27    595032  20210427_595032 2021-04-26   2021-04   \n",
       "4            2021-04-27    592866  20210427_592866 2021-04-26   2021-04   \n",
       "\n",
       "   playerForTestSetAndFuturePreds  \n",
       "0                               1  \n",
       "1                               1  \n",
       "2                               0  \n",
       "3                               0  \n",
       "4                               1  "
      ]
     },
     "metadata": {},
     "output_type": "display_data"
    }
   ],
   "source": [
    "x_test, id_test = makedataset_for_predict(test_df, prediction_df)\n",
    "display(x_test.head())\n",
    "display(id_test.head())"
   ]
  },
  {
   "cell_type": "markdown",
   "id": "7bbe1cbe",
   "metadata": {
    "papermill": {
     "duration": 0.176654,
     "end_time": "2022-05-01T08:58:31.400876",
     "exception": false,
     "start_time": "2022-05-01T08:58:31.224222",
     "status": "completed"
    },
    "tags": []
   },
   "source": [
    "### **パート２：モデル推論**\n",
    "#### スクリプト8-31: モデルの読み込み"
   ]
  },
  {
   "cell_type": "code",
   "execution_count": 31,
   "id": "b2b60856",
   "metadata": {
    "execution": {
     "iopub.execute_input": "2022-05-01T08:58:31.764896Z",
     "iopub.status.busy": "2022-05-01T08:58:31.764592Z",
     "iopub.status.idle": "2022-05-01T08:58:31.794008Z",
     "shell.execute_reply": "2022-05-01T08:58:31.793285Z"
    },
    "papermill": {
     "duration": 0.215988,
     "end_time": "2022-05-01T08:58:31.796444",
     "exception": false,
     "start_time": "2022-05-01T08:58:31.580456",
     "status": "completed"
    },
    "tags": []
   },
   "outputs": [],
   "source": [
    "with open(\"model_lgb_target1_fold0.h5\", \"rb\") as f:\n",
    "    model = pickle.load(f)"
   ]
  },
  {
   "cell_type": "markdown",
   "id": "92a8709d",
   "metadata": {
    "papermill": {
     "duration": 0.181334,
     "end_time": "2022-05-01T08:58:32.157313",
     "exception": false,
     "start_time": "2022-05-01T08:58:31.975979",
     "status": "completed"
    },
    "tags": []
   },
   "source": [
    "#### スクリプト8-32: モデルを用いた推論"
   ]
  },
  {
   "cell_type": "code",
   "execution_count": 32,
   "id": "314e55b9",
   "metadata": {
    "execution": {
     "iopub.execute_input": "2022-05-01T08:58:32.513689Z",
     "iopub.status.busy": "2022-05-01T08:58:32.512886Z",
     "iopub.status.idle": "2022-05-01T08:58:32.600326Z",
     "shell.execute_reply": "2022-05-01T08:58:32.599403Z"
    },
    "papermill": {
     "duration": 0.268737,
     "end_time": "2022-05-01T08:58:32.602942",
     "exception": false,
     "start_time": "2022-05-01T08:58:32.334205",
     "status": "completed"
    },
    "tags": []
   },
   "outputs": [],
   "source": [
    "pred = model.predict(x_test)\n",
    "\n",
    "df_test_pred = id_test.copy()\n",
    "df_test_pred[\"target1_fold0\"] = pred"
   ]
  },
  {
   "cell_type": "markdown",
   "id": "ecb27a11",
   "metadata": {
    "papermill": {
     "duration": 0.181496,
     "end_time": "2022-05-01T08:58:32.963681",
     "exception": false,
     "start_time": "2022-05-01T08:58:32.782185",
     "status": "completed"
    },
    "tags": []
   },
   "source": [
    "#### スクリプト8-33: 推論値の計算"
   ]
  },
  {
   "cell_type": "code",
   "execution_count": 33,
   "id": "1485ecaf",
   "metadata": {
    "execution": {
     "iopub.execute_input": "2022-05-01T08:58:33.320682Z",
     "iopub.status.busy": "2022-05-01T08:58:33.319790Z",
     "iopub.status.idle": "2022-05-01T08:58:33.337892Z",
     "shell.execute_reply": "2022-05-01T08:58:33.337222Z"
    },
    "papermill": {
     "duration": 0.198081,
     "end_time": "2022-05-01T08:58:33.340111",
     "exception": false,
     "start_time": "2022-05-01T08:58:33.142030",
     "status": "completed"
    },
    "tags": []
   },
   "outputs": [
    {
     "name": "stdout",
     "output_type": "stream",
     "text": [
      "(2061, 8)\n"
     ]
    },
    {
     "data": {
      "text/html": [
       "<div>\n",
       "<style scoped>\n",
       "    .dataframe tbody tr th:only-of-type {\n",
       "        vertical-align: middle;\n",
       "    }\n",
       "\n",
       "    .dataframe tbody tr th {\n",
       "        vertical-align: top;\n",
       "    }\n",
       "\n",
       "    .dataframe thead th {\n",
       "        text-align: right;\n",
       "    }\n",
       "</style>\n",
       "<table border=\"1\" class=\"dataframe\">\n",
       "  <thead>\n",
       "    <tr style=\"text-align: right;\">\n",
       "      <th></th>\n",
       "      <th>engagementMetricsDate</th>\n",
       "      <th>playerId</th>\n",
       "      <th>date_playerId</th>\n",
       "      <th>date</th>\n",
       "      <th>yearmonth</th>\n",
       "      <th>playerForTestSetAndFuturePreds</th>\n",
       "      <th>target1_fold0</th>\n",
       "      <th>target1</th>\n",
       "    </tr>\n",
       "  </thead>\n",
       "  <tbody>\n",
       "    <tr>\n",
       "      <th>0</th>\n",
       "      <td>2021-04-27</td>\n",
       "      <td>656669</td>\n",
       "      <td>20210427_656669</td>\n",
       "      <td>2021-04-26</td>\n",
       "      <td>2021-04</td>\n",
       "      <td>1</td>\n",
       "      <td>0.0292</td>\n",
       "      <td>0.0292</td>\n",
       "    </tr>\n",
       "    <tr>\n",
       "      <th>1</th>\n",
       "      <td>2021-04-27</td>\n",
       "      <td>543475</td>\n",
       "      <td>20210427_543475</td>\n",
       "      <td>2021-04-26</td>\n",
       "      <td>2021-04</td>\n",
       "      <td>1</td>\n",
       "      <td>0.0034</td>\n",
       "      <td>0.0034</td>\n",
       "    </tr>\n",
       "    <tr>\n",
       "      <th>2</th>\n",
       "      <td>2021-04-27</td>\n",
       "      <td>623465</td>\n",
       "      <td>20210427_623465</td>\n",
       "      <td>2021-04-26</td>\n",
       "      <td>2021-04</td>\n",
       "      <td>0</td>\n",
       "      <td>0.0001</td>\n",
       "      <td>0.0001</td>\n",
       "    </tr>\n",
       "    <tr>\n",
       "      <th>3</th>\n",
       "      <td>2021-04-27</td>\n",
       "      <td>595032</td>\n",
       "      <td>20210427_595032</td>\n",
       "      <td>2021-04-26</td>\n",
       "      <td>2021-04</td>\n",
       "      <td>0</td>\n",
       "      <td>0.0000</td>\n",
       "      <td>0.0000</td>\n",
       "    </tr>\n",
       "    <tr>\n",
       "      <th>4</th>\n",
       "      <td>2021-04-27</td>\n",
       "      <td>592866</td>\n",
       "      <td>20210427_592866</td>\n",
       "      <td>2021-04-26</td>\n",
       "      <td>2021-04</td>\n",
       "      <td>1</td>\n",
       "      <td>0.0466</td>\n",
       "      <td>0.0466</td>\n",
       "    </tr>\n",
       "  </tbody>\n",
       "</table>\n",
       "</div>"
      ],
      "text/plain": [
       "  engagementMetricsDate  playerId    date_playerId       date yearmonth  \\\n",
       "0            2021-04-27    656669  20210427_656669 2021-04-26   2021-04   \n",
       "1            2021-04-27    543475  20210427_543475 2021-04-26   2021-04   \n",
       "2            2021-04-27    623465  20210427_623465 2021-04-26   2021-04   \n",
       "3            2021-04-27    595032  20210427_595032 2021-04-26   2021-04   \n",
       "4            2021-04-27    592866  20210427_592866 2021-04-26   2021-04   \n",
       "\n",
       "   playerForTestSetAndFuturePreds  target1_fold0    target1  \n",
       "0                               1         0.0292     0.0292  \n",
       "1                               1         0.0034     0.0034  \n",
       "2                               0         0.0001     0.0001  \n",
       "3                               0         0.0000     0.0000  \n",
       "4                               1         0.0466     0.0466  "
      ]
     },
     "execution_count": 33,
     "metadata": {},
     "output_type": "execute_result"
    }
   ],
   "source": [
    "# target1の推論値： 各foldの平均値\n",
    "df_test_pred[\"target1\"] = df_test_pred[df_test_pred.columns[df_test_pred.columns.str.contains(\"target1\")]].mean(axis=1)\n",
    "# target2,3,4についても同様の方法で計算します。(ここでは省略)\n",
    "\n",
    "print(df_test_pred.shape)\n",
    "df_test_pred.head()"
   ]
  },
  {
   "cell_type": "markdown",
   "id": "d0cbc9c9",
   "metadata": {
    "papermill": {
     "duration": 0.190009,
     "end_time": "2022-05-01T08:58:33.710761",
     "exception": false,
     "start_time": "2022-05-01T08:58:33.520752",
     "status": "completed"
    },
    "tags": []
   },
   "source": [
    "#### スクリプト8-34: 推論処理の関数"
   ]
  },
  {
   "cell_type": "code",
   "execution_count": 34,
   "id": "c0ab1031",
   "metadata": {
    "execution": {
     "iopub.execute_input": "2022-05-01T08:58:34.067680Z",
     "iopub.status.busy": "2022-05-01T08:58:34.066824Z",
     "iopub.status.idle": "2022-05-01T08:58:34.075165Z",
     "shell.execute_reply": "2022-05-01T08:58:34.074336Z"
    },
    "papermill": {
     "duration": 0.189643,
     "end_time": "2022-05-01T08:58:34.077341",
     "exception": false,
     "start_time": "2022-05-01T08:58:33.887698",
     "status": "completed"
    },
    "tags": []
   },
   "outputs": [],
   "source": [
    "def predict_lgb(input_test,\n",
    "                input_id,\n",
    "                list_nfold=[0,1,2],\n",
    "               ):\n",
    "    df_test_pred = id_test.copy()\n",
    "    \n",
    "    for target in [\"target1\",\"target2\",\"target3\",\"target4\"]:\n",
    "        for nfold in list_nfold:\n",
    "            # モデルのロード\n",
    "            with open(\"model_lgb_{}_fold{}.h5\".format(target, nfold), \"rb\") as f:\n",
    "                    model = pickle.load(f)\n",
    "\n",
    "            # 推論\n",
    "            pred = model.predict(input_test)\n",
    "            # 予測値の格納\n",
    "            df_test_pred[\"{}_fold{}\".format(target, nfold)] = pred\n",
    "            \n",
    "    # 推論値の取得： 各foldの平均値\n",
    "    for target in [\"target1\",\"target2\",\"target3\",\"target4\"]:\n",
    "        df_test_pred[target] = df_test_pred[df_test_pred.columns[df_test_pred.columns.str.contains(target)]].mean(axis=1)\n",
    "    \n",
    "    return df_test_pred"
   ]
  },
  {
   "cell_type": "markdown",
   "id": "b6e832c8",
   "metadata": {
    "papermill": {
     "duration": 0.178808,
     "end_time": "2022-05-01T08:58:34.441282",
     "exception": false,
     "start_time": "2022-05-01T08:58:34.262474",
     "status": "completed"
    },
    "tags": []
   },
   "source": [
    "#### スクリプト8-35: モデル推論の実行"
   ]
  },
  {
   "cell_type": "code",
   "execution_count": 35,
   "id": "3856b759",
   "metadata": {
    "execution": {
     "iopub.execute_input": "2022-05-01T08:58:34.802598Z",
     "iopub.status.busy": "2022-05-01T08:58:34.801888Z",
     "iopub.status.idle": "2022-05-01T08:58:35.732935Z",
     "shell.execute_reply": "2022-05-01T08:58:35.731828Z"
    },
    "papermill": {
     "duration": 1.114955,
     "end_time": "2022-05-01T08:58:35.735442",
     "exception": false,
     "start_time": "2022-05-01T08:58:34.620487",
     "status": "completed"
    },
    "tags": []
   },
   "outputs": [
    {
     "data": {
      "text/html": [
       "<div>\n",
       "<style scoped>\n",
       "    .dataframe tbody tr th:only-of-type {\n",
       "        vertical-align: middle;\n",
       "    }\n",
       "\n",
       "    .dataframe tbody tr th {\n",
       "        vertical-align: top;\n",
       "    }\n",
       "\n",
       "    .dataframe thead th {\n",
       "        text-align: right;\n",
       "    }\n",
       "</style>\n",
       "<table border=\"1\" class=\"dataframe\">\n",
       "  <thead>\n",
       "    <tr style=\"text-align: right;\">\n",
       "      <th></th>\n",
       "      <th>engagementMetricsDate</th>\n",
       "      <th>playerId</th>\n",
       "      <th>date_playerId</th>\n",
       "      <th>date</th>\n",
       "      <th>yearmonth</th>\n",
       "      <th>playerForTestSetAndFuturePreds</th>\n",
       "      <th>target1_fold0</th>\n",
       "      <th>target1_fold1</th>\n",
       "      <th>target1_fold2</th>\n",
       "      <th>target2_fold0</th>\n",
       "      <th>...</th>\n",
       "      <th>target3_fold0</th>\n",
       "      <th>target3_fold1</th>\n",
       "      <th>target3_fold2</th>\n",
       "      <th>target4_fold0</th>\n",
       "      <th>target4_fold1</th>\n",
       "      <th>target4_fold2</th>\n",
       "      <th>target1</th>\n",
       "      <th>target2</th>\n",
       "      <th>target3</th>\n",
       "      <th>target4</th>\n",
       "    </tr>\n",
       "  </thead>\n",
       "  <tbody>\n",
       "    <tr>\n",
       "      <th>0</th>\n",
       "      <td>2021-04-27</td>\n",
       "      <td>656669</td>\n",
       "      <td>20210427_656669</td>\n",
       "      <td>2021-04-26</td>\n",
       "      <td>2021-04</td>\n",
       "      <td>1</td>\n",
       "      <td>0.0292</td>\n",
       "      <td>0.0379</td>\n",
       "      <td>0.0197</td>\n",
       "      <td>1.3384</td>\n",
       "      <td>...</td>\n",
       "      <td>0.0044</td>\n",
       "      <td>0.0045</td>\n",
       "      <td>0.0060</td>\n",
       "      <td>0.1940</td>\n",
       "      <td>0.2257</td>\n",
       "      <td>0.3232</td>\n",
       "      <td>0.0290</td>\n",
       "      <td>1.1602</td>\n",
       "      <td>0.0050</td>\n",
       "      <td>0.2476</td>\n",
       "    </tr>\n",
       "    <tr>\n",
       "      <th>1</th>\n",
       "      <td>2021-04-27</td>\n",
       "      <td>543475</td>\n",
       "      <td>20210427_543475</td>\n",
       "      <td>2021-04-26</td>\n",
       "      <td>2021-04</td>\n",
       "      <td>1</td>\n",
       "      <td>0.0034</td>\n",
       "      <td>0.0031</td>\n",
       "      <td>0.0035</td>\n",
       "      <td>1.0874</td>\n",
       "      <td>...</td>\n",
       "      <td>0.0048</td>\n",
       "      <td>0.0048</td>\n",
       "      <td>0.0053</td>\n",
       "      <td>0.2203</td>\n",
       "      <td>0.2479</td>\n",
       "      <td>0.2974</td>\n",
       "      <td>0.0033</td>\n",
       "      <td>0.9486</td>\n",
       "      <td>0.0050</td>\n",
       "      <td>0.2552</td>\n",
       "    </tr>\n",
       "    <tr>\n",
       "      <th>2</th>\n",
       "      <td>2021-04-27</td>\n",
       "      <td>623465</td>\n",
       "      <td>20210427_623465</td>\n",
       "      <td>2021-04-26</td>\n",
       "      <td>2021-04</td>\n",
       "      <td>0</td>\n",
       "      <td>0.0001</td>\n",
       "      <td>0.0000</td>\n",
       "      <td>0.0001</td>\n",
       "      <td>0.3045</td>\n",
       "      <td>...</td>\n",
       "      <td>0.0040</td>\n",
       "      <td>0.0033</td>\n",
       "      <td>0.0025</td>\n",
       "      <td>0.1047</td>\n",
       "      <td>0.1194</td>\n",
       "      <td>0.1579</td>\n",
       "      <td>0.0001</td>\n",
       "      <td>0.2651</td>\n",
       "      <td>0.0033</td>\n",
       "      <td>0.1273</td>\n",
       "    </tr>\n",
       "    <tr>\n",
       "      <th>3</th>\n",
       "      <td>2021-04-27</td>\n",
       "      <td>595032</td>\n",
       "      <td>20210427_595032</td>\n",
       "      <td>2021-04-26</td>\n",
       "      <td>2021-04</td>\n",
       "      <td>0</td>\n",
       "      <td>0.0000</td>\n",
       "      <td>-0.0000</td>\n",
       "      <td>0.0001</td>\n",
       "      <td>0.0311</td>\n",
       "      <td>...</td>\n",
       "      <td>0.0008</td>\n",
       "      <td>0.0007</td>\n",
       "      <td>0.0004</td>\n",
       "      <td>0.0795</td>\n",
       "      <td>0.0838</td>\n",
       "      <td>0.1264</td>\n",
       "      <td>0.0000</td>\n",
       "      <td>0.0796</td>\n",
       "      <td>0.0007</td>\n",
       "      <td>0.0965</td>\n",
       "    </tr>\n",
       "    <tr>\n",
       "      <th>4</th>\n",
       "      <td>2021-04-27</td>\n",
       "      <td>592866</td>\n",
       "      <td>20210427_592866</td>\n",
       "      <td>2021-04-26</td>\n",
       "      <td>2021-04</td>\n",
       "      <td>1</td>\n",
       "      <td>0.0466</td>\n",
       "      <td>0.0377</td>\n",
       "      <td>0.0181</td>\n",
       "      <td>1.4590</td>\n",
       "      <td>...</td>\n",
       "      <td>0.0081</td>\n",
       "      <td>0.0079</td>\n",
       "      <td>0.0116</td>\n",
       "      <td>0.5418</td>\n",
       "      <td>0.6198</td>\n",
       "      <td>0.5293</td>\n",
       "      <td>0.0341</td>\n",
       "      <td>1.2132</td>\n",
       "      <td>0.0092</td>\n",
       "      <td>0.5636</td>\n",
       "    </tr>\n",
       "  </tbody>\n",
       "</table>\n",
       "<p>5 rows × 22 columns</p>\n",
       "</div>"
      ],
      "text/plain": [
       "  engagementMetricsDate  playerId    date_playerId       date yearmonth  \\\n",
       "0            2021-04-27    656669  20210427_656669 2021-04-26   2021-04   \n",
       "1            2021-04-27    543475  20210427_543475 2021-04-26   2021-04   \n",
       "2            2021-04-27    623465  20210427_623465 2021-04-26   2021-04   \n",
       "3            2021-04-27    595032  20210427_595032 2021-04-26   2021-04   \n",
       "4            2021-04-27    592866  20210427_592866 2021-04-26   2021-04   \n",
       "\n",
       "   playerForTestSetAndFuturePreds  target1_fold0  target1_fold1  \\\n",
       "0                               1         0.0292         0.0379   \n",
       "1                               1         0.0034         0.0031   \n",
       "2                               0         0.0001         0.0000   \n",
       "3                               0         0.0000        -0.0000   \n",
       "4                               1         0.0466         0.0377   \n",
       "\n",
       "   target1_fold2  target2_fold0  ...  target3_fold0  target3_fold1  \\\n",
       "0         0.0197         1.3384  ...         0.0044         0.0045   \n",
       "1         0.0035         1.0874  ...         0.0048         0.0048   \n",
       "2         0.0001         0.3045  ...         0.0040         0.0033   \n",
       "3         0.0001         0.0311  ...         0.0008         0.0007   \n",
       "4         0.0181         1.4590  ...         0.0081         0.0079   \n",
       "\n",
       "   target3_fold2  target4_fold0  target4_fold1  target4_fold2    target1  \\\n",
       "0         0.0060         0.1940         0.2257         0.3232     0.0290   \n",
       "1         0.0053         0.2203         0.2479         0.2974     0.0033   \n",
       "2         0.0025         0.1047         0.1194         0.1579     0.0001   \n",
       "3         0.0004         0.0795         0.0838         0.1264     0.0000   \n",
       "4         0.0116         0.5418         0.6198         0.5293     0.0341   \n",
       "\n",
       "     target2    target3    target4  \n",
       "0     1.1602     0.0050     0.2476  \n",
       "1     0.9486     0.0050     0.2552  \n",
       "2     0.2651     0.0033     0.1273  \n",
       "3     0.0796     0.0007     0.0965  \n",
       "4     1.2132     0.0092     0.5636  \n",
       "\n",
       "[5 rows x 22 columns]"
      ]
     },
     "execution_count": 35,
     "metadata": {},
     "output_type": "execute_result"
    }
   ],
   "source": [
    "df_test_pred = predict_lgb(x_test, id_test)\n",
    "df_test_pred.head()"
   ]
  },
  {
   "cell_type": "markdown",
   "id": "75171de2",
   "metadata": {
    "papermill": {
     "duration": 0.183132,
     "end_time": "2022-05-01T08:58:36.099282",
     "exception": false,
     "start_time": "2022-05-01T08:58:35.916150",
     "status": "completed"
    },
    "tags": []
   },
   "source": [
    "### **パート３：提出用フォーマットへの変換**\n",
    "#### スクリプト8-36: 提出用フォーマットへの変換"
   ]
  },
  {
   "cell_type": "code",
   "execution_count": 36,
   "id": "bb2858d2",
   "metadata": {
    "execution": {
     "iopub.execute_input": "2022-05-01T08:58:36.464075Z",
     "iopub.status.busy": "2022-05-01T08:58:36.463740Z",
     "iopub.status.idle": "2022-05-01T08:58:36.478896Z",
     "shell.execute_reply": "2022-05-01T08:58:36.477972Z"
    },
    "papermill": {
     "duration": 0.201409,
     "end_time": "2022-05-01T08:58:36.481290",
     "exception": false,
     "start_time": "2022-05-01T08:58:36.279881",
     "status": "completed"
    },
    "tags": []
   },
   "outputs": [
    {
     "data": {
      "text/html": [
       "<div>\n",
       "<style scoped>\n",
       "    .dataframe tbody tr th:only-of-type {\n",
       "        vertical-align: middle;\n",
       "    }\n",
       "\n",
       "    .dataframe tbody tr th {\n",
       "        vertical-align: top;\n",
       "    }\n",
       "\n",
       "    .dataframe thead th {\n",
       "        text-align: right;\n",
       "    }\n",
       "</style>\n",
       "<table border=\"1\" class=\"dataframe\">\n",
       "  <thead>\n",
       "    <tr style=\"text-align: right;\">\n",
       "      <th></th>\n",
       "      <th>date_playerId</th>\n",
       "      <th>target1</th>\n",
       "      <th>target2</th>\n",
       "      <th>target3</th>\n",
       "      <th>target4</th>\n",
       "    </tr>\n",
       "  </thead>\n",
       "  <tbody>\n",
       "    <tr>\n",
       "      <th>0</th>\n",
       "      <td>20210427_656669</td>\n",
       "      <td>0.0290</td>\n",
       "      <td>1.1602</td>\n",
       "      <td>0.0050</td>\n",
       "      <td>0.2476</td>\n",
       "    </tr>\n",
       "    <tr>\n",
       "      <th>1</th>\n",
       "      <td>20210427_543475</td>\n",
       "      <td>0.0033</td>\n",
       "      <td>0.9486</td>\n",
       "      <td>0.0050</td>\n",
       "      <td>0.2552</td>\n",
       "    </tr>\n",
       "    <tr>\n",
       "      <th>2</th>\n",
       "      <td>20210427_623465</td>\n",
       "      <td>0.0001</td>\n",
       "      <td>0.2651</td>\n",
       "      <td>0.0033</td>\n",
       "      <td>0.1273</td>\n",
       "    </tr>\n",
       "    <tr>\n",
       "      <th>3</th>\n",
       "      <td>20210427_595032</td>\n",
       "      <td>0.0000</td>\n",
       "      <td>0.0796</td>\n",
       "      <td>0.0007</td>\n",
       "      <td>0.0965</td>\n",
       "    </tr>\n",
       "    <tr>\n",
       "      <th>4</th>\n",
       "      <td>20210427_592866</td>\n",
       "      <td>0.0341</td>\n",
       "      <td>1.2132</td>\n",
       "      <td>0.0092</td>\n",
       "      <td>0.5636</td>\n",
       "    </tr>\n",
       "  </tbody>\n",
       "</table>\n",
       "</div>"
      ],
      "text/plain": [
       "     date_playerId    target1    target2    target3    target4\n",
       "0  20210427_656669     0.0290     1.1602     0.0050     0.2476\n",
       "1  20210427_543475     0.0033     0.9486     0.0050     0.2552\n",
       "2  20210427_623465     0.0001     0.2651     0.0033     0.1273\n",
       "3  20210427_595032     0.0000     0.0796     0.0007     0.0965\n",
       "4  20210427_592866     0.0341     1.2132     0.0092     0.5636"
      ]
     },
     "execution_count": 36,
     "metadata": {},
     "output_type": "execute_result"
    }
   ],
   "source": [
    "df_submit = df_test_pred[[\"date_playerId\", \"target1\",\"target2\",\"target3\",\"target4\"]]\n",
    "df_submit.head()"
   ]
  },
  {
   "cell_type": "markdown",
   "id": "db368e42",
   "metadata": {
    "papermill": {
     "duration": 0.179811,
     "end_time": "2022-05-01T08:58:36.839682",
     "exception": false,
     "start_time": "2022-05-01T08:58:36.659871",
     "status": "completed"
    },
    "tags": []
   },
   "source": [
    "#### スクリプト8-37: 推論処理の実行\n",
    "- **mlbライブラリは一度しか実行できません。再度実行したい場合はカーネルを再起動する必要があります。**\n",
    "- 本notebookではmlbライブラリを3ヶ所で実行しています。**実行したいセル以外はコメントアウトしてから実行してください。**\n",
    "    - スクリプト8-37 :  8.3 ベースライン作成\n",
    "    - スクリプト8-47 :  8.4 特徴量エンジニアリング\n",
    "    - スクリプト8-62 :  8.5 モデルチューニング"
   ]
  },
  {
   "cell_type": "code",
   "execution_count": 37,
   "id": "c6c8bb89",
   "metadata": {
    "execution": {
     "iopub.execute_input": "2022-05-01T08:58:37.225011Z",
     "iopub.status.busy": "2022-05-01T08:58:37.224686Z",
     "iopub.status.idle": "2022-05-01T08:58:37.229634Z",
     "shell.execute_reply": "2022-05-01T08:58:37.228806Z"
    },
    "papermill": {
     "duration": 0.189819,
     "end_time": "2022-05-01T08:58:37.231600",
     "exception": false,
     "start_time": "2022-05-01T08:58:37.041781",
     "status": "completed"
    },
    "tags": []
   },
   "outputs": [],
   "source": [
    "# import mlb\n",
    "\n",
    "# env = mlb.make_env()\n",
    "# iter_test = env.iter_test()\n",
    "\n",
    "# for (test_df, prediction_df) in iter_test:\n",
    "#     test = test_df.copy()\n",
    "#     prediction = prediction_df.copy()\n",
    "#     prediction = prediction.reset_index(drop=False)\n",
    "    \n",
    "#     print(\"date:\", prediction[\"date\"][0])\n",
    "    \n",
    "#     # データセット作成\n",
    "#     x_test, id_test = makedataset_for_predict(test, prediction)\n",
    "    \n",
    "#     # 推論処理\n",
    "#     df_test_pred = predict_lgb(x_test, id_test)\n",
    "    \n",
    "#     # 提出データの作成\n",
    "#     df_submit = df_test_pred[[\"date_playerId\", \"target1\",\"target2\",\"target3\",\"target4\"]]\n",
    "    \n",
    "#     # 後処理：欠損値埋め，0-100の範囲外のデータをクリッピング\n",
    "#     for i,col in enumerate([\"target1\",\"target2\",\"target3\",\"target4\"]):\n",
    "#         df_submit[col] = df_submit[col].fillna(0.)\n",
    "#         df_submit[col] = df_submit[col].clip(0, 100)\n",
    "\n",
    "#     # 予測値データの提出\n",
    "#     env.predict(df_submit)\n",
    "# print(\"Done.\")"
   ]
  },
  {
   "cell_type": "markdown",
   "id": "76897281",
   "metadata": {
    "papermill": {
     "duration": 0.181326,
     "end_time": "2022-05-01T08:58:37.594747",
     "exception": false,
     "start_time": "2022-05-01T08:58:37.413421",
     "status": "completed"
    },
    "tags": []
   },
   "source": [
    "# 8.4 特徴量エンジニアリング\n",
    "## 8.4.1 データ前処理"
   ]
  },
  {
   "cell_type": "markdown",
   "id": "f0a12cb4",
   "metadata": {
    "papermill": {
     "duration": 0.185479,
     "end_time": "2022-05-01T08:58:37.962729",
     "exception": false,
     "start_time": "2022-05-01T08:58:37.777250",
     "status": "completed"
    },
    "tags": []
   },
   "source": [
    "#### スクリプト8-38: train_updated.csvからrostersカラムのデータ取り出し"
   ]
  },
  {
   "cell_type": "code",
   "execution_count": 38,
   "id": "64544956",
   "metadata": {
    "execution": {
     "iopub.execute_input": "2022-05-01T08:58:38.329283Z",
     "iopub.status.busy": "2022-05-01T08:58:38.328757Z",
     "iopub.status.idle": "2022-05-01T08:58:58.666844Z",
     "shell.execute_reply": "2022-05-01T08:58:58.665822Z"
    },
    "papermill": {
     "duration": 20.524184,
     "end_time": "2022-05-01T08:58:58.668954",
     "exception": false,
     "start_time": "2022-05-01T08:58:38.144770",
     "status": "completed"
    },
    "tags": []
   },
   "outputs": [
    {
     "name": "stdout",
     "output_type": "stream",
     "text": [
      "487/487\n",
      "(598950, 5)\n"
     ]
    },
    {
     "data": {
      "text/html": [
       "<div>\n",
       "<style scoped>\n",
       "    .dataframe tbody tr th:only-of-type {\n",
       "        vertical-align: middle;\n",
       "    }\n",
       "\n",
       "    .dataframe tbody tr th {\n",
       "        vertical-align: top;\n",
       "    }\n",
       "\n",
       "    .dataframe thead th {\n",
       "        text-align: right;\n",
       "    }\n",
       "</style>\n",
       "<table border=\"1\" class=\"dataframe\">\n",
       "  <thead>\n",
       "    <tr style=\"text-align: right;\">\n",
       "      <th></th>\n",
       "      <th>playerId</th>\n",
       "      <th>gameDate</th>\n",
       "      <th>teamId</th>\n",
       "      <th>statusCode</th>\n",
       "      <th>status</th>\n",
       "    </tr>\n",
       "  </thead>\n",
       "  <tbody>\n",
       "    <tr>\n",
       "      <th>0</th>\n",
       "      <td>430935</td>\n",
       "      <td>2020-04-01</td>\n",
       "      <td>144</td>\n",
       "      <td>A</td>\n",
       "      <td>Active</td>\n",
       "    </tr>\n",
       "    <tr>\n",
       "      <th>1</th>\n",
       "      <td>435062</td>\n",
       "      <td>2020-04-01</td>\n",
       "      <td>120</td>\n",
       "      <td>A</td>\n",
       "      <td>Active</td>\n",
       "    </tr>\n",
       "    <tr>\n",
       "      <th>2</th>\n",
       "      <td>444489</td>\n",
       "      <td>2020-04-01</td>\n",
       "      <td>158</td>\n",
       "      <td>A</td>\n",
       "      <td>Active</td>\n",
       "    </tr>\n",
       "    <tr>\n",
       "      <th>3</th>\n",
       "      <td>445276</td>\n",
       "      <td>2020-04-01</td>\n",
       "      <td>119</td>\n",
       "      <td>A</td>\n",
       "      <td>Active</td>\n",
       "    </tr>\n",
       "    <tr>\n",
       "      <th>4</th>\n",
       "      <td>446308</td>\n",
       "      <td>2020-04-01</td>\n",
       "      <td>138</td>\n",
       "      <td>A</td>\n",
       "      <td>Active</td>\n",
       "    </tr>\n",
       "  </tbody>\n",
       "</table>\n",
       "</div>"
      ],
      "text/plain": [
       "   playerId    gameDate  teamId statusCode  status\n",
       "0    430935  2020-04-01     144          A  Active\n",
       "1    435062  2020-04-01     120          A  Active\n",
       "2    444489  2020-04-01     158          A  Active\n",
       "3    445276  2020-04-01     119          A  Active\n",
       "4    446308  2020-04-01     138          A  Active"
      ]
     },
     "metadata": {},
     "output_type": "display_data"
    }
   ],
   "source": [
    "df_rosters = extract_data(train, col=\"rosters\", show=True)"
   ]
  },
  {
   "cell_type": "markdown",
   "id": "39e4176e",
   "metadata": {
    "papermill": {
     "duration": 0.212224,
     "end_time": "2022-05-01T08:58:59.093974",
     "exception": false,
     "start_time": "2022-05-01T08:58:58.881750",
     "status": "completed"
    },
    "tags": []
   },
   "source": [
    "#### スクリプト8-39: rostersのデータ前処理加工"
   ]
  },
  {
   "cell_type": "code",
   "execution_count": 39,
   "id": "2975f9de",
   "metadata": {
    "execution": {
     "iopub.execute_input": "2022-05-01T08:58:59.526612Z",
     "iopub.status.busy": "2022-05-01T08:58:59.526065Z",
     "iopub.status.idle": "2022-05-01T08:59:00.069867Z",
     "shell.execute_reply": "2022-05-01T08:59:00.068979Z"
    },
    "papermill": {
     "duration": 0.762087,
     "end_time": "2022-05-01T08:59:00.072269",
     "exception": false,
     "start_time": "2022-05-01T08:58:59.310182",
     "status": "completed"
    },
    "tags": []
   },
   "outputs": [
    {
     "data": {
      "text/html": [
       "<div>\n",
       "<style scoped>\n",
       "    .dataframe tbody tr th:only-of-type {\n",
       "        vertical-align: middle;\n",
       "    }\n",
       "\n",
       "    .dataframe tbody tr th {\n",
       "        vertical-align: top;\n",
       "    }\n",
       "\n",
       "    .dataframe thead th {\n",
       "        text-align: right;\n",
       "    }\n",
       "</style>\n",
       "<table border=\"1\" class=\"dataframe\">\n",
       "  <thead>\n",
       "    <tr style=\"text-align: right;\">\n",
       "      <th></th>\n",
       "      <th>playerId</th>\n",
       "      <th>date</th>\n",
       "      <th>teamId</th>\n",
       "      <th>statusCode</th>\n",
       "      <th>status</th>\n",
       "    </tr>\n",
       "  </thead>\n",
       "  <tbody>\n",
       "    <tr>\n",
       "      <th>0</th>\n",
       "      <td>430935</td>\n",
       "      <td>2020-04-01</td>\n",
       "      <td>144</td>\n",
       "      <td>A</td>\n",
       "      <td>Active</td>\n",
       "    </tr>\n",
       "    <tr>\n",
       "      <th>1</th>\n",
       "      <td>435062</td>\n",
       "      <td>2020-04-01</td>\n",
       "      <td>120</td>\n",
       "      <td>A</td>\n",
       "      <td>Active</td>\n",
       "    </tr>\n",
       "    <tr>\n",
       "      <th>2</th>\n",
       "      <td>444489</td>\n",
       "      <td>2020-04-01</td>\n",
       "      <td>158</td>\n",
       "      <td>A</td>\n",
       "      <td>Active</td>\n",
       "    </tr>\n",
       "    <tr>\n",
       "      <th>3</th>\n",
       "      <td>445276</td>\n",
       "      <td>2020-04-01</td>\n",
       "      <td>119</td>\n",
       "      <td>A</td>\n",
       "      <td>Active</td>\n",
       "    </tr>\n",
       "    <tr>\n",
       "      <th>4</th>\n",
       "      <td>446308</td>\n",
       "      <td>2020-04-01</td>\n",
       "      <td>138</td>\n",
       "      <td>A</td>\n",
       "      <td>Active</td>\n",
       "    </tr>\n",
       "  </tbody>\n",
       "</table>\n",
       "</div>"
      ],
      "text/plain": [
       "   playerId       date  teamId statusCode  status\n",
       "0    430935 2020-04-01     144          A  Active\n",
       "1    435062 2020-04-01     120          A  Active\n",
       "2    444489 2020-04-01     158          A  Active\n",
       "3    445276 2020-04-01     119          A  Active\n",
       "4    446308 2020-04-01     138          A  Active"
      ]
     },
     "execution_count": 39,
     "metadata": {},
     "output_type": "execute_result"
    }
   ],
   "source": [
    "# dateカラムの作成・加工\n",
    "df_rosters = df_rosters.rename(columns={\"gameDate\":\"date\"})\n",
    "df_rosters[\"date\"] = pd.to_datetime(df_rosters[\"date\"], format=\"%Y-%m-%d\")\n",
    "\n",
    "# 追加するカラムリストの作成 (dateとplayerIdは結合キー)\n",
    "col_rosters = [\"teamId\",\"statusCode\",\"status\"]\n",
    "\n",
    "df_rosters.head()"
   ]
  },
  {
   "cell_type": "markdown",
   "id": "62ce6965",
   "metadata": {
    "papermill": {
     "duration": 0.214584,
     "end_time": "2022-05-01T08:59:00.500162",
     "exception": false,
     "start_time": "2022-05-01T08:59:00.285578",
     "status": "completed"
    },
    "tags": []
   },
   "source": [
    "#### スクリプト8-40: targetの特徴量の計算"
   ]
  },
  {
   "cell_type": "code",
   "execution_count": 40,
   "id": "085ed7a5",
   "metadata": {
    "execution": {
     "iopub.execute_input": "2022-05-01T08:59:00.928390Z",
     "iopub.status.busy": "2022-05-01T08:59:00.927905Z",
     "iopub.status.idle": "2022-05-01T08:59:01.651263Z",
     "shell.execute_reply": "2022-05-01T08:59:01.650313Z"
    },
    "papermill": {
     "duration": 0.939944,
     "end_time": "2022-05-01T08:59:01.653721",
     "exception": false,
     "start_time": "2022-05-01T08:59:00.713777",
     "status": "completed"
    },
    "tags": []
   },
   "outputs": [
    {
     "data": {
      "text/html": [
       "<div>\n",
       "<style scoped>\n",
       "    .dataframe tbody tr th:only-of-type {\n",
       "        vertical-align: middle;\n",
       "    }\n",
       "\n",
       "    .dataframe tbody tr th {\n",
       "        vertical-align: top;\n",
       "    }\n",
       "\n",
       "    .dataframe thead th {\n",
       "        text-align: right;\n",
       "    }\n",
       "</style>\n",
       "<table border=\"1\" class=\"dataframe\">\n",
       "  <thead>\n",
       "    <tr style=\"text-align: right;\">\n",
       "      <th></th>\n",
       "      <th>yearmonth</th>\n",
       "      <th>playerId</th>\n",
       "      <th>target1_mean</th>\n",
       "      <th>target1_median</th>\n",
       "      <th>target1_std</th>\n",
       "      <th>target1_min</th>\n",
       "      <th>target1_max</th>\n",
       "      <th>target2_mean</th>\n",
       "      <th>target2_median</th>\n",
       "      <th>target2_std</th>\n",
       "      <th>...</th>\n",
       "      <th>target3_mean</th>\n",
       "      <th>target3_median</th>\n",
       "      <th>target3_std</th>\n",
       "      <th>target3_min</th>\n",
       "      <th>target3_max</th>\n",
       "      <th>target4_mean</th>\n",
       "      <th>target4_median</th>\n",
       "      <th>target4_std</th>\n",
       "      <th>target4_min</th>\n",
       "      <th>target4_max</th>\n",
       "    </tr>\n",
       "  </thead>\n",
       "  <tbody>\n",
       "    <tr>\n",
       "      <th>0</th>\n",
       "      <td>2020-04</td>\n",
       "      <td>112526</td>\n",
       "      <td>0.8834</td>\n",
       "      <td>0.0647</td>\n",
       "      <td>2.9618</td>\n",
       "      <td>0.0224</td>\n",
       "      <td>15.9780</td>\n",
       "      <td>10.8110</td>\n",
       "      <td>10.4352</td>\n",
       "      <td>5.3041</td>\n",
       "      <td>...</td>\n",
       "      <td>0.2894</td>\n",
       "      <td>0.1752</td>\n",
       "      <td>0.3478</td>\n",
       "      <td>0.0216</td>\n",
       "      <td>1.6761</td>\n",
       "      <td>21.1961</td>\n",
       "      <td>20.7913</td>\n",
       "      <td>12.6768</td>\n",
       "      <td>0.6305</td>\n",
       "      <td>51.3299</td>\n",
       "    </tr>\n",
       "    <tr>\n",
       "      <th>1</th>\n",
       "      <td>2020-04</td>\n",
       "      <td>134181</td>\n",
       "      <td>2.9999</td>\n",
       "      <td>0.2175</td>\n",
       "      <td>10.9845</td>\n",
       "      <td>0.0645</td>\n",
       "      <td>58.4642</td>\n",
       "      <td>14.7861</td>\n",
       "      <td>11.9902</td>\n",
       "      <td>13.2362</td>\n",
       "      <td>...</td>\n",
       "      <td>10.6877</td>\n",
       "      <td>0.9546</td>\n",
       "      <td>24.8149</td>\n",
       "      <td>0.0348</td>\n",
       "      <td>100.0000</td>\n",
       "      <td>12.0298</td>\n",
       "      <td>11.6739</td>\n",
       "      <td>6.2926</td>\n",
       "      <td>0.5478</td>\n",
       "      <td>24.3902</td>\n",
       "    </tr>\n",
       "    <tr>\n",
       "      <th>2</th>\n",
       "      <td>2020-04</td>\n",
       "      <td>279571</td>\n",
       "      <td>0.0003</td>\n",
       "      <td>0.0000</td>\n",
       "      <td>0.0006</td>\n",
       "      <td>0.0000</td>\n",
       "      <td>0.0016</td>\n",
       "      <td>0.3970</td>\n",
       "      <td>0.3435</td>\n",
       "      <td>0.2787</td>\n",
       "      <td>...</td>\n",
       "      <td>0.0004</td>\n",
       "      <td>0.0000</td>\n",
       "      <td>0.0013</td>\n",
       "      <td>0.0000</td>\n",
       "      <td>0.0060</td>\n",
       "      <td>0.2895</td>\n",
       "      <td>0.2481</td>\n",
       "      <td>0.1986</td>\n",
       "      <td>0.0097</td>\n",
       "      <td>0.7000</td>\n",
       "    </tr>\n",
       "    <tr>\n",
       "      <th>3</th>\n",
       "      <td>2020-04</td>\n",
       "      <td>282332</td>\n",
       "      <td>0.1413</td>\n",
       "      <td>0.0748</td>\n",
       "      <td>0.1702</td>\n",
       "      <td>0.0223</td>\n",
       "      <td>0.7391</td>\n",
       "      <td>7.8652</td>\n",
       "      <td>7.7711</td>\n",
       "      <td>4.0453</td>\n",
       "      <td>...</td>\n",
       "      <td>0.3794</td>\n",
       "      <td>0.3382</td>\n",
       "      <td>0.2484</td>\n",
       "      <td>0.0501</td>\n",
       "      <td>0.9882</td>\n",
       "      <td>11.3540</td>\n",
       "      <td>10.0147</td>\n",
       "      <td>6.1022</td>\n",
       "      <td>0.5633</td>\n",
       "      <td>23.4455</td>\n",
       "    </tr>\n",
       "    <tr>\n",
       "      <th>4</th>\n",
       "      <td>2020-04</td>\n",
       "      <td>400085</td>\n",
       "      <td>1.9515</td>\n",
       "      <td>0.6949</td>\n",
       "      <td>3.3399</td>\n",
       "      <td>0.0947</td>\n",
       "      <td>17.0843</td>\n",
       "      <td>30.0941</td>\n",
       "      <td>27.2808</td>\n",
       "      <td>16.4382</td>\n",
       "      <td>...</td>\n",
       "      <td>13.3777</td>\n",
       "      <td>1.8486</td>\n",
       "      <td>26.4342</td>\n",
       "      <td>0.2183</td>\n",
       "      <td>100.0000</td>\n",
       "      <td>50.7711</td>\n",
       "      <td>47.0509</td>\n",
       "      <td>29.4601</td>\n",
       "      <td>2.5769</td>\n",
       "      <td>100.0000</td>\n",
       "    </tr>\n",
       "  </tbody>\n",
       "</table>\n",
       "<p>5 rows × 22 columns</p>\n",
       "</div>"
      ],
      "text/plain": [
       "  yearmonth  playerId  target1_mean  target1_median  target1_std  target1_min  \\\n",
       "0   2020-04    112526        0.8834          0.0647       2.9618       0.0224   \n",
       "1   2020-04    134181        2.9999          0.2175      10.9845       0.0645   \n",
       "2   2020-04    279571        0.0003          0.0000       0.0006       0.0000   \n",
       "3   2020-04    282332        0.1413          0.0748       0.1702       0.0223   \n",
       "4   2020-04    400085        1.9515          0.6949       3.3399       0.0947   \n",
       "\n",
       "   target1_max  target2_mean  target2_median  target2_std  ...  target3_mean  \\\n",
       "0      15.9780       10.8110         10.4352       5.3041  ...        0.2894   \n",
       "1      58.4642       14.7861         11.9902      13.2362  ...       10.6877   \n",
       "2       0.0016        0.3970          0.3435       0.2787  ...        0.0004   \n",
       "3       0.7391        7.8652          7.7711       4.0453  ...        0.3794   \n",
       "4      17.0843       30.0941         27.2808      16.4382  ...       13.3777   \n",
       "\n",
       "   target3_median  target3_std  target3_min  target3_max  target4_mean  \\\n",
       "0          0.1752       0.3478       0.0216       1.6761       21.1961   \n",
       "1          0.9546      24.8149       0.0348     100.0000       12.0298   \n",
       "2          0.0000       0.0013       0.0000       0.0060        0.2895   \n",
       "3          0.3382       0.2484       0.0501       0.9882       11.3540   \n",
       "4          1.8486      26.4342       0.2183     100.0000       50.7711   \n",
       "\n",
       "   target4_median  target4_std  target4_min  target4_max  \n",
       "0         20.7913      12.6768       0.6305      51.3299  \n",
       "1         11.6739       6.2926       0.5478      24.3902  \n",
       "2          0.2481       0.1986       0.0097       0.7000  \n",
       "3         10.0147       6.1022       0.5633      23.4455  \n",
       "4         47.0509      29.4601       2.5769     100.0000  \n",
       "\n",
       "[5 rows x 22 columns]"
      ]
     },
     "execution_count": 40,
     "metadata": {},
     "output_type": "execute_result"
    }
   ],
   "source": [
    "df_agg_target = df_train.groupby([\"yearmonth\", \"playerId\"])[[\"target1\", \"target2\", \"target3\", \"target4\"]].agg([\"mean\", \"median\", \"std\", \"min\", \"max\"])\n",
    "df_agg_target.columns = [\"{}_{}\".format(i,j) for i,j in df_agg_target.columns]\n",
    "df_agg_target = df_agg_target.reset_index(drop=False)\n",
    "df_agg_target.head()"
   ]
  },
  {
   "cell_type": "markdown",
   "id": "b44944bf",
   "metadata": {
    "papermill": {
     "duration": 0.21969,
     "end_time": "2022-05-01T08:59:02.091857",
     "exception": false,
     "start_time": "2022-05-01T08:59:01.872167",
     "status": "completed"
    },
    "tags": []
   },
   "source": [
    "#### スクリプト8-41: ラグ特徴量の作成"
   ]
  },
  {
   "cell_type": "code",
   "execution_count": 41,
   "id": "184f84e7",
   "metadata": {
    "execution": {
     "iopub.execute_input": "2022-05-01T08:59:02.528890Z",
     "iopub.status.busy": "2022-05-01T08:59:02.528110Z",
     "iopub.status.idle": "2022-05-01T08:59:02.597124Z",
     "shell.execute_reply": "2022-05-01T08:59:02.596173Z"
    },
    "papermill": {
     "duration": 0.292287,
     "end_time": "2022-05-01T08:59:02.599945",
     "exception": false,
     "start_time": "2022-05-01T08:59:02.307658",
     "status": "completed"
    },
    "tags": []
   },
   "outputs": [
    {
     "data": {
      "text/html": [
       "<div>\n",
       "<style scoped>\n",
       "    .dataframe tbody tr th:only-of-type {\n",
       "        vertical-align: middle;\n",
       "    }\n",
       "\n",
       "    .dataframe tbody tr th {\n",
       "        vertical-align: top;\n",
       "    }\n",
       "\n",
       "    .dataframe thead th {\n",
       "        text-align: right;\n",
       "    }\n",
       "</style>\n",
       "<table border=\"1\" class=\"dataframe\">\n",
       "  <thead>\n",
       "    <tr style=\"text-align: right;\">\n",
       "      <th></th>\n",
       "      <th>yearmonth</th>\n",
       "      <th>playerId</th>\n",
       "      <th>target1_mean_lag1month</th>\n",
       "      <th>target1_median_lag1month</th>\n",
       "      <th>target1_std_lag1month</th>\n",
       "      <th>target1_min_lag1month</th>\n",
       "      <th>target1_max_lag1month</th>\n",
       "      <th>target2_mean_lag1month</th>\n",
       "      <th>target2_median_lag1month</th>\n",
       "      <th>target2_std_lag1month</th>\n",
       "      <th>...</th>\n",
       "      <th>target3_mean_lag1month</th>\n",
       "      <th>target3_median_lag1month</th>\n",
       "      <th>target3_std_lag1month</th>\n",
       "      <th>target3_min_lag1month</th>\n",
       "      <th>target3_max_lag1month</th>\n",
       "      <th>target4_mean_lag1month</th>\n",
       "      <th>target4_median_lag1month</th>\n",
       "      <th>target4_std_lag1month</th>\n",
       "      <th>target4_min_lag1month</th>\n",
       "      <th>target4_max_lag1month</th>\n",
       "    </tr>\n",
       "  </thead>\n",
       "  <tbody>\n",
       "    <tr>\n",
       "      <th>0</th>\n",
       "      <td>2020-05</td>\n",
       "      <td>112526</td>\n",
       "      <td>0.8834</td>\n",
       "      <td>0.0647</td>\n",
       "      <td>2.9618</td>\n",
       "      <td>0.0224</td>\n",
       "      <td>15.9780</td>\n",
       "      <td>10.8110</td>\n",
       "      <td>10.4352</td>\n",
       "      <td>5.3041</td>\n",
       "      <td>...</td>\n",
       "      <td>0.2894</td>\n",
       "      <td>0.1752</td>\n",
       "      <td>0.3478</td>\n",
       "      <td>0.0216</td>\n",
       "      <td>1.6761</td>\n",
       "      <td>21.1961</td>\n",
       "      <td>20.7913</td>\n",
       "      <td>12.6768</td>\n",
       "      <td>0.6305</td>\n",
       "      <td>51.3299</td>\n",
       "    </tr>\n",
       "    <tr>\n",
       "      <th>1</th>\n",
       "      <td>2020-05</td>\n",
       "      <td>628318</td>\n",
       "      <td>0.0003</td>\n",
       "      <td>0.0000</td>\n",
       "      <td>0.0016</td>\n",
       "      <td>0.0000</td>\n",
       "      <td>0.0088</td>\n",
       "      <td>0.3717</td>\n",
       "      <td>0.3519</td>\n",
       "      <td>0.2857</td>\n",
       "      <td>...</td>\n",
       "      <td>0.0000</td>\n",
       "      <td>0.0000</td>\n",
       "      <td>0.0000</td>\n",
       "      <td>0.0000</td>\n",
       "      <td>0.0000</td>\n",
       "      <td>0.4519</td>\n",
       "      <td>0.4173</td>\n",
       "      <td>0.2852</td>\n",
       "      <td>0.0126</td>\n",
       "      <td>1.1760</td>\n",
       "    </tr>\n",
       "    <tr>\n",
       "      <th>2</th>\n",
       "      <td>2020-05</td>\n",
       "      <td>628317</td>\n",
       "      <td>0.0747</td>\n",
       "      <td>0.0327</td>\n",
       "      <td>0.1005</td>\n",
       "      <td>0.0139</td>\n",
       "      <td>0.4201</td>\n",
       "      <td>10.7568</td>\n",
       "      <td>9.6495</td>\n",
       "      <td>4.7834</td>\n",
       "      <td>...</td>\n",
       "      <td>0.0816</td>\n",
       "      <td>0.0746</td>\n",
       "      <td>0.0462</td>\n",
       "      <td>0.0116</td>\n",
       "      <td>0.1811</td>\n",
       "      <td>3.2524</td>\n",
       "      <td>2.9701</td>\n",
       "      <td>1.8610</td>\n",
       "      <td>0.1119</td>\n",
       "      <td>6.8816</td>\n",
       "    </tr>\n",
       "    <tr>\n",
       "      <th>3</th>\n",
       "      <td>2020-05</td>\n",
       "      <td>627894</td>\n",
       "      <td>0.0004</td>\n",
       "      <td>0.0000</td>\n",
       "      <td>0.0008</td>\n",
       "      <td>0.0000</td>\n",
       "      <td>0.0037</td>\n",
       "      <td>1.2347</td>\n",
       "      <td>1.1066</td>\n",
       "      <td>0.6663</td>\n",
       "      <td>...</td>\n",
       "      <td>0.0020</td>\n",
       "      <td>0.0000</td>\n",
       "      <td>0.0035</td>\n",
       "      <td>0.0000</td>\n",
       "      <td>0.0157</td>\n",
       "      <td>0.3802</td>\n",
       "      <td>0.3303</td>\n",
       "      <td>0.2352</td>\n",
       "      <td>0.0165</td>\n",
       "      <td>0.9146</td>\n",
       "    </tr>\n",
       "    <tr>\n",
       "      <th>4</th>\n",
       "      <td>2020-05</td>\n",
       "      <td>627500</td>\n",
       "      <td>0.0004</td>\n",
       "      <td>0.0000</td>\n",
       "      <td>0.0019</td>\n",
       "      <td>0.0000</td>\n",
       "      <td>0.0104</td>\n",
       "      <td>0.2940</td>\n",
       "      <td>0.1969</td>\n",
       "      <td>0.3396</td>\n",
       "      <td>...</td>\n",
       "      <td>0.0000</td>\n",
       "      <td>0.0000</td>\n",
       "      <td>0.0001</td>\n",
       "      <td>0.0000</td>\n",
       "      <td>0.0005</td>\n",
       "      <td>0.2036</td>\n",
       "      <td>0.1609</td>\n",
       "      <td>0.1362</td>\n",
       "      <td>0.0117</td>\n",
       "      <td>0.5662</td>\n",
       "    </tr>\n",
       "  </tbody>\n",
       "</table>\n",
       "<p>5 rows × 22 columns</p>\n",
       "</div>"
      ],
      "text/plain": [
       "  yearmonth  playerId  target1_mean_lag1month  target1_median_lag1month  \\\n",
       "0   2020-05    112526                  0.8834                    0.0647   \n",
       "1   2020-05    628318                  0.0003                    0.0000   \n",
       "2   2020-05    628317                  0.0747                    0.0327   \n",
       "3   2020-05    627894                  0.0004                    0.0000   \n",
       "4   2020-05    627500                  0.0004                    0.0000   \n",
       "\n",
       "   target1_std_lag1month  target1_min_lag1month  target1_max_lag1month  \\\n",
       "0                 2.9618                 0.0224                15.9780   \n",
       "1                 0.0016                 0.0000                 0.0088   \n",
       "2                 0.1005                 0.0139                 0.4201   \n",
       "3                 0.0008                 0.0000                 0.0037   \n",
       "4                 0.0019                 0.0000                 0.0104   \n",
       "\n",
       "   target2_mean_lag1month  target2_median_lag1month  target2_std_lag1month  \\\n",
       "0                 10.8110                   10.4352                 5.3041   \n",
       "1                  0.3717                    0.3519                 0.2857   \n",
       "2                 10.7568                    9.6495                 4.7834   \n",
       "3                  1.2347                    1.1066                 0.6663   \n",
       "4                  0.2940                    0.1969                 0.3396   \n",
       "\n",
       "   ...  target3_mean_lag1month  target3_median_lag1month  \\\n",
       "0  ...                  0.2894                    0.1752   \n",
       "1  ...                  0.0000                    0.0000   \n",
       "2  ...                  0.0816                    0.0746   \n",
       "3  ...                  0.0020                    0.0000   \n",
       "4  ...                  0.0000                    0.0000   \n",
       "\n",
       "   target3_std_lag1month  target3_min_lag1month  target3_max_lag1month  \\\n",
       "0                 0.3478                 0.0216                 1.6761   \n",
       "1                 0.0000                 0.0000                 0.0000   \n",
       "2                 0.0462                 0.0116                 0.1811   \n",
       "3                 0.0035                 0.0000                 0.0157   \n",
       "4                 0.0001                 0.0000                 0.0005   \n",
       "\n",
       "   target4_mean_lag1month  target4_median_lag1month  target4_std_lag1month  \\\n",
       "0                 21.1961                   20.7913                12.6768   \n",
       "1                  0.4519                    0.4173                 0.2852   \n",
       "2                  3.2524                    2.9701                 1.8610   \n",
       "3                  0.3802                    0.3303                 0.2352   \n",
       "4                  0.2036                    0.1609                 0.1362   \n",
       "\n",
       "   target4_min_lag1month  target4_max_lag1month  \n",
       "0                 0.6305                51.3299  \n",
       "1                 0.0126                 1.1760  \n",
       "2                 0.1119                 6.8816  \n",
       "3                 0.0165                 0.9146  \n",
       "4                 0.0117                 0.5662  \n",
       "\n",
       "[5 rows x 22 columns]"
      ]
     },
     "execution_count": 41,
     "metadata": {},
     "output_type": "execute_result"
    }
   ],
   "source": [
    "# 年月でソート（時系列順に並んでいないとシフト時におかしくなるので）\n",
    "df_agg_target = df_agg_target.sort_values(\"yearmonth\").reset_index(drop=True)\n",
    "\n",
    "# yearmonthを1ヶ月シフト過去にさせる\n",
    "df_agg_target[\"yearmonth\"] = df_agg_target.groupby([\"playerId\"])[\"yearmonth\"].shift(-1)\n",
    "# yearmonthの欠損値を「2021-08」で埋める\n",
    "df_agg_target[\"yearmonth\"] = df_agg_target[\"yearmonth\"].fillna(\"2021-08\")\n",
    "\n",
    "# 集計値がラグ特徴量と分かるように名称を変更\n",
    "df_agg_target.columns = [col+\"_lag1month\" if col not in [\"playerId\",\"yearmonth\"] else col for col in df_agg_target.columns ]\n",
    "\n",
    "# 追加したカラムリスト作成\n",
    "col_agg_target = list(df_agg_target.columns[df_agg_target.columns.str.contains(\"lag1month\")])\n",
    "\n",
    "df_agg_target.head()"
   ]
  },
  {
   "cell_type": "markdown",
   "id": "5ca5cd65",
   "metadata": {
    "papermill": {
     "duration": 0.21614,
     "end_time": "2022-05-01T08:59:03.032842",
     "exception": false,
     "start_time": "2022-05-01T08:59:02.816702",
     "status": "completed"
    },
    "tags": []
   },
   "source": [
    "## 8.4.2 データセット作成\n",
    "#### スクリプト8-42: 学習用データセットの作成"
   ]
  },
  {
   "cell_type": "code",
   "execution_count": 42,
   "id": "48a4e4fb",
   "metadata": {
    "execution": {
     "iopub.execute_input": "2022-05-01T08:59:03.466648Z",
     "iopub.status.busy": "2022-05-01T08:59:03.466070Z",
     "iopub.status.idle": "2022-05-01T08:59:08.363211Z",
     "shell.execute_reply": "2022-05-01T08:59:08.362258Z"
    },
    "papermill": {
     "duration": 5.118076,
     "end_time": "2022-05-01T08:59:08.366179",
     "exception": false,
     "start_time": "2022-05-01T08:59:03.248103",
     "status": "completed"
    },
    "tags": []
   },
   "outputs": [
    {
     "name": "stdout",
     "output_type": "stream",
     "text": [
      "(1003707, 33) (1003707, 4) (1003707, 6)\n"
     ]
    },
    {
     "data": {
      "text/html": [
       "<div>\n",
       "<style scoped>\n",
       "    .dataframe tbody tr th:only-of-type {\n",
       "        vertical-align: middle;\n",
       "    }\n",
       "\n",
       "    .dataframe tbody tr th {\n",
       "        vertical-align: top;\n",
       "    }\n",
       "\n",
       "    .dataframe thead th {\n",
       "        text-align: right;\n",
       "    }\n",
       "</style>\n",
       "<table border=\"1\" class=\"dataframe\">\n",
       "  <thead>\n",
       "    <tr style=\"text-align: right;\">\n",
       "      <th></th>\n",
       "      <th>playerId</th>\n",
       "      <th>dayofweek</th>\n",
       "      <th>birthCity</th>\n",
       "      <th>birthStateProvince</th>\n",
       "      <th>birthCountry</th>\n",
       "      <th>heightInches</th>\n",
       "      <th>weight</th>\n",
       "      <th>primaryPositionCode</th>\n",
       "      <th>primaryPositionName</th>\n",
       "      <th>playerForTestSetAndFuturePreds</th>\n",
       "      <th>...</th>\n",
       "      <th>target3_mean_lag1month</th>\n",
       "      <th>target3_median_lag1month</th>\n",
       "      <th>target3_std_lag1month</th>\n",
       "      <th>target3_min_lag1month</th>\n",
       "      <th>target3_max_lag1month</th>\n",
       "      <th>target4_mean_lag1month</th>\n",
       "      <th>target4_median_lag1month</th>\n",
       "      <th>target4_std_lag1month</th>\n",
       "      <th>target4_min_lag1month</th>\n",
       "      <th>target4_max_lag1month</th>\n",
       "    </tr>\n",
       "  </thead>\n",
       "  <tbody>\n",
       "    <tr>\n",
       "      <th>0</th>\n",
       "      <td>425794</td>\n",
       "      <td>2</td>\n",
       "      <td>Brunswick</td>\n",
       "      <td>GA</td>\n",
       "      <td>USA</td>\n",
       "      <td>79</td>\n",
       "      <td>230</td>\n",
       "      <td>1</td>\n",
       "      <td>Pitcher</td>\n",
       "      <td>1</td>\n",
       "      <td>...</td>\n",
       "      <td>NaN</td>\n",
       "      <td>NaN</td>\n",
       "      <td>NaN</td>\n",
       "      <td>NaN</td>\n",
       "      <td>NaN</td>\n",
       "      <td>NaN</td>\n",
       "      <td>NaN</td>\n",
       "      <td>NaN</td>\n",
       "      <td>NaN</td>\n",
       "      <td>NaN</td>\n",
       "    </tr>\n",
       "    <tr>\n",
       "      <th>1</th>\n",
       "      <td>571704</td>\n",
       "      <td>2</td>\n",
       "      <td>Albuquerque</td>\n",
       "      <td>NM</td>\n",
       "      <td>USA</td>\n",
       "      <td>75</td>\n",
       "      <td>210</td>\n",
       "      <td>1</td>\n",
       "      <td>Pitcher</td>\n",
       "      <td>0</td>\n",
       "      <td>...</td>\n",
       "      <td>NaN</td>\n",
       "      <td>NaN</td>\n",
       "      <td>NaN</td>\n",
       "      <td>NaN</td>\n",
       "      <td>NaN</td>\n",
       "      <td>NaN</td>\n",
       "      <td>NaN</td>\n",
       "      <td>NaN</td>\n",
       "      <td>NaN</td>\n",
       "      <td>NaN</td>\n",
       "    </tr>\n",
       "    <tr>\n",
       "      <th>2</th>\n",
       "      <td>506702</td>\n",
       "      <td>2</td>\n",
       "      <td>Maracaibo</td>\n",
       "      <td>NaN</td>\n",
       "      <td>Venezuela</td>\n",
       "      <td>70</td>\n",
       "      <td>235</td>\n",
       "      <td>2</td>\n",
       "      <td>Catcher</td>\n",
       "      <td>1</td>\n",
       "      <td>...</td>\n",
       "      <td>NaN</td>\n",
       "      <td>NaN</td>\n",
       "      <td>NaN</td>\n",
       "      <td>NaN</td>\n",
       "      <td>NaN</td>\n",
       "      <td>NaN</td>\n",
       "      <td>NaN</td>\n",
       "      <td>NaN</td>\n",
       "      <td>NaN</td>\n",
       "      <td>NaN</td>\n",
       "    </tr>\n",
       "    <tr>\n",
       "      <th>3</th>\n",
       "      <td>607231</td>\n",
       "      <td>2</td>\n",
       "      <td>Savannah</td>\n",
       "      <td>GA</td>\n",
       "      <td>USA</td>\n",
       "      <td>76</td>\n",
       "      <td>200</td>\n",
       "      <td>1</td>\n",
       "      <td>Pitcher</td>\n",
       "      <td>1</td>\n",
       "      <td>...</td>\n",
       "      <td>NaN</td>\n",
       "      <td>NaN</td>\n",
       "      <td>NaN</td>\n",
       "      <td>NaN</td>\n",
       "      <td>NaN</td>\n",
       "      <td>NaN</td>\n",
       "      <td>NaN</td>\n",
       "      <td>NaN</td>\n",
       "      <td>NaN</td>\n",
       "      <td>NaN</td>\n",
       "    </tr>\n",
       "    <tr>\n",
       "      <th>4</th>\n",
       "      <td>543193</td>\n",
       "      <td>2</td>\n",
       "      <td>Columbia</td>\n",
       "      <td>CA</td>\n",
       "      <td>USA</td>\n",
       "      <td>76</td>\n",
       "      <td>215</td>\n",
       "      <td>1</td>\n",
       "      <td>Pitcher</td>\n",
       "      <td>0</td>\n",
       "      <td>...</td>\n",
       "      <td>NaN</td>\n",
       "      <td>NaN</td>\n",
       "      <td>NaN</td>\n",
       "      <td>NaN</td>\n",
       "      <td>NaN</td>\n",
       "      <td>NaN</td>\n",
       "      <td>NaN</td>\n",
       "      <td>NaN</td>\n",
       "      <td>NaN</td>\n",
       "      <td>NaN</td>\n",
       "    </tr>\n",
       "  </tbody>\n",
       "</table>\n",
       "<p>5 rows × 33 columns</p>\n",
       "</div>"
      ],
      "text/plain": [
       "  playerId dayofweek    birthCity birthStateProvince birthCountry  \\\n",
       "0   425794         2    Brunswick                 GA          USA   \n",
       "1   571704         2  Albuquerque                 NM          USA   \n",
       "2   506702         2    Maracaibo                NaN    Venezuela   \n",
       "3   607231         2     Savannah                 GA          USA   \n",
       "4   543193         2     Columbia                 CA          USA   \n",
       "\n",
       "   heightInches  weight primaryPositionCode primaryPositionName  \\\n",
       "0            79     230                   1             Pitcher   \n",
       "1            75     210                   1             Pitcher   \n",
       "2            70     235                   2             Catcher   \n",
       "3            76     200                   1             Pitcher   \n",
       "4            76     215                   1             Pitcher   \n",
       "\n",
       "   playerForTestSetAndFuturePreds  ... target3_mean_lag1month  \\\n",
       "0                               1  ...                    NaN   \n",
       "1                               0  ...                    NaN   \n",
       "2                               1  ...                    NaN   \n",
       "3                               1  ...                    NaN   \n",
       "4                               0  ...                    NaN   \n",
       "\n",
       "  target3_median_lag1month target3_std_lag1month  target3_min_lag1month  \\\n",
       "0                      NaN                   NaN                    NaN   \n",
       "1                      NaN                   NaN                    NaN   \n",
       "2                      NaN                   NaN                    NaN   \n",
       "3                      NaN                   NaN                    NaN   \n",
       "4                      NaN                   NaN                    NaN   \n",
       "\n",
       "   target3_max_lag1month  target4_mean_lag1month  target4_median_lag1month  \\\n",
       "0                    NaN                     NaN                       NaN   \n",
       "1                    NaN                     NaN                       NaN   \n",
       "2                    NaN                     NaN                       NaN   \n",
       "3                    NaN                     NaN                       NaN   \n",
       "4                    NaN                     NaN                       NaN   \n",
       "\n",
       "   target4_std_lag1month  target4_min_lag1month  target4_max_lag1month  \n",
       "0                    NaN                    NaN                    NaN  \n",
       "1                    NaN                    NaN                    NaN  \n",
       "2                    NaN                    NaN                    NaN  \n",
       "3                    NaN                    NaN                    NaN  \n",
       "4                    NaN                    NaN                    NaN  \n",
       "\n",
       "[5 rows x 33 columns]"
      ]
     },
     "execution_count": 42,
     "metadata": {},
     "output_type": "execute_result"
    }
   ],
   "source": [
    "# データを結合\n",
    "df_train = pd.merge(df_engagement, df_players, on=[\"playerId\"], how=\"left\")\n",
    "df_train = pd.merge(df_train, df_rosters, on=[\"date\", \"playerId\"], how=\"left\")\n",
    "df_train = pd.merge(df_train, df_agg_target, on=[\"playerId\", \"yearmonth\"], how=\"left\")\n",
    "\n",
    "# 説明変数と目的変数の作成\n",
    "x_train = df_train[[\n",
    "    \"playerId\", \"dayofweek\",\n",
    "    \"birthCity\", \"birthStateProvince\", \"birthCountry\", \"heightInches\", \"weight\", \n",
    "    \"primaryPositionCode\", \"primaryPositionName\", \"playerForTestSetAndFuturePreds\"\n",
    "] + col_rosters + col_agg_target]\n",
    "y_train = df_train[[\"target1\",\"target2\",\"target3\",\"target4\"]]\n",
    "id_train = df_train[[\"engagementMetricsDate\",\"playerId\",\"date_playerId\",\"date\",\"yearmonth\",\"playerForTestSetAndFuturePreds\"]]\n",
    "\n",
    "# カテゴリ変数をcategory型に変換\n",
    "for col in [\"playerId\", \"dayofweek\", \"birthCity\", \"birthStateProvince\", \"birthCountry\", \"primaryPositionCode\", \"primaryPositionName\"] + col_rosters:\n",
    "    x_train[col] = x_train[col].astype(\"category\")\n",
    "\n",
    "print(x_train.shape, y_train.shape, id_train.shape)\n",
    "x_train.head()"
   ]
  },
  {
   "cell_type": "markdown",
   "id": "fdf05fce",
   "metadata": {
    "papermill": {
     "duration": 0.214782,
     "end_time": "2022-05-01T08:59:08.802624",
     "exception": false,
     "start_time": "2022-05-01T08:59:08.587842",
     "status": "completed"
    },
    "tags": []
   },
   "source": [
    "## 8.4.3 モデル学習\n",
    "#### スクリプト8-43: モデル学習の実行"
   ]
  },
  {
   "cell_type": "code",
   "execution_count": 43,
   "id": "2c8538c1",
   "metadata": {
    "execution": {
     "iopub.execute_input": "2022-05-01T08:59:09.352188Z",
     "iopub.status.busy": "2022-05-01T08:59:09.351908Z",
     "iopub.status.idle": "2022-05-01T09:04:13.729397Z",
     "shell.execute_reply": "2022-05-01T09:04:13.728145Z"
    },
    "papermill": {
     "duration": 304.596256,
     "end_time": "2022-05-01T09:04:13.732377",
     "exception": false,
     "start_time": "2022-05-01T08:59:09.136121",
     "status": "completed"
    },
    "tags": []
   },
   "outputs": [
    {
     "name": "stdout",
     "output_type": "stream",
     "text": [
      "-------------------- target1 , fold: 0 --------------------\n",
      "(752265, 33) (752265,) (752265, 6)\n",
      "(36797, 33) (36797,) (36797, 6)\n",
      "training start.\n",
      "[LightGBM] [Warning] feature_fraction is set=0.8, colsample_bytree=1.0 will be ignored. Current value: feature_fraction=0.8\n",
      "[LightGBM] [Warning] min_sum_hessian_in_leaf is set=50, min_child_weight=0.001 will be ignored. Current value: min_sum_hessian_in_leaf=50\n",
      "[LightGBM] [Warning] min_data_in_leaf is set=50, min_child_samples=20 will be ignored. Current value: min_data_in_leaf=50\n",
      "[100]\ttraining's l1: 0.504554\tvalid_1's l1: 1.28795\n",
      "[200]\ttraining's l1: 0.504185\tvalid_1's l1: 1.28709\n",
      "-------------------- target2 , fold: 0 --------------------\n",
      "(752265, 33) (752265,) (752265, 6)\n",
      "(36797, 33) (36797,) (36797, 6)\n",
      "training start.\n",
      "[LightGBM] [Warning] feature_fraction is set=0.8, colsample_bytree=1.0 will be ignored. Current value: feature_fraction=0.8\n",
      "[LightGBM] [Warning] min_sum_hessian_in_leaf is set=50, min_child_weight=0.001 will be ignored. Current value: min_sum_hessian_in_leaf=50\n",
      "[LightGBM] [Warning] min_data_in_leaf is set=50, min_child_samples=20 will be ignored. Current value: min_data_in_leaf=50\n",
      "[100]\ttraining's l1: 1.57166\tvalid_1's l1: 2.19039\n",
      "-------------------- target3 , fold: 0 --------------------\n",
      "(752265, 33) (752265,) (752265, 6)\n",
      "(36797, 33) (36797,) (36797, 6)\n",
      "training start.\n",
      "[LightGBM] [Warning] feature_fraction is set=0.8, colsample_bytree=1.0 will be ignored. Current value: feature_fraction=0.8\n",
      "[LightGBM] [Warning] min_sum_hessian_in_leaf is set=50, min_child_weight=0.001 will be ignored. Current value: min_sum_hessian_in_leaf=50\n",
      "[LightGBM] [Warning] min_data_in_leaf is set=50, min_child_samples=20 will be ignored. Current value: min_data_in_leaf=50\n",
      "-------------------- target4 , fold: 0 --------------------\n",
      "(752265, 33) (752265,) (752265, 6)\n",
      "(36797, 33) (36797,) (36797, 6)\n",
      "training start.\n",
      "[LightGBM] [Warning] feature_fraction is set=0.8, colsample_bytree=1.0 will be ignored. Current value: feature_fraction=0.8\n",
      "[LightGBM] [Warning] min_sum_hessian_in_leaf is set=50, min_child_weight=0.001 will be ignored. Current value: min_sum_hessian_in_leaf=50\n",
      "[LightGBM] [Warning] min_data_in_leaf is set=50, min_child_samples=20 will be ignored. Current value: min_data_in_leaf=50\n",
      "[100]\ttraining's l1: 0.754202\tvalid_1's l1: 1.21511\n",
      "[200]\ttraining's l1: 0.733777\tvalid_1's l1: 1.20404\n",
      "-------------------- target1 , fold: 1 --------------------\n",
      "(752265, 33) (752265,) (752265, 6)\n",
      "(35610, 33) (35610,) (35610, 6)\n",
      "training start.\n",
      "[LightGBM] [Warning] feature_fraction is set=0.8, colsample_bytree=1.0 will be ignored. Current value: feature_fraction=0.8\n",
      "[LightGBM] [Warning] min_sum_hessian_in_leaf is set=50, min_child_weight=0.001 will be ignored. Current value: min_sum_hessian_in_leaf=50\n",
      "[LightGBM] [Warning] min_data_in_leaf is set=50, min_child_samples=20 will be ignored. Current value: min_data_in_leaf=50\n",
      "[100]\ttraining's l1: 0.536667\tvalid_1's l1: 1.18261\n",
      "[200]\ttraining's l1: 0.536381\tvalid_1's l1: 1.18211\n",
      "[300]\ttraining's l1: 0.536242\tvalid_1's l1: 1.18171\n",
      "-------------------- target2 , fold: 1 --------------------\n",
      "(752265, 33) (752265,) (752265, 6)\n",
      "(35610, 33) (35610,) (35610, 6)\n",
      "training start.\n",
      "[LightGBM] [Warning] feature_fraction is set=0.8, colsample_bytree=1.0 will be ignored. Current value: feature_fraction=0.8\n",
      "[LightGBM] [Warning] min_sum_hessian_in_leaf is set=50, min_child_weight=0.001 will be ignored. Current value: min_sum_hessian_in_leaf=50\n",
      "[LightGBM] [Warning] min_data_in_leaf is set=50, min_child_samples=20 will be ignored. Current value: min_data_in_leaf=50\n",
      "[100]\ttraining's l1: 1.54216\tvalid_1's l1: 1.89585\n",
      "-------------------- target3 , fold: 1 --------------------\n",
      "(752265, 33) (752265,) (752265, 6)\n",
      "(35610, 33) (35610,) (35610, 6)\n",
      "training start.\n",
      "[LightGBM] [Warning] feature_fraction is set=0.8, colsample_bytree=1.0 will be ignored. Current value: feature_fraction=0.8\n",
      "[LightGBM] [Warning] min_sum_hessian_in_leaf is set=50, min_child_weight=0.001 will be ignored. Current value: min_sum_hessian_in_leaf=50\n",
      "[LightGBM] [Warning] min_data_in_leaf is set=50, min_child_samples=20 will be ignored. Current value: min_data_in_leaf=50\n",
      "[100]\ttraining's l1: 0.552018\tvalid_1's l1: 0.825071\n",
      "[200]\ttraining's l1: 0.551603\tvalid_1's l1: 0.824814\n",
      "[300]\ttraining's l1: 0.551489\tvalid_1's l1: 0.824777\n",
      "-------------------- target4 , fold: 1 --------------------\n",
      "(752265, 33) (752265,) (752265, 6)\n",
      "(35610, 33) (35610,) (35610, 6)\n",
      "training start.\n",
      "[LightGBM] [Warning] feature_fraction is set=0.8, colsample_bytree=1.0 will be ignored. Current value: feature_fraction=0.8\n",
      "[LightGBM] [Warning] min_sum_hessian_in_leaf is set=50, min_child_weight=0.001 will be ignored. Current value: min_sum_hessian_in_leaf=50\n",
      "[LightGBM] [Warning] min_data_in_leaf is set=50, min_child_samples=20 will be ignored. Current value: min_data_in_leaf=50\n",
      "[100]\ttraining's l1: 0.79205\tvalid_1's l1: 1.5672\n",
      "[200]\ttraining's l1: 0.773477\tvalid_1's l1: 1.55617\n",
      "[300]\ttraining's l1: 0.765441\tvalid_1's l1: 1.55321\n",
      "[400]\ttraining's l1: 0.763466\tvalid_1's l1: 1.55258\n",
      "[500]\ttraining's l1: 0.763385\tvalid_1's l1: 1.55236\n",
      "[600]\ttraining's l1: 0.763159\tvalid_1's l1: 1.55218\n",
      "-------------------- target1 , fold: 2 --------------------\n",
      "(752265, 33) (752265,) (752265, 6)\n",
      "(36797, 33) (36797,) (36797, 6)\n",
      "training start.\n",
      "[LightGBM] [Warning] feature_fraction is set=0.8, colsample_bytree=1.0 will be ignored. Current value: feature_fraction=0.8\n",
      "[LightGBM] [Warning] min_sum_hessian_in_leaf is set=50, min_child_weight=0.001 will be ignored. Current value: min_sum_hessian_in_leaf=50\n",
      "[LightGBM] [Warning] min_data_in_leaf is set=50, min_child_samples=20 will be ignored. Current value: min_data_in_leaf=50\n",
      "[100]\ttraining's l1: 0.561554\tvalid_1's l1: 1.1003\n",
      "-------------------- target2 , fold: 2 --------------------\n",
      "(752265, 33) (752265,) (752265, 6)\n",
      "(36797, 33) (36797,) (36797, 6)\n",
      "training start.\n",
      "[LightGBM] [Warning] feature_fraction is set=0.8, colsample_bytree=1.0 will be ignored. Current value: feature_fraction=0.8\n",
      "[LightGBM] [Warning] min_sum_hessian_in_leaf is set=50, min_child_weight=0.001 will be ignored. Current value: min_sum_hessian_in_leaf=50\n",
      "[LightGBM] [Warning] min_data_in_leaf is set=50, min_child_samples=20 will be ignored. Current value: min_data_in_leaf=50\n",
      "[100]\ttraining's l1: 1.47343\tvalid_1's l1: 1.5941\n",
      "[200]\ttraining's l1: 1.43438\tvalid_1's l1: 1.59057\n",
      "[300]\ttraining's l1: 1.41015\tvalid_1's l1: 1.58455\n",
      "[400]\ttraining's l1: 1.39561\tvalid_1's l1: 1.57673\n",
      "-------------------- target3 , fold: 2 --------------------\n",
      "(752265, 33) (752265,) (752265, 6)\n",
      "(36797, 33) (36797,) (36797, 6)\n",
      "training start.\n",
      "[LightGBM] [Warning] feature_fraction is set=0.8, colsample_bytree=1.0 will be ignored. Current value: feature_fraction=0.8\n",
      "[LightGBM] [Warning] min_sum_hessian_in_leaf is set=50, min_child_weight=0.001 will be ignored. Current value: min_sum_hessian_in_leaf=50\n",
      "[LightGBM] [Warning] min_data_in_leaf is set=50, min_child_samples=20 will be ignored. Current value: min_data_in_leaf=50\n",
      "[100]\ttraining's l1: 0.556807\tvalid_1's l1: 0.753025\n",
      "[200]\ttraining's l1: 0.556192\tvalid_1's l1: 0.75253\n",
      "-------------------- target4 , fold: 2 --------------------\n",
      "(752265, 33) (752265,) (752265, 6)\n",
      "(36797, 33) (36797,) (36797, 6)\n",
      "training start.\n",
      "[LightGBM] [Warning] feature_fraction is set=0.8, colsample_bytree=1.0 will be ignored. Current value: feature_fraction=0.8\n",
      "[LightGBM] [Warning] min_sum_hessian_in_leaf is set=50, min_child_weight=0.001 will be ignored. Current value: min_sum_hessian_in_leaf=50\n",
      "[LightGBM] [Warning] min_data_in_leaf is set=50, min_child_samples=20 will be ignored. Current value: min_data_in_leaf=50\n",
      "---------- result ----------\n",
      "MCMAE: 1.2762\n"
     ]
    }
   ],
   "source": [
    "params = {\n",
    "    'boosting_type': 'gbdt',\n",
    "    'objective': 'regression_l1', \n",
    "    'metric': 'mean_absolute_error',\n",
    "    'learning_rate': 0.05,\n",
    "    'num_leaves': 32,\n",
    "    'subsample': 0.7,\n",
    "    'subsample_freq': 1,\n",
    "    'feature_fraction': 0.8,\n",
    "    'min_data_in_leaf': 50,\n",
    "    'min_sum_hessian_in_leaf': 50,\n",
    "    'n_estimators': 10000,\n",
    "    \"random_state\": 123,\n",
    "    \"importance_type\": \"gain\",\n",
    "}\n",
    "\n",
    "df_valid_pred, df_metrics, df_imp = train_lgb(x_train,\n",
    "                                              y_train,\n",
    "                                              id_train,\n",
    "                                              params,\n",
    "                                              list_nfold=[0,1,2],\n",
    "                                              mode_train=\"train\",\n",
    "                                             )"
   ]
  },
  {
   "cell_type": "markdown",
   "id": "7a64165d",
   "metadata": {
    "papermill": {
     "duration": 0.239354,
     "end_time": "2022-05-01T09:04:14.212499",
     "exception": false,
     "start_time": "2022-05-01T09:04:13.973145",
     "status": "completed"
    },
    "tags": []
   },
   "source": [
    "#### スクリプト8-44: 評価値の取得"
   ]
  },
  {
   "cell_type": "code",
   "execution_count": 44,
   "id": "509f7cbd",
   "metadata": {
    "execution": {
     "iopub.execute_input": "2022-05-01T09:04:14.723756Z",
     "iopub.status.busy": "2022-05-01T09:04:14.723208Z",
     "iopub.status.idle": "2022-05-01T09:04:14.766998Z",
     "shell.execute_reply": "2022-05-01T09:04:14.766233Z"
    },
    "papermill": {
     "duration": 0.316591,
     "end_time": "2022-05-01T09:04:14.769003",
     "exception": false,
     "start_time": "2022-05-01T09:04:14.452412",
     "status": "completed"
    },
    "tags": []
   },
   "outputs": [
    {
     "name": "stdout",
     "output_type": "stream",
     "text": [
      "MCMAE: 1.2762\n"
     ]
    },
    {
     "data": {
      "text/html": [
       "<div>\n",
       "<style scoped>\n",
       "    .dataframe tbody tr th:only-of-type {\n",
       "        vertical-align: middle;\n",
       "    }\n",
       "\n",
       "    .dataframe tbody tr th {\n",
       "        vertical-align: top;\n",
       "    }\n",
       "\n",
       "    .dataframe thead th {\n",
       "        text-align: right;\n",
       "    }\n",
       "</style>\n",
       "<table border=\"1\" class=\"dataframe\">\n",
       "  <thead>\n",
       "    <tr style=\"text-align: right;\">\n",
       "      <th>target</th>\n",
       "      <th>target1</th>\n",
       "      <th>target2</th>\n",
       "      <th>target3</th>\n",
       "      <th>target4</th>\n",
       "      <th>All</th>\n",
       "    </tr>\n",
       "    <tr>\n",
       "      <th>nfold</th>\n",
       "      <th></th>\n",
       "      <th></th>\n",
       "      <th></th>\n",
       "      <th></th>\n",
       "      <th></th>\n",
       "    </tr>\n",
       "  </thead>\n",
       "  <tbody>\n",
       "    <tr>\n",
       "      <th>0</th>\n",
       "      <td>1.2871</td>\n",
       "      <td>2.1877</td>\n",
       "      <td>0.8728</td>\n",
       "      <td>1.2038</td>\n",
       "      <td>1.3878</td>\n",
       "    </tr>\n",
       "    <tr>\n",
       "      <th>1</th>\n",
       "      <td>1.1817</td>\n",
       "      <td>1.8950</td>\n",
       "      <td>0.8248</td>\n",
       "      <td>1.5521</td>\n",
       "      <td>1.3634</td>\n",
       "    </tr>\n",
       "    <tr>\n",
       "      <th>2</th>\n",
       "      <td>1.1002</td>\n",
       "      <td>1.5747</td>\n",
       "      <td>0.7525</td>\n",
       "      <td>0.8820</td>\n",
       "      <td>1.0774</td>\n",
       "    </tr>\n",
       "    <tr>\n",
       "      <th>All</th>\n",
       "      <td>1.1897</td>\n",
       "      <td>1.8858</td>\n",
       "      <td>0.8167</td>\n",
       "      <td>1.2126</td>\n",
       "      <td>1.2762</td>\n",
       "    </tr>\n",
       "  </tbody>\n",
       "</table>\n",
       "</div>"
      ],
      "text/plain": [
       "target    target1    target2    target3    target4        All\n",
       "nfold                                                        \n",
       "0          1.2871     2.1877     0.8728     1.2038     1.3878\n",
       "1          1.1817     1.8950     0.8248     1.5521     1.3634\n",
       "2          1.1002     1.5747     0.7525     0.8820     1.0774\n",
       "All        1.1897     1.8858     0.8167     1.2126     1.2762"
      ]
     },
     "metadata": {},
     "output_type": "display_data"
    }
   ],
   "source": [
    "print(\"MCMAE: {:.4f}\".format(df_metrics[\"mae\"].mean()))\n",
    "display(pd.pivot_table(df_metrics, index=\"nfold\", columns=\"target\", values=\"mae\", aggfunc=np.mean, margins=True))"
   ]
  },
  {
   "cell_type": "markdown",
   "id": "d4aa949d",
   "metadata": {
    "papermill": {
     "duration": 0.240561,
     "end_time": "2022-05-01T09:04:15.250200",
     "exception": false,
     "start_time": "2022-05-01T09:04:15.009639",
     "status": "completed"
    },
    "tags": []
   },
   "source": [
    "#### スクリプト8-45: 説明変数の重要度の確認"
   ]
  },
  {
   "cell_type": "code",
   "execution_count": 45,
   "id": "1f2b66a2",
   "metadata": {
    "execution": {
     "iopub.execute_input": "2022-05-01T09:04:15.743739Z",
     "iopub.status.busy": "2022-05-01T09:04:15.743411Z",
     "iopub.status.idle": "2022-05-01T09:04:15.758439Z",
     "shell.execute_reply": "2022-05-01T09:04:15.757530Z"
    },
    "papermill": {
     "duration": 0.264545,
     "end_time": "2022-05-01T09:04:15.760875",
     "exception": false,
     "start_time": "2022-05-01T09:04:15.496330",
     "status": "completed"
    },
    "tags": []
   },
   "outputs": [
    {
     "data": {
      "text/html": [
       "<div>\n",
       "<style scoped>\n",
       "    .dataframe tbody tr th:only-of-type {\n",
       "        vertical-align: middle;\n",
       "    }\n",
       "\n",
       "    .dataframe tbody tr th {\n",
       "        vertical-align: top;\n",
       "    }\n",
       "\n",
       "    .dataframe thead th {\n",
       "        text-align: right;\n",
       "    }\n",
       "</style>\n",
       "<table border=\"1\" class=\"dataframe\">\n",
       "  <thead>\n",
       "    <tr style=\"text-align: right;\">\n",
       "      <th></th>\n",
       "      <th>mean</th>\n",
       "      <th>std</th>\n",
       "    </tr>\n",
       "    <tr>\n",
       "      <th>col</th>\n",
       "      <th></th>\n",
       "      <th></th>\n",
       "    </tr>\n",
       "  </thead>\n",
       "  <tbody>\n",
       "    <tr>\n",
       "      <th>target3_mean_lag1month</th>\n",
       "      <td>1688014.9521</td>\n",
       "      <td>3455273.6685</td>\n",
       "    </tr>\n",
       "    <tr>\n",
       "      <th>playerId</th>\n",
       "      <td>1400102.7888</td>\n",
       "      <td>856757.8037</td>\n",
       "    </tr>\n",
       "    <tr>\n",
       "      <th>target1_mean_lag1month</th>\n",
       "      <td>1065649.4352</td>\n",
       "      <td>1980489.1468</td>\n",
       "    </tr>\n",
       "    <tr>\n",
       "      <th>target1_median_lag1month</th>\n",
       "      <td>892846.6924</td>\n",
       "      <td>1333219.0329</td>\n",
       "    </tr>\n",
       "    <tr>\n",
       "      <th>target3_std_lag1month</th>\n",
       "      <td>431693.7797</td>\n",
       "      <td>949798.9040</td>\n",
       "    </tr>\n",
       "    <tr>\n",
       "      <th>target4_mean_lag1month</th>\n",
       "      <td>391389.7266</td>\n",
       "      <td>832807.9512</td>\n",
       "    </tr>\n",
       "    <tr>\n",
       "      <th>target2_std_lag1month</th>\n",
       "      <td>376575.3955</td>\n",
       "      <td>661457.0040</td>\n",
       "    </tr>\n",
       "    <tr>\n",
       "      <th>target2_mean_lag1month</th>\n",
       "      <td>321696.2312</td>\n",
       "      <td>533681.4111</td>\n",
       "    </tr>\n",
       "    <tr>\n",
       "      <th>birthCity</th>\n",
       "      <td>299509.1416</td>\n",
       "      <td>188395.7614</td>\n",
       "    </tr>\n",
       "    <tr>\n",
       "      <th>target4_median_lag1month</th>\n",
       "      <td>292456.7648</td>\n",
       "      <td>622413.6875</td>\n",
       "    </tr>\n",
       "  </tbody>\n",
       "</table>\n",
       "</div>"
      ],
      "text/plain": [
       "                                 mean          std\n",
       "col                                               \n",
       "target3_mean_lag1month   1688014.9521 3455273.6685\n",
       "playerId                 1400102.7888  856757.8037\n",
       "target1_mean_lag1month   1065649.4352 1980489.1468\n",
       "target1_median_lag1month  892846.6924 1333219.0329\n",
       "target3_std_lag1month     431693.7797  949798.9040\n",
       "target4_mean_lag1month    391389.7266  832807.9512\n",
       "target2_std_lag1month     376575.3955  661457.0040\n",
       "target2_mean_lag1month    321696.2312  533681.4111\n",
       "birthCity                 299509.1416  188395.7614\n",
       "target4_median_lag1month  292456.7648  622413.6875"
      ]
     },
     "execution_count": 45,
     "metadata": {},
     "output_type": "execute_result"
    }
   ],
   "source": [
    "df_imp.groupby([\"col\"])[\"imp\"].agg([\"mean\", \"std\"]).sort_values(\"mean\", ascending=False)[:10]"
   ]
  },
  {
   "cell_type": "markdown",
   "id": "b7798315",
   "metadata": {
    "papermill": {
     "duration": 0.24339,
     "end_time": "2022-05-01T09:04:16.253502",
     "exception": false,
     "start_time": "2022-05-01T09:04:16.010112",
     "status": "completed"
    },
    "tags": []
   },
   "source": [
    "## 8.4.4 モデル推論\n",
    "#### スクリプト8-46: 推論用データセット作成の関数"
   ]
  },
  {
   "cell_type": "code",
   "execution_count": 46,
   "id": "e073294e",
   "metadata": {
    "execution": {
     "iopub.execute_input": "2022-05-01T09:04:16.744260Z",
     "iopub.status.busy": "2022-05-01T09:04:16.743932Z",
     "iopub.status.idle": "2022-05-01T09:04:16.759025Z",
     "shell.execute_reply": "2022-05-01T09:04:16.758102Z"
    },
    "papermill": {
     "duration": 0.261854,
     "end_time": "2022-05-01T09:04:16.761346",
     "exception": false,
     "start_time": "2022-05-01T09:04:16.499492",
     "status": "completed"
    },
    "tags": []
   },
   "outputs": [],
   "source": [
    "def makedataset_for_predict(input_x, input_prediction):\n",
    "    test = input_x.copy()\n",
    "    prediction = input_prediction.copy()\n",
    "    \n",
    "    # 日付型に変換\n",
    "    prediction[\"date\"] = pd.to_datetime(prediction[\"date\"], format=\"%Y%m%d\") \n",
    "    # engagementMetricsDateとplayerIdを取り出す\n",
    "    prediction[\"engagementMetricsDate\"] = prediction[\"date_playerId\"].apply(lambda x: x[:8])\n",
    "    prediction[\"engagementMetricsDate\"] = pd.to_datetime(prediction[\"engagementMetricsDate\"], format=\"%Y%m%d\") \n",
    "    prediction[\"playerId\"] = prediction[\"date_playerId\"].apply(lambda x: int(x[9:]))\n",
    "    \n",
    "    # dateから特徴量を作成\n",
    "    prediction[\"dayofweek\"] = prediction[\"date\"].dt.dayofweek\n",
    "    prediction[\"yearmonth\"] = prediction[\"date\"].astype(str).apply(lambda x: x[:7])\n",
    "    \n",
    "    # dateカラムの作成・加工\n",
    "    df_rosters = extract_data(test, col=\"rosters\")\n",
    "    df_rosters = df_rosters.rename(columns={\"gameDate\":\"date\"})\n",
    "    df_rosters[\"date\"] = pd.to_datetime(df_rosters[\"date\"], format=\"%Y-%m-%d\")\n",
    "    \n",
    "    # テーブルの結合\n",
    "    df_test = pd.merge(prediction, df_players, on=[\"playerId\"], how=\"left\")\n",
    "    df_test = pd.merge(df_test, df_rosters, on=[\"date\", \"playerId\"], how=\"left\")\n",
    "    df_test = pd.merge(df_test, df_agg_target, on=[\"playerId\", \"yearmonth\"], how=\"left\")\n",
    "    \n",
    "    # 説明変数の作成\n",
    "    x_test = df_test[[\n",
    "        \"playerId\", \"dayofweek\",\n",
    "        \"birthCity\", \"birthStateProvince\", \"birthCountry\", \"heightInches\", \"weight\", \n",
    "        \"primaryPositionCode\", \"primaryPositionName\", \"playerForTestSetAndFuturePreds\"\n",
    "    ] + col_rosters + col_agg_target]\n",
    "    id_test = df_test[[\"engagementMetricsDate\",\"playerId\",\"date_playerId\",\"date\",\"yearmonth\",\"playerForTestSetAndFuturePreds\"]]\n",
    "\n",
    "    # カテゴリ変数をcategory型に変換\n",
    "    for col in [\"playerId\", \"dayofweek\", \"birthCity\", \"birthStateProvince\", \"birthCountry\", \"primaryPositionCode\", \"primaryPositionName\"] + col_rosters:\n",
    "        x_test[col] = x_test [col].astype(\"category\")\n",
    "\n",
    "    return x_test, id_test"
   ]
  },
  {
   "cell_type": "markdown",
   "id": "0f2d7eb3",
   "metadata": {
    "papermill": {
     "duration": 0.244129,
     "end_time": "2022-05-01T09:04:17.253251",
     "exception": false,
     "start_time": "2022-05-01T09:04:17.009122",
     "status": "completed"
    },
    "tags": []
   },
   "source": [
    "#### スクリプト8-47: 推論処理の実行（ベースラインと同一）\n",
    "- **mlbライブラリは一度しか実行できません。再度実行したい場合はカーネルを再起動する必要があります。**\n",
    "- 本notebookではmlbライブラリを3ヶ所で実行しています。**実行したいセル以外はコメントアウトしてから実行してください。**\n",
    "    - スクリプト8-37 :  8.3 ベースライン作成\n",
    "    - スクリプト8-47 :  8.4 特徴量エンジニアリング\n",
    "    - スクリプト8-62 :  8.5 モデルチューニング"
   ]
  },
  {
   "cell_type": "code",
   "execution_count": 47,
   "id": "1402d54c",
   "metadata": {
    "execution": {
     "iopub.execute_input": "2022-05-01T09:04:17.737846Z",
     "iopub.status.busy": "2022-05-01T09:04:17.737565Z",
     "iopub.status.idle": "2022-05-01T09:04:17.741756Z",
     "shell.execute_reply": "2022-05-01T09:04:17.741029Z"
    },
    "papermill": {
     "duration": 0.249907,
     "end_time": "2022-05-01T09:04:17.743778",
     "exception": false,
     "start_time": "2022-05-01T09:04:17.493871",
     "status": "completed"
    },
    "tags": []
   },
   "outputs": [],
   "source": [
    "# import mlb\n",
    "\n",
    "# env = mlb.make_env()\n",
    "# iter_test = env.iter_test()\n",
    "\n",
    "# for (test_df, sample_prediction_df) in iter_test:\n",
    "#     test = test_df.copy()\n",
    "#     prediction = sample_prediction_df.copy()\n",
    "#     prediction = prediction.reset_index(drop=False)\n",
    "    \n",
    "#     print(\"date:\", prediction[\"date\"][0])\n",
    "    \n",
    "#     # データセット作成\n",
    "#     x_test, id_test = makedataset_for_predict(test, prediction)\n",
    "    \n",
    "#     # 推論処理\n",
    "#     df_test_pred = predict_lgb(x_test, id_test)\n",
    "    \n",
    "#     # 提出データの作成\n",
    "#     df_submit = df_test_pred[[\"date_playerId\", \"target1\",\"target2\",\"target3\",\"target4\"]]\n",
    "    \n",
    "#     # 後処理：欠損値埋め，0-100の範囲外のデータをクリッピング\n",
    "#     for i,col in enumerate([\"target1\",\"target2\",\"target3\",\"target4\"]):\n",
    "#         df_submit[col] = df_submit[col].fillna(0.)\n",
    "#         df_submit[col] = df_submit[col].clip(0, 100)\n",
    "    \n",
    "#     # 予測値データの提出\n",
    "#     env.predict(df_submit)\n",
    "# print(\"Done.\")"
   ]
  },
  {
   "cell_type": "markdown",
   "id": "9899992b",
   "metadata": {
    "papermill": {
     "duration": 0.240616,
     "end_time": "2022-05-01T09:04:18.226727",
     "exception": false,
     "start_time": "2022-05-01T09:04:17.986111",
     "status": "completed"
    },
    "tags": []
   },
   "source": [
    "# 8.5 モデルチューニング\n",
    "#### スクリプト8-48: 目的変数間の相関係数の算出"
   ]
  },
  {
   "cell_type": "code",
   "execution_count": 48,
   "id": "da0b80a2",
   "metadata": {
    "execution": {
     "iopub.execute_input": "2022-05-01T09:04:18.714198Z",
     "iopub.status.busy": "2022-05-01T09:04:18.713872Z",
     "iopub.status.idle": "2022-05-01T09:04:18.805778Z",
     "shell.execute_reply": "2022-05-01T09:04:18.804844Z"
    },
    "papermill": {
     "duration": 0.341192,
     "end_time": "2022-05-01T09:04:18.808237",
     "exception": false,
     "start_time": "2022-05-01T09:04:18.467045",
     "status": "completed"
    },
    "tags": []
   },
   "outputs": [
    {
     "data": {
      "text/html": [
       "<div>\n",
       "<style scoped>\n",
       "    .dataframe tbody tr th:only-of-type {\n",
       "        vertical-align: middle;\n",
       "    }\n",
       "\n",
       "    .dataframe tbody tr th {\n",
       "        vertical-align: top;\n",
       "    }\n",
       "\n",
       "    .dataframe thead th {\n",
       "        text-align: right;\n",
       "    }\n",
       "</style>\n",
       "<table border=\"1\" class=\"dataframe\">\n",
       "  <thead>\n",
       "    <tr style=\"text-align: right;\">\n",
       "      <th></th>\n",
       "      <th>target1</th>\n",
       "      <th>target2</th>\n",
       "      <th>target3</th>\n",
       "      <th>target4</th>\n",
       "    </tr>\n",
       "  </thead>\n",
       "  <tbody>\n",
       "    <tr>\n",
       "      <th>target1</th>\n",
       "      <td>1.0000</td>\n",
       "      <td>0.3529</td>\n",
       "      <td>0.3833</td>\n",
       "      <td>0.3252</td>\n",
       "    </tr>\n",
       "    <tr>\n",
       "      <th>target2</th>\n",
       "      <td>0.3529</td>\n",
       "      <td>1.0000</td>\n",
       "      <td>0.3660</td>\n",
       "      <td>0.4988</td>\n",
       "    </tr>\n",
       "    <tr>\n",
       "      <th>target3</th>\n",
       "      <td>0.3833</td>\n",
       "      <td>0.3660</td>\n",
       "      <td>1.0000</td>\n",
       "      <td>0.3229</td>\n",
       "    </tr>\n",
       "    <tr>\n",
       "      <th>target4</th>\n",
       "      <td>0.3252</td>\n",
       "      <td>0.4988</td>\n",
       "      <td>0.3229</td>\n",
       "      <td>1.0000</td>\n",
       "    </tr>\n",
       "  </tbody>\n",
       "</table>\n",
       "</div>"
      ],
      "text/plain": [
       "           target1    target2    target3    target4\n",
       "target1     1.0000     0.3529     0.3833     0.3252\n",
       "target2     0.3529     1.0000     0.3660     0.4988\n",
       "target3     0.3833     0.3660     1.0000     0.3229\n",
       "target4     0.3252     0.4988     0.3229     1.0000"
      ]
     },
     "execution_count": 48,
     "metadata": {},
     "output_type": "execute_result"
    }
   ],
   "source": [
    "df_engagement[[\"target1\", \"target2\", \"target3\", \"target4\"]].corr()"
   ]
  },
  {
   "cell_type": "markdown",
   "id": "d18be666",
   "metadata": {
    "papermill": {
     "duration": 0.240965,
     "end_time": "2022-05-01T09:04:19.292295",
     "exception": false,
     "start_time": "2022-05-01T09:04:19.051330",
     "status": "completed"
    },
    "tags": []
   },
   "source": [
    "#### スクリプト8-49: ライブラリのインポート"
   ]
  },
  {
   "cell_type": "code",
   "execution_count": 49,
   "id": "ce13a7ac",
   "metadata": {
    "execution": {
     "iopub.execute_input": "2022-05-01T09:04:19.791250Z",
     "iopub.status.busy": "2022-05-01T09:04:19.790677Z",
     "iopub.status.idle": "2022-05-01T09:04:26.325015Z",
     "shell.execute_reply": "2022-05-01T09:04:26.323715Z"
    },
    "papermill": {
     "duration": 6.790544,
     "end_time": "2022-05-01T09:04:26.327664",
     "exception": false,
     "start_time": "2022-05-01T09:04:19.537120",
     "status": "completed"
    },
    "tags": []
   },
   "outputs": [],
   "source": [
    "from sklearn.preprocessing import LabelEncoder\n",
    "\n",
    "# import tensorflow\n",
    "import tensorflow as tf\n",
    "from tensorflow.keras.models import Sequential, Model\n",
    "from tensorflow.keras.layers import Input, Dense, Dropout, BatchNormalization, Activation, Concatenate\n",
    "from tensorflow.keras.callbacks import EarlyStopping, ModelCheckpoint, ReduceLROnPlateau, LearningRateScheduler\n",
    "from tensorflow.keras.optimizers import Adam, SGD\n",
    "from tensorflow.keras.layers import Embedding, Flatten"
   ]
  },
  {
   "cell_type": "markdown",
   "id": "73149382",
   "metadata": {
    "papermill": {
     "duration": 0.243299,
     "end_time": "2022-05-01T09:04:26.818199",
     "exception": false,
     "start_time": "2022-05-01T09:04:26.574900",
     "status": "completed"
    },
    "tags": []
   },
   "source": [
    "#### スクリプト: 再現性のためのシート指定 (スクリプト6-15の再掲)"
   ]
  },
  {
   "cell_type": "code",
   "execution_count": 50,
   "id": "ae2c6917",
   "metadata": {
    "execution": {
     "iopub.execute_input": "2022-05-01T09:04:27.368014Z",
     "iopub.status.busy": "2022-05-01T09:04:27.367094Z",
     "iopub.status.idle": "2022-05-01T09:04:27.373977Z",
     "shell.execute_reply": "2022-05-01T09:04:27.373233Z"
    },
    "papermill": {
     "duration": 0.310467,
     "end_time": "2022-05-01T09:04:27.376052",
     "exception": false,
     "start_time": "2022-05-01T09:04:27.065585",
     "status": "completed"
    },
    "tags": []
   },
   "outputs": [],
   "source": [
    "def seed_everything(seed):\n",
    "    import random\n",
    "    random.seed(seed)\n",
    "    os.environ['PYTHONHASHSEED'] = str(seed)\n",
    "    np.random.seed(seed)\n",
    "    tf.random.set_seed(seed)\n",
    "    session_conf = tf.compat.v1.ConfigProto(\n",
    "        intra_op_parallelism_threads=1,\n",
    "        inter_op_parallelism_threads=1\n",
    "    )\n",
    "    sess = tf.compat.v1.Session(graph=tf.compat.v1.get_default_graph(), config=session_conf)\n",
    "    tf.compat.v1.keras.backend.set_session(sess)"
   ]
  },
  {
   "cell_type": "markdown",
   "id": "ccb0761c",
   "metadata": {
    "papermill": {
     "duration": 0.240425,
     "end_time": "2022-05-01T09:04:27.862502",
     "exception": false,
     "start_time": "2022-05-01T09:04:27.622077",
     "status": "completed"
    },
    "tags": []
   },
   "source": [
    "## 8.5.1 データセット作成\n",
    "#### スクリプト8-50: 学習用データセットの作成"
   ]
  },
  {
   "cell_type": "code",
   "execution_count": 51,
   "id": "6a16f06c",
   "metadata": {
    "execution": {
     "iopub.execute_input": "2022-05-01T09:04:28.348782Z",
     "iopub.status.busy": "2022-05-01T09:04:28.348275Z",
     "iopub.status.idle": "2022-05-01T09:04:28.715746Z",
     "shell.execute_reply": "2022-05-01T09:04:28.714640Z"
    },
    "papermill": {
     "duration": 0.614383,
     "end_time": "2022-05-01T09:04:28.718078",
     "exception": false,
     "start_time": "2022-05-01T09:04:28.103695",
     "status": "completed"
    },
    "tags": []
   },
   "outputs": [
    {
     "name": "stdout",
     "output_type": "stream",
     "text": [
      "(1003707, 33) (1003707, 4) (1003707, 6)\n"
     ]
    }
   ],
   "source": [
    "x_train = df_train[[\n",
    "    \"playerId\", \"dayofweek\",\n",
    "    \"birthCity\", \"birthStateProvince\", \"birthCountry\", \"heightInches\", \"weight\", \n",
    "    \"primaryPositionCode\", \"primaryPositionName\", \"playerForTestSetAndFuturePreds\"\n",
    "] + col_rosters + col_agg_target]\n",
    "y_train = df_train[[\"target1\",\"target2\",\"target3\",\"target4\"]]\n",
    "id_train = df_train[[\"engagementMetricsDate\",\"playerId\",\"date_playerId\",\"date\",\"yearmonth\",\"playerForTestSetAndFuturePreds\"]]\n",
    "\n",
    "print(x_train.shape, y_train.shape, id_train.shape)"
   ]
  },
  {
   "cell_type": "markdown",
   "id": "95b9f2bc",
   "metadata": {
    "papermill": {
     "duration": 0.241815,
     "end_time": "2022-05-01T09:04:29.202955",
     "exception": false,
     "start_time": "2022-05-01T09:04:28.961140",
     "status": "completed"
    },
    "tags": []
   },
   "source": [
    "#### スクリプト8-51: 数値とカテゴリ変数のカラムリストを作成"
   ]
  },
  {
   "cell_type": "code",
   "execution_count": 52,
   "id": "b706f182",
   "metadata": {
    "execution": {
     "iopub.execute_input": "2022-05-01T09:04:29.694058Z",
     "iopub.status.busy": "2022-05-01T09:04:29.693739Z",
     "iopub.status.idle": "2022-05-01T09:04:29.699686Z",
     "shell.execute_reply": "2022-05-01T09:04:29.698604Z"
    },
    "papermill": {
     "duration": 0.255076,
     "end_time": "2022-05-01T09:04:29.701688",
     "exception": false,
     "start_time": "2022-05-01T09:04:29.446612",
     "status": "completed"
    },
    "tags": []
   },
   "outputs": [
    {
     "name": "stdout",
     "output_type": "stream",
     "text": [
      "23 10\n"
     ]
    }
   ],
   "source": [
    "col_num = [\"heightInches\", \"weight\",\"playerForTestSetAndFuturePreds\"] + col_agg_target\n",
    "col_cat = [\"playerId\", \"dayofweek\", \"birthCity\", \"birthStateProvince\", \"birthCountry\", \"primaryPositionCode\", \"primaryPositionName\"] + col_rosters\n",
    "print(len(col_num), len(col_cat))"
   ]
  },
  {
   "cell_type": "markdown",
   "id": "5e65ff89",
   "metadata": {
    "papermill": {
     "duration": 0.240872,
     "end_time": "2022-05-01T09:04:30.186409",
     "exception": false,
     "start_time": "2022-05-01T09:04:29.945537",
     "status": "completed"
    },
    "tags": []
   },
   "source": [
    "#### スクリプト8-52: 数値データの欠損値補間・数値化"
   ]
  },
  {
   "cell_type": "code",
   "execution_count": 53,
   "id": "72994afa",
   "metadata": {
    "execution": {
     "iopub.execute_input": "2022-05-01T09:04:30.671500Z",
     "iopub.status.busy": "2022-05-01T09:04:30.670485Z",
     "iopub.status.idle": "2022-05-01T09:04:31.276826Z",
     "shell.execute_reply": "2022-05-01T09:04:31.275821Z"
    },
    "papermill": {
     "duration": 0.851341,
     "end_time": "2022-05-01T09:04:31.279114",
     "exception": false,
     "start_time": "2022-05-01T09:04:30.427773",
     "status": "completed"
    },
    "tags": []
   },
   "outputs": [
    {
     "name": "stdout",
     "output_type": "stream",
     "text": [
      "heightInches\n",
      "weight\n",
      "playerForTestSetAndFuturePreds\n",
      "target1_mean_lag1month\n",
      "target1_median_lag1month\n",
      "target1_std_lag1month\n",
      "target1_min_lag1month\n",
      "target1_max_lag1month\n",
      "target2_mean_lag1month\n",
      "target2_median_lag1month\n",
      "target2_std_lag1month\n",
      "target2_min_lag1month\n",
      "target2_max_lag1month\n",
      "target3_mean_lag1month\n",
      "target3_median_lag1month\n",
      "target3_std_lag1month\n",
      "target3_min_lag1month\n",
      "target3_max_lag1month\n",
      "target4_mean_lag1month\n",
      "target4_median_lag1month\n",
      "target4_std_lag1month\n",
      "target4_min_lag1month\n",
      "target4_max_lag1month\n",
      "Done.\n"
     ]
    }
   ],
   "source": [
    "dict_num = {}\n",
    "for col in col_num:\n",
    "    print(col)\n",
    "#     # 欠損値補間：平均値で埋める\n",
    "#     value_fillna = x_train[col].mean()\n",
    "    # 欠損値補間：0で埋める\n",
    "    value_fillna = 0\n",
    "    x_train[col] = x_train[col].fillna(value_fillna)\n",
    "    \n",
    "    # 正規化（0～1になるように変換）\n",
    "    value_min = x_train[col].min()\n",
    "    value_max = x_train[col].max()\n",
    "    x_train[col] = (x_train[col] - value_min) / (value_max - value_min)\n",
    "    \n",
    "    # testデータにも適用できるように保存\n",
    "    dict_num[col] = {}\n",
    "    dict_num[col][\"fillna\"] = value_fillna\n",
    "    dict_num[col][\"min\"] = value_min\n",
    "    dict_num[col][\"max\"] = value_max\n",
    "    \n",
    "print(\"Done.\")"
   ]
  },
  {
   "cell_type": "markdown",
   "id": "d9fb48de",
   "metadata": {
    "papermill": {
     "duration": 0.251529,
     "end_time": "2022-05-01T09:04:31.780084",
     "exception": false,
     "start_time": "2022-05-01T09:04:31.528555",
     "status": "completed"
    },
    "tags": []
   },
   "source": [
    "#### スクリプト8-53: カテゴリ変数の欠損値補間・数値化"
   ]
  },
  {
   "cell_type": "code",
   "execution_count": 54,
   "id": "8c447c18",
   "metadata": {
    "execution": {
     "iopub.execute_input": "2022-05-01T09:04:32.322319Z",
     "iopub.status.busy": "2022-05-01T09:04:32.322012Z",
     "iopub.status.idle": "2022-05-01T09:04:38.489257Z",
     "shell.execute_reply": "2022-05-01T09:04:38.488144Z"
    },
    "papermill": {
     "duration": 6.461865,
     "end_time": "2022-05-01T09:04:38.492256",
     "exception": false,
     "start_time": "2022-05-01T09:04:32.030391",
     "status": "completed"
    },
    "tags": []
   },
   "outputs": [
    {
     "name": "stdout",
     "output_type": "stream",
     "text": [
      "playerId\n",
      "dayofweek\n",
      "birthCity\n",
      "birthStateProvince\n",
      "birthCountry\n",
      "primaryPositionCode\n",
      "primaryPositionName\n",
      "teamId\n",
      "statusCode\n",
      "status\n",
      "Done.\n"
     ]
    }
   ],
   "source": [
    "dict_cat = {}\n",
    "for col in col_cat:\n",
    "    print(col)\n",
    "    # 欠損値補間：unknownで埋める\n",
    "    value_fillna = \"unknown\"\n",
    "    x_train[col] = x_train[col].fillna(value_fillna)\n",
    "    \n",
    "    # str型に変換\n",
    "    x_train[col] = x_train[col].astype(str)\n",
    "    \n",
    "    # ラベルエンコーダー：0からはじまる整数に変換\n",
    "    le = LabelEncoder()\n",
    "    le.fit(x_train[col])\n",
    "    # 推論時に未知の値があっても対応できるように未知ラベル(unknown)を用意。\n",
    "    list_label = sorted(list(set(le.classes_) | set([\"unknown\"])))\n",
    "    map_label = {j:i for i,j in enumerate(list_label)}\n",
    "    x_train[col] = x_train[col].map(map_label)\n",
    "    \n",
    "    # testデータにも適用できるように保存\n",
    "    dict_cat[col] = {}\n",
    "    dict_cat[col][\"fillna\"] = value_fillna\n",
    "    dict_cat[col][\"map_label\"] = map_label\n",
    "    dict_cat[col][\"num_label\"] = len(list_label)\n",
    "    \n",
    "print(\"Done.\")"
   ]
  },
  {
   "cell_type": "markdown",
   "id": "5c60c82a",
   "metadata": {
    "papermill": {
     "duration": 0.2652,
     "end_time": "2022-05-01T09:04:39.014584",
     "exception": false,
     "start_time": "2022-05-01T09:04:38.749384",
     "status": "completed"
    },
    "tags": []
   },
   "source": [
    "#### スクリプト8-54: 欠損値補間・正規化の関数化（推論用）"
   ]
  },
  {
   "cell_type": "code",
   "execution_count": 55,
   "id": "e712d6cf",
   "metadata": {
    "execution": {
     "iopub.execute_input": "2022-05-01T09:04:39.515659Z",
     "iopub.status.busy": "2022-05-01T09:04:39.515304Z",
     "iopub.status.idle": "2022-05-01T09:04:39.524953Z",
     "shell.execute_reply": "2022-05-01T09:04:39.523869Z"
    },
    "papermill": {
     "duration": 0.261535,
     "end_time": "2022-05-01T09:04:39.527123",
     "exception": false,
     "start_time": "2022-05-01T09:04:39.265588",
     "status": "completed"
    },
    "tags": []
   },
   "outputs": [],
   "source": [
    "def transform_data(input_x):\n",
    "    output_x = input_x.copy()\n",
    "    \n",
    "    # 数値データの欠損値補間・正規化\n",
    "    for col in col_num:\n",
    "        # 欠損値補間：平均値で埋める\n",
    "        value_fillna = dict_num[col][\"fillna\"]\n",
    "        output_x[col] = output_x[col].fillna(value_fillna)\n",
    "        \n",
    "        # 正規化（0～1になるように変換）\n",
    "        value_min = dict_num[col][\"min\"]\n",
    "        value_max = dict_num[col][\"max\"]\n",
    "        output_x[col] = (output_x[col] - value_min) / (value_max - value_min)\n",
    "    \n",
    "    # カテゴリ変数の欠損値補間・正規化\n",
    "    for col in col_cat:\n",
    "        # 欠損値補間：unknownで埋める\n",
    "        value_fillna = dict_cat[col][\"fillna\"]\n",
    "        output_x[col] = output_x[col].fillna(value_fillna)\n",
    "        \n",
    "        # str型に変換\n",
    "        output_x[col] = output_x[col].astype(str)\n",
    "        \n",
    "        # ラベルエンコーダー：0からはじまる整数に変換\n",
    "        map_label = dict_cat[col][\"map_label\"]\n",
    "        output_x[col] = output_x[col].map(map_label)\n",
    "        # 対応するものが無い場合はunknownのラベルで埋める\n",
    "        output_x[col] = output_x[col].fillna(map_label[\"unknown\"])\n",
    "\n",
    "    return output_x"
   ]
  },
  {
   "cell_type": "markdown",
   "id": "aeae6d45",
   "metadata": {
    "papermill": {
     "duration": 0.250143,
     "end_time": "2022-05-01T09:04:40.024496",
     "exception": false,
     "start_time": "2022-05-01T09:04:39.774353",
     "status": "completed"
    },
    "tags": []
   },
   "source": [
    "## 8.5.2 モデル学習\n",
    "#### スクリプト8-55: ニューラルネットワークのモデル定義"
   ]
  },
  {
   "cell_type": "code",
   "execution_count": 56,
   "id": "08dcf301",
   "metadata": {
    "execution": {
     "iopub.execute_input": "2022-05-01T09:04:40.529849Z",
     "iopub.status.busy": "2022-05-01T09:04:40.529538Z",
     "iopub.status.idle": "2022-05-01T09:04:40.542364Z",
     "shell.execute_reply": "2022-05-01T09:04:40.541330Z"
    },
    "papermill": {
     "duration": 0.264145,
     "end_time": "2022-05-01T09:04:40.544799",
     "exception": false,
     "start_time": "2022-05-01T09:04:40.280654",
     "status": "completed"
    },
    "tags": []
   },
   "outputs": [],
   "source": [
    "def create_model(col_num=[\"heightInches\", \"weight\"],\n",
    "                 col_cat=[\"playerId\", \"teamId\", \"dayofweek\"], \n",
    "                 show=False,\n",
    "                ):\n",
    "    input_num = Input(shape=(len(col_num),))\n",
    "    input_cat = Input(shape=(len(col_cat),))\n",
    "    \n",
    "    # numeric\n",
    "    x_num = input_num #Dense(30, activation=\"relu\")(input_num)\n",
    "    \n",
    "    # category\n",
    "    for i,col in enumerate(col_cat):\n",
    "        tmp_cat = input_cat[:, i]\n",
    "        input_dim = dict_cat[col][\"num_label\"]\n",
    "        output_dim = int(input_dim/2)\n",
    "        tmp_cat = Embedding(input_dim=input_dim, output_dim=output_dim)(tmp_cat)\n",
    "        tmp_cat = Dropout(0.2)(tmp_cat)\n",
    "        tmp_cat = Flatten()(tmp_cat)\n",
    "        if i==0:\n",
    "            x_cat = tmp_cat\n",
    "        else:\n",
    "            x_cat = Concatenate()([x_cat, tmp_cat])\n",
    "\n",
    "    # concat\n",
    "    x = Concatenate()([x_num, x_cat])\n",
    "    \n",
    "    x = Dense(128, activation=\"relu\")(x)\n",
    "    x = BatchNormalization()(x)\n",
    "    x = Dropout(0.1)(x)\n",
    "    output = Dense(4, activation=\"linear\")(x)\n",
    "    \n",
    "    model = Model(inputs=[input_num, input_cat], outputs=output)\n",
    "    model.compile(optimizer=\"Adam\", loss=\"mae\", metrics=[\"mae\"])\n",
    "    \n",
    "    if show:\n",
    "        print(model.summary())\n",
    "    else:\n",
    "        return model"
   ]
  },
  {
   "cell_type": "markdown",
   "id": "1b5ea1d4",
   "metadata": {
    "papermill": {
     "duration": 0.248158,
     "end_time": "2022-05-01T09:04:41.043375",
     "exception": false,
     "start_time": "2022-05-01T09:04:40.795217",
     "status": "completed"
    },
    "tags": []
   },
   "source": [
    "#### スクリプト8-56: モデル構造の確認"
   ]
  },
  {
   "cell_type": "code",
   "execution_count": 57,
   "id": "ad08211a",
   "metadata": {
    "execution": {
     "iopub.execute_input": "2022-05-01T09:04:41.541636Z",
     "iopub.status.busy": "2022-05-01T09:04:41.541292Z",
     "iopub.status.idle": "2022-05-01T09:04:41.962580Z",
     "shell.execute_reply": "2022-05-01T09:04:41.961435Z"
    },
    "papermill": {
     "duration": 0.675954,
     "end_time": "2022-05-01T09:04:41.966236",
     "exception": false,
     "start_time": "2022-05-01T09:04:41.290282",
     "status": "completed"
    },
    "tags": []
   },
   "outputs": [
    {
     "name": "stderr",
     "output_type": "stream",
     "text": [
      "2022-05-01 09:04:41.594450: I tensorflow/core/common_runtime/process_util.cc:146] Creating new thread pool with default inter op setting: 2. Tune using inter_op_parallelism_threads for best performance.\n"
     ]
    },
    {
     "name": "stdout",
     "output_type": "stream",
     "text": [
      "Model: \"model\"\n",
      "__________________________________________________________________________________________________\n",
      "Layer (type)                    Output Shape         Param #     Connected to                     \n",
      "==================================================================================================\n",
      "input_2 (InputLayer)            [(None, 10)]         0                                            \n",
      "__________________________________________________________________________________________________\n",
      "tf.__operators__.getitem (Slici (None,)              0           input_2[0][0]                    \n",
      "__________________________________________________________________________________________________\n",
      "tf.__operators__.getitem_1 (Sli (None,)              0           input_2[0][0]                    \n",
      "__________________________________________________________________________________________________\n",
      "embedding (Embedding)           (None, 1031)         2125922     tf.__operators__.getitem[0][0]   \n",
      "__________________________________________________________________________________________________\n",
      "embedding_1 (Embedding)         (None, 4)            32          tf.__operators__.getitem_1[0][0] \n",
      "__________________________________________________________________________________________________\n",
      "tf.__operators__.getitem_2 (Sli (None,)              0           input_2[0][0]                    \n",
      "__________________________________________________________________________________________________\n",
      "dropout (Dropout)               (None, 1031)         0           embedding[0][0]                  \n",
      "__________________________________________________________________________________________________\n",
      "dropout_1 (Dropout)             (None, 4)            0           embedding_1[0][0]                \n",
      "__________________________________________________________________________________________________\n",
      "embedding_2 (Embedding)         (None, 514)          528392      tf.__operators__.getitem_2[0][0] \n",
      "__________________________________________________________________________________________________\n",
      "tf.__operators__.getitem_3 (Sli (None,)              0           input_2[0][0]                    \n",
      "__________________________________________________________________________________________________\n",
      "flatten (Flatten)               (None, 1031)         0           dropout[0][0]                    \n",
      "__________________________________________________________________________________________________\n",
      "flatten_1 (Flatten)             (None, 4)            0           dropout_1[0][0]                  \n",
      "__________________________________________________________________________________________________\n",
      "dropout_2 (Dropout)             (None, 514)          0           embedding_2[0][0]                \n",
      "__________________________________________________________________________________________________\n",
      "embedding_3 (Embedding)         (None, 36)           2628        tf.__operators__.getitem_3[0][0] \n",
      "__________________________________________________________________________________________________\n",
      "tf.__operators__.getitem_4 (Sli (None,)              0           input_2[0][0]                    \n",
      "__________________________________________________________________________________________________\n",
      "concatenate (Concatenate)       (None, 1035)         0           flatten[0][0]                    \n",
      "                                                                 flatten_1[0][0]                  \n",
      "__________________________________________________________________________________________________\n",
      "flatten_2 (Flatten)             (None, 514)          0           dropout_2[0][0]                  \n",
      "__________________________________________________________________________________________________\n",
      "dropout_3 (Dropout)             (None, 36)           0           embedding_3[0][0]                \n",
      "__________________________________________________________________________________________________\n",
      "embedding_4 (Embedding)         (None, 14)           406         tf.__operators__.getitem_4[0][0] \n",
      "__________________________________________________________________________________________________\n",
      "tf.__operators__.getitem_5 (Sli (None,)              0           input_2[0][0]                    \n",
      "__________________________________________________________________________________________________\n",
      "concatenate_1 (Concatenate)     (None, 1549)         0           concatenate[0][0]                \n",
      "                                                                 flatten_2[0][0]                  \n",
      "__________________________________________________________________________________________________\n",
      "flatten_3 (Flatten)             (None, 36)           0           dropout_3[0][0]                  \n",
      "__________________________________________________________________________________________________\n",
      "dropout_4 (Dropout)             (None, 14)           0           embedding_4[0][0]                \n",
      "__________________________________________________________________________________________________\n",
      "embedding_5 (Embedding)         (None, 6)            78          tf.__operators__.getitem_5[0][0] \n",
      "__________________________________________________________________________________________________\n",
      "tf.__operators__.getitem_6 (Sli (None,)              0           input_2[0][0]                    \n",
      "__________________________________________________________________________________________________\n",
      "concatenate_2 (Concatenate)     (None, 1585)         0           concatenate_1[0][0]              \n",
      "                                                                 flatten_3[0][0]                  \n",
      "__________________________________________________________________________________________________\n",
      "flatten_4 (Flatten)             (None, 14)           0           dropout_4[0][0]                  \n",
      "__________________________________________________________________________________________________\n",
      "dropout_5 (Dropout)             (None, 6)            0           embedding_5[0][0]                \n",
      "__________________________________________________________________________________________________\n",
      "embedding_6 (Embedding)         (None, 5)            55          tf.__operators__.getitem_6[0][0] \n",
      "__________________________________________________________________________________________________\n",
      "tf.__operators__.getitem_7 (Sli (None,)              0           input_2[0][0]                    \n",
      "__________________________________________________________________________________________________\n",
      "concatenate_3 (Concatenate)     (None, 1599)         0           concatenate_2[0][0]              \n",
      "                                                                 flatten_4[0][0]                  \n",
      "__________________________________________________________________________________________________\n",
      "flatten_5 (Flatten)             (None, 6)            0           dropout_5[0][0]                  \n",
      "__________________________________________________________________________________________________\n",
      "dropout_6 (Dropout)             (None, 5)            0           embedding_6[0][0]                \n",
      "__________________________________________________________________________________________________\n",
      "embedding_7 (Embedding)         (None, 15)           465         tf.__operators__.getitem_7[0][0] \n",
      "__________________________________________________________________________________________________\n",
      "tf.__operators__.getitem_8 (Sli (None,)              0           input_2[0][0]                    \n",
      "__________________________________________________________________________________________________\n",
      "concatenate_4 (Concatenate)     (None, 1605)         0           concatenate_3[0][0]              \n",
      "                                                                 flatten_5[0][0]                  \n",
      "__________________________________________________________________________________________________\n",
      "flatten_6 (Flatten)             (None, 5)            0           dropout_6[0][0]                  \n",
      "__________________________________________________________________________________________________\n",
      "dropout_7 (Dropout)             (None, 15)           0           embedding_7[0][0]                \n",
      "__________________________________________________________________________________________________\n",
      "embedding_8 (Embedding)         (None, 5)            55          tf.__operators__.getitem_8[0][0] \n",
      "__________________________________________________________________________________________________\n",
      "tf.__operators__.getitem_9 (Sli (None,)              0           input_2[0][0]                    \n",
      "__________________________________________________________________________________________________\n",
      "concatenate_5 (Concatenate)     (None, 1610)         0           concatenate_4[0][0]              \n",
      "                                                                 flatten_6[0][0]                  \n",
      "__________________________________________________________________________________________________\n",
      "flatten_7 (Flatten)             (None, 15)           0           dropout_7[0][0]                  \n",
      "__________________________________________________________________________________________________\n",
      "dropout_8 (Dropout)             (None, 5)            0           embedding_8[0][0]                \n",
      "__________________________________________________________________________________________________\n",
      "embedding_9 (Embedding)         (None, 8)            128         tf.__operators__.getitem_9[0][0] \n",
      "__________________________________________________________________________________________________\n",
      "concatenate_6 (Concatenate)     (None, 1625)         0           concatenate_5[0][0]              \n",
      "                                                                 flatten_7[0][0]                  \n",
      "__________________________________________________________________________________________________\n",
      "flatten_8 (Flatten)             (None, 5)            0           dropout_8[0][0]                  \n",
      "__________________________________________________________________________________________________\n",
      "dropout_9 (Dropout)             (None, 8)            0           embedding_9[0][0]                \n",
      "__________________________________________________________________________________________________\n",
      "concatenate_7 (Concatenate)     (None, 1630)         0           concatenate_6[0][0]              \n",
      "                                                                 flatten_8[0][0]                  \n",
      "__________________________________________________________________________________________________\n",
      "flatten_9 (Flatten)             (None, 8)            0           dropout_9[0][0]                  \n",
      "__________________________________________________________________________________________________\n",
      "input_1 (InputLayer)            [(None, 23)]         0                                            \n",
      "__________________________________________________________________________________________________\n",
      "concatenate_8 (Concatenate)     (None, 1638)         0           concatenate_7[0][0]              \n",
      "                                                                 flatten_9[0][0]                  \n",
      "__________________________________________________________________________________________________\n",
      "concatenate_9 (Concatenate)     (None, 1661)         0           input_1[0][0]                    \n",
      "                                                                 concatenate_8[0][0]              \n",
      "__________________________________________________________________________________________________\n",
      "dense (Dense)                   (None, 128)          212736      concatenate_9[0][0]              \n",
      "__________________________________________________________________________________________________\n",
      "batch_normalization (BatchNorma (None, 128)          512         dense[0][0]                      \n",
      "__________________________________________________________________________________________________\n",
      "dropout_10 (Dropout)            (None, 128)          0           batch_normalization[0][0]        \n",
      "__________________________________________________________________________________________________\n",
      "dense_1 (Dense)                 (None, 4)            516         dropout_10[0][0]                 \n",
      "==================================================================================================\n",
      "Total params: 2,871,925\n",
      "Trainable params: 2,871,669\n",
      "Non-trainable params: 256\n",
      "__________________________________________________________________________________________________\n",
      "None\n"
     ]
    }
   ],
   "source": [
    "create_model(col_num=col_num,\n",
    "             col_cat=col_cat,\n",
    "             show=True)"
   ]
  },
  {
   "cell_type": "markdown",
   "id": "630e0346",
   "metadata": {
    "papermill": {
     "duration": 0.249782,
     "end_time": "2022-05-01T09:04:42.467556",
     "exception": false,
     "start_time": "2022-05-01T09:04:42.217774",
     "status": "completed"
    },
    "tags": []
   },
   "source": [
    "#### スクリプト8-57: 学習用の関数をニューラルネットワーク用にカスタマイズ"
   ]
  },
  {
   "cell_type": "code",
   "execution_count": 58,
   "id": "b7b2d670",
   "metadata": {
    "execution": {
     "iopub.execute_input": "2022-05-01T09:04:42.989449Z",
     "iopub.status.busy": "2022-05-01T09:04:42.989132Z",
     "iopub.status.idle": "2022-05-01T09:04:43.017027Z",
     "shell.execute_reply": "2022-05-01T09:04:43.015642Z"
    },
    "papermill": {
     "duration": 0.304098,
     "end_time": "2022-05-01T09:04:43.019782",
     "exception": false,
     "start_time": "2022-05-01T09:04:42.715684",
     "status": "completed"
    },
    "tags": []
   },
   "outputs": [],
   "source": [
    "def train_tf(input_x,\n",
    "             input_y,\n",
    "             input_id,\n",
    "             list_nfold=[0,1,2],\n",
    "             mode_train=\"train\",\n",
    "             batch_size=1024,\n",
    "             epochs=100,\n",
    "            ):\n",
    "    # 推論値を格納する変数の作成\n",
    "    df_valid_pred = pd.DataFrame()\n",
    "    # 評価値を入れる変数の作成\n",
    "    metrics = []\n",
    "    \n",
    "    # validation\n",
    "    cv = []\n",
    "    for month_tr, month_va in list_cv_month:\n",
    "        cv.append([\n",
    "            input_id.index[input_id[\"yearmonth\"].isin(month_tr)],\n",
    "            input_id.index[input_id[\"yearmonth\"].isin(month_va) & (input_id[\"playerForTestSetAndFuturePreds\"]==1)],\n",
    "        ])\n",
    "    \n",
    "    # モデル学習 (foldごとに学習)\n",
    "    for nfold in list_nfold:\n",
    "        print(\"-\"*20, \"fold:\", nfold, \"-\"*20)\n",
    "        idx_tr, idx_va = cv[nfold][0], cv[nfold][1]\n",
    "        \n",
    "        x_num_tr, x_cat_tr, y_tr = input_x.loc[idx_tr, col_num].values, input_x.loc[idx_tr, col_cat].values, input_y.loc[idx_tr, :].values\n",
    "        x_num_va, x_cat_va, y_va = input_x.loc[idx_va, col_num].values, input_x.loc[idx_va, col_cat].values, input_y.loc[idx_va, :].values\n",
    "        print(x_num_tr.shape, x_cat_tr.shape, y_tr.shape)\n",
    "        print(x_num_va.shape, x_cat_va.shape, y_va.shape)\n",
    "        \n",
    "        filepath = \"model_tf_fold{}.h5\".format(nfold)\n",
    "        \n",
    "        if mode_train==\"train\":\n",
    "            print(\"training start.\")\n",
    "            seed_everything(seed=123)\n",
    "            model = create_model(col_num=col_num, col_cat=col_cat, show=False)\n",
    "            model.fit(x=[x_num_tr, x_cat_tr],\n",
    "                      y=y_tr,\n",
    "                      validation_data=([x_num_va, x_cat_va], y_va),\n",
    "                      batch_size=batch_size,\n",
    "                      epochs=epochs,\n",
    "                      callbacks=[\n",
    "                          ModelCheckpoint(filepath= filepath, monitor=\"val_loss\", mode=\"min\", verbose=1, save_best_only=True, save_weights_only=True),\n",
    "                          EarlyStopping(monitor=\"val_loss\", mode=\"min\", min_delta=0, patience=10, verbose=1, restore_best_weights=True),\n",
    "                          ReduceLROnPlateau(monitor=\"val_loss\", mode=\"min\", factor=0.1, patience=5, verbose=1),\n",
    "                      ],\n",
    "                      verbose=1,\n",
    "                     )\n",
    "        else:\n",
    "            print(\"model load.\")\n",
    "            model = create_model(col_num=col_num, col_cat=col_cat, show=False)\n",
    "            model.load_weights(filepath)\n",
    "            print(\"Done.\")\n",
    "    \n",
    "        # validの推論値取得\n",
    "        y_va_pred = model.predict([x_num_va, x_cat_va])\n",
    "        tmp_pred = pd.concat([\n",
    "            id_va,\n",
    "            pd.DataFrame(y_va, columns=[\"target1_true\",\"target2_true\",\"target3_true\",\"target4_true\"]),\n",
    "            pd.DataFrame(y_va_pred, columns=[\"target1_pred\",\"target2_pred\",\"target3_pred\",\"target4_pred\"]),\n",
    "        ], axis=1)\n",
    "        tmp_pred[\"nfold\"] = nfold\n",
    "        df_valid_pred = pd.concat([df_valid_pred, tmp_pred], axis=0, ignore_index=True)\n",
    "        \n",
    "        # 評価値の算出\n",
    "        metrics.append([\"target1\", nfold, np.mean(np.abs(y_va[:,0] - y_va_pred[:,0]))])\n",
    "        metrics.append([\"target2\", nfold, np.mean(np.abs(y_va[:,1] - y_va_pred[:,1]))])\n",
    "        metrics.append([\"target3\", nfold, np.mean(np.abs(y_va[:,2] - y_va_pred[:,2]))])\n",
    "        metrics.append([\"target4\", nfold, np.mean(np.abs(y_va[:,3] - y_va_pred[:,3]))])\n",
    "    \n",
    "    print(\"-\"*10, \"result\", \"-\"*10)\n",
    "    # 評価値\n",
    "    df_metrics = pd.DataFrame(metrics, columns=[\"target\", \"nfold\", \"mae\"])\n",
    "    print(\"MCMAE: {:.4f}\".format(df_metrics[\"mae\"].mean()))\n",
    "    \n",
    "    # validの推論値\n",
    "    df_valid_pred_all = pd.pivot_table(df_valid_pred,\n",
    "                                       index=[\"engagementMetricsDate\",\"playerId\",\"date_playerId\",\"date\",\"yearmonth\",\"playerForTestSetAndFuturePreds\"],\n",
    "                                       columns=[\"nfold\"], values=list(df_valid_pred.columns[df_valid_pred.columns.str.contains(\"target\")]), aggfunc=np.sum)\n",
    "    df_valid_pred_all.columns = [\"{}_fold{}_{}\".format(i.split(\"_\")[0], j,i.split(\"_\")[1]) for i,j in df_valid_pred_all.columns]\n",
    "    df_valid_pred_all = df_valid_pred_all.reset_index(drop=False)\n",
    "    \n",
    "    return df_valid_pred_all, df_metrics"
   ]
  },
  {
   "cell_type": "markdown",
   "id": "596179b4",
   "metadata": {
    "papermill": {
     "duration": 0.257919,
     "end_time": "2022-05-01T09:04:43.553502",
     "exception": false,
     "start_time": "2022-05-01T09:04:43.295583",
     "status": "completed"
    },
    "tags": []
   },
   "source": [
    "#### スクリプト8-58: 学習の実行"
   ]
  },
  {
   "cell_type": "code",
   "execution_count": 59,
   "id": "14549304",
   "metadata": {
    "execution": {
     "iopub.execute_input": "2022-05-01T09:04:44.065073Z",
     "iopub.status.busy": "2022-05-01T09:04:44.064476Z",
     "iopub.status.idle": "2022-05-01T09:57:48.304776Z",
     "shell.execute_reply": "2022-05-01T09:57:48.303758Z"
    },
    "papermill": {
     "duration": 3184.502715,
     "end_time": "2022-05-01T09:57:48.307651",
     "exception": false,
     "start_time": "2022-05-01T09:04:43.804936",
     "status": "completed"
    },
    "tags": []
   },
   "outputs": [
    {
     "name": "stdout",
     "output_type": "stream",
     "text": [
      "-------------------- fold: 0 --------------------\n",
      "(752265, 23) (752265, 10) (752265, 4)\n",
      "(36797, 23) (36797, 10) (36797, 4)\n",
      "training start.\n"
     ]
    },
    {
     "name": "stderr",
     "output_type": "stream",
     "text": [
      "2022-05-01 09:04:46.865882: I tensorflow/compiler/mlir/mlir_graph_optimization_pass.cc:185] None of the MLIR Optimization Passes are enabled (registered 2)\n"
     ]
    },
    {
     "name": "stdout",
     "output_type": "stream",
     "text": [
      "Epoch 1/1000\n",
      "735/735 [==============================] - 58s 75ms/step - loss: 0.9341 - mae: 0.9341 - val_loss: 1.3977 - val_mae: 1.3977\n",
      "\n",
      "Epoch 00001: val_loss improved from inf to 1.39767, saving model to model_tf_fold0.h5\n",
      "Epoch 2/1000\n",
      "735/735 [==============================] - 54s 73ms/step - loss: 0.8791 - mae: 0.8791 - val_loss: 1.4000 - val_mae: 1.4000\n",
      "\n",
      "Epoch 00002: val_loss did not improve from 1.39767\n",
      "Epoch 3/1000\n",
      "735/735 [==============================] - 53s 72ms/step - loss: 0.8713 - mae: 0.8713 - val_loss: 1.3952 - val_mae: 1.3952\n",
      "\n",
      "Epoch 00003: val_loss improved from 1.39767 to 1.39519, saving model to model_tf_fold0.h5\n",
      "Epoch 4/1000\n",
      "735/735 [==============================] - 53s 72ms/step - loss: 0.8674 - mae: 0.8674 - val_loss: 1.3926 - val_mae: 1.3926\n",
      "\n",
      "Epoch 00004: val_loss improved from 1.39519 to 1.39262, saving model to model_tf_fold0.h5\n",
      "Epoch 5/1000\n",
      "735/735 [==============================] - 55s 75ms/step - loss: 0.8645 - mae: 0.8645 - val_loss: 1.3931 - val_mae: 1.3931\n",
      "\n",
      "Epoch 00005: val_loss did not improve from 1.39262\n",
      "Epoch 6/1000\n",
      "735/735 [==============================] - 54s 73ms/step - loss: 0.8629 - mae: 0.8629 - val_loss: 1.3912 - val_mae: 1.3912\n",
      "\n",
      "Epoch 00006: val_loss improved from 1.39262 to 1.39116, saving model to model_tf_fold0.h5\n",
      "Epoch 7/1000\n",
      "735/735 [==============================] - 53s 72ms/step - loss: 0.8609 - mae: 0.8609 - val_loss: 1.3967 - val_mae: 1.3967\n",
      "\n",
      "Epoch 00007: val_loss did not improve from 1.39116\n",
      "Epoch 8/1000\n",
      "735/735 [==============================] - 54s 74ms/step - loss: 0.8594 - mae: 0.8594 - val_loss: 1.3962 - val_mae: 1.3962\n",
      "\n",
      "Epoch 00008: val_loss did not improve from 1.39116\n",
      "Epoch 9/1000\n",
      "735/735 [==============================] - 56s 76ms/step - loss: 0.8583 - mae: 0.8583 - val_loss: 1.3918 - val_mae: 1.3918\n",
      "\n",
      "Epoch 00009: val_loss did not improve from 1.39116\n",
      "Epoch 10/1000\n",
      "735/735 [==============================] - 55s 74ms/step - loss: 0.8574 - mae: 0.8574 - val_loss: 1.3980 - val_mae: 1.3980\n",
      "\n",
      "Epoch 00010: val_loss did not improve from 1.39116\n",
      "Epoch 11/1000\n",
      "735/735 [==============================] - 56s 77ms/step - loss: 0.8565 - mae: 0.8565 - val_loss: 1.3950 - val_mae: 1.3950\n",
      "\n",
      "Epoch 00011: val_loss did not improve from 1.39116\n",
      "\n",
      "Epoch 00011: ReduceLROnPlateau reducing learning rate to 0.00010000000474974513.\n",
      "Epoch 12/1000\n",
      "735/735 [==============================] - 55s 75ms/step - loss: 0.8491 - mae: 0.8491 - val_loss: 1.3931 - val_mae: 1.3931\n",
      "\n",
      "Epoch 00012: val_loss did not improve from 1.39116\n",
      "Epoch 13/1000\n",
      "735/735 [==============================] - 53s 72ms/step - loss: 0.8459 - mae: 0.8459 - val_loss: 1.3940 - val_mae: 1.3940\n",
      "\n",
      "Epoch 00013: val_loss did not improve from 1.39116\n",
      "Epoch 14/1000\n",
      "735/735 [==============================] - 52s 71ms/step - loss: 0.8447 - mae: 0.8447 - val_loss: 1.3948 - val_mae: 1.3948\n",
      "\n",
      "Epoch 00014: val_loss did not improve from 1.39116\n",
      "Epoch 15/1000\n",
      "735/735 [==============================] - 54s 73ms/step - loss: 0.8444 - mae: 0.8444 - val_loss: 1.3956 - val_mae: 1.3956\n",
      "\n",
      "Epoch 00015: val_loss did not improve from 1.39116\n",
      "Epoch 16/1000\n",
      "735/735 [==============================] - 52s 71ms/step - loss: 0.8440 - mae: 0.8440 - val_loss: 1.3964 - val_mae: 1.3964\n",
      "\n",
      "Epoch 00016: val_loss did not improve from 1.39116\n",
      "Restoring model weights from the end of the best epoch.\n",
      "\n",
      "Epoch 00016: ReduceLROnPlateau reducing learning rate to 1.0000000474974514e-05.\n",
      "Epoch 00016: early stopping\n",
      "-------------------- fold: 1 --------------------\n",
      "(752265, 23) (752265, 10) (752265, 4)\n",
      "(35610, 23) (35610, 10) (35610, 4)\n",
      "training start.\n",
      "Epoch 1/1000\n",
      "735/735 [==============================] - 56s 73ms/step - loss: 0.9282 - mae: 0.9282 - val_loss: 1.3723 - val_mae: 1.3723\n",
      "\n",
      "Epoch 00001: val_loss improved from inf to 1.37230, saving model to model_tf_fold1.h5\n",
      "Epoch 2/1000\n",
      "735/735 [==============================] - 54s 74ms/step - loss: 0.8827 - mae: 0.8827 - val_loss: 1.3638 - val_mae: 1.3638\n",
      "\n",
      "Epoch 00002: val_loss improved from 1.37230 to 1.36381, saving model to model_tf_fold1.h5\n",
      "Epoch 3/1000\n",
      "735/735 [==============================] - 54s 74ms/step - loss: 0.8751 - mae: 0.8751 - val_loss: 1.3596 - val_mae: 1.3596\n",
      "\n",
      "Epoch 00003: val_loss improved from 1.36381 to 1.35964, saving model to model_tf_fold1.h5\n",
      "Epoch 4/1000\n",
      "735/735 [==============================] - 55s 74ms/step - loss: 0.8710 - mae: 0.8710 - val_loss: 1.3664 - val_mae: 1.3664\n",
      "\n",
      "Epoch 00004: val_loss did not improve from 1.35964\n",
      "Epoch 5/1000\n",
      "735/735 [==============================] - 55s 74ms/step - loss: 0.8684 - mae: 0.8684 - val_loss: 1.3633 - val_mae: 1.3633\n",
      "\n",
      "Epoch 00005: val_loss did not improve from 1.35964\n",
      "Epoch 6/1000\n",
      "735/735 [==============================] - 55s 75ms/step - loss: 0.8661 - mae: 0.8661 - val_loss: 1.3597 - val_mae: 1.3597\n",
      "\n",
      "Epoch 00006: val_loss did not improve from 1.35964\n",
      "Epoch 7/1000\n",
      "735/735 [==============================] - 53s 72ms/step - loss: 0.8645 - mae: 0.8645 - val_loss: 1.3610 - val_mae: 1.3610\n",
      "\n",
      "Epoch 00007: val_loss did not improve from 1.35964\n",
      "Epoch 8/1000\n",
      "735/735 [==============================] - 58s 79ms/step - loss: 0.8631 - mae: 0.8631 - val_loss: 1.3637 - val_mae: 1.3637\n",
      "\n",
      "Epoch 00008: val_loss did not improve from 1.35964\n",
      "\n",
      "Epoch 00008: ReduceLROnPlateau reducing learning rate to 0.00010000000474974513.\n",
      "Epoch 9/1000\n",
      "735/735 [==============================] - 57s 77ms/step - loss: 0.8559 - mae: 0.8559 - val_loss: 1.3576 - val_mae: 1.3576\n",
      "\n",
      "Epoch 00009: val_loss improved from 1.35964 to 1.35761, saving model to model_tf_fold1.h5\n",
      "Epoch 10/1000\n",
      "735/735 [==============================] - 55s 74ms/step - loss: 0.8534 - mae: 0.8534 - val_loss: 1.3561 - val_mae: 1.3561\n",
      "\n",
      "Epoch 00010: val_loss improved from 1.35761 to 1.35606, saving model to model_tf_fold1.h5\n",
      "Epoch 11/1000\n",
      "735/735 [==============================] - 54s 73ms/step - loss: 0.8523 - mae: 0.8523 - val_loss: 1.3575 - val_mae: 1.3575\n",
      "\n",
      "Epoch 00011: val_loss did not improve from 1.35606\n",
      "Epoch 12/1000\n",
      "735/735 [==============================] - 56s 76ms/step - loss: 0.8516 - mae: 0.8516 - val_loss: 1.3567 - val_mae: 1.3567\n",
      "\n",
      "Epoch 00012: val_loss did not improve from 1.35606\n",
      "Epoch 13/1000\n",
      "735/735 [==============================] - 55s 75ms/step - loss: 0.8508 - mae: 0.8508 - val_loss: 1.3572 - val_mae: 1.3572\n",
      "\n",
      "Epoch 00013: val_loss did not improve from 1.35606\n",
      "Epoch 14/1000\n",
      "735/735 [==============================] - 55s 74ms/step - loss: 0.8505 - mae: 0.8505 - val_loss: 1.3583 - val_mae: 1.3583\n",
      "\n",
      "Epoch 00014: val_loss did not improve from 1.35606\n",
      "Epoch 15/1000\n",
      "735/735 [==============================] - 53s 72ms/step - loss: 0.8503 - mae: 0.8503 - val_loss: 1.3582 - val_mae: 1.3582\n",
      "\n",
      "Epoch 00015: val_loss did not improve from 1.35606\n",
      "\n",
      "Epoch 00015: ReduceLROnPlateau reducing learning rate to 1.0000000474974514e-05.\n",
      "Epoch 16/1000\n",
      "735/735 [==============================] - 53s 73ms/step - loss: 0.8490 - mae: 0.8490 - val_loss: 1.3578 - val_mae: 1.3578\n",
      "\n",
      "Epoch 00016: val_loss did not improve from 1.35606\n",
      "Epoch 17/1000\n",
      "735/735 [==============================] - 52s 71ms/step - loss: 0.8487 - mae: 0.8487 - val_loss: 1.3581 - val_mae: 1.3581\n",
      "\n",
      "Epoch 00017: val_loss did not improve from 1.35606\n",
      "Epoch 18/1000\n",
      "735/735 [==============================] - 57s 78ms/step - loss: 0.8482 - mae: 0.8482 - val_loss: 1.3580 - val_mae: 1.3580\n",
      "\n",
      "Epoch 00018: val_loss did not improve from 1.35606\n",
      "Epoch 19/1000\n",
      "735/735 [==============================] - 55s 74ms/step - loss: 0.8488 - mae: 0.8488 - val_loss: 1.3577 - val_mae: 1.3577\n",
      "\n",
      "Epoch 00019: val_loss did not improve from 1.35606\n",
      "Epoch 20/1000\n",
      "735/735 [==============================] - 56s 76ms/step - loss: 0.8480 - mae: 0.8480 - val_loss: 1.3577 - val_mae: 1.3577\n",
      "\n",
      "Epoch 00020: val_loss did not improve from 1.35606\n",
      "Restoring model weights from the end of the best epoch.\n",
      "\n",
      "Epoch 00020: ReduceLROnPlateau reducing learning rate to 1.0000000656873453e-06.\n",
      "Epoch 00020: early stopping\n",
      "-------------------- fold: 2 --------------------\n",
      "(752265, 23) (752265, 10) (752265, 4)\n",
      "(36797, 23) (36797, 10) (36797, 4)\n",
      "training start.\n",
      "Epoch 1/1000\n",
      "735/735 [==============================] - 60s 78ms/step - loss: 0.9257 - mae: 0.9257 - val_loss: 1.0943 - val_mae: 1.0943\n",
      "\n",
      "Epoch 00001: val_loss improved from inf to 1.09430, saving model to model_tf_fold2.h5\n",
      "Epoch 2/1000\n",
      "735/735 [==============================] - 55s 75ms/step - loss: 0.8844 - mae: 0.8844 - val_loss: 1.0926 - val_mae: 1.0926\n",
      "\n",
      "Epoch 00002: val_loss improved from 1.09430 to 1.09260, saving model to model_tf_fold2.h5\n",
      "Epoch 3/1000\n",
      "735/735 [==============================] - 56s 76ms/step - loss: 0.8786 - mae: 0.8786 - val_loss: 1.0837 - val_mae: 1.0837\n",
      "\n",
      "Epoch 00003: val_loss improved from 1.09260 to 1.08367, saving model to model_tf_fold2.h5\n",
      "Epoch 4/1000\n",
      "735/735 [==============================] - 53s 73ms/step - loss: 0.8749 - mae: 0.8749 - val_loss: 1.0843 - val_mae: 1.0843\n",
      "\n",
      "Epoch 00004: val_loss did not improve from 1.08367\n",
      "Epoch 5/1000\n",
      "735/735 [==============================] - 54s 74ms/step - loss: 0.8716 - mae: 0.8716 - val_loss: 1.0835 - val_mae: 1.0835\n",
      "\n",
      "Epoch 00005: val_loss improved from 1.08367 to 1.08349, saving model to model_tf_fold2.h5\n",
      "Epoch 6/1000\n",
      "735/735 [==============================] - 55s 74ms/step - loss: 0.8695 - mae: 0.8695 - val_loss: 1.0851 - val_mae: 1.0851\n",
      "\n",
      "Epoch 00006: val_loss did not improve from 1.08349\n",
      "Epoch 7/1000\n",
      "735/735 [==============================] - 54s 73ms/step - loss: 0.8678 - mae: 0.8678 - val_loss: 1.0904 - val_mae: 1.0904\n",
      "\n",
      "Epoch 00007: val_loss did not improve from 1.08349\n",
      "Epoch 8/1000\n",
      "735/735 [==============================] - 56s 76ms/step - loss: 0.8663 - mae: 0.8663 - val_loss: 1.0830 - val_mae: 1.0830\n",
      "\n",
      "Epoch 00008: val_loss improved from 1.08349 to 1.08302, saving model to model_tf_fold2.h5\n",
      "Epoch 9/1000\n",
      "735/735 [==============================] - 54s 73ms/step - loss: 0.8656 - mae: 0.8656 - val_loss: 1.0811 - val_mae: 1.0811\n",
      "\n",
      "Epoch 00009: val_loss improved from 1.08302 to 1.08113, saving model to model_tf_fold2.h5\n",
      "Epoch 10/1000\n",
      "735/735 [==============================] - 53s 72ms/step - loss: 0.8645 - mae: 0.8645 - val_loss: 1.0850 - val_mae: 1.0850\n",
      "\n",
      "Epoch 00010: val_loss did not improve from 1.08113\n",
      "Epoch 11/1000\n",
      "735/735 [==============================] - 56s 76ms/step - loss: 0.8628 - mae: 0.8628 - val_loss: 1.0926 - val_mae: 1.0926\n",
      "\n",
      "Epoch 00011: val_loss did not improve from 1.08113\n",
      "Epoch 12/1000\n",
      "735/735 [==============================] - 54s 74ms/step - loss: 0.8626 - mae: 0.8626 - val_loss: 1.0774 - val_mae: 1.0774\n",
      "\n",
      "Epoch 00012: val_loss improved from 1.08113 to 1.07744, saving model to model_tf_fold2.h5\n",
      "Epoch 13/1000\n",
      "735/735 [==============================] - 55s 75ms/step - loss: 0.8612 - mae: 0.8612 - val_loss: 1.0945 - val_mae: 1.0945\n",
      "\n",
      "Epoch 00013: val_loss did not improve from 1.07744\n",
      "Epoch 14/1000\n",
      "735/735 [==============================] - 53s 72ms/step - loss: 0.8605 - mae: 0.8605 - val_loss: 1.0909 - val_mae: 1.0909\n",
      "\n",
      "Epoch 00014: val_loss did not improve from 1.07744\n",
      "Epoch 15/1000\n",
      "735/735 [==============================] - 53s 72ms/step - loss: 0.8604 - mae: 0.8604 - val_loss: 1.0888 - val_mae: 1.0888\n",
      "\n",
      "Epoch 00015: val_loss did not improve from 1.07744\n",
      "Epoch 16/1000\n",
      "735/735 [==============================] - 53s 72ms/step - loss: 0.8593 - mae: 0.8593 - val_loss: 1.0980 - val_mae: 1.0980\n",
      "\n",
      "Epoch 00016: val_loss did not improve from 1.07744\n",
      "Epoch 17/1000\n",
      "735/735 [==============================] - 54s 73ms/step - loss: 0.8591 - mae: 0.8591 - val_loss: 1.0974 - val_mae: 1.0974\n",
      "\n",
      "Epoch 00017: val_loss did not improve from 1.07744\n",
      "\n",
      "Epoch 00017: ReduceLROnPlateau reducing learning rate to 0.00010000000474974513.\n",
      "Epoch 18/1000\n",
      "735/735 [==============================] - 56s 76ms/step - loss: 0.8531 - mae: 0.8531 - val_loss: 1.0958 - val_mae: 1.0958\n",
      "\n",
      "Epoch 00018: val_loss did not improve from 1.07744\n",
      "Epoch 19/1000\n",
      "735/735 [==============================] - 56s 76ms/step - loss: 0.8503 - mae: 0.8503 - val_loss: 1.0965 - val_mae: 1.0965\n",
      "\n",
      "Epoch 00019: val_loss did not improve from 1.07744\n",
      "Epoch 20/1000\n",
      "735/735 [==============================] - 55s 74ms/step - loss: 0.8499 - mae: 0.8499 - val_loss: 1.1003 - val_mae: 1.1003\n",
      "\n",
      "Epoch 00020: val_loss did not improve from 1.07744\n",
      "Epoch 21/1000\n",
      "735/735 [==============================] - 56s 77ms/step - loss: 0.8493 - mae: 0.8493 - val_loss: 1.0982 - val_mae: 1.0982\n",
      "\n",
      "Epoch 00021: val_loss did not improve from 1.07744\n",
      "Epoch 22/1000\n",
      "735/735 [==============================] - 54s 74ms/step - loss: 0.8487 - mae: 0.8487 - val_loss: 1.1037 - val_mae: 1.1037\n",
      "\n",
      "Epoch 00022: val_loss did not improve from 1.07744\n",
      "Restoring model weights from the end of the best epoch.\n",
      "\n",
      "Epoch 00022: ReduceLROnPlateau reducing learning rate to 1.0000000474974514e-05.\n",
      "Epoch 00022: early stopping\n",
      "---------- result ----------\n",
      "MCMAE: 1.2749\n"
     ]
    }
   ],
   "source": [
    "df_valid_pred, df_metrics = train_tf(x_train,\n",
    "                                     y_train,\n",
    "                                     id_train,\n",
    "                                     list_nfold=[0,1,2],\n",
    "                                     mode_train=\"train\",\n",
    "                                     batch_size=1024,\n",
    "                                     epochs=1000,\n",
    "                                    )"
   ]
  },
  {
   "cell_type": "markdown",
   "id": "2426d7ad",
   "metadata": {
    "papermill": {
     "duration": 16.242031,
     "end_time": "2022-05-01T09:58:20.998682",
     "exception": false,
     "start_time": "2022-05-01T09:58:04.756651",
     "status": "completed"
    },
    "tags": []
   },
   "source": [
    "#### スクリプト8-59: 評価値の確認"
   ]
  },
  {
   "cell_type": "code",
   "execution_count": 60,
   "id": "fb947ac4",
   "metadata": {
    "execution": {
     "iopub.execute_input": "2022-05-01T09:58:53.834801Z",
     "iopub.status.busy": "2022-05-01T09:58:53.834398Z",
     "iopub.status.idle": "2022-05-01T09:58:53.875087Z",
     "shell.execute_reply": "2022-05-01T09:58:53.874326Z"
    },
    "papermill": {
     "duration": 16.434109,
     "end_time": "2022-05-01T09:58:53.876788",
     "exception": false,
     "start_time": "2022-05-01T09:58:37.442679",
     "status": "completed"
    },
    "tags": []
   },
   "outputs": [
    {
     "name": "stdout",
     "output_type": "stream",
     "text": [
      "MCMAE: 1.2749\n"
     ]
    },
    {
     "data": {
      "text/html": [
       "<div>\n",
       "<style scoped>\n",
       "    .dataframe tbody tr th:only-of-type {\n",
       "        vertical-align: middle;\n",
       "    }\n",
       "\n",
       "    .dataframe tbody tr th {\n",
       "        vertical-align: top;\n",
       "    }\n",
       "\n",
       "    .dataframe thead th {\n",
       "        text-align: right;\n",
       "    }\n",
       "</style>\n",
       "<table border=\"1\" class=\"dataframe\">\n",
       "  <thead>\n",
       "    <tr style=\"text-align: right;\">\n",
       "      <th>target</th>\n",
       "      <th>target1</th>\n",
       "      <th>target2</th>\n",
       "      <th>target3</th>\n",
       "      <th>target4</th>\n",
       "      <th>All</th>\n",
       "    </tr>\n",
       "    <tr>\n",
       "      <th>nfold</th>\n",
       "      <th></th>\n",
       "      <th></th>\n",
       "      <th></th>\n",
       "      <th></th>\n",
       "      <th></th>\n",
       "    </tr>\n",
       "  </thead>\n",
       "  <tbody>\n",
       "    <tr>\n",
       "      <th>0</th>\n",
       "      <td>1.2842</td>\n",
       "      <td>2.1993</td>\n",
       "      <td>0.8792</td>\n",
       "      <td>1.2019</td>\n",
       "      <td>1.3912</td>\n",
       "    </tr>\n",
       "    <tr>\n",
       "      <th>1</th>\n",
       "      <td>1.1757</td>\n",
       "      <td>1.8948</td>\n",
       "      <td>0.8224</td>\n",
       "      <td>1.5313</td>\n",
       "      <td>1.3561</td>\n",
       "    </tr>\n",
       "    <tr>\n",
       "      <th>2</th>\n",
       "      <td>1.0874</td>\n",
       "      <td>1.6056</td>\n",
       "      <td>0.7466</td>\n",
       "      <td>0.8701</td>\n",
       "      <td>1.0774</td>\n",
       "    </tr>\n",
       "    <tr>\n",
       "      <th>All</th>\n",
       "      <td>1.1824</td>\n",
       "      <td>1.8999</td>\n",
       "      <td>0.8161</td>\n",
       "      <td>1.2011</td>\n",
       "      <td>1.2749</td>\n",
       "    </tr>\n",
       "  </tbody>\n",
       "</table>\n",
       "</div>"
      ],
      "text/plain": [
       "target    target1    target2    target3    target4        All\n",
       "nfold                                                        \n",
       "0          1.2842     2.1993     0.8792     1.2019     1.3912\n",
       "1          1.1757     1.8948     0.8224     1.5313     1.3561\n",
       "2          1.0874     1.6056     0.7466     0.8701     1.0774\n",
       "All        1.1824     1.8999     0.8161     1.2011     1.2749"
      ]
     },
     "metadata": {},
     "output_type": "display_data"
    }
   ],
   "source": [
    "print(\"MCMAE: {:.4f}\".format(df_metrics[\"mae\"].mean()))\n",
    "display(pd.pivot_table(df_metrics, index=\"nfold\", columns=\"target\", values=\"mae\", aggfunc=np.mean, margins=True))"
   ]
  },
  {
   "cell_type": "markdown",
   "id": "cfca009a",
   "metadata": {
    "papermill": {
     "duration": 16.509011,
     "end_time": "2022-05-01T09:59:26.754294",
     "exception": false,
     "start_time": "2022-05-01T09:59:10.245283",
     "status": "completed"
    },
    "tags": []
   },
   "source": [
    "## 8.5.3 モデル推論\n",
    "#### スクリプト8-60: データセット作成関数をニューラルネットワーク用にカスタマイズ"
   ]
  },
  {
   "cell_type": "code",
   "execution_count": 61,
   "id": "4504ebfe",
   "metadata": {
    "execution": {
     "iopub.execute_input": "2022-05-01T09:59:59.085210Z",
     "iopub.status.busy": "2022-05-01T09:59:59.084695Z",
     "iopub.status.idle": "2022-05-01T09:59:59.100819Z",
     "shell.execute_reply": "2022-05-01T09:59:59.100162Z"
    },
    "papermill": {
     "duration": 16.272338,
     "end_time": "2022-05-01T09:59:59.102836",
     "exception": false,
     "start_time": "2022-05-01T09:59:42.830498",
     "status": "completed"
    },
    "tags": []
   },
   "outputs": [],
   "source": [
    "def makedataset_for_predict(input_x, input_prediction):\n",
    "    test = input_x.copy()\n",
    "    prediction = input_prediction.copy()\n",
    "    \n",
    "    # 日付型に変換\n",
    "    prediction[\"date\"] = pd.to_datetime(prediction[\"date\"], format=\"%Y%m%d\") \n",
    "    # engagementMetricsDateとplayerIdを取り出す\n",
    "    prediction[\"engagementMetricsDate\"] = prediction[\"date_playerId\"].apply(lambda x: x[:8])\n",
    "    prediction[\"engagementMetricsDate\"] = pd.to_datetime(prediction[\"engagementMetricsDate\"], format=\"%Y%m%d\") \n",
    "    prediction[\"playerId\"] = prediction[\"date_playerId\"].apply(lambda x: int(x[9:]))\n",
    "    \n",
    "    # dateから特徴量を作成\n",
    "    prediction[\"dayofweek\"] = prediction[\"date\"].dt.dayofweek\n",
    "    prediction[\"yearmonth\"] = prediction[\"date\"].astype(str).apply(lambda x: x[:7])\n",
    "    \n",
    "    # dateカラムの作成・加工\n",
    "    df_rosters = extract_data(test, col=\"rosters\")\n",
    "    df_rosters = df_rosters.rename(columns={\"gameDate\":\"date\"})\n",
    "    df_rosters[\"date\"] = pd.to_datetime(df_rosters[\"date\"], format=\"%Y-%m-%d\")\n",
    "    \n",
    "    # テーブルの結合\n",
    "    df_test = pd.merge(prediction, df_players, on=[\"playerId\"], how=\"left\")\n",
    "    df_test = pd.merge(df_test, df_rosters, on=[\"date\", \"playerId\"], how=\"left\")\n",
    "    df_test = pd.merge(df_test, df_agg_target, on=[\"playerId\", \"yearmonth\"], how=\"left\")\n",
    "    \n",
    "    # 説明変数の作成\n",
    "    x_test = df_test[[\n",
    "        \"playerId\", \"dayofweek\",\n",
    "        \"birthCity\", \"birthStateProvince\", \"birthCountry\", \"heightInches\", \"weight\", \n",
    "        \"primaryPositionCode\", \"primaryPositionName\", \"playerForTestSetAndFuturePreds\"\n",
    "    ] + col_rosters + col_agg_target]\n",
    "    id_test = df_test[[\"engagementMetricsDate\",\"playerId\",\"date_playerId\",\"date\",\"yearmonth\",\"playerForTestSetAndFuturePreds\"]]\n",
    "\n",
    "#     # カテゴリ変数をcategory型に変換\n",
    "#     for col in [\"playerId\", \"dayofweek\", \"birthCity\", \"birthStateProvince\", \"birthCountry\", \"primaryPositionCode\", \"primaryPositionName\"] + col_rosters:\n",
    "#         x_test[col] = x_test [col].astype(\"category\")\n",
    "\n",
    "    return x_test, id_test"
   ]
  },
  {
   "cell_type": "markdown",
   "id": "f0fd5a10",
   "metadata": {
    "papermill": {
     "duration": 16.341136,
     "end_time": "2022-05-01T10:00:31.581962",
     "exception": false,
     "start_time": "2022-05-01T10:00:15.240826",
     "status": "completed"
    },
    "tags": []
   },
   "source": [
    "#### スクリプト8-61: 推論用関数をニューラルネットワーク用にカスタマイズ"
   ]
  },
  {
   "cell_type": "code",
   "execution_count": 62,
   "id": "b7b2cbc3",
   "metadata": {
    "execution": {
     "iopub.execute_input": "2022-05-01T10:01:04.243717Z",
     "iopub.status.busy": "2022-05-01T10:01:04.243271Z",
     "iopub.status.idle": "2022-05-01T10:01:04.251964Z",
     "shell.execute_reply": "2022-05-01T10:01:04.251291Z"
    },
    "papermill": {
     "duration": 16.250292,
     "end_time": "2022-05-01T10:01:04.254146",
     "exception": false,
     "start_time": "2022-05-01T10:00:48.003854",
     "status": "completed"
    },
    "tags": []
   },
   "outputs": [],
   "source": [
    "def predict_tf(input_x,\n",
    "               input_id,\n",
    "               list_nfold=[0,1,2],\n",
    "              ):\n",
    "    # 推論値を入れる変数の作成\n",
    "    test_pred = np.zeros((len(input_x), 4))\n",
    "    \n",
    "    # 数値とカテゴリ変数に分離\n",
    "    x_num_test, x_cat_test = input_x[col_num], input_x[col_cat]\n",
    "    \n",
    "    for nfold in list_nfold:\n",
    "        # モデルのロード\n",
    "        filepath = \"model_tf_fold{}.h5\".format(nfold)\n",
    "        model = create_model(col_num=col_num, col_cat=col_cat, show=False)\n",
    "        model.load_weights(filepath)\n",
    "        \n",
    "        # validの推論値取得\n",
    "        pred = model.predict([x_num_test, x_cat_test], batch_size=512, verbose=0)\n",
    "        test_pred += pred / len(list_nfold)\n",
    "    \n",
    "    # 推論値の格納\n",
    "    df_test_pred = pd.concat([\n",
    "        input_id,\n",
    "        pd.DataFrame(test_pred, columns=[\"target1\",\"target2\",\"target3\",\"target4\"]),\n",
    "    ], axis=1)\n",
    "    \n",
    "    return df_test_pred"
   ]
  },
  {
   "cell_type": "markdown",
   "id": "e0a70fe4",
   "metadata": {
    "papermill": {
     "duration": 16.138057,
     "end_time": "2022-05-01T10:01:36.557788",
     "exception": false,
     "start_time": "2022-05-01T10:01:20.419731",
     "status": "completed"
    },
    "tags": []
   },
   "source": [
    "#### スクリプト8-62: 推論処理の実行\n",
    "- **mlbライブラリは一度しか実行できません。再度実行したい場合はカーネルを再起動する必要があります。**\n",
    "- 本notebookではmlbライブラリを3ヶ所で実行しています。**実行したいセル以外はコメントアウトしてから実行してください。**\n",
    "    - スクリプト8-37 :  8.3 ベースライン作成\n",
    "    - スクリプト8-47 :  8.4 特徴量エンジニアリング\n",
    "    - スクリプト8-62 :  8.5 モデルチューニング"
   ]
  },
  {
   "cell_type": "code",
   "execution_count": 63,
   "id": "11c92a71",
   "metadata": {
    "execution": {
     "iopub.execute_input": "2022-05-01T10:02:09.215200Z",
     "iopub.status.busy": "2022-05-01T10:02:09.214713Z",
     "iopub.status.idle": "2022-05-01T10:02:09.220127Z",
     "shell.execute_reply": "2022-05-01T10:02:09.219118Z"
    },
    "papermill": {
     "duration": 16.4961,
     "end_time": "2022-05-01T10:02:09.222313",
     "exception": false,
     "start_time": "2022-05-01T10:01:52.726213",
     "status": "completed"
    },
    "tags": []
   },
   "outputs": [],
   "source": [
    "# import mlb\n",
    "\n",
    "# env = mlb.make_env()\n",
    "# iter_test = env.iter_test()\n",
    "\n",
    "# for (test_df, sample_prediction_df) in iter_test:\n",
    "#     test = test_df.copy()\n",
    "#     prediction = sample_prediction_df.copy()\n",
    "#     prediction = prediction.reset_index(drop=False)\n",
    "    \n",
    "#     print(\"date:\", prediction[\"date\"][0])\n",
    "    \n",
    "#     # データセット作成\n",
    "#     x_test, id_test = makedataset_for_predict(test, prediction)\n",
    "    \n",
    "#     # 欠損値補間・正規化\n",
    "#     x_test = transform_data(x_test)\n",
    "        \n",
    "#     # 推論処理\n",
    "#     df_test_pred = predict_tf(x_test, id_test)\n",
    "    \n",
    "#     # 提出データの作成\n",
    "#     df_submit = df_test_pred[[\"date_playerId\", \"target1\",\"target2\",\"target3\",\"target4\"]]\n",
    "    \n",
    "#     # 後処理：欠損値埋め，0-100の範囲外のデータをクリッピング\n",
    "#     for i,col in enumerate([\"target1\",\"target2\",\"target3\",\"target4\"]):\n",
    "#         df_submit[col] = df_submit[col].fillna(0.)\n",
    "#         df_submit[col] = df_submit[col].clip(0, 100)\n",
    "    \n",
    "#     # 予測値データの提出\n",
    "#     env.predict(df_submit)\n",
    "# print(\"Done.\")"
   ]
  },
  {
   "cell_type": "code",
   "execution_count": null,
   "id": "c88b5c3f",
   "metadata": {
    "papermill": {
     "duration": 16.133964,
     "end_time": "2022-05-01T10:02:41.530177",
     "exception": false,
     "start_time": "2022-05-01T10:02:25.396213",
     "status": "completed"
    },
    "tags": []
   },
   "outputs": [],
   "source": []
  }
 ],
 "metadata": {
  "kernelspec": {
   "display_name": "Python 3",
   "language": "python",
   "name": "python3"
  },
  "language_info": {
   "codemirror_mode": {
    "name": "ipython",
    "version": 3
   },
   "file_extension": ".py",
   "mimetype": "text/x-python",
   "name": "python",
   "nbconvert_exporter": "python",
   "pygments_lexer": "ipython3",
   "version": "3.7.12"
  },
  "papermill": {
   "default_parameters": {},
   "duration": 4350.482185,
   "end_time": "2022-05-01T10:03:01.115177",
   "environment_variables": {},
   "exception": null,
   "input_path": "__notebook__.ipynb",
   "output_path": "__notebook__.ipynb",
   "parameters": {},
   "start_time": "2022-05-01T08:50:30.632992",
   "version": "2.3.4"
  }
 },
 "nbformat": 4,
 "nbformat_minor": 5
}
